{
  "nbformat": 4,
  "nbformat_minor": 0,
  "metadata": {
    "colab": {
      "provenance": [],
      "authorship_tag": "ABX9TyM58WiQ7HUdhovHVaOAC/WK",
      "include_colab_link": true
    },
    "kernelspec": {
      "name": "python3",
      "display_name": "Python 3"
    },
    "language_info": {
      "name": "python"
    },
    "widgets": {
      "application/vnd.jupyter.widget-state+json": {
        "59026f81928747839c280805341de865": {
          "model_module": "@jupyter-widgets/controls",
          "model_name": "HBoxModel",
          "model_module_version": "1.5.0",
          "state": {
            "_dom_classes": [],
            "_model_module": "@jupyter-widgets/controls",
            "_model_module_version": "1.5.0",
            "_model_name": "HBoxModel",
            "_view_count": null,
            "_view_module": "@jupyter-widgets/controls",
            "_view_module_version": "1.5.0",
            "_view_name": "HBoxView",
            "box_style": "",
            "children": [
              "IPY_MODEL_47620f8b87ed4a74aa6b57bd003a13fd",
              "IPY_MODEL_3e517342db4d46c991c6ed4d005974e1",
              "IPY_MODEL_6bd4102b8b514f3c87fa446887cdfae3"
            ],
            "layout": "IPY_MODEL_518e42121a544d4195e26bc05936ae86"
          }
        },
        "47620f8b87ed4a74aa6b57bd003a13fd": {
          "model_module": "@jupyter-widgets/controls",
          "model_name": "HTMLModel",
          "model_module_version": "1.5.0",
          "state": {
            "_dom_classes": [],
            "_model_module": "@jupyter-widgets/controls",
            "_model_module_version": "1.5.0",
            "_model_name": "HTMLModel",
            "_view_count": null,
            "_view_module": "@jupyter-widgets/controls",
            "_view_module_version": "1.5.0",
            "_view_name": "HTMLView",
            "description": "",
            "description_tooltip": null,
            "layout": "IPY_MODEL_5f2fe3d6446c4c8a9107cdcde01870cd",
            "placeholder": "​",
            "style": "IPY_MODEL_40f77067a7ce4f73b29398dee290e457",
            "value": "Downloading https://raw.githubusercontent.com/stanfordnlp/stanza-resources/main/resources_1.5.0.json: "
          }
        },
        "3e517342db4d46c991c6ed4d005974e1": {
          "model_module": "@jupyter-widgets/controls",
          "model_name": "FloatProgressModel",
          "model_module_version": "1.5.0",
          "state": {
            "_dom_classes": [],
            "_model_module": "@jupyter-widgets/controls",
            "_model_module_version": "1.5.0",
            "_model_name": "FloatProgressModel",
            "_view_count": null,
            "_view_module": "@jupyter-widgets/controls",
            "_view_module_version": "1.5.0",
            "_view_name": "ProgressView",
            "bar_style": "success",
            "description": "",
            "description_tooltip": null,
            "layout": "IPY_MODEL_b530c574288d4971a1cc831ed6196f7e",
            "max": 30101,
            "min": 0,
            "orientation": "horizontal",
            "style": "IPY_MODEL_5cfea67a550d474e868f38c14403894d",
            "value": 30101
          }
        },
        "6bd4102b8b514f3c87fa446887cdfae3": {
          "model_module": "@jupyter-widgets/controls",
          "model_name": "HTMLModel",
          "model_module_version": "1.5.0",
          "state": {
            "_dom_classes": [],
            "_model_module": "@jupyter-widgets/controls",
            "_model_module_version": "1.5.0",
            "_model_name": "HTMLModel",
            "_view_count": null,
            "_view_module": "@jupyter-widgets/controls",
            "_view_module_version": "1.5.0",
            "_view_name": "HTMLView",
            "description": "",
            "description_tooltip": null,
            "layout": "IPY_MODEL_7e46e89c330f4112a75fadd9db6113c4",
            "placeholder": "​",
            "style": "IPY_MODEL_9234a0ad214a40deaed4d03e4318137f",
            "value": " 216k/? [00:00&lt;00:00, 2.80MB/s]"
          }
        },
        "518e42121a544d4195e26bc05936ae86": {
          "model_module": "@jupyter-widgets/base",
          "model_name": "LayoutModel",
          "model_module_version": "1.2.0",
          "state": {
            "_model_module": "@jupyter-widgets/base",
            "_model_module_version": "1.2.0",
            "_model_name": "LayoutModel",
            "_view_count": null,
            "_view_module": "@jupyter-widgets/base",
            "_view_module_version": "1.2.0",
            "_view_name": "LayoutView",
            "align_content": null,
            "align_items": null,
            "align_self": null,
            "border": null,
            "bottom": null,
            "display": null,
            "flex": null,
            "flex_flow": null,
            "grid_area": null,
            "grid_auto_columns": null,
            "grid_auto_flow": null,
            "grid_auto_rows": null,
            "grid_column": null,
            "grid_gap": null,
            "grid_row": null,
            "grid_template_areas": null,
            "grid_template_columns": null,
            "grid_template_rows": null,
            "height": null,
            "justify_content": null,
            "justify_items": null,
            "left": null,
            "margin": null,
            "max_height": null,
            "max_width": null,
            "min_height": null,
            "min_width": null,
            "object_fit": null,
            "object_position": null,
            "order": null,
            "overflow": null,
            "overflow_x": null,
            "overflow_y": null,
            "padding": null,
            "right": null,
            "top": null,
            "visibility": null,
            "width": null
          }
        },
        "5f2fe3d6446c4c8a9107cdcde01870cd": {
          "model_module": "@jupyter-widgets/base",
          "model_name": "LayoutModel",
          "model_module_version": "1.2.0",
          "state": {
            "_model_module": "@jupyter-widgets/base",
            "_model_module_version": "1.2.0",
            "_model_name": "LayoutModel",
            "_view_count": null,
            "_view_module": "@jupyter-widgets/base",
            "_view_module_version": "1.2.0",
            "_view_name": "LayoutView",
            "align_content": null,
            "align_items": null,
            "align_self": null,
            "border": null,
            "bottom": null,
            "display": null,
            "flex": null,
            "flex_flow": null,
            "grid_area": null,
            "grid_auto_columns": null,
            "grid_auto_flow": null,
            "grid_auto_rows": null,
            "grid_column": null,
            "grid_gap": null,
            "grid_row": null,
            "grid_template_areas": null,
            "grid_template_columns": null,
            "grid_template_rows": null,
            "height": null,
            "justify_content": null,
            "justify_items": null,
            "left": null,
            "margin": null,
            "max_height": null,
            "max_width": null,
            "min_height": null,
            "min_width": null,
            "object_fit": null,
            "object_position": null,
            "order": null,
            "overflow": null,
            "overflow_x": null,
            "overflow_y": null,
            "padding": null,
            "right": null,
            "top": null,
            "visibility": null,
            "width": null
          }
        },
        "40f77067a7ce4f73b29398dee290e457": {
          "model_module": "@jupyter-widgets/controls",
          "model_name": "DescriptionStyleModel",
          "model_module_version": "1.5.0",
          "state": {
            "_model_module": "@jupyter-widgets/controls",
            "_model_module_version": "1.5.0",
            "_model_name": "DescriptionStyleModel",
            "_view_count": null,
            "_view_module": "@jupyter-widgets/base",
            "_view_module_version": "1.2.0",
            "_view_name": "StyleView",
            "description_width": ""
          }
        },
        "b530c574288d4971a1cc831ed6196f7e": {
          "model_module": "@jupyter-widgets/base",
          "model_name": "LayoutModel",
          "model_module_version": "1.2.0",
          "state": {
            "_model_module": "@jupyter-widgets/base",
            "_model_module_version": "1.2.0",
            "_model_name": "LayoutModel",
            "_view_count": null,
            "_view_module": "@jupyter-widgets/base",
            "_view_module_version": "1.2.0",
            "_view_name": "LayoutView",
            "align_content": null,
            "align_items": null,
            "align_self": null,
            "border": null,
            "bottom": null,
            "display": null,
            "flex": null,
            "flex_flow": null,
            "grid_area": null,
            "grid_auto_columns": null,
            "grid_auto_flow": null,
            "grid_auto_rows": null,
            "grid_column": null,
            "grid_gap": null,
            "grid_row": null,
            "grid_template_areas": null,
            "grid_template_columns": null,
            "grid_template_rows": null,
            "height": null,
            "justify_content": null,
            "justify_items": null,
            "left": null,
            "margin": null,
            "max_height": null,
            "max_width": null,
            "min_height": null,
            "min_width": null,
            "object_fit": null,
            "object_position": null,
            "order": null,
            "overflow": null,
            "overflow_x": null,
            "overflow_y": null,
            "padding": null,
            "right": null,
            "top": null,
            "visibility": null,
            "width": null
          }
        },
        "5cfea67a550d474e868f38c14403894d": {
          "model_module": "@jupyter-widgets/controls",
          "model_name": "ProgressStyleModel",
          "model_module_version": "1.5.0",
          "state": {
            "_model_module": "@jupyter-widgets/controls",
            "_model_module_version": "1.5.0",
            "_model_name": "ProgressStyleModel",
            "_view_count": null,
            "_view_module": "@jupyter-widgets/base",
            "_view_module_version": "1.2.0",
            "_view_name": "StyleView",
            "bar_color": null,
            "description_width": ""
          }
        },
        "7e46e89c330f4112a75fadd9db6113c4": {
          "model_module": "@jupyter-widgets/base",
          "model_name": "LayoutModel",
          "model_module_version": "1.2.0",
          "state": {
            "_model_module": "@jupyter-widgets/base",
            "_model_module_version": "1.2.0",
            "_model_name": "LayoutModel",
            "_view_count": null,
            "_view_module": "@jupyter-widgets/base",
            "_view_module_version": "1.2.0",
            "_view_name": "LayoutView",
            "align_content": null,
            "align_items": null,
            "align_self": null,
            "border": null,
            "bottom": null,
            "display": null,
            "flex": null,
            "flex_flow": null,
            "grid_area": null,
            "grid_auto_columns": null,
            "grid_auto_flow": null,
            "grid_auto_rows": null,
            "grid_column": null,
            "grid_gap": null,
            "grid_row": null,
            "grid_template_areas": null,
            "grid_template_columns": null,
            "grid_template_rows": null,
            "height": null,
            "justify_content": null,
            "justify_items": null,
            "left": null,
            "margin": null,
            "max_height": null,
            "max_width": null,
            "min_height": null,
            "min_width": null,
            "object_fit": null,
            "object_position": null,
            "order": null,
            "overflow": null,
            "overflow_x": null,
            "overflow_y": null,
            "padding": null,
            "right": null,
            "top": null,
            "visibility": null,
            "width": null
          }
        },
        "9234a0ad214a40deaed4d03e4318137f": {
          "model_module": "@jupyter-widgets/controls",
          "model_name": "DescriptionStyleModel",
          "model_module_version": "1.5.0",
          "state": {
            "_model_module": "@jupyter-widgets/controls",
            "_model_module_version": "1.5.0",
            "_model_name": "DescriptionStyleModel",
            "_view_count": null,
            "_view_module": "@jupyter-widgets/base",
            "_view_module_version": "1.2.0",
            "_view_name": "StyleView",
            "description_width": ""
          }
        }
      }
    }
  },
  "cells": [
    {
      "cell_type": "markdown",
      "metadata": {
        "id": "view-in-github",
        "colab_type": "text"
      },
      "source": [
        "<a href=\"https://colab.research.google.com/github/zahidhamidi/ML-Project/blob/main/NegEx_.ipynb\" target=\"_parent\"><img src=\"https://colab.research.google.com/assets/colab-badge.svg\" alt=\"Open In Colab\"/></a>"
      ]
    },
    {
      "cell_type": "code",
      "source": [
        "# !pip install stanza\n",
        "# !pip install spacy_stanza\n",
        "# !pip install negspacy\n",
        "# !pip install negex\n",
        "# !pip install negfinder\n",
        "# !pip install negexpander\n",
        "!pip install spacy-pipeline-negex\n",
        "\n"
      ],
      "metadata": {
        "id": "l-MlESsXUJr-",
        "outputId": "ed3ba572-a5ab-4690-9e28-0ded020708e0",
        "colab": {
          "base_uri": "https://localhost:8080/"
        }
      },
      "execution_count": 1,
      "outputs": [
        {
          "output_type": "stream",
          "name": "stdout",
          "text": [
            "\u001b[31mERROR: Could not find a version that satisfies the requirement spacy-pipeline-negex (from versions: none)\u001b[0m\u001b[31m\n",
            "\u001b[0m\u001b[31mERROR: No matching distribution found for spacy-pipeline-negex\u001b[0m\u001b[31m\n",
            "\u001b[0m"
          ]
        }
      ]
    },
    {
      "cell_type": "code",
      "source": [
        "import spacy # to build a nlp pipeline\n",
        "import stanza # for named entity recognition\n",
        "# this package wraps Stanza around Spacy, so that we can use Stanza in a spaCy pipeline.\n",
        "import spacy_stanza\n",
        "from negspacy.negation import Negex\n",
        "from negspacy.termsets import termset # to customize negation terms\n",
        "import pandas as pd\n",
        "from tqdm.auto import tqdm\n",
        "nlp = spacy.load(\"en_core_web_sm\")\n",
        "from sklearn.metrics import confusion_matrix, accuracy_score, precision_score, recall_score, f1_score\n",
        "import matplotlib.pyplot as plt\n",
        "import seaborn as sns"
      ],
      "metadata": {
        "id": "CCgp7oniT6Pe"
      },
      "execution_count": 2,
      "outputs": []
    },
    {
      "cell_type": "code",
      "source": [
        "# Load your CSV dataset\n",
        "df = pd.read_csv(\"true_positive_experimentation.csv\")"
      ],
      "metadata": {
        "id": "NX8-eomyT8H1"
      },
      "execution_count": 35,
      "outputs": []
    },
    {
      "cell_type": "markdown",
      "source": [
        "## **RBM #1 : NegEx**"
      ],
      "metadata": {
        "id": "COHwbGEcmbfj"
      }
    },
    {
      "cell_type": "code",
      "execution_count": 4,
      "metadata": {
        "colab": {
          "base_uri": "https://localhost:8080/",
          "height": 416,
          "referenced_widgets": [
            "59026f81928747839c280805341de865",
            "47620f8b87ed4a74aa6b57bd003a13fd",
            "3e517342db4d46c991c6ed4d005974e1",
            "6bd4102b8b514f3c87fa446887cdfae3",
            "518e42121a544d4195e26bc05936ae86",
            "5f2fe3d6446c4c8a9107cdcde01870cd",
            "40f77067a7ce4f73b29398dee290e457",
            "b530c574288d4971a1cc831ed6196f7e",
            "5cfea67a550d474e868f38c14403894d",
            "7e46e89c330f4112a75fadd9db6113c4",
            "9234a0ad214a40deaed4d03e4318137f"
          ]
        },
        "id": "vzFrW4EHTLx8",
        "outputId": "2203b813-b140-4af5-df68-f0ef3d8cba17"
      },
      "outputs": [
        {
          "output_type": "stream",
          "name": "stderr",
          "text": [
            "INFO:stanza:Checking for updates to resources.json in case models have been updated.  Note: this behavior can be turned off with download_method=None or download_method=DownloadMethod.REUSE_RESOURCES\n"
          ]
        },
        {
          "output_type": "display_data",
          "data": {
            "text/plain": [
              "Downloading https://raw.githubusercontent.com/stanfordnlp/stanza-resources/main/resources_1.5.0.json:   0%|   …"
            ],
            "application/vnd.jupyter.widget-view+json": {
              "version_major": 2,
              "version_minor": 0,
              "model_id": "59026f81928747839c280805341de865"
            }
          },
          "metadata": {}
        },
        {
          "output_type": "stream",
          "name": "stderr",
          "text": [
            "INFO:stanza:Loading these models for language: en (English):\n",
            "=======================\n",
            "| Processor | Package |\n",
            "-----------------------\n",
            "| tokenize  | mimic   |\n",
            "| pos       | mimic   |\n",
            "| lemma     | mimic   |\n",
            "| depparse  | mimic   |\n",
            "| ner       | i2b2    |\n",
            "=======================\n",
            "\n",
            "WARNING:stanza:GPU requested, but is not available!\n",
            "INFO:stanza:Using device: cpu\n",
            "INFO:stanza:Loading: tokenize\n",
            "INFO:stanza:Loading: pos\n",
            "INFO:stanza:Loading: lemma\n",
            "INFO:stanza:Loading: depparse\n",
            "INFO:stanza:Loading: ner\n",
            "INFO:stanza:Done loading processors!\n"
          ]
        }
      ],
      "source": [
        "# download and initialize a mimic pipeline with an i2b2 NER model\n",
        "# stanza.download('en', package='mimic', processors={'ner': 'i2b2'})\n",
        "nlp = spacy_stanza.load_pipeline('en', package='mimic', processors={'ner': 'i2b2'})"
      ]
    },
    {
      "cell_type": "code",
      "source": [
        "# nlp.add_pipe(\"negex\", config={\"ent_types\":[\"PROBLEM\",\"TEST\",'TREATMENT']})"
      ],
      "metadata": {
        "id": "JPJHGi0gX4i9"
      },
      "execution_count": 5,
      "outputs": []
    },
    {
      "cell_type": "code",
      "source": [
        "# nlp = spacy.load(\"en_core_sci_sm\")\n",
        "# import spacy\n",
        "# from spacy.pipeline.negex import NegexComponent\n",
        "\n",
        "# nlp = spacy.load(\"en_core_sci_sm\")\n",
        "# negex = NegexComponent(config={\"chunk_prefix\": [\"no\", \"none\", \"not\", \"nor\", \"without\"]})\n",
        "# nlp.add_pipe(negex)\n"
      ],
      "metadata": {
        "id": "n_mveAbZpCdL"
      },
      "execution_count": 6,
      "outputs": []
    },
    {
      "cell_type": "code",
      "source": [
        "import spacy\n",
        "import pandas as pd\n",
        "from tqdm import tqdm\n",
        "\n",
        "# Load spaCy model with the NegEx component\n",
        "# nlp = spacy.load(\"en_core_sci_sm\")\n",
        "nlp.add_pipe(\"negex\", config={\"chunk_prefix\": [\"no\", \"none\", \"not\", \"nor\", \"without\"]})\n",
        "\n",
        "# Initialize an empty list to store predictions\n",
        "predictions = []\n",
        "\n",
        "# Iterate through the text in your DataFrame\n",
        "for text in tqdm(df[\"doc_text_original\"]):\n",
        "    # Process the text with SpaCy\n",
        "    doc = nlp(text)\n",
        "\n",
        "    # Initialize a variable to track whether the sentence contains negations\n",
        "    contains_negation = False\n",
        "\n",
        "    # Iterate through sentences and check for negations\n",
        "    for sent in doc.sents:\n",
        "        for ent in sent.ents:\n",
        "            if ent._.negex:\n",
        "                contains_negation = True\n",
        "                break\n",
        "\n",
        "    # Determine the final classification (0 for negation, 1 for non-negation)\n",
        "    prediction = 0 if contains_negation else 1\n",
        "    predictions.append(prediction)\n",
        "\n",
        "# Add the predictions as a new column in the dataframe\n",
        "df['predicted'] = predictions\n"
      ],
      "metadata": {
        "id": "rHT3z-WEYEDG"
      },
      "execution_count": null,
      "outputs": []
    },
    {
      "cell_type": "code",
      "source": [
        "# Assuming you have loaded your DataFrame 'df' with the columns 'label_code' and 'predicted_label_code'\n",
        "y_true = df['label_code']\n",
        "y_pred = df['predicted']\n",
        "\n",
        "# Calculate the confusion matrix\n",
        "cm = confusion_matrix(y_true, y_pred)\n",
        "\n",
        "# Calculate additional evaluation metrics\n",
        "accuracy = accuracy_score(y_true, y_pred)\n",
        "precision = precision_score(y_true, y_pred)\n",
        "recall = recall_score(y_true, y_pred)\n",
        "f1 = f1_score(y_true, y_pred)\n",
        "\n",
        "# Create a heatmap of the confusion matrix\n",
        "plt.figure(figsize=(6, 4))\n",
        "sns.heatmap(cm, annot=True, fmt=\"d\", cmap=\"Blues\", cbar=False)\n",
        "plt.xlabel(\"Predicted\")\n",
        "plt.ylabel(\"True\")\n",
        "plt.title(\"Confusion Matrix\")\n",
        "plt.show()\n",
        "\n",
        "# Print evaluation metrics\n",
        "print(f\"Accuracy: {accuracy:.2f}\")\n",
        "print(f\"Precision: {precision:.2f}\")\n",
        "print(f\"Recall: {recall:.2f}\")\n",
        "print(f\"F1 Score: {f1:.2f}\")\n"
      ],
      "metadata": {
        "id": "F_6ikw1_1s43"
      },
      "execution_count": null,
      "outputs": []
    },
    {
      "cell_type": "markdown",
      "source": [
        "## **RBM #2 : Filter with negation terms**"
      ],
      "metadata": {
        "id": "MTGeB3OTjsY2"
      }
    },
    {
      "cell_type": "code",
      "source": [
        "import spacy\n",
        "import pandas as pd\n",
        "\n",
        "# Load the SpaCy model\n",
        "nlp = spacy.load('en_core_web_sm')\n",
        "\n",
        "# Define the negation terms\n",
        "negation_terms = [\"no\", \"none\", \"not\", \"nor\", \"without\"]\n",
        "\n",
        "# Your DataFrame (replace this with your actual DataFrame)\n",
        "# df = pd.read_csv(\"your_dataset.csv\")\n",
        "\n",
        "# Define a function for negation detection\n",
        "def detect_negation(text):\n",
        "    # Process the text with SpaCy\n",
        "    doc = nlp(text)\n",
        "\n",
        "    # Initialize a variable to track whether negation is detected\n",
        "    negation_detected = False\n",
        "\n",
        "    # Iterate through the tokens and check for negation terms\n",
        "    for token in doc:\n",
        "        if token.text.lower() in negation_terms:\n",
        "            negation_detected = True\n",
        "            break\n",
        "\n",
        "    return negation_detected\n",
        "\n",
        "# Apply the negation detection function to each text in the DataFrame\n",
        "df[\"predicted\"] = df[\"doc_text_original\"].apply(detect_negation)\n",
        "\n",
        "# Map the negation detection result to 0 (negation) or 1 (non-negation)\n",
        "df[\"predicted\"] = df[\"predicted\"].astype(int)\n",
        "\n"
      ],
      "metadata": {
        "id": "B9B8zMBxmlGg"
      },
      "execution_count": 30,
      "outputs": []
    },
    {
      "cell_type": "code",
      "source": [
        "# Assuming you have loaded your DataFrame 'df' with the columns 'label_code' and 'predicted_label_code'\n",
        "y_true = df['label_code']\n",
        "y_pred = df['predicted']\n",
        "\n",
        "# Calculate the confusion matrix\n",
        "cm = confusion_matrix(y_true, y_pred)\n",
        "\n",
        "# Calculate additional evaluation metrics\n",
        "accuracy = accuracy_score(y_true, y_pred)\n",
        "precision = precision_score(y_true, y_pred)\n",
        "recall = recall_score(y_true, y_pred)\n",
        "f1 = f1_score(y_true, y_pred)\n",
        "\n",
        "# Create a heatmap of the confusion matrix\n",
        "plt.figure(figsize=(6, 4))\n",
        "sns.heatmap(cm, annot=True, fmt=\"d\", cmap=\"Blues\", cbar=False)\n",
        "plt.xlabel(\"Predicted\")\n",
        "plt.ylabel(\"True\")\n",
        "plt.title(\"Confusion Matrix\")\n",
        "plt.show()\n",
        "\n",
        "# Print evaluation metrics\n",
        "print(f\"Accuracy: {accuracy:.2f}\")\n",
        "print(f\"Precision: {precision:.2f}\")\n",
        "print(f\"Recall: {recall:.2f}\")\n",
        "print(f\"F1 Score: {f1:.2f}\")\n"
      ],
      "metadata": {
        "colab": {
          "base_uri": "https://localhost:8080/",
          "height": 479
        },
        "id": "yyb89tJU6sGI",
        "outputId": "188d7b8c-c421-4978-874e-c0a358e262a3"
      },
      "execution_count": 31,
      "outputs": [
        {
          "output_type": "display_data",
          "data": {
            "text/plain": [
              "<Figure size 600x400 with 1 Axes>"
            ],
            "image/png": "[encoded data removed]"
          },
          "metadata": {}
        },
        {
          "output_type": "stream",
          "name": "stdout",
          "text": [
            "Accuracy: 0.18\n",
            "Precision: 0.37\n",
            "Recall: 0.20\n",
            "F1 Score: 0.26\n"
          ]
        }
      ]
    },
    {
      "cell_type": "markdown",
      "source": [
        "## **RBM #3 : Deterministic Option**"
      ],
      "metadata": {
        "id": "hMIfWgVVmsj6"
      }
    },
    {
      "cell_type": "code",
      "source": [
        "# Load your CSV dataset\n",
        "df = pd.read_csv(\"true_positive_experimentation.csv\")"
      ],
      "metadata": {
        "id": "Ndnj8xYIBxl6"
      },
      "execution_count": 63,
      "outputs": []
    },
    {
      "cell_type": "code",
      "source": [
        "import pandas as pd\n",
        "import re\n",
        "import nltk\n",
        "nltk.download('punkt')\n",
        "\n",
        "\n",
        "# Define the topics\n",
        "topics = [\"overpressure\", \"sand production\"]\n",
        "\n",
        "# Initialize a dictionary to store selected sentences for each row\n",
        "selected_sentences = {}\n",
        "\n",
        "# Iterate through each row of the DataFrame\n",
        "for index, row in df.iterrows():\n",
        "    text = row['doc_text_original']\n",
        "\n",
        "    # Tokenize the text into sentences\n",
        "    sentences = sent_tokenize(text)\n",
        "\n",
        "    # Initialize a list to store selected sentences for this row\n",
        "    row_selected_sentences = []\n",
        "\n",
        "    for sentence in sentences:\n",
        "        # Check if the sentence contains any of the specified topics\n",
        "        if any(topic in sentence for topic in topics):\n",
        "            row_selected_sentences.append(sentence)\n",
        "\n",
        "    # Join the selected sentences into a single string\n",
        "    selected_sentence = ' '.join(row_selected_sentences)\n",
        "\n",
        "    # Store the selected sentences for this row in the dictionary\n",
        "    selected_sentences[index] = selected_sentence\n",
        "\n",
        "# Add the selected_sentences as a new column named 'selected_sentence' next to 'doc_text_original'\n",
        "# df.insert(df.columns.get_loc('doc_text_original') + 1, 'selected_sentence', df.index.map(selected_sentences))\n",
        "\n",
        "# Define the negation terms\n",
        "negation_terms = r'\\b(?:no|none|not|nor|without)\\b'\n",
        "\n",
        "# Initialize an empty list to store labels for the selected sentences\n",
        "selected_sentence_labels = []\n",
        "\n",
        "# Iterate through the 'selected_sentence' column\n",
        "for sentence in df['selected_sentence']:\n",
        "    # Initialize a label for the combined topics\n",
        "    combined_label = None\n",
        "\n",
        "    # Use regular expressions to match the exact negation terms\n",
        "    negation_match = re.search(negation_terms, sentence, re.IGNORECASE)\n",
        "\n",
        "    # Check if a negation term was found and if the sentence contains any of the specified topics\n",
        "    if negation_match:\n",
        "        # Check if the sentence contains any of the specified topics\n",
        "        if any(topic in sentence for topic in topics):\n",
        "            combined_label = \"no \" + \", \".join(topic for topic in topics if topic in sentence)\n",
        "\n",
        "    # Append the combined label\n",
        "    selected_sentence_labels.append(combined_label)\n",
        "\n",
        "# Add the selected_sentence_labels list as a new column named 'label' next to 'selected_sentence'\n",
        "# df.insert(df.columns.get_loc('selected_sentence') + 1, 'label', selected_sentence_labels)\n",
        "\n",
        "# Print the DataFrame with the 'label' column\n",
        "df[['doc_text_original','selected_sentence','label_code','label']]"
      ],
      "metadata": {
        "colab": {
          "base_uri": "https://localhost:8080/",
          "height": 1498
        },
        "id": "sqrrKGCq1uhT",
        "outputId": "3e692a56-8bad-4d02-d2ad-2402a6c5affa"
      },
      "execution_count": 66,
      "outputs": [
        {
          "output_type": "stream",
          "name": "stderr",
          "text": [
            "[nltk_data] Downloading package punkt to /root/nltk_data...\n",
            "[nltk_data]   Package punkt is already up-to-date!\n"
          ]
        },
        {
          "output_type": "execute_result",
          "data": {
            "text/plain": [
              "                                     doc_text_original  \\\n",
              "0    The Statfjord reservoir is overpressured (emw ...   \n",
              "1    ‘ The Brent reservoir is overpressured  (emw 1...   \n",
              "2    » Finally, the core measurements have not been...   \n",
              "3    Also if the pressure in the Lower Unit should ...   \n",
              "4    As regards the two pressures obtained in the w...   \n",
              "..                                                 ...   \n",
              "588  'Challis-B was drilled in March-April 1989 to ...   \n",
              "589  'Schlumberger conducted one drill stem test (D...   \n",
              "590  'The sand/erosion probe was installed in a spo...   \n",
              "591  'The sand/erosion probe was installed in a spo...   \n",
              "592  'Schlumberger conducted one drill stem test (D...   \n",
              "\n",
              "                                     selected_sentence  label_code label  \n",
              "0    The Statfjord reservoir is overpressured (emw ...           1   yes  \n",
              "1    ‘ The Brent reservoir is overpressured  (emw 1...           1   yes  \n",
              "2    This would somewhat reduce the porosity values...           1   yes  \n",
              "3    Also if the pressure in the Lower Unit should ...           1   yes  \n",
              "4    Most probably they are affected by superchargi...           1   yes  \n",
              "..                                                 ...         ...   ...  \n",
              "588  A drill stem test was conducted on the upper p...           1   yes  \n",
              "589  The test was abandoned prior to completion as ...           1   yes  \n",
              "590  The purpose of the monitoring service during t...           1   yes  \n",
              "591  The purpose of the monitoring service during t...           1   yes  \n",
              "592  The test was abandoned prior to completion as ...           1   yes  \n",
              "\n",
              "[593 rows x 4 columns]"
            ],
            "text/html": [
              "\n",
              "  <div id=\"df-47b4bf2f-ced0-4b4f-b398-417846532bcf\" class=\"colab-df-container\">\n",
              "    <div>\n",
              "<style scoped>\n",
              "    .dataframe tbody tr th:only-of-type {\n",
              "        vertical-align: middle;\n",
              "    }\n",
              "\n",
              "    .dataframe tbody tr th {\n",
              "        vertical-align: top;\n",
              "    }\n",
              "\n",
              "    .dataframe thead th {\n",
              "        text-align: right;\n",
              "    }\n",
              "</style>\n",
              "<table border=\"1\" class=\"dataframe\">\n",
              "  <thead>\n",
              "    <tr style=\"text-align: right;\">\n",
              "      <th></th>\n",
              "      <th>doc_text_original</th>\n",
              "      <th>selected_sentence</th>\n",
              "      <th>label_code</th>\n",
              "      <th>label</th>\n",
              "    </tr>\n",
              "  </thead>\n",
              "  <tbody>\n",
              "    <tr>\n",
              "      <th>0</th>\n",
              "      <td>The Statfjord reservoir is overpressured (emw ...</td>\n",
              "      <td>The Statfjord reservoir is overpressured (emw ...</td>\n",
              "      <td>1</td>\n",
              "      <td>yes</td>\n",
              "    </tr>\n",
              "    <tr>\n",
              "      <th>1</th>\n",
              "      <td>‘ The Brent reservoir is overpressured  (emw 1...</td>\n",
              "      <td>‘ The Brent reservoir is overpressured  (emw 1...</td>\n",
              "      <td>1</td>\n",
              "      <td>yes</td>\n",
              "    </tr>\n",
              "    <tr>\n",
              "      <th>2</th>\n",
              "      <td>» Finally, the core measurements have not been...</td>\n",
              "      <td>This would somewhat reduce the porosity values...</td>\n",
              "      <td>1</td>\n",
              "      <td>yes</td>\n",
              "    </tr>\n",
              "    <tr>\n",
              "      <th>3</th>\n",
              "      <td>Also if the pressure in the Lower Unit should ...</td>\n",
              "      <td>Also if the pressure in the Lower Unit should ...</td>\n",
              "      <td>1</td>\n",
              "      <td>yes</td>\n",
              "    </tr>\n",
              "    <tr>\n",
              "      <th>4</th>\n",
              "      <td>As regards the two pressures obtained in the w...</td>\n",
              "      <td>Most probably they are affected by superchargi...</td>\n",
              "      <td>1</td>\n",
              "      <td>yes</td>\n",
              "    </tr>\n",
              "    <tr>\n",
              "      <th>...</th>\n",
              "      <td>...</td>\n",
              "      <td>...</td>\n",
              "      <td>...</td>\n",
              "      <td>...</td>\n",
              "    </tr>\n",
              "    <tr>\n",
              "      <th>588</th>\n",
              "      <td>'Challis-B was drilled in March-April 1989 to ...</td>\n",
              "      <td>A drill stem test was conducted on the upper p...</td>\n",
              "      <td>1</td>\n",
              "      <td>yes</td>\n",
              "    </tr>\n",
              "    <tr>\n",
              "      <th>589</th>\n",
              "      <td>'Schlumberger conducted one drill stem test (D...</td>\n",
              "      <td>The test was abandoned prior to completion as ...</td>\n",
              "      <td>1</td>\n",
              "      <td>yes</td>\n",
              "    </tr>\n",
              "    <tr>\n",
              "      <th>590</th>\n",
              "      <td>'The sand/erosion probe was installed in a spo...</td>\n",
              "      <td>The purpose of the monitoring service during t...</td>\n",
              "      <td>1</td>\n",
              "      <td>yes</td>\n",
              "    </tr>\n",
              "    <tr>\n",
              "      <th>591</th>\n",
              "      <td>'The sand/erosion probe was installed in a spo...</td>\n",
              "      <td>The purpose of the monitoring service during t...</td>\n",
              "      <td>1</td>\n",
              "      <td>yes</td>\n",
              "    </tr>\n",
              "    <tr>\n",
              "      <th>592</th>\n",
              "      <td>'Schlumberger conducted one drill stem test (D...</td>\n",
              "      <td>The test was abandoned prior to completion as ...</td>\n",
              "      <td>1</td>\n",
              "      <td>yes</td>\n",
              "    </tr>\n",
              "  </tbody>\n",
              "</table>\n",
              "<p>593 rows × 4 columns</p>\n",
              "</div>\n",
              "    <div class=\"colab-df-buttons\">\n",
              "\n",
              "  <div class=\"colab-df-container\">\n",
              "    <button class=\"colab-df-convert\" onclick=\"convertToInteractive('df-47b4bf2f-ced0-4b4f-b398-417846532bcf')\"\n",
              "            title=\"Convert this dataframe to an interactive table.\"\n",
              "            style=\"display:none;\">\n",
              "\n",
              "  <svg xmlns=\"http://www.w3.org/2000/svg\" height=\"24px\" viewBox=\"0 -960 960 960\">\n",
              "    <path d=\"M120-120v-720h720v720H120Zm60-500h600v-160H180v160Zm220 220h160v-160H400v160Zm0 220h160v-160H400v160ZM180-400h160v-160H180v160Zm440 0h160v-160H620v160ZM180-180h160v-160H180v160Zm440 0h160v-160H620v160Z\"/>\n",
              "  </svg>\n",
              "    </button>\n",
              "\n",
              "  <style>\n",
              "    .colab-df-container {\n",
              "      display:flex;\n",
              "      gap: 12px;\n",
              "    }\n",
              "\n",
              "    .colab-df-convert {\n",
              "      background-color: #E8F0FE;\n",
              "      border: none;\n",
              "      border-radius: 50%;\n",
              "      cursor: pointer;\n",
              "      display: none;\n",
              "      fill: #1967D2;\n",
              "      height: 32px;\n",
              "      padding: 0 0 0 0;\n",
              "      width: 32px;\n",
              "    }\n",
              "\n",
              "    .colab-df-convert:hover {\n",
              "      background-color: #E2EBFA;\n",
              "      box-shadow: 0px 1px 2px rgba(60, 64, 67, 0.3), 0px 1px 3px 1px rgba(60, 64, 67, 0.15);\n",
              "      fill: #174EA6;\n",
              "    }\n",
              "\n",
              "    .colab-df-buttons div {\n",
              "      margin-bottom: 4px;\n",
              "    }\n",
              "\n",
              "    [theme=dark] .colab-df-convert {\n",
              "      background-color: #3B4455;\n",
              "      fill: #D2E3FC;\n",
              "    }\n",
              "\n",
              "    [theme=dark] .colab-df-convert:hover {\n",
              "      background-color: #434B5C;\n",
              "      box-shadow: 0px 1px 3px 1px rgba(0, 0, 0, 0.15);\n",
              "      filter: drop-shadow(0px 1px 2px rgba(0, 0, 0, 0.3));\n",
              "      fill: #FFFFFF;\n",
              "    }\n",
              "  </style>\n",
              "\n",
              "    <script>\n",
              "      const buttonEl =\n",
              "        document.querySelector('#df-47b4bf2f-ced0-4b4f-b398-417846532bcf button.colab-df-convert');\n",
              "      buttonEl.style.display =\n",
              "        google.colab.kernel.accessAllowed ? 'block' : 'none';\n",
              "\n",
              "      async function convertToInteractive(key) {\n",
              "        const element = document.querySelector('#df-47b4bf2f-ced0-4b4f-b398-417846532bcf');\n",
              "        const dataTable =\n",
              "          await google.colab.kernel.invokeFunction('convertToInteractive',\n",
              "                                                    [key], {});\n",
              "        if (!dataTable) return;\n",
              "\n",
              "        const docLinkHtml = 'Like what you see? Visit the ' +\n",
              "          '<a target=\"_blank\" href=https://colab.research.google.com/notebooks/data_table.ipynb>data table notebook</a>'\n",
              "          + ' to learn more about interactive tables.';\n",
              "        element.innerHTML = '';\n",
              "        dataTable['output_type'] = 'display_data';\n",
              "        await google.colab.output.renderOutput(dataTable, element);\n",
              "        const docLink = document.createElement('div');\n",
              "        docLink.innerHTML = docLinkHtml;\n",
              "        element.appendChild(docLink);\n",
              "      }\n",
              "    </script>\n",
              "  </div>\n",
              "\n",
              "\n",
              "<div id=\"df-67f32c4d-5013-4bec-82b1-2b99cd9c4753\">\n",
              "  <button class=\"colab-df-quickchart\" onclick=\"quickchart('df-67f32c4d-5013-4bec-82b1-2b99cd9c4753')\"\n",
              "            title=\"Suggest charts.\"\n",
              "            style=\"display:none;\">\n",
              "\n",
              "<svg xmlns=\"http://www.w3.org/2000/svg\" height=\"24px\"viewBox=\"0 0 24 24\"\n",
              "     width=\"24px\">\n",
              "    <g>\n",
              "        <path d=\"M19 3H5c-1.1 0-2 .9-2 2v14c0 1.1.9 2 2 2h14c1.1 0 2-.9 2-2V5c0-1.1-.9-2-2-2zM9 17H7v-7h2v7zm4 0h-2V7h2v10zm4 0h-2v-4h2v4z\"/>\n",
              "    </g>\n",
              "</svg>\n",
              "  </button>\n",
              "\n",
              "<style>\n",
              "  .colab-df-quickchart {\n",
              "      --bg-color: #E8F0FE;\n",
              "      --fill-color: #1967D2;\n",
              "      --hover-bg-color: #E2EBFA;\n",
              "      --hover-fill-color: #174EA6;\n",
              "      --disabled-fill-color: #AAA;\n",
              "      --disabled-bg-color: #DDD;\n",
              "  }\n",
              "\n",
              "  [theme=dark] .colab-df-quickchart {\n",
              "      --bg-color: #3B4455;\n",
              "      --fill-color: #D2E3FC;\n",
              "      --hover-bg-color: #434B5C;\n",
              "      --hover-fill-color: #FFFFFF;\n",
              "      --disabled-bg-color: #3B4455;\n",
              "      --disabled-fill-color: #666;\n",
              "  }\n",
              "\n",
              "  .colab-df-quickchart {\n",
              "    background-color: var(--bg-color);\n",
              "    border: none;\n",
              "    border-radius: 50%;\n",
              "    cursor: pointer;\n",
              "    display: none;\n",
              "    fill: var(--fill-color);\n",
              "    height: 32px;\n",
              "    padding: 0;\n",
              "    width: 32px;\n",
              "  }\n",
              "\n",
              "  .colab-df-quickchart:hover {\n",
              "    background-color: var(--hover-bg-color);\n",
              "    box-shadow: 0 1px 2px rgba(60, 64, 67, 0.3), 0 1px 3px 1px rgba(60, 64, 67, 0.15);\n",
              "    fill: var(--button-hover-fill-color);\n",
              "  }\n",
              "\n",
              "  .colab-df-quickchart-complete:disabled,\n",
              "  .colab-df-quickchart-complete:disabled:hover {\n",
              "    background-color: var(--disabled-bg-color);\n",
              "    fill: var(--disabled-fill-color);\n",
              "    box-shadow: none;\n",
              "  }\n",
              "\n",
              "  .colab-df-spinner {\n",
              "    border: 2px solid var(--fill-color);\n",
              "    border-color: transparent;\n",
              "    border-bottom-color: var(--fill-color);\n",
              "    animation:\n",
              "      spin 1s steps(1) infinite;\n",
              "  }\n",
              "\n",
              "  @keyframes spin {\n",
              "    0% {\n",
              "      border-color: transparent;\n",
              "      border-bottom-color: var(--fill-color);\n",
              "      border-left-color: var(--fill-color);\n",
              "    }\n",
              "    20% {\n",
              "      border-color: transparent;\n",
              "      border-left-color: var(--fill-color);\n",
              "      border-top-color: var(--fill-color);\n",
              "    }\n",
              "    30% {\n",
              "      border-color: transparent;\n",
              "      border-left-color: var(--fill-color);\n",
              "      border-top-color: var(--fill-color);\n",
              "      border-right-color: var(--fill-color);\n",
              "    }\n",
              "    40% {\n",
              "      border-color: transparent;\n",
              "      border-right-color: var(--fill-color);\n",
              "      border-top-color: var(--fill-color);\n",
              "    }\n",
              "    60% {\n",
              "      border-color: transparent;\n",
              "      border-right-color: var(--fill-color);\n",
              "    }\n",
              "    80% {\n",
              "      border-color: transparent;\n",
              "      border-right-color: var(--fill-color);\n",
              "      border-bottom-color: var(--fill-color);\n",
              "    }\n",
              "    90% {\n",
              "      border-color: transparent;\n",
              "      border-bottom-color: var(--fill-color);\n",
              "    }\n",
              "  }\n",
              "</style>\n",
              "\n",
              "  <script>\n",
              "    async function quickchart(key) {\n",
              "      const quickchartButtonEl =\n",
              "        document.querySelector('#' + key + ' button');\n",
              "      quickchartButtonEl.disabled = true;  // To prevent multiple clicks.\n",
              "      quickchartButtonEl.classList.add('colab-df-spinner');\n",
              "      try {\n",
              "        const charts = await google.colab.kernel.invokeFunction(\n",
              "            'suggestCharts', [key], {});\n",
              "      } catch (error) {\n",
              "        console.error('Error during call to suggestCharts:', error);\n",
              "      }\n",
              "      quickchartButtonEl.classList.remove('colab-df-spinner');\n",
              "      quickchartButtonEl.classList.add('colab-df-quickchart-complete');\n",
              "    }\n",
              "    (() => {\n",
              "      let quickchartButtonEl =\n",
              "        document.querySelector('#df-67f32c4d-5013-4bec-82b1-2b99cd9c4753 button');\n",
              "      quickchartButtonEl.style.display =\n",
              "        google.colab.kernel.accessAllowed ? 'block' : 'none';\n",
              "    })();\n",
              "  </script>\n",
              "</div>\n",
              "    </div>\n",
              "  </div>\n"
            ]
          },
          "metadata": {},
          "execution_count": 66
        }
      ]
    },
    {
      "cell_type": "code",
      "source": [],
      "metadata": {
        "id": "r4bmd2gWhpBK"
      },
      "execution_count": 60,
      "outputs": []
    },
    {
      "cell_type": "code",
      "source": [],
      "metadata": {
        "id": "EoE5z1As2TPY"
      },
      "execution_count": 42,
      "outputs": []
    },
    {
      "cell_type": "code",
      "source": [
        "clinical_note = \"Patient resting in bed. Patient given azithromycin without any difficulty. Patient has audible wheezing, \\\n",
        "states chest tightness. No evidence of hypertension.\\\n",
        "Patient denies nausea at this time. zofran declined. Patient is also having intermittent sweating associated with pneumonia. \\\n",
        "Patient refused pain but tylenol still given. Neither substance abuse nor alcohol use however cocaine once used in the last year. Alcoholism unlikely.\\\n",
        "Patient has headache and fever. Patient is not diabetic. \\\n",
        "No signs of diarrhea. Lab reports confirm lymphocytopenia. Cardaic rhythm is Sinus bradycardia. \\\n",
        "Patient also has a history of cardiac injury. No kidney injury reported. No abnormal rashes or ulcers. \\\n",
        "Patient might not have liver disease. Confirmed absence of hemoptysis. Although patient has severe pneumonia and fever \\\n",
        ", test reports are negative for COVID-19 infection. COVID-19 viral infection absent.\""
      ],
      "metadata": {
        "id": "st8dzgT-4OGs"
      },
      "execution_count": 16,
      "outputs": []
    },
    {
      "cell_type": "code",
      "source": [
        "# Lemmatizing the notes to capture all forms of negation (e.g., deny: denies, denying)\n",
        "def lemmatize(note, nlp):\n",
        "    doc = nlp(note)\n",
        "    lemNote = [wd.lemma_ for wd in doc]\n",
        "    return \" \".join(lemNote)\n",
        "\n",
        "# Assuming you have a clinical note text stored in 'clinical_note'\n",
        "# clinical_note = \"Your clinical note text goes here.\"\n",
        "\n",
        "# Create a spaCy language model (nlp0) for lemmatization\n",
        "nlp0 = spacy.load(\"en_core_sci_sm\")\n",
        "\n",
        "# Lemmatize the clinical note\n",
        "lem_clinical_note = lemmatize(clinical_note, nlp0)\n",
        "\n",
        "# Creating a doc object using the BC5CDR model (nlp1)\n",
        "nlp0 = spacy.load(\"en_core_sci_sm\")\n",
        "doc = nlp0(lem_clinical_note)\n"
      ],
      "metadata": {
        "colab": {
          "base_uri": "https://localhost:8080/"
        },
        "id": "qUMA285o2T4N",
        "outputId": "7351000c-4148-4e71-bb2d-439505523b1b"
      },
      "execution_count": 21,
      "outputs": [
        {
          "output_type": "stream",
          "name": "stderr",
          "text": [
            "/usr/local/lib/python3.10/dist-packages/spacy/util.py:910: UserWarning: [W095] Model 'en_core_sci_sm' (0.4.0) was trained with spaCy v3.0.1 and may not be 100% compatible with the current version (3.6.1). If you see errors or degraded performance, download a newer compatible model or retrain your custom model with the current spaCy version. For more details and available updates, run: python -m spacy validate\n",
            "  \n"
          ]
        }
      ]
    },
    {
      "cell_type": "code",
      "source": [
        "#function to modify options for displacy NER visualization\n",
        "def get_entity_options():\n",
        "    entities = [\"DISEASE\", \"CHEMICAL\", \"NEG_ENTITY\"]\n",
        "    colors = {'DISEASE': 'linear-gradient(180deg, #66ffcc, #abf763)', 'CHEMICAL': 'linear-gradient(90deg, #aa9cfc, #fc9ce7)', \"NEG_ENTITY\":'linear-gradient(90deg, #ffff66, #ff6600)'}\n",
        "    options = {\"ents\": entities, \"colors\": colors}\n",
        "    return options\n",
        "options = get_entity_options()\n",
        "#visualizing identified Named Entities in clinical input text\n",
        "displacy.render(doc, style='ent', options=options)"
      ],
      "metadata": {
        "colab": {
          "base_uri": "https://localhost:8080/",
          "height": 35
        },
        "id": "10ehB7TQ2XnV",
        "outputId": "7963fa41-1bd6-4c22-ecd4-40b7aba0b036"
      },
      "execution_count": 22,
      "outputs": [
        {
          "output_type": "execute_result",
          "data": {
            "text/plain": [
              "'<div class=\"entities\" style=\"line-height: 2.5; direction: ltr\">your clinical note text go here .</div>'"
            ],
            "application/vnd.google.colaboratory.intrinsic+json": {
              "type": "string"
            }
          },
          "metadata": {},
          "execution_count": 22
        }
      ]
    },
    {
      "cell_type": "code",
      "source": [
        "import spacy\n",
        "from negspacy.negex import Negex\n",
        "\n",
        "# Adding a new pipeline component to identify negation\n",
        "def neg_model(nlp_model):\n",
        "    nlp = spacy.load(nlp_model, disable=['parser'])\n",
        "    nlp.add_pipe('sentencizer')\n",
        "    negex = Negex(nlp, name=\"negex\", neg_termset=None, ent_types=None, extension_name=None, chunk_prefix=[\"no\", \"none\", \"not\", \"nor\", \"without\"])\n",
        "    nlp.add_pipe(negex, last=True)  # Add the 'negex' component last in the pipeline\n",
        "    return nlp\n",
        "\n",
        "# Function for handling negation\n",
        "def negation_handling(nlp_model, note, neg_model):\n",
        "    results = []\n",
        "    nlp = neg_model(nlp_model)\n",
        "    note = note.split(\".\")  # Sentence tokenizing based on delimiter\n",
        "    note = [n.strip() for n in note]  # Removing extra spaces at the beginning and end of sentences\n",
        "    for t in note:\n",
        "        doc = nlp(t)\n",
        "        for e in doc.ents:\n",
        "            rs = str(e._.negex)\n",
        "            if rs == \"True\":\n",
        "                results.append(e.text)\n",
        "    return results\n",
        "\n",
        "# List of negative concepts from clinical note identified by negspacy\n",
        "results0 = negation_handling(\"en_core_sci_sm\", lem_clinical_note, neg_model)\n"
      ],
      "metadata": {
        "colab": {
          "base_uri": "https://localhost:8080/",
          "height": 383
        },
        "id": "SjWC1sf32XvB",
        "outputId": "eb90fdca-3118-40ba-dd7e-0ce49cb42c0f"
      },
      "execution_count": 27,
      "outputs": [
        {
          "output_type": "error",
          "ename": "ModuleNotFoundError",
          "evalue": "ignored",
          "traceback": [
            "\u001b[0;31m---------------------------------------------------------------------------\u001b[0m",
            "\u001b[0;31mModuleNotFoundError\u001b[0m                       Traceback (most recent call last)",
            "\u001b[0;32m<ipython-input-27-2628e2c47c75>\u001b[0m in \u001b[0;36m<cell line: 2>\u001b[0;34m()\u001b[0m\n\u001b[1;32m      1\u001b[0m \u001b[0;32mimport\u001b[0m \u001b[0mspacy\u001b[0m\u001b[0;34m\u001b[0m\u001b[0;34m\u001b[0m\u001b[0m\n\u001b[0;32m----> 2\u001b[0;31m \u001b[0;32mfrom\u001b[0m \u001b[0mnegspacy\u001b[0m\u001b[0;34m.\u001b[0m\u001b[0mnegex\u001b[0m \u001b[0;32mimport\u001b[0m \u001b[0mNegex\u001b[0m\u001b[0;34m\u001b[0m\u001b[0;34m\u001b[0m\u001b[0m\n\u001b[0m\u001b[1;32m      3\u001b[0m \u001b[0;34m\u001b[0m\u001b[0m\n\u001b[1;32m      4\u001b[0m \u001b[0;31m# Adding a new pipeline component to identify negation\u001b[0m\u001b[0;34m\u001b[0m\u001b[0;34m\u001b[0m\u001b[0m\n\u001b[1;32m      5\u001b[0m \u001b[0;32mdef\u001b[0m \u001b[0mneg_model\u001b[0m\u001b[0;34m(\u001b[0m\u001b[0mnlp_model\u001b[0m\u001b[0;34m)\u001b[0m\u001b[0;34m:\u001b[0m\u001b[0;34m\u001b[0m\u001b[0;34m\u001b[0m\u001b[0m\n",
            "\u001b[0;31mModuleNotFoundError\u001b[0m: No module named 'negspacy.negex'",
            "",
            "\u001b[0;31m---------------------------------------------------------------------------\u001b[0;32m\nNOTE: If your import is failing due to a missing package, you can\nmanually install dependencies using either !pip or !apt.\n\nTo view examples of installing some common dependencies, click the\n\"Open Examples\" button below.\n\u001b[0;31m---------------------------------------------------------------------------\u001b[0m\n"
          ],
          "errorDetails": {
            "actions": [
              {
                "action": "open_url",
                "actionText": "Open Examples",
                "url": "/notebooks/snippets/importing_libraries.ipynb"
              }
            ]
          }
        }
      ]
    },
    {
      "cell_type": "code",
      "source": [
        "#function to identify span objects of matched megative phrases from clinical note\n",
        "def match(nlp,terms,label):\n",
        "        patterns = [nlp.make_doc(text) for text in terms]\n",
        "        matcher = PhraseMatcher(nlp.vocab)\n",
        "        matcher.add(label, None, *patterns)\n",
        "        return matcher\n",
        "#replacing the labels for identified negative entities\n",
        "def overwrite_ent_lbl(matcher, doc):\n",
        "    matches = matcher(doc)\n",
        "    seen_tokens = set()\n",
        "    new_entities = []\n",
        "    entities = doc.ents\n",
        "    for match_id, start, end in matches:\n",
        "        if start not in seen_tokens and end - 1 not in seen_tokens:\n",
        "            new_entities.append(Span(doc, start, end, label=match_id))\n",
        "            entities = [\n",
        "                e for e in entities if not (e.start < end and e.end > start)\n",
        "            ]\n",
        "            seen_tokens.update(range(start, end))\n",
        "doc.ents = tuple(entities) + tuple(new_entities)\n",
        "    return doc\n",
        "matcher = match(nlp1, results0,\"NEG_ENTITY\")\n",
        "#doc0: new doc object with added \"NEG_ENTITY label\"\n",
        "doc0 = overwrite_ent_lbl(matcher,doc)\n",
        "#visualizing identified Named Entities in clinical input text\n",
        "displacy.render(doc0, style='ent', options=options)"
      ],
      "metadata": {
        "id": "3DhKc1o92cXs"
      },
      "execution_count": null,
      "outputs": []
    },
    {
      "cell_type": "code",
      "source": [
        "#function to add custom negation terms to the existing model\n",
        "def neg_model2(nlp_model):\n",
        "    nlp = spacy.load(nlp_model, disable = ['parser'])\n",
        "    nlp.add_pipe(nlp.create_pipe('sentencizer'))\n",
        "    negex = Negex(nlp)\n",
        "\n",
        "    negex.preceding_patterns += [nlp('deny'), nlp('refuse'), nlp('neither'), nlp('nor')]\n",
        "    negex.following_patterns += [nlp('absent'), nlp('deny'), nlp('decline')]\n",
        "    preceding_update  = [i.text for i in negex.preceding_patterns]\n",
        "    following_update = [i.text for i in negex.following_patterns]\n",
        "\n",
        "    negex = Negex(nlp, preceding_negations = preceding_update, following_negations= following_update)\n",
        "    nlp.add_pipe(negex)\n",
        "    return nlp\n",
        "#updated list of all the negative concepts from clinical note identified by negspacy\n",
        "results1 = negation_handling(\"en_ner_bc5cdr_md\", lem_clinical_note, neg_model2)\n",
        "matcher = match(nlp1, results1,\"NEG_ENTITY\")\n",
        "#doc1: new doc object with added custom concepts for \"NEG_ENTITY label\"\n",
        "doc1 = overwrite_ent_lbl(matcher,doc)\n",
        "#visualizing identified Named Entities in clinical input text\n",
        "displacy.render(doc, style='ent', options=options)"
      ],
      "metadata": {
        "id": "_4ZqkctC2cgk"
      },
      "execution_count": null,
      "outputs": []
    },
    {
      "cell_type": "code",
      "source": [],
      "metadata": {
        "id": "O1lOimJq2i5X"
      },
      "execution_count": null,
      "outputs": []
    },
    {
      "cell_type": "code",
      "source": [],
      "metadata": {
        "id": "_5kZ1JmY2jAd"
      },
      "execution_count": null,
      "outputs": []
    },
    {
      "cell_type": "code",
      "source": [],
      "metadata": {
        "id": "vIQV62JH2jIZ"
      },
      "execution_count": null,
      "outputs": []
    },
    {
      "cell_type": "code",
      "source": [],
      "metadata": {
        "id": "godpUVe12jTV"
      },
      "execution_count": null,
      "outputs": []
    },
    {
      "cell_type": "code",
      "source": [
        "# Save the updated dataframe to a new CSV file\n",
        "df.to_csv(\"your_updated_dataset.csv\", index=False)"
      ],
      "metadata": {
        "id": "EKHa4DdFDKEQ"
      },
      "execution_count": null,
      "outputs": []
    },
    {
      "cell_type": "code",
      "source": [],
      "metadata": {
        "id": "k0w2mRZc1tPK"
      },
      "execution_count": null,
      "outputs": []
    }
  ]
}