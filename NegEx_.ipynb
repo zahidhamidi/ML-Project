{
  "nbformat": 4,
  "nbformat_minor": 0,
  "metadata": {
    "colab": {
      "provenance": [],
      "authorship_tag": "ABX9TyNJioali1X6cjeGFsB2rzcG",
      "include_colab_link": true
    },
    "kernelspec": {
      "name": "python3",
      "display_name": "Python 3"
    },
    "language_info": {
      "name": "python"
    },
    "widgets": {
      "application/vnd.jupyter.widget-state+json": {
        "59026f81928747839c280805341de865": {
          "model_module": "@jupyter-widgets/controls",
          "model_name": "HBoxModel",
          "model_module_version": "1.5.0",
          "state": {
            "_dom_classes": [],
            "_model_module": "@jupyter-widgets/controls",
            "_model_module_version": "1.5.0",
            "_model_name": "HBoxModel",
            "_view_count": null,
            "_view_module": "@jupyter-widgets/controls",
            "_view_module_version": "1.5.0",
            "_view_name": "HBoxView",
            "box_style": "",
            "children": [
              "IPY_MODEL_47620f8b87ed4a74aa6b57bd003a13fd",
              "IPY_MODEL_3e517342db4d46c991c6ed4d005974e1",
              "IPY_MODEL_6bd4102b8b514f3c87fa446887cdfae3"
            ],
            "layout": "IPY_MODEL_518e42121a544d4195e26bc05936ae86"
          }
        },
        "47620f8b87ed4a74aa6b57bd003a13fd": {
          "model_module": "@jupyter-widgets/controls",
          "model_name": "HTMLModel",
          "model_module_version": "1.5.0",
          "state": {
            "_dom_classes": [],
            "_model_module": "@jupyter-widgets/controls",
            "_model_module_version": "1.5.0",
            "_model_name": "HTMLModel",
            "_view_count": null,
            "_view_module": "@jupyter-widgets/controls",
            "_view_module_version": "1.5.0",
            "_view_name": "HTMLView",
            "description": "",
            "description_tooltip": null,
            "layout": "IPY_MODEL_5f2fe3d6446c4c8a9107cdcde01870cd",
            "placeholder": "​",
            "style": "IPY_MODEL_40f77067a7ce4f73b29398dee290e457",
            "value": "Downloading https://raw.githubusercontent.com/stanfordnlp/stanza-resources/main/resources_1.5.0.json: "
          }
        },
        "3e517342db4d46c991c6ed4d005974e1": {
          "model_module": "@jupyter-widgets/controls",
          "model_name": "FloatProgressModel",
          "model_module_version": "1.5.0",
          "state": {
            "_dom_classes": [],
            "_model_module": "@jupyter-widgets/controls",
            "_model_module_version": "1.5.0",
            "_model_name": "FloatProgressModel",
            "_view_count": null,
            "_view_module": "@jupyter-widgets/controls",
            "_view_module_version": "1.5.0",
            "_view_name": "ProgressView",
            "bar_style": "success",
            "description": "",
            "description_tooltip": null,
            "layout": "IPY_MODEL_b530c574288d4971a1cc831ed6196f7e",
            "max": 30101,
            "min": 0,
            "orientation": "horizontal",
            "style": "IPY_MODEL_5cfea67a550d474e868f38c14403894d",
            "value": 30101
          }
        },
        "6bd4102b8b514f3c87fa446887cdfae3": {
          "model_module": "@jupyter-widgets/controls",
          "model_name": "HTMLModel",
          "model_module_version": "1.5.0",
          "state": {
            "_dom_classes": [],
            "_model_module": "@jupyter-widgets/controls",
            "_model_module_version": "1.5.0",
            "_model_name": "HTMLModel",
            "_view_count": null,
            "_view_module": "@jupyter-widgets/controls",
            "_view_module_version": "1.5.0",
            "_view_name": "HTMLView",
            "description": "",
            "description_tooltip": null,
            "layout": "IPY_MODEL_7e46e89c330f4112a75fadd9db6113c4",
            "placeholder": "​",
            "style": "IPY_MODEL_9234a0ad214a40deaed4d03e4318137f",
            "value": " 216k/? [00:00&lt;00:00, 2.80MB/s]"
          }
        },
        "518e42121a544d4195e26bc05936ae86": {
          "model_module": "@jupyter-widgets/base",
          "model_name": "LayoutModel",
          "model_module_version": "1.2.0",
          "state": {
            "_model_module": "@jupyter-widgets/base",
            "_model_module_version": "1.2.0",
            "_model_name": "LayoutModel",
            "_view_count": null,
            "_view_module": "@jupyter-widgets/base",
            "_view_module_version": "1.2.0",
            "_view_name": "LayoutView",
            "align_content": null,
            "align_items": null,
            "align_self": null,
            "border": null,
            "bottom": null,
            "display": null,
            "flex": null,
            "flex_flow": null,
            "grid_area": null,
            "grid_auto_columns": null,
            "grid_auto_flow": null,
            "grid_auto_rows": null,
            "grid_column": null,
            "grid_gap": null,
            "grid_row": null,
            "grid_template_areas": null,
            "grid_template_columns": null,
            "grid_template_rows": null,
            "height": null,
            "justify_content": null,
            "justify_items": null,
            "left": null,
            "margin": null,
            "max_height": null,
            "max_width": null,
            "min_height": null,
            "min_width": null,
            "object_fit": null,
            "object_position": null,
            "order": null,
            "overflow": null,
            "overflow_x": null,
            "overflow_y": null,
            "padding": null,
            "right": null,
            "top": null,
            "visibility": null,
            "width": null
          }
        },
        "5f2fe3d6446c4c8a9107cdcde01870cd": {
          "model_module": "@jupyter-widgets/base",
          "model_name": "LayoutModel",
          "model_module_version": "1.2.0",
          "state": {
            "_model_module": "@jupyter-widgets/base",
            "_model_module_version": "1.2.0",
            "_model_name": "LayoutModel",
            "_view_count": null,
            "_view_module": "@jupyter-widgets/base",
            "_view_module_version": "1.2.0",
            "_view_name": "LayoutView",
            "align_content": null,
            "align_items": null,
            "align_self": null,
            "border": null,
            "bottom": null,
            "display": null,
            "flex": null,
            "flex_flow": null,
            "grid_area": null,
            "grid_auto_columns": null,
            "grid_auto_flow": null,
            "grid_auto_rows": null,
            "grid_column": null,
            "grid_gap": null,
            "grid_row": null,
            "grid_template_areas": null,
            "grid_template_columns": null,
            "grid_template_rows": null,
            "height": null,
            "justify_content": null,
            "justify_items": null,
            "left": null,
            "margin": null,
            "max_height": null,
            "max_width": null,
            "min_height": null,
            "min_width": null,
            "object_fit": null,
            "object_position": null,
            "order": null,
            "overflow": null,
            "overflow_x": null,
            "overflow_y": null,
            "padding": null,
            "right": null,
            "top": null,
            "visibility": null,
            "width": null
          }
        },
        "40f77067a7ce4f73b29398dee290e457": {
          "model_module": "@jupyter-widgets/controls",
          "model_name": "DescriptionStyleModel",
          "model_module_version": "1.5.0",
          "state": {
            "_model_module": "@jupyter-widgets/controls",
            "_model_module_version": "1.5.0",
            "_model_name": "DescriptionStyleModel",
            "_view_count": null,
            "_view_module": "@jupyter-widgets/base",
            "_view_module_version": "1.2.0",
            "_view_name": "StyleView",
            "description_width": ""
          }
        },
        "b530c574288d4971a1cc831ed6196f7e": {
          "model_module": "@jupyter-widgets/base",
          "model_name": "LayoutModel",
          "model_module_version": "1.2.0",
          "state": {
            "_model_module": "@jupyter-widgets/base",
            "_model_module_version": "1.2.0",
            "_model_name": "LayoutModel",
            "_view_count": null,
            "_view_module": "@jupyter-widgets/base",
            "_view_module_version": "1.2.0",
            "_view_name": "LayoutView",
            "align_content": null,
            "align_items": null,
            "align_self": null,
            "border": null,
            "bottom": null,
            "display": null,
            "flex": null,
            "flex_flow": null,
            "grid_area": null,
            "grid_auto_columns": null,
            "grid_auto_flow": null,
            "grid_auto_rows": null,
            "grid_column": null,
            "grid_gap": null,
            "grid_row": null,
            "grid_template_areas": null,
            "grid_template_columns": null,
            "grid_template_rows": null,
            "height": null,
            "justify_content": null,
            "justify_items": null,
            "left": null,
            "margin": null,
            "max_height": null,
            "max_width": null,
            "min_height": null,
            "min_width": null,
            "object_fit": null,
            "object_position": null,
            "order": null,
            "overflow": null,
            "overflow_x": null,
            "overflow_y": null,
            "padding": null,
            "right": null,
            "top": null,
            "visibility": null,
            "width": null
          }
        },
        "5cfea67a550d474e868f38c14403894d": {
          "model_module": "@jupyter-widgets/controls",
          "model_name": "ProgressStyleModel",
          "model_module_version": "1.5.0",
          "state": {
            "_model_module": "@jupyter-widgets/controls",
            "_model_module_version": "1.5.0",
            "_model_name": "ProgressStyleModel",
            "_view_count": null,
            "_view_module": "@jupyter-widgets/base",
            "_view_module_version": "1.2.0",
            "_view_name": "StyleView",
            "bar_color": null,
            "description_width": ""
          }
        },
        "7e46e89c330f4112a75fadd9db6113c4": {
          "model_module": "@jupyter-widgets/base",
          "model_name": "LayoutModel",
          "model_module_version": "1.2.0",
          "state": {
            "_model_module": "@jupyter-widgets/base",
            "_model_module_version": "1.2.0",
            "_model_name": "LayoutModel",
            "_view_count": null,
            "_view_module": "@jupyter-widgets/base",
            "_view_module_version": "1.2.0",
            "_view_name": "LayoutView",
            "align_content": null,
            "align_items": null,
            "align_self": null,
            "border": null,
            "bottom": null,
            "display": null,
            "flex": null,
            "flex_flow": null,
            "grid_area": null,
            "grid_auto_columns": null,
            "grid_auto_flow": null,
            "grid_auto_rows": null,
            "grid_column": null,
            "grid_gap": null,
            "grid_row": null,
            "grid_template_areas": null,
            "grid_template_columns": null,
            "grid_template_rows": null,
            "height": null,
            "justify_content": null,
            "justify_items": null,
            "left": null,
            "margin": null,
            "max_height": null,
            "max_width": null,
            "min_height": null,
            "min_width": null,
            "object_fit": null,
            "object_position": null,
            "order": null,
            "overflow": null,
            "overflow_x": null,
            "overflow_y": null,
            "padding": null,
            "right": null,
            "top": null,
            "visibility": null,
            "width": null
          }
        },
        "9234a0ad214a40deaed4d03e4318137f": {
          "model_module": "@jupyter-widgets/controls",
          "model_name": "DescriptionStyleModel",
          "model_module_version": "1.5.0",
          "state": {
            "_model_module": "@jupyter-widgets/controls",
            "_model_module_version": "1.5.0",
            "_model_name": "DescriptionStyleModel",
            "_view_count": null,
            "_view_module": "@jupyter-widgets/base",
            "_view_module_version": "1.2.0",
            "_view_name": "StyleView",
            "description_width": ""
          }
        }
      }
    }
  },
  "cells": [
    {
      "cell_type": "markdown",
      "metadata": {
        "id": "view-in-github",
        "colab_type": "text"
      },
      "source": [
        "<a href=\"https://colab.research.google.com/github/zahidhamidi/ML-Project/blob/main/NegEx_.ipynb\" target=\"_parent\"><img src=\"https://colab.research.google.com/assets/colab-badge.svg\" alt=\"Open In Colab\"/></a>"
      ]
    },
    {
      "cell_type": "code",
      "source": [
        "# !pip install stanza\n",
        "# !pip install spacy_stanza\n",
        "# !pip install negspacy\n",
        "# !pip install negex\n",
        "# !pip install negfinder\n",
        "# !pip install negexpander\n",
        "!pip install spacy-pipeline-negex\n",
        "\n"
      ],
      "metadata": {
        "id": "l-MlESsXUJr-",
        "outputId": "ed3ba572-a5ab-4690-9e28-0ded020708e0",
        "colab": {
          "base_uri": "https://localhost:8080/"
        }
      },
      "execution_count": 1,
      "outputs": [
        {
          "output_type": "stream",
          "name": "stdout",
          "text": [
            "\u001b[31mERROR: Could not find a version that satisfies the requirement spacy-pipeline-negex (from versions: none)\u001b[0m\u001b[31m\n",
            "\u001b[0m\u001b[31mERROR: No matching distribution found for spacy-pipeline-negex\u001b[0m\u001b[31m\n",
            "\u001b[0m"
          ]
        }
      ]
    },
    {
      "cell_type": "code",
      "source": [
        "import spacy # to build a nlp pipeline\n",
        "import stanza # for named entity recognition\n",
        "# this package wraps Stanza around Spacy, so that we can use Stanza in a spaCy pipeline.\n",
        "import spacy_stanza\n",
        "from negspacy.negation import Negex\n",
        "from negspacy.termsets import termset # to customize negation terms\n",
        "import pandas as pd\n",
        "from tqdm.auto import tqdm\n",
        "nlp = spacy.load(\"en_core_web_sm\")\n",
        "from sklearn.metrics import confusion_matrix, accuracy_score, precision_score, recall_score, f1_score\n",
        "import matplotlib.pyplot as plt\n",
        "import seaborn as sns"
      ],
      "metadata": {
        "id": "CCgp7oniT6Pe"
      },
      "execution_count": 2,
      "outputs": []
    },
    {
      "cell_type": "code",
      "source": [
        "# Load your CSV dataset\n",
        "df = pd.read_csv(\"true_positive_experimentation.csv\")"
      ],
      "metadata": {
        "id": "NX8-eomyT8H1"
      },
      "execution_count": 3,
      "outputs": []
    },
    {
      "cell_type": "markdown",
      "source": [
        "## **RBM #1 : NegEx**"
      ],
      "metadata": {
        "id": "COHwbGEcmbfj"
      }
    },
    {
      "cell_type": "code",
      "execution_count": 4,
      "metadata": {
        "colab": {
          "base_uri": "https://localhost:8080/",
          "height": 416,
          "referenced_widgets": [
            "59026f81928747839c280805341de865",
            "47620f8b87ed4a74aa6b57bd003a13fd",
            "3e517342db4d46c991c6ed4d005974e1",
            "6bd4102b8b514f3c87fa446887cdfae3",
            "518e42121a544d4195e26bc05936ae86",
            "5f2fe3d6446c4c8a9107cdcde01870cd",
            "40f77067a7ce4f73b29398dee290e457",
            "b530c574288d4971a1cc831ed6196f7e",
            "5cfea67a550d474e868f38c14403894d",
            "7e46e89c330f4112a75fadd9db6113c4",
            "9234a0ad214a40deaed4d03e4318137f"
          ]
        },
        "id": "vzFrW4EHTLx8",
        "outputId": "2203b813-b140-4af5-df68-f0ef3d8cba17"
      },
      "outputs": [
        {
          "output_type": "stream",
          "name": "stderr",
          "text": [
            "INFO:stanza:Checking for updates to resources.json in case models have been updated.  Note: this behavior can be turned off with download_method=None or download_method=DownloadMethod.REUSE_RESOURCES\n"
          ]
        },
        {
          "output_type": "display_data",
          "data": {
            "text/plain": [
              "Downloading https://raw.githubusercontent.com/stanfordnlp/stanza-resources/main/resources_1.5.0.json:   0%|   …"
            ],
            "application/vnd.jupyter.widget-view+json": {
              "version_major": 2,
              "version_minor": 0,
              "model_id": "59026f81928747839c280805341de865"
            }
          },
          "metadata": {}
        },
        {
          "output_type": "stream",
          "name": "stderr",
          "text": [
            "INFO:stanza:Loading these models for language: en (English):\n",
            "=======================\n",
            "| Processor | Package |\n",
            "-----------------------\n",
            "| tokenize  | mimic   |\n",
            "| pos       | mimic   |\n",
            "| lemma     | mimic   |\n",
            "| depparse  | mimic   |\n",
            "| ner       | i2b2    |\n",
            "=======================\n",
            "\n",
            "WARNING:stanza:GPU requested, but is not available!\n",
            "INFO:stanza:Using device: cpu\n",
            "INFO:stanza:Loading: tokenize\n",
            "INFO:stanza:Loading: pos\n",
            "INFO:stanza:Loading: lemma\n",
            "INFO:stanza:Loading: depparse\n",
            "INFO:stanza:Loading: ner\n",
            "INFO:stanza:Done loading processors!\n"
          ]
        }
      ],
      "source": [
        "# download and initialize a mimic pipeline with an i2b2 NER model\n",
        "# stanza.download('en', package='mimic', processors={'ner': 'i2b2'})\n",
        "nlp = spacy_stanza.load_pipeline('en', package='mimic', processors={'ner': 'i2b2'})"
      ]
    },
    {
      "cell_type": "code",
      "source": [
        "# nlp.add_pipe(\"negex\", config={\"ent_types\":[\"PROBLEM\",\"TEST\",'TREATMENT']})"
      ],
      "metadata": {
        "id": "JPJHGi0gX4i9"
      },
      "execution_count": 5,
      "outputs": []
    },
    {
      "cell_type": "code",
      "source": [
        "# nlp = spacy.load(\"en_core_sci_sm\")\n",
        "# import spacy\n",
        "# from spacy.pipeline.negex import NegexComponent\n",
        "\n",
        "# nlp = spacy.load(\"en_core_sci_sm\")\n",
        "# negex = NegexComponent(config={\"chunk_prefix\": [\"no\", \"none\", \"not\", \"nor\", \"without\"]})\n",
        "# nlp.add_pipe(negex)\n"
      ],
      "metadata": {
        "id": "n_mveAbZpCdL"
      },
      "execution_count": 6,
      "outputs": []
    },
    {
      "cell_type": "code",
      "source": [
        "import spacy\n",
        "import pandas as pd\n",
        "from tqdm import tqdm\n",
        "\n",
        "# Load spaCy model with the NegEx component\n",
        "# nlp = spacy.load(\"en_core_sci_sm\")\n",
        "nlp.add_pipe(\"negex\", config={\"chunk_prefix\": [\"no\", \"none\", \"not\", \"nor\", \"without\"]})\n",
        "\n",
        "# Initialize an empty list to store predictions\n",
        "predictions = []\n",
        "\n",
        "# Iterate through the text in your DataFrame\n",
        "for text in tqdm(df[\"doc_text_original\"]):\n",
        "    # Process the text with SpaCy\n",
        "    doc = nlp(text)\n",
        "\n",
        "    # Initialize a variable to track whether the sentence contains negations\n",
        "    contains_negation = False\n",
        "\n",
        "    # Iterate through sentences and check for negations\n",
        "    for sent in doc.sents:\n",
        "        for ent in sent.ents:\n",
        "            if ent._.negex:\n",
        "                contains_negation = True\n",
        "                break\n",
        "\n",
        "    # Determine the final classification (0 for negation, 1 for non-negation)\n",
        "    prediction = 0 if contains_negation else 1\n",
        "    predictions.append(prediction)\n",
        "\n",
        "# Add the predictions as a new column in the dataframe\n",
        "df['predicted'] = predictions\n"
      ],
      "metadata": {
        "id": "rHT3z-WEYEDG"
      },
      "execution_count": null,
      "outputs": []
    },
    {
      "cell_type": "code",
      "source": [
        "# Assuming you have loaded your DataFrame 'df' with the columns 'label_code' and 'predicted_label_code'\n",
        "y_true = df['label_code']\n",
        "y_pred = df['predicted']\n",
        "\n",
        "# Calculate the confusion matrix\n",
        "cm = confusion_matrix(y_true, y_pred)\n",
        "\n",
        "# Calculate additional evaluation metrics\n",
        "accuracy = accuracy_score(y_true, y_pred)\n",
        "precision = precision_score(y_true, y_pred)\n",
        "recall = recall_score(y_true, y_pred)\n",
        "f1 = f1_score(y_true, y_pred)\n",
        "\n",
        "# Create a heatmap of the confusion matrix\n",
        "plt.figure(figsize=(6, 4))\n",
        "sns.heatmap(cm, annot=True, fmt=\"d\", cmap=\"Blues\", cbar=False)\n",
        "plt.xlabel(\"Predicted\")\n",
        "plt.ylabel(\"True\")\n",
        "plt.title(\"Confusion Matrix\")\n",
        "plt.show()\n",
        "\n",
        "# Print evaluation metrics\n",
        "print(f\"Accuracy: {accuracy:.2f}\")\n",
        "print(f\"Precision: {precision:.2f}\")\n",
        "print(f\"Recall: {recall:.2f}\")\n",
        "print(f\"F1 Score: {f1:.2f}\")\n"
      ],
      "metadata": {
        "id": "F_6ikw1_1s43"
      },
      "execution_count": null,
      "outputs": []
    },
    {
      "cell_type": "markdown",
      "source": [
        "## **RBM #2 : Filter with negation terms**"
      ],
      "metadata": {
        "id": "MTGeB3OTjsY2"
      }
    },
    {
      "cell_type": "code",
      "source": [
        "import spacy\n",
        "import pandas as pd\n",
        "\n",
        "# Load the SpaCy model\n",
        "nlp = spacy.load('en_core_web_sm')\n",
        "\n",
        "# Define the negation terms\n",
        "negation_terms = [\"no\", \"none\", \"not\", \"nor\", \"without\"]\n",
        "\n",
        "# Your DataFrame (replace this with your actual DataFrame)\n",
        "# df = pd.read_csv(\"your_dataset.csv\")\n",
        "\n",
        "# Define a function for negation detection\n",
        "def detect_negation(text):\n",
        "    # Process the text with SpaCy\n",
        "    doc = nlp(text)\n",
        "\n",
        "    # Initialize a variable to track whether negation is detected\n",
        "    negation_detected = False\n",
        "\n",
        "    # Iterate through the tokens and check for negation terms\n",
        "    for token in doc:\n",
        "        if token.text.lower() in negation_terms:\n",
        "            negation_detected = True\n",
        "            break\n",
        "\n",
        "    return negation_detected\n",
        "\n",
        "# Apply the negation detection function to each text in the DataFrame\n",
        "df[\"predicted\"] = df[\"doc_text_original\"].apply(detect_negation)\n",
        "\n",
        "# Map the negation detection result to 0 (negation) or 1 (non-negation)\n",
        "df[\"predicted\"] = df[\"predicted\"].astype(int)\n",
        "\n"
      ],
      "metadata": {
        "id": "B9B8zMBxmlGg"
      },
      "execution_count": 30,
      "outputs": []
    },
    {
      "cell_type": "code",
      "source": [
        "# Assuming you have loaded your DataFrame 'df' with the columns 'label_code' and 'predicted_label_code'\n",
        "y_true = df['label_code']\n",
        "y_pred = df['predicted']\n",
        "\n",
        "# Calculate the confusion matrix\n",
        "cm = confusion_matrix(y_true, y_pred)\n",
        "\n",
        "# Calculate additional evaluation metrics\n",
        "accuracy = accuracy_score(y_true, y_pred)\n",
        "precision = precision_score(y_true, y_pred)\n",
        "recall = recall_score(y_true, y_pred)\n",
        "f1 = f1_score(y_true, y_pred)\n",
        "\n",
        "# Create a heatmap of the confusion matrix\n",
        "plt.figure(figsize=(6, 4))\n",
        "sns.heatmap(cm, annot=True, fmt=\"d\", cmap=\"Blues\", cbar=False)\n",
        "plt.xlabel(\"Predicted\")\n",
        "plt.ylabel(\"True\")\n",
        "plt.title(\"Confusion Matrix\")\n",
        "plt.show()\n",
        "\n",
        "# Print evaluation metrics\n",
        "print(f\"Accuracy: {accuracy:.2f}\")\n",
        "print(f\"Precision: {precision:.2f}\")\n",
        "print(f\"Recall: {recall:.2f}\")\n",
        "print(f\"F1 Score: {f1:.2f}\")\n"
      ],
      "metadata": {
        "id": "yyb89tJU6sGI",
        "outputId": "188d7b8c-c421-4978-874e-c0a358e262a3",
        "colab": {
          "base_uri": "https://localhost:8080/",
          "height": 479
        }
      },
      "execution_count": 31,
      "outputs": [
        {
          "output_type": "display_data",
          "data": {
            "text/plain": [
              "<Figure size 600x400 with 1 Axes>"
            ],
            "image/png": "[encoded data removed]"
          },
          "metadata": {}
        },
        {
          "output_type": "stream",
          "name": "stdout",
          "text": [
            "Accuracy: 0.18\n",
            "Precision: 0.37\n",
            "Recall: 0.20\n",
            "F1 Score: 0.26\n"
          ]
        }
      ]
    },
    {
      "cell_type": "markdown",
      "source": [
        "## **RBM #3 : NegFinder**"
      ],
      "metadata": {
        "id": "hMIfWgVVmsj6"
      }
    },
    {
      "cell_type": "code",
      "source": [
        "# !pip install scispacy\n",
        "!pip install https://s3-us-west-2.amazonaws.com/ai2-s2-scispacy/releases/v0.4.0/en_core_sci_sm-0.4.0.tar.gz"
      ],
      "metadata": {
        "id": "sqrrKGCq1uhT",
        "outputId": "e3fea1eb-1bc2-4718-d094-82837102c235",
        "colab": {
          "base_uri": "https://localhost:8080/",
          "height": 1000
        }
      },
      "execution_count": 12,
      "outputs": [
        {
          "output_type": "stream",
          "name": "stdout",
          "text": [
            "Collecting https://s3-us-west-2.amazonaws.com/ai2-s2-scispacy/releases/v0.4.0/en_core_sci_sm-0.4.0.tar.gz\n",
            "  Downloading https://s3-us-west-2.amazonaws.com/ai2-s2-scispacy/releases/v0.4.0/en_core_sci_sm-0.4.0.tar.gz (15.6 MB)\n",
            "\u001b[2K     \u001b[90m━━━━━━━━━━━━━━━━━━━━━━━━━━━━━━━━━━━━━━━━\u001b[0m \u001b[32m15.6/15.6 MB\u001b[0m \u001b[31m14.2 MB/s\u001b[0m eta \u001b[36m0:00:00\u001b[0m\n",
            "\u001b[?25h  Preparing metadata (setup.py) ... \u001b[?25l\u001b[?25hdone\n",
            "Collecting spacy<3.1.0,>=3.0.1 (from en-core-sci-sm==0.4.0)\n",
            "  Downloading spacy-3.0.9-cp310-cp310-manylinux_2_17_x86_64.manylinux2014_x86_64.whl (5.9 MB)\n",
            "\u001b[2K     \u001b[90m━━━━━━━━━━━━━━━━━━━━━━━━━━━━━━━━━━━━━━━━\u001b[0m \u001b[32m5.9/5.9 MB\u001b[0m \u001b[31m15.5 MB/s\u001b[0m eta \u001b[36m0:00:00\u001b[0m\n",
            "\u001b[?25hRequirement already satisfied: spacy-legacy<3.1.0,>=3.0.5 in /usr/local/lib/python3.10/dist-packages (from spacy<3.1.0,>=3.0.1->en-core-sci-sm==0.4.0) (3.0.12)\n",
            "Requirement already satisfied: murmurhash<1.1.0,>=0.28.0 in /usr/local/lib/python3.10/dist-packages (from spacy<3.1.0,>=3.0.1->en-core-sci-sm==0.4.0) (1.0.9)\n",
            "Requirement already satisfied: cymem<2.1.0,>=2.0.2 in /usr/local/lib/python3.10/dist-packages (from spacy<3.1.0,>=3.0.1->en-core-sci-sm==0.4.0) (2.0.7)\n",
            "Requirement already satisfied: preshed<3.1.0,>=3.0.2 in /usr/local/lib/python3.10/dist-packages (from spacy<3.1.0,>=3.0.1->en-core-sci-sm==0.4.0) (3.0.8)\n",
            "Collecting thinc<8.1.0,>=8.0.3 (from spacy<3.1.0,>=3.0.1->en-core-sci-sm==0.4.0)\n",
            "  Downloading thinc-8.0.17-cp310-cp310-manylinux_2_17_x86_64.manylinux2014_x86_64.whl (659 kB)\n",
            "\u001b[2K     \u001b[90m━━━━━━━━━━━━━━━━━━━━━━━━━━━━━━━━━━━━━━\u001b[0m \u001b[32m659.5/659.5 kB\u001b[0m \u001b[31m25.0 MB/s\u001b[0m eta \u001b[36m0:00:00\u001b[0m\n",
            "\u001b[?25hRequirement already satisfied: blis<0.8.0,>=0.4.0 in /usr/local/lib/python3.10/dist-packages (from spacy<3.1.0,>=3.0.1->en-core-sci-sm==0.4.0) (0.7.10)\n",
            "Requirement already satisfied: wasabi<1.1.0,>=0.8.1 in /usr/local/lib/python3.10/dist-packages (from spacy<3.1.0,>=3.0.1->en-core-sci-sm==0.4.0) (0.10.1)\n",
            "Requirement already satisfied: srsly<3.0.0,>=2.4.1 in /usr/local/lib/python3.10/dist-packages (from spacy<3.1.0,>=3.0.1->en-core-sci-sm==0.4.0) (2.4.7)\n",
            "Requirement already satisfied: catalogue<2.1.0,>=2.0.4 in /usr/local/lib/python3.10/dist-packages (from spacy<3.1.0,>=3.0.1->en-core-sci-sm==0.4.0) (2.0.9)\n",
            "Collecting typer<0.4.0,>=0.3.0 (from spacy<3.1.0,>=3.0.1->en-core-sci-sm==0.4.0)\n",
            "  Downloading typer-0.3.2-py3-none-any.whl (21 kB)\n",
            "Requirement already satisfied: pathy>=0.3.5 in /usr/local/lib/python3.10/dist-packages (from spacy<3.1.0,>=3.0.1->en-core-sci-sm==0.4.0) (0.10.2)\n",
            "Requirement already satisfied: smart-open<7.0.0,>=5.2.1 in /usr/local/lib/python3.10/dist-packages (from spacy<3.1.0,>=3.0.1->en-core-sci-sm==0.4.0) (6.3.0)\n",
            "Requirement already satisfied: tqdm<5.0.0,>=4.38.0 in /usr/local/lib/python3.10/dist-packages (from spacy<3.1.0,>=3.0.1->en-core-sci-sm==0.4.0) (4.66.1)\n",
            "Requirement already satisfied: numpy>=1.15.0 in /usr/local/lib/python3.10/dist-packages (from spacy<3.1.0,>=3.0.1->en-core-sci-sm==0.4.0) (1.23.5)\n",
            "Requirement already satisfied: requests<3.0.0,>=2.13.0 in /usr/local/lib/python3.10/dist-packages (from spacy<3.1.0,>=3.0.1->en-core-sci-sm==0.4.0) (2.31.0)\n",
            "Collecting pydantic!=1.8,!=1.8.1,<1.9.0,>=1.7.4 (from spacy<3.1.0,>=3.0.1->en-core-sci-sm==0.4.0)\n",
            "  Downloading pydantic-1.8.2-py3-none-any.whl (126 kB)\n",
            "\u001b[2K     \u001b[90m━━━━━━━━━━━━━━━━━━━━━━━━━━━━━━━━━━━━━━\u001b[0m \u001b[32m126.0/126.0 kB\u001b[0m \u001b[31m12.3 MB/s\u001b[0m eta \u001b[36m0:00:00\u001b[0m\n",
            "\u001b[?25hRequirement already satisfied: jinja2 in /usr/local/lib/python3.10/dist-packages (from spacy<3.1.0,>=3.0.1->en-core-sci-sm==0.4.0) (3.1.2)\n",
            "Requirement already satisfied: setuptools in /usr/local/lib/python3.10/dist-packages (from spacy<3.1.0,>=3.0.1->en-core-sci-sm==0.4.0) (67.7.2)\n",
            "Requirement already satisfied: packaging>=20.0 in /usr/local/lib/python3.10/dist-packages (from spacy<3.1.0,>=3.0.1->en-core-sci-sm==0.4.0) (23.1)\n",
            "Requirement already satisfied: typing-extensions>=3.7.4.3 in /usr/local/lib/python3.10/dist-packages (from pydantic!=1.8,!=1.8.1,<1.9.0,>=1.7.4->spacy<3.1.0,>=3.0.1->en-core-sci-sm==0.4.0) (4.7.1)\n",
            "Requirement already satisfied: charset-normalizer<4,>=2 in /usr/local/lib/python3.10/dist-packages (from requests<3.0.0,>=2.13.0->spacy<3.1.0,>=3.0.1->en-core-sci-sm==0.4.0) (3.2.0)\n",
            "Requirement already satisfied: idna<4,>=2.5 in /usr/local/lib/python3.10/dist-packages (from requests<3.0.0,>=2.13.0->spacy<3.1.0,>=3.0.1->en-core-sci-sm==0.4.0) (3.4)\n",
            "Requirement already satisfied: urllib3<3,>=1.21.1 in /usr/local/lib/python3.10/dist-packages (from requests<3.0.0,>=2.13.0->spacy<3.1.0,>=3.0.1->en-core-sci-sm==0.4.0) (2.0.4)\n",
            "Requirement already satisfied: certifi>=2017.4.17 in /usr/local/lib/python3.10/dist-packages (from requests<3.0.0,>=2.13.0->spacy<3.1.0,>=3.0.1->en-core-sci-sm==0.4.0) (2023.7.22)\n",
            "Collecting click<7.2.0,>=7.1.1 (from typer<0.4.0,>=0.3.0->spacy<3.1.0,>=3.0.1->en-core-sci-sm==0.4.0)\n",
            "  Downloading click-7.1.2-py2.py3-none-any.whl (82 kB)\n",
            "\u001b[2K     \u001b[90m━━━━━━━━━━━━━━━━━━━━━━━━━━━━━━━━━━━━━━━━\u001b[0m \u001b[32m82.8/82.8 kB\u001b[0m \u001b[31m6.2 MB/s\u001b[0m eta \u001b[36m0:00:00\u001b[0m\n",
            "\u001b[?25hRequirement already satisfied: MarkupSafe>=2.0 in /usr/local/lib/python3.10/dist-packages (from jinja2->spacy<3.1.0,>=3.0.1->en-core-sci-sm==0.4.0) (2.1.3)\n",
            "Building wheels for collected packages: en-core-sci-sm\n",
            "  Building wheel for en-core-sci-sm (setup.py) ... \u001b[?25l\u001b[?25hdone\n",
            "  Created wheel for en-core-sci-sm: filename=en_core_sci_sm-0.4.0-py3-none-any.whl size=15660332 sha256=e67c144a00e6a5d3f9953de598ce1881b654e372b77b40bf1283ae8f7fc68ed7\n",
            "  Stored in directory: /root/.cache/pip/wheels/d6/5d/cd/0752b58bc0a19cb9465c6db6e7a4e7c490c6f6cece8f8f6bcf\n",
            "Successfully built en-core-sci-sm\n",
            "Installing collected packages: pydantic, click, typer, thinc, spacy, en-core-sci-sm\n",
            "  Attempting uninstall: pydantic\n",
            "    Found existing installation: pydantic 1.10.12\n",
            "    Uninstalling pydantic-1.10.12:\n",
            "      Successfully uninstalled pydantic-1.10.12\n",
            "  Attempting uninstall: click\n",
            "    Found existing installation: click 8.1.7\n",
            "    Uninstalling click-8.1.7:\n",
            "      Successfully uninstalled click-8.1.7\n",
            "  Attempting uninstall: typer\n",
            "    Found existing installation: typer 0.7.0\n",
            "    Uninstalling typer-0.7.0:\n",
            "      Successfully uninstalled typer-0.7.0\n",
            "  Attempting uninstall: thinc\n",
            "    Found existing installation: thinc 8.1.12\n",
            "    Uninstalling thinc-8.1.12:\n",
            "      Successfully uninstalled thinc-8.1.12\n",
            "  Attempting uninstall: spacy\n",
            "    Found existing installation: spacy 3.4.4\n",
            "    Uninstalling spacy-3.4.4:\n",
            "      Successfully uninstalled spacy-3.4.4\n",
            "\u001b[31mERROR: pip's dependency resolver does not currently take into account all the packages that are installed. This behaviour is the source of the following dependency conflicts.\n",
            "fiona 1.9.4.post1 requires click~=8.0, but you have click 7.1.2 which is incompatible.\n",
            "flask 2.2.5 requires click>=8.0, but you have click 7.1.2 which is incompatible.\n",
            "dask 2023.8.1 requires click>=8.0, but you have click 7.1.2 which is incompatible.\n",
            "distributed 2023.8.1 requires click>=8.0, but you have click 7.1.2 which is incompatible.\n",
            "en-core-web-sm 3.6.0 requires spacy<3.7.0,>=3.6.0, but you have spacy 3.0.9 which is incompatible.\n",
            "inflect 7.0.0 requires pydantic>=1.9.1, but you have pydantic 1.8.2 which is incompatible.\n",
            "pip-tools 6.13.0 requires click>=8, but you have click 7.1.2 which is incompatible.\n",
            "scispacy 0.5.2 requires spacy<3.5.0,>=3.4.0, but you have spacy 3.0.9 which is incompatible.\u001b[0m\u001b[31m\n",
            "\u001b[0mSuccessfully installed click-7.1.2 en-core-sci-sm-0.4.0 pydantic-1.8.2 spacy-3.0.9 thinc-8.0.17 typer-0.3.2\n"
          ]
        },
        {
          "output_type": "display_data",
          "data": {
            "application/vnd.colab-display-data+json": {
              "pip_warning": {
                "packages": [
                  "click",
                  "pydantic",
                  "spacy",
                  "thinc"
                ]
              }
            }
          },
          "metadata": {}
        }
      ]
    },
    {
      "cell_type": "code",
      "source": [
        "import spacy\n",
        "import scispacy\n",
        "from spacy import displacy\n",
        "from spacy.matcher import PhraseMatcher\n",
        "from spacy.tokens import Span\n",
        "from negspacy.negation import Negex"
      ],
      "metadata": {
        "id": "r4bmd2gWhpBK"
      },
      "execution_count": 10,
      "outputs": []
    },
    {
      "cell_type": "code",
      "source": [
        "nlp0 = spacy.load(\"en_core_sci_sm\")\n",
        "# nlp1 = spacy.load(\"en_ner_bc5cdr_md\")"
      ],
      "metadata": {
        "id": "EoE5z1As2TPY"
      },
      "execution_count": 14,
      "outputs": []
    },
    {
      "cell_type": "code",
      "source": [
        "clinical_note = \"Patient resting in bed. Patient given azithromycin without any difficulty. Patient has audible wheezing, \\\n",
        "states chest tightness. No evidence of hypertension.\\\n",
        "Patient denies nausea at this time. zofran declined. Patient is also having intermittent sweating associated with pneumonia. \\\n",
        "Patient refused pain but tylenol still given. Neither substance abuse nor alcohol use however cocaine once used in the last year. Alcoholism unlikely.\\\n",
        "Patient has headache and fever. Patient is not diabetic. \\\n",
        "No signs of diarrhea. Lab reports confirm lymphocytopenia. Cardaic rhythm is Sinus bradycardia. \\\n",
        "Patient also has a history of cardiac injury. No kidney injury reported. No abnormal rashes or ulcers. \\\n",
        "Patient might not have liver disease. Confirmed absence of hemoptysis. Although patient has severe pneumonia and fever \\\n",
        ", test reports are negative for COVID-19 infection. COVID-19 viral infection absent.\""
      ],
      "metadata": {
        "id": "st8dzgT-4OGs"
      },
      "execution_count": 16,
      "outputs": []
    },
    {
      "cell_type": "code",
      "source": [
        "# Lemmatizing the notes to capture all forms of negation (e.g., deny: denies, denying)\n",
        "def lemmatize(note, nlp):\n",
        "    doc = nlp(note)\n",
        "    lemNote = [wd.lemma_ for wd in doc]\n",
        "    return \" \".join(lemNote)\n",
        "\n",
        "# Assuming you have a clinical note text stored in 'clinical_note'\n",
        "# clinical_note = \"Your clinical note text goes here.\"\n",
        "\n",
        "# Create a spaCy language model (nlp0) for lemmatization\n",
        "nlp0 = spacy.load(\"en_core_sci_sm\")\n",
        "\n",
        "# Lemmatize the clinical note\n",
        "lem_clinical_note = lemmatize(clinical_note, nlp0)\n",
        "\n",
        "# Creating a doc object using the BC5CDR model (nlp1)\n",
        "nlp0 = spacy.load(\"en_core_sci_sm\")\n",
        "doc = nlp0(lem_clinical_note)\n"
      ],
      "metadata": {
        "id": "qUMA285o2T4N",
        "outputId": "7351000c-4148-4e71-bb2d-439505523b1b",
        "colab": {
          "base_uri": "https://localhost:8080/"
        }
      },
      "execution_count": 21,
      "outputs": [
        {
          "output_type": "stream",
          "name": "stderr",
          "text": [
            "/usr/local/lib/python3.10/dist-packages/spacy/util.py:910: UserWarning: [W095] Model 'en_core_sci_sm' (0.4.0) was trained with spaCy v3.0.1 and may not be 100% compatible with the current version (3.6.1). If you see errors or degraded performance, download a newer compatible model or retrain your custom model with the current spaCy version. For more details and available updates, run: python -m spacy validate\n",
            "  \n"
          ]
        }
      ]
    },
    {
      "cell_type": "code",
      "source": [
        "#function to modify options for displacy NER visualization\n",
        "def get_entity_options():\n",
        "    entities = [\"DISEASE\", \"CHEMICAL\", \"NEG_ENTITY\"]\n",
        "    colors = {'DISEASE': 'linear-gradient(180deg, #66ffcc, #abf763)', 'CHEMICAL': 'linear-gradient(90deg, #aa9cfc, #fc9ce7)', \"NEG_ENTITY\":'linear-gradient(90deg, #ffff66, #ff6600)'}\n",
        "    options = {\"ents\": entities, \"colors\": colors}\n",
        "    return options\n",
        "options = get_entity_options()\n",
        "#visualizing identified Named Entities in clinical input text\n",
        "displacy.render(doc, style='ent', options=options)"
      ],
      "metadata": {
        "id": "10ehB7TQ2XnV",
        "outputId": "7963fa41-1bd6-4c22-ecd4-40b7aba0b036",
        "colab": {
          "base_uri": "https://localhost:8080/",
          "height": 35
        }
      },
      "execution_count": 22,
      "outputs": [
        {
          "output_type": "execute_result",
          "data": {
            "text/plain": [
              "'<div class=\"entities\" style=\"line-height: 2.5; direction: ltr\">your clinical note text go here .</div>'"
            ],
            "application/vnd.google.colaboratory.intrinsic+json": {
              "type": "string"
            }
          },
          "metadata": {},
          "execution_count": 22
        }
      ]
    },
    {
      "cell_type": "code",
      "source": [
        "import spacy\n",
        "from negspacy.negex import Negex\n",
        "\n",
        "# Adding a new pipeline component to identify negation\n",
        "def neg_model(nlp_model):\n",
        "    nlp = spacy.load(nlp_model, disable=['parser'])\n",
        "    nlp.add_pipe('sentencizer')\n",
        "    negex = Negex(nlp, name=\"negex\", neg_termset=None, ent_types=None, extension_name=None, chunk_prefix=[\"no\", \"none\", \"not\", \"nor\", \"without\"])\n",
        "    nlp.add_pipe(negex, last=True)  # Add the 'negex' component last in the pipeline\n",
        "    return nlp\n",
        "\n",
        "# Function for handling negation\n",
        "def negation_handling(nlp_model, note, neg_model):\n",
        "    results = []\n",
        "    nlp = neg_model(nlp_model)\n",
        "    note = note.split(\".\")  # Sentence tokenizing based on delimiter\n",
        "    note = [n.strip() for n in note]  # Removing extra spaces at the beginning and end of sentences\n",
        "    for t in note:\n",
        "        doc = nlp(t)\n",
        "        for e in doc.ents:\n",
        "            rs = str(e._.negex)\n",
        "            if rs == \"True\":\n",
        "                results.append(e.text)\n",
        "    return results\n",
        "\n",
        "# List of negative concepts from clinical note identified by negspacy\n",
        "results0 = negation_handling(\"en_core_sci_sm\", lem_clinical_note, neg_model)\n"
      ],
      "metadata": {
        "id": "SjWC1sf32XvB",
        "outputId": "eb90fdca-3118-40ba-dd7e-0ce49cb42c0f",
        "colab": {
          "base_uri": "https://localhost:8080/",
          "height": 383
        }
      },
      "execution_count": 27,
      "outputs": [
        {
          "output_type": "error",
          "ename": "ModuleNotFoundError",
          "evalue": "ignored",
          "traceback": [
            "\u001b[0;31m---------------------------------------------------------------------------\u001b[0m",
            "\u001b[0;31mModuleNotFoundError\u001b[0m                       Traceback (most recent call last)",
            "\u001b[0;32m<ipython-input-27-2628e2c47c75>\u001b[0m in \u001b[0;36m<cell line: 2>\u001b[0;34m()\u001b[0m\n\u001b[1;32m      1\u001b[0m \u001b[0;32mimport\u001b[0m \u001b[0mspacy\u001b[0m\u001b[0;34m\u001b[0m\u001b[0;34m\u001b[0m\u001b[0m\n\u001b[0;32m----> 2\u001b[0;31m \u001b[0;32mfrom\u001b[0m \u001b[0mnegspacy\u001b[0m\u001b[0;34m.\u001b[0m\u001b[0mnegex\u001b[0m \u001b[0;32mimport\u001b[0m \u001b[0mNegex\u001b[0m\u001b[0;34m\u001b[0m\u001b[0;34m\u001b[0m\u001b[0m\n\u001b[0m\u001b[1;32m      3\u001b[0m \u001b[0;34m\u001b[0m\u001b[0m\n\u001b[1;32m      4\u001b[0m \u001b[0;31m# Adding a new pipeline component to identify negation\u001b[0m\u001b[0;34m\u001b[0m\u001b[0;34m\u001b[0m\u001b[0m\n\u001b[1;32m      5\u001b[0m \u001b[0;32mdef\u001b[0m \u001b[0mneg_model\u001b[0m\u001b[0;34m(\u001b[0m\u001b[0mnlp_model\u001b[0m\u001b[0;34m)\u001b[0m\u001b[0;34m:\u001b[0m\u001b[0;34m\u001b[0m\u001b[0;34m\u001b[0m\u001b[0m\n",
            "\u001b[0;31mModuleNotFoundError\u001b[0m: No module named 'negspacy.negex'",
            "",
            "\u001b[0;31m---------------------------------------------------------------------------\u001b[0;32m\nNOTE: If your import is failing due to a missing package, you can\nmanually install dependencies using either !pip or !apt.\n\nTo view examples of installing some common dependencies, click the\n\"Open Examples\" button below.\n\u001b[0;31m---------------------------------------------------------------------------\u001b[0m\n"
          ],
          "errorDetails": {
            "actions": [
              {
                "action": "open_url",
                "actionText": "Open Examples",
                "url": "/notebooks/snippets/importing_libraries.ipynb"
              }
            ]
          }
        }
      ]
    },
    {
      "cell_type": "code",
      "source": [
        "#function to identify span objects of matched megative phrases from clinical note\n",
        "def match(nlp,terms,label):\n",
        "        patterns = [nlp.make_doc(text) for text in terms]\n",
        "        matcher = PhraseMatcher(nlp.vocab)\n",
        "        matcher.add(label, None, *patterns)\n",
        "        return matcher\n",
        "#replacing the labels for identified negative entities\n",
        "def overwrite_ent_lbl(matcher, doc):\n",
        "    matches = matcher(doc)\n",
        "    seen_tokens = set()\n",
        "    new_entities = []\n",
        "    entities = doc.ents\n",
        "    for match_id, start, end in matches:\n",
        "        if start not in seen_tokens and end - 1 not in seen_tokens:\n",
        "            new_entities.append(Span(doc, start, end, label=match_id))\n",
        "            entities = [\n",
        "                e for e in entities if not (e.start < end and e.end > start)\n",
        "            ]\n",
        "            seen_tokens.update(range(start, end))\n",
        "doc.ents = tuple(entities) + tuple(new_entities)\n",
        "    return doc\n",
        "matcher = match(nlp1, results0,\"NEG_ENTITY\")\n",
        "#doc0: new doc object with added \"NEG_ENTITY label\"\n",
        "doc0 = overwrite_ent_lbl(matcher,doc)\n",
        "#visualizing identified Named Entities in clinical input text\n",
        "displacy.render(doc0, style='ent', options=options)"
      ],
      "metadata": {
        "id": "3DhKc1o92cXs"
      },
      "execution_count": null,
      "outputs": []
    },
    {
      "cell_type": "code",
      "source": [
        "#function to add custom negation terms to the existing model\n",
        "def neg_model2(nlp_model):\n",
        "    nlp = spacy.load(nlp_model, disable = ['parser'])\n",
        "    nlp.add_pipe(nlp.create_pipe('sentencizer'))\n",
        "    negex = Negex(nlp)\n",
        "\n",
        "    negex.preceding_patterns += [nlp('deny'), nlp('refuse'), nlp('neither'), nlp('nor')]\n",
        "    negex.following_patterns += [nlp('absent'), nlp('deny'), nlp('decline')]\n",
        "    preceding_update  = [i.text for i in negex.preceding_patterns]\n",
        "    following_update = [i.text for i in negex.following_patterns]\n",
        "\n",
        "    negex = Negex(nlp, preceding_negations = preceding_update, following_negations= following_update)\n",
        "    nlp.add_pipe(negex)\n",
        "    return nlp\n",
        "#updated list of all the negative concepts from clinical note identified by negspacy\n",
        "results1 = negation_handling(\"en_ner_bc5cdr_md\", lem_clinical_note, neg_model2)\n",
        "matcher = match(nlp1, results1,\"NEG_ENTITY\")\n",
        "#doc1: new doc object with added custom concepts for \"NEG_ENTITY label\"\n",
        "doc1 = overwrite_ent_lbl(matcher,doc)\n",
        "#visualizing identified Named Entities in clinical input text\n",
        "displacy.render(doc, style='ent', options=options)"
      ],
      "metadata": {
        "id": "_4ZqkctC2cgk"
      },
      "execution_count": null,
      "outputs": []
    },
    {
      "cell_type": "code",
      "source": [],
      "metadata": {
        "id": "O1lOimJq2i5X"
      },
      "execution_count": null,
      "outputs": []
    },
    {
      "cell_type": "code",
      "source": [],
      "metadata": {
        "id": "_5kZ1JmY2jAd"
      },
      "execution_count": null,
      "outputs": []
    },
    {
      "cell_type": "code",
      "source": [],
      "metadata": {
        "id": "vIQV62JH2jIZ"
      },
      "execution_count": null,
      "outputs": []
    },
    {
      "cell_type": "code",
      "source": [],
      "metadata": {
        "id": "godpUVe12jTV"
      },
      "execution_count": null,
      "outputs": []
    },
    {
      "cell_type": "code",
      "source": [
        "# Save the updated dataframe to a new CSV file\n",
        "df.to_csv(\"your_updated_dataset.csv\", index=False)"
      ],
      "metadata": {
        "id": "EKHa4DdFDKEQ"
      },
      "execution_count": null,
      "outputs": []
    },
    {
      "cell_type": "code",
      "source": [],
      "metadata": {
        "id": "k0w2mRZc1tPK"
      },
      "execution_count": null,
      "outputs": []
    }
  ]
}