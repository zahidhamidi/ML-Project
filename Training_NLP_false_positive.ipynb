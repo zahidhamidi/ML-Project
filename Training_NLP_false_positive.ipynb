{
  "nbformat": 4,
  "nbformat_minor": 0,
  "metadata": {
    "colab": {
      "provenance": [],
      "authorship_tag": "ABX9TyP/3fdi4a6ZvlZ4cW2vxLN/",
      "include_colab_link": true
    },
    "kernelspec": {
      "name": "python3",
      "display_name": "Python 3"
    },
    "language_info": {
      "name": "python"
    }
  },
  "cells": [
    {
      "cell_type": "markdown",
      "metadata": {
        "id": "view-in-github",
        "colab_type": "text"
      },
      "source": [
        "<a href=\"https://colab.research.google.com/github/zahidhamidi/ML-Project/blob/main/Training_NLP_false_positive.ipynb\" target=\"_parent\"><img src=\"https://colab.research.google.com/assets/colab-badge.svg\" alt=\"Open In Colab\"/></a>"
      ]
    },
    {
      "cell_type": "code",
      "execution_count": 1,
      "metadata": {
        "id": "x6orFXzig8Ru"
      },
      "outputs": [],
      "source": [
        "import numpy as np\n",
        "import tensorflow as tf\n",
        "import pandas as pd\n",
        "\n",
        "# Set random seeds for reproducibility\n",
        "np.random.seed(42)\n",
        "tf.random.set_seed(42)\n",
        "\n",
        "# Clear the TensorFlow session and reset the computational graph\n",
        "tf.keras.backend.clear_session()"
      ]
    },
    {
      "cell_type": "code",
      "source": [
        "# Specify the path to the CSV file\n",
        "csv_file_path = '/content/true_positive_experimentation.csv'\n",
        "\n",
        "# Load the CSV file into a DataFrame\n",
        "balanced_df = pd.read_csv(csv_file_path)"
      ],
      "metadata": {
        "id": "A9lAT9FTinQ5"
      },
      "execution_count": 2,
      "outputs": []
    },
    {
      "cell_type": "code",
      "source": [
        "import pandas as pd\n",
        "import matplotlib.pyplot as plt\n",
        "import seaborn as sns\n",
        "from sklearn.model_selection import train_test_split\n",
        "from sklearn.utils import shuffle\n",
        "\n",
        "# Assuming you already have your 'balanced_df' DataFrame\n",
        "\n",
        "# Create a bar plot to visualize the class distribution in the original DataFrame\n",
        "plt.figure(figsize=(10, 5))\n",
        "sns.countplot(data=balanced_df, x=\"label_code\")\n",
        "plt.title(\"Class Distribution in Original DataFrame\")\n",
        "plt.xlabel(\"Class (0: No, 1: Yes)\")\n",
        "plt.ylabel(\"Count\")\n",
        "plt.show()\n",
        "\n",
        "# Separate the data into two DataFrames based on the label_code\n",
        "df_class_0 = balanced_df[balanced_df[\"label_code\"] == 0]\n",
        "df_class_1 = balanced_df[balanced_df[\"label_code\"] == 1]\n",
        "\n",
        "# Shuffle the DataFrames\n",
        "df_class_0 = shuffle(df_class_0, random_state=42)\n",
        "df_class_1 = shuffle(df_class_1, random_state=42)\n",
        "\n",
        "# Split each class into train, validation, and test sets\n",
        "train_frac = 0.6\n",
        "val_frac = 0.2\n",
        "\n",
        "# Split class 0\n",
        "train_size_class_0 = int(train_frac * len(df_class_0))\n",
        "val_size_class_0 = int(val_frac * len(df_class_0))\n",
        "\n",
        "train_class_0 = df_class_0[:train_size_class_0]\n",
        "val_class_0 = df_class_0[train_size_class_0:train_size_class_0 + val_size_class_0]\n",
        "test_class_0 = df_class_0[train_size_class_0 + val_size_class_0:]\n",
        "\n",
        "# Split class 1\n",
        "train_size_class_1 = int(train_frac * len(df_class_1))\n",
        "val_size_class_1 = int(val_frac * len(df_class_1))\n",
        "\n",
        "train_class_1 = df_class_1[:train_size_class_1]\n",
        "val_class_1 = df_class_1[train_size_class_1:train_size_class_1 + val_size_class_1]\n",
        "test_class_1 = df_class_1[train_size_class_1 + val_size_class_1:]\n",
        "\n",
        "# Concatenate the balanced train, validation, and test sets\n",
        "train_df = pd.concat([train_class_0, train_class_1])\n",
        "val_df = pd.concat([val_class_0, val_class_1])\n",
        "test_df = pd.concat([test_class_0, test_class_1])\n",
        "\n",
        "# Shuffle the combined DataFrames\n",
        "train_df = shuffle(train_df, random_state=42)\n",
        "val_df = shuffle(val_df, random_state=42)\n",
        "test_df = shuffle(test_df, random_state=42)\n",
        "\n",
        "# Extract examples and labels from the split DataFrames\n",
        "train_examples = train_df[\"doc_text_original\"]\n",
        "train_labels = train_df[\"label_code\"]\n",
        "\n",
        "val_examples = val_df[\"doc_text_original\"]\n",
        "val_labels = val_df[\"label_code\"]\n",
        "\n",
        "test_examples = test_df[\"doc_text_original\"]\n",
        "test_labels = test_df[\"label_code\"]\n",
        "\n",
        "# Now you have balanced train, validation, and test sets with equal distribution of classes.\n",
        "\n",
        "# Create a DataFrame to store class distribution in train, val, and test sets\n",
        "class_distribution_df = pd.DataFrame({\n",
        "    \"Train\": train_df[\"label_code\"].value_counts().sort_index(),\n",
        "    \"Validation\": val_df[\"label_code\"].value_counts().sort_index(),\n",
        "    \"Test\": test_df[\"label_code\"].value_counts().sort_index()\n",
        "})\n",
        "\n",
        "# Create a clustered bar plot to visualize the class distribution with labels\n",
        "plt.figure(figsize=(10, 5))\n",
        "ax = class_distribution_df.plot(kind=\"bar\", stacked=True)\n",
        "plt.title(\"Class Distribution in Train, Validation, and Test Datasets\")\n",
        "plt.xlabel(\"Class (0: No, 1: Yes)\")\n",
        "plt.ylabel(\"Count\")\n",
        "\n",
        "# Add labels to the bars\n",
        "for p in ax.patches:\n",
        "    width, height = p.get_width(), p.get_height()\n",
        "    x, y = p.get_xy()\n",
        "    ax.annotate(f\"{int(height)}\", (x + width/2, y + height), ha=\"center\")\n",
        "\n",
        "plt.show()"
      ],
      "metadata": {
        "colab": {
          "base_uri": "https://localhost:8080/",
          "height": 954
        },
        "id": "ZNFJHZf_hAH-",
        "outputId": "3ae40ee1-7936-4c77-91c1-d9c386444db4"
      },
      "execution_count": 3,
      "outputs": [
        {
          "output_type": "display_data",
          "data": {
            "text/plain": [
              "<Figure size 1000x500 with 1 Axes>"
            ],
            "image/png": "[encoded data removed]"
          },
          "metadata": {}
        },
        {
          "output_type": "display_data",
          "data": {
            "text/plain": [
              "<Figure size 1000x500 with 0 Axes>"
            ]
          },
          "metadata": {}
        },
        {
          "output_type": "display_data",
          "data": {
            "text/plain": [
              "<Figure size 640x480 with 1 Axes>"
            ],
            "image/png": "[encoded data removed]"
          },
          "metadata": {}
        }
      ]
    },
    {
      "cell_type": "markdown",
      "source": [
        "Transfer Model"
      ],
      "metadata": {
        "id": "datNnzE3libY"
      }
    },
    {
      "cell_type": "code",
      "source": [
        "\"\"\"\n",
        "model = \"https://tfhub.dev/google/nnlm-en-dim50/2\"\n",
        "hub_layer = hub.KerasLayer(model, input_shape=[], dtype=tf.string, trainable=False)\n",
        "\n",
        "model = tf.keras.Sequential()\n",
        "model.add(hub_layer)\n",
        "model.add(tf.keras.layers.Dense(16, activation='relu'))\n",
        "model.add(tf.keras.layers.Dense(1))\n",
        "\n",
        "model.summary()\n",
        "\"\"\""
      ],
      "metadata": {
        "colab": {
          "base_uri": "https://localhost:8080/",
          "height": 53
        },
        "id": "hY_FU673hAPV",
        "outputId": "4b32b310-8646-4f79-8b19-76d2b4211d5d"
      },
      "execution_count": 4,
      "outputs": [
        {
          "output_type": "execute_result",
          "data": {
            "text/plain": [
              "'\\nmodel = \"https://tfhub.dev/google/nnlm-en-dim50/2\"\\nhub_layer = hub.KerasLayer(model, input_shape=[], dtype=tf.string, trainable=False)\\n\\nmodel = tf.keras.Sequential()\\nmodel.add(hub_layer)\\nmodel.add(tf.keras.layers.Dense(16, activation=\\'relu\\'))\\nmodel.add(tf.keras.layers.Dense(1))\\n\\nmodel.summary()\\n'"
            ],
            "application/vnd.google.colaboratory.intrinsic+json": {
              "type": "string"
            }
          },
          "metadata": {},
          "execution_count": 4
        }
      ]
    },
    {
      "cell_type": "markdown",
      "source": [
        "Model Training and Selection"
      ],
      "metadata": {
        "id": "MXSyCw-WlmD5"
      }
    },
    {
      "cell_type": "code",
      "source": [
        "from tensorflow.keras.preprocessing.text import Tokenizer\n",
        "from tensorflow.keras.preprocessing.sequence import pad_sequences\n",
        "\n",
        "# Define the maximum sequence length and vocabulary size based on your data\n",
        "max_sequence_length = 100  # Adjust as needed\n",
        "vocab_size = 10000  # Adjust as needed\n",
        "\n",
        "# Tokenize and pad your text data\n",
        "tokenizer = Tokenizer(num_words=vocab_size)  # vocab_size is the size of your vocabulary\n",
        "tokenizer.fit_on_texts(train_examples)\n",
        "\n",
        "train_sequences = tokenizer.texts_to_sequences(train_examples)\n",
        "val_sequences = tokenizer.texts_to_sequences(val_examples)\n",
        "test_sequences = tokenizer.texts_to_sequences(test_examples)\n",
        "\n",
        "test_data = pad_sequences(test_sequences, maxlen=max_sequence_length)\n",
        "train_data = pad_sequences(train_sequences, maxlen=max_sequence_length)\n",
        "val_data = pad_sequences(val_sequences, maxlen=max_sequence_length)\n"
      ],
      "metadata": {
        "id": "opaEByDsmeNQ"
      },
      "execution_count": 5,
      "outputs": []
    },
    {
      "cell_type": "code",
      "source": [
        "\"\"\"\n",
        "import tensorflow as tf\n",
        "from tensorflow.keras.layers import Embedding, LSTM, Dense\n",
        "from tensorflow.keras.models import Sequential\n",
        "\n",
        "# Define the maximum sequence length and vocabulary size based on your data\n",
        "max_sequence_length = 100  # Adjust as needed\n",
        "vocab_size = 10000  # Adjust as needed\n",
        "\n",
        "# Create the model\n",
        "model = Sequential()\n",
        "\n",
        "# Add an Embedding layer to convert text to dense vectors\n",
        "model.add(Embedding(input_dim=vocab_size, output_dim=128, input_length=max_sequence_length))\n",
        "\n",
        "# Add an LSTM layer to process the sequence data\n",
        "model.add(LSTM(units=64, return_sequences=False))  # Change return_sequences to True for stacked LSTM\n",
        "\n",
        "# Add a Dense layer for binary classification (sigmoid activation for binary classification)\n",
        "model.add(Dense(units=1, activation='sigmoid'))\n",
        "\n",
        "\n",
        "\n",
        "# Compile the model\n",
        "model.compile(optimizer='adam', loss='binary_crossentropy', metrics=['accuracy'])\n",
        "\n",
        "# Print a summary of the model architecture\n",
        "model.summary()\n",
        "\"\"\""
      ],
      "metadata": {
        "colab": {
          "base_uri": "https://localhost:8080/",
          "height": 105
        },
        "id": "wnVO0A5glec4",
        "outputId": "22af4724-0edb-4f71-dd3e-d59618789407"
      },
      "execution_count": 6,
      "outputs": [
        {
          "output_type": "execute_result",
          "data": {
            "text/plain": [
              "\"\\nimport tensorflow as tf\\nfrom tensorflow.keras.layers import Embedding, LSTM, Dense\\nfrom tensorflow.keras.models import Sequential\\n\\n# Define the maximum sequence length and vocabulary size based on your data\\nmax_sequence_length = 100  # Adjust as needed\\nvocab_size = 10000  # Adjust as needed\\n\\n# Create the model\\nmodel = Sequential()\\n\\n# Add an Embedding layer to convert text to dense vectors\\nmodel.add(Embedding(input_dim=vocab_size, output_dim=128, input_length=max_sequence_length))\\n\\n# Add an LSTM layer to process the sequence data\\nmodel.add(LSTM(units=64, return_sequences=False))  # Change return_sequences to True for stacked LSTM\\n\\n# Add a Dense layer for binary classification (sigmoid activation for binary classification)\\nmodel.add(Dense(units=1, activation='sigmoid'))\\n\\n\\n\\n# Compile the model\\nmodel.compile(optimizer='adam', loss='binary_crossentropy', metrics=['accuracy'])\\n\\n# Print a summary of the model architecture\\nmodel.summary()\\n\""
            ],
            "application/vnd.google.colaboratory.intrinsic+json": {
              "type": "string"
            }
          },
          "metadata": {},
          "execution_count": 6
        }
      ]
    },
    {
      "cell_type": "code",
      "source": [
        "\"\"\"\n",
        "# Bi-directional LSTM layer\n",
        "\n",
        "import tensorflow as tf\n",
        "from tensorflow.keras.layers import Embedding, Bidirectional, LSTM, Dense\n",
        "from tensorflow.keras.models import Sequential\n",
        "\n",
        "# Define the maximum sequence length and vocabulary size based on your data\n",
        "max_sequence_length = 100  # Adjust as needed\n",
        "vocab_size = 10000  # Adjust as needed\n",
        "\n",
        "# Create the model\n",
        "model = Sequential()\n",
        "\n",
        "# Add an Embedding layer to convert text to dense vectors\n",
        "model.add(Embedding(input_dim=vocab_size, output_dim=128, input_length=max_sequence_length))\n",
        "\n",
        "# Add a Bidirectional LSTM layer\n",
        "model.add(Bidirectional(LSTM(units=64, return_sequences=False)))  # Change return_sequences to True for stacked LSTM\n",
        "\n",
        "# Add a Dense layer for binary classification (sigmoid activation for binary classification)\n",
        "model.add(Dense(units=1, activation='sigmoid'))\n",
        "\n",
        "# Compile the model\n",
        "model.compile(optimizer='adam', loss='binary_crossentropy', metrics=['accuracy'])\n",
        "\n",
        "# Print a summary of the model architecture\n",
        "model.summary()\n",
        "\"\"\""
      ],
      "metadata": {
        "colab": {
          "base_uri": "https://localhost:8080/",
          "height": 105
        },
        "id": "7fKT-5gdo-OX",
        "outputId": "fb9173e5-ba84-410e-ec60-4b783a84ae67"
      },
      "execution_count": 7,
      "outputs": [
        {
          "output_type": "execute_result",
          "data": {
            "text/plain": [
              "\"\\n# Bi-directional LSTM layer\\n\\nimport tensorflow as tf\\nfrom tensorflow.keras.layers import Embedding, Bidirectional, LSTM, Dense\\nfrom tensorflow.keras.models import Sequential\\n\\n# Define the maximum sequence length and vocabulary size based on your data\\nmax_sequence_length = 100  # Adjust as needed\\nvocab_size = 10000  # Adjust as needed\\n\\n# Create the model\\nmodel = Sequential()\\n\\n# Add an Embedding layer to convert text to dense vectors\\nmodel.add(Embedding(input_dim=vocab_size, output_dim=128, input_length=max_sequence_length))\\n\\n# Add a Bidirectional LSTM layer\\nmodel.add(Bidirectional(LSTM(units=64, return_sequences=False)))  # Change return_sequences to True for stacked LSTM\\n\\n# Add a Dense layer for binary classification (sigmoid activation for binary classification)\\nmodel.add(Dense(units=1, activation='sigmoid'))\\n\\n# Compile the model\\nmodel.compile(optimizer='adam', loss='binary_crossentropy', metrics=['accuracy'])\\n\\n# Print a summary of the model architecture\\nmodel.summary()\\n\""
            ],
            "application/vnd.google.colaboratory.intrinsic+json": {
              "type": "string"
            }
          },
          "metadata": {},
          "execution_count": 7
        }
      ]
    },
    {
      "cell_type": "code",
      "source": [
        "import pandas as pd\n",
        "import numpy as np\n",
        "import tensorflow as tf\n",
        "from tensorflow.keras.layers import Embedding, LSTM, Dense, Input, Concatenate\n",
        "from tensorflow.keras.models import Model\n",
        "from tensorflow.keras.preprocessing.text import Tokenizer\n",
        "from tensorflow.keras.preprocessing.sequence import pad_sequences\n",
        "\n",
        "# Assuming you have a dataset where 'sentence' is the text data, and 'negation' is the label (1 for negated, 0 for non-negated)\n",
        "\n",
        "# Tokenize and pad your text data\n",
        "tokenizer = Tokenizer()\n",
        "tokenizer.fit_on_texts(balanced_df['doc_text_original'])\n",
        "\n",
        "sequences = tokenizer.texts_to_sequences(balanced_df['doc_text_original'])\n",
        "max_sequence_length = 100  # Adjust as needed\n",
        "data = pad_sequences(sequences, maxlen=max_sequence_length)\n",
        "\n",
        "# Add binary features for negation keywords\n",
        "negation_keywords = [\"no\", \"not\", \"without\"]  # Add more if needed\n",
        "negation_features = np.zeros((len(balanced_df), len(negation_keywords)), dtype=np.int32)\n",
        "\n",
        "for i, sentence in enumerate(balanced_df['doc_text_original']):\n",
        "    for j, keyword in enumerate(negation_keywords):\n",
        "        if keyword in sentence:\n",
        "            negation_features[i, j] = 1\n",
        "\n",
        "train_indices = np.arange(len(train_data))\n",
        "val_indices = np.arange(len(val_data))\n",
        "test_indices = np.arange(len(test_data))\n",
        "\n",
        "\n",
        "train_negation_features = negation_features[train_indices]\n",
        "val_negation_features = negation_features[val_indices]\n",
        "test_negation_features = negation_features[test_indices]\n",
        "\n",
        "# Define a function to create the model\n",
        "def create_model():\n",
        "    text_input = Input(shape=(max_sequence_length,))\n",
        "    negation_input = Input(shape=(len(negation_keywords),))\n",
        "    embedding_layer = Embedding(input_dim=len(tokenizer.word_index) + 1, output_dim=128, input_length=max_sequence_length)(text_input)\n",
        "    lstm_layer = LSTM(units=64)(embedding_layer)\n",
        "    combined = Concatenate()([lstm_layer, negation_input])\n",
        "    output = Dense(1, activation='sigmoid')(combined)\n",
        "\n",
        "    model = Model(inputs=[text_input, negation_input], outputs=output)\n",
        "    model.compile(optimizer='adam', loss='binary_crossentropy', metrics=['accuracy'])\n",
        "\n",
        "    return model\n",
        "\n",
        "# Create the model\n",
        "model = create_model()\n",
        "\n",
        "# Train the model\n",
        "history = model.fit(\n",
        "    x=[train_data, train_negation_features],\n",
        "    y=train_labels,\n",
        "    epochs=40,\n",
        "    batch_size=512,\n",
        "    validation_data=([val_data, val_negation_features], val_labels),\n",
        "    verbose=1\n",
        ")\n",
        "\n",
        "# Evaluate the model on test data\n",
        "results = model.evaluate([test_data, test_negation_features], test_labels)\n",
        "print(results)"
      ],
      "metadata": {
        "colab": {
          "base_uri": "https://localhost:8080/"
        },
        "id": "0Et0Vsaer769",
        "outputId": "e448c27f-ef7c-491c-d936-ed13fc666d1a"
      },
      "execution_count": null,
      "outputs": [
        {
          "output_type": "stream",
          "name": "stdout",
          "text": [
            "Epoch 1/40\n",
            "1/1 [==============================] - 4s 4s/step - loss: 0.6858 - accuracy: 0.5915 - val_loss: 0.6799 - val_accuracy: 0.7350\n",
            "Epoch 2/40\n",
            "1/1 [==============================] - 0s 432ms/step - loss: 0.6790 - accuracy: 0.7465 - val_loss: 0.6733 - val_accuracy: 0.7265\n",
            "Epoch 3/40\n",
            "1/1 [==============================] - 0s 452ms/step - loss: 0.6719 - accuracy: 0.7239 - val_loss: 0.6663 - val_accuracy: 0.7265\n",
            "Epoch 4/40\n",
            "1/1 [==============================] - 0s 419ms/step - loss: 0.6642 - accuracy: 0.7239 - val_loss: 0.6586 - val_accuracy: 0.7265\n",
            "Epoch 5/40\n",
            "1/1 [==============================] - 0s 441ms/step - loss: 0.6558 - accuracy: 0.7239 - val_loss: 0.6500 - val_accuracy: 0.7265\n",
            "Epoch 6/40\n",
            "1/1 [==============================] - 0s 425ms/step - loss: 0.6463 - accuracy: 0.7239 - val_loss: 0.6403 - val_accuracy: 0.7265\n",
            "Epoch 7/40\n",
            "1/1 [==============================] - 0s 430ms/step - loss: 0.6354 - accuracy: 0.7239 - val_loss: 0.6290 - val_accuracy: 0.7265\n",
            "Epoch 8/40\n",
            "1/1 [==============================] - 1s 520ms/step - loss: 0.6228 - accuracy: 0.7239 - val_loss: 0.6160 - val_accuracy: 0.7265\n",
            "Epoch 9/40\n",
            "1/1 [==============================] - 0s 455ms/step - loss: 0.6080 - accuracy: 0.7239 - val_loss: 0.6006 - val_accuracy: 0.7265\n",
            "Epoch 10/40\n",
            "1/1 [==============================] - 0s 445ms/step - loss: 0.5904 - accuracy: 0.7239 - val_loss: 0.5827 - val_accuracy: 0.7265\n",
            "Epoch 11/40\n",
            "1/1 [==============================] - 1s 666ms/step - loss: 0.5697 - accuracy: 0.7239 - val_loss: 0.5625 - val_accuracy: 0.7265\n",
            "Epoch 12/40\n"
          ]
        }
      ]
    },
    {
      "cell_type": "code",
      "source": [
        "model.compile(optimizer='adam',\n",
        "              loss=tf.losses.BinaryCrossentropy(from_logits=True),\n",
        "              metrics=[tf.metrics.BinaryAccuracy(threshold=0.0, name='accuracy')])"
      ],
      "metadata": {
        "id": "s2cJK8ERhEJx"
      },
      "execution_count": 11,
      "outputs": []
    },
    {
      "cell_type": "code",
      "source": [
        "# Train your model\n",
        "history = model.fit(\n",
        "    x = train_data,  # Training data\n",
        "    y = train_labels,  # Training labels\n",
        "    epochs=40,           # Number of training epochs\n",
        "    batch_size=512,      # Batch size\n",
        "    validation_data=(val_data, val_labels),  # Validation data\n",
        "    verbose=1            # Verbosity level (0 = silent, 1 = progress bar, 2 = one line per epoch)\n",
        ")"
      ],
      "metadata": {
        "colab": {
          "base_uri": "https://localhost:8080/",
          "height": 668
        },
        "id": "xDJQy3KQhERX",
        "outputId": "47e23009-2248-4f90-8050-3f61502fe61b"
      },
      "execution_count": 12,
      "outputs": [
        {
          "output_type": "stream",
          "name": "stdout",
          "text": [
            "Epoch 1/40\n"
          ]
        },
        {
          "output_type": "error",
          "ename": "ValueError",
          "evalue": "ignored",
          "traceback": [
            "\u001b[0;31m---------------------------------------------------------------------------\u001b[0m",
            "\u001b[0;31mValueError\u001b[0m                                Traceback (most recent call last)",
            "\u001b[0;32m<ipython-input-12-8e711ee7e85a>\u001b[0m in \u001b[0;36m<cell line: 2>\u001b[0;34m()\u001b[0m\n\u001b[1;32m      1\u001b[0m \u001b[0;31m# Train your model\u001b[0m\u001b[0;34m\u001b[0m\u001b[0;34m\u001b[0m\u001b[0m\n\u001b[0;32m----> 2\u001b[0;31m history = model.fit(\n\u001b[0m\u001b[1;32m      3\u001b[0m     \u001b[0mx\u001b[0m \u001b[0;34m=\u001b[0m \u001b[0mtrain_data\u001b[0m\u001b[0;34m,\u001b[0m  \u001b[0;31m# Training data\u001b[0m\u001b[0;34m\u001b[0m\u001b[0;34m\u001b[0m\u001b[0m\n\u001b[1;32m      4\u001b[0m     \u001b[0my\u001b[0m \u001b[0;34m=\u001b[0m \u001b[0mtrain_labels\u001b[0m\u001b[0;34m,\u001b[0m  \u001b[0;31m# Training labels\u001b[0m\u001b[0;34m\u001b[0m\u001b[0;34m\u001b[0m\u001b[0m\n\u001b[1;32m      5\u001b[0m     \u001b[0mepochs\u001b[0m\u001b[0;34m=\u001b[0m\u001b[0;36m40\u001b[0m\u001b[0;34m,\u001b[0m           \u001b[0;31m# Number of training epochs\u001b[0m\u001b[0;34m\u001b[0m\u001b[0;34m\u001b[0m\u001b[0m\n",
            "\u001b[0;32m/usr/local/lib/python3.10/dist-packages/keras/utils/traceback_utils.py\u001b[0m in \u001b[0;36merror_handler\u001b[0;34m(*args, **kwargs)\u001b[0m\n\u001b[1;32m     68\u001b[0m             \u001b[0;31m# To get the full stack trace, call:\u001b[0m\u001b[0;34m\u001b[0m\u001b[0;34m\u001b[0m\u001b[0m\n\u001b[1;32m     69\u001b[0m             \u001b[0;31m# `tf.debugging.disable_traceback_filtering()`\u001b[0m\u001b[0;34m\u001b[0m\u001b[0;34m\u001b[0m\u001b[0m\n\u001b[0;32m---> 70\u001b[0;31m             \u001b[0;32mraise\u001b[0m \u001b[0me\u001b[0m\u001b[0;34m.\u001b[0m\u001b[0mwith_traceback\u001b[0m\u001b[0;34m(\u001b[0m\u001b[0mfiltered_tb\u001b[0m\u001b[0;34m)\u001b[0m \u001b[0;32mfrom\u001b[0m \u001b[0;32mNone\u001b[0m\u001b[0;34m\u001b[0m\u001b[0;34m\u001b[0m\u001b[0m\n\u001b[0m\u001b[1;32m     71\u001b[0m         \u001b[0;32mfinally\u001b[0m\u001b[0;34m:\u001b[0m\u001b[0;34m\u001b[0m\u001b[0;34m\u001b[0m\u001b[0m\n\u001b[1;32m     72\u001b[0m             \u001b[0;32mdel\u001b[0m \u001b[0mfiltered_tb\u001b[0m\u001b[0;34m\u001b[0m\u001b[0;34m\u001b[0m\u001b[0m\n",
            "\u001b[0;32m/usr/local/lib/python3.10/dist-packages/keras/engine/training.py\u001b[0m in \u001b[0;36mtf__train_function\u001b[0;34m(iterator)\u001b[0m\n\u001b[1;32m     13\u001b[0m                 \u001b[0;32mtry\u001b[0m\u001b[0;34m:\u001b[0m\u001b[0;34m\u001b[0m\u001b[0;34m\u001b[0m\u001b[0m\n\u001b[1;32m     14\u001b[0m                     \u001b[0mdo_return\u001b[0m \u001b[0;34m=\u001b[0m \u001b[0;32mTrue\u001b[0m\u001b[0;34m\u001b[0m\u001b[0;34m\u001b[0m\u001b[0m\n\u001b[0;32m---> 15\u001b[0;31m                     \u001b[0mretval_\u001b[0m \u001b[0;34m=\u001b[0m \u001b[0mag__\u001b[0m\u001b[0;34m.\u001b[0m\u001b[0mconverted_call\u001b[0m\u001b[0;34m(\u001b[0m\u001b[0mag__\u001b[0m\u001b[0;34m.\u001b[0m\u001b[0mld\u001b[0m\u001b[0;34m(\u001b[0m\u001b[0mstep_function\u001b[0m\u001b[0;34m)\u001b[0m\u001b[0;34m,\u001b[0m \u001b[0;34m(\u001b[0m\u001b[0mag__\u001b[0m\u001b[0;34m.\u001b[0m\u001b[0mld\u001b[0m\u001b[0;34m(\u001b[0m\u001b[0mself\u001b[0m\u001b[0;34m)\u001b[0m\u001b[0;34m,\u001b[0m \u001b[0mag__\u001b[0m\u001b[0;34m.\u001b[0m\u001b[0mld\u001b[0m\u001b[0;34m(\u001b[0m\u001b[0miterator\u001b[0m\u001b[0;34m)\u001b[0m\u001b[0;34m)\u001b[0m\u001b[0;34m,\u001b[0m \u001b[0;32mNone\u001b[0m\u001b[0;34m,\u001b[0m \u001b[0mfscope\u001b[0m\u001b[0;34m)\u001b[0m\u001b[0;34m\u001b[0m\u001b[0;34m\u001b[0m\u001b[0m\n\u001b[0m\u001b[1;32m     16\u001b[0m                 \u001b[0;32mexcept\u001b[0m\u001b[0;34m:\u001b[0m\u001b[0;34m\u001b[0m\u001b[0;34m\u001b[0m\u001b[0m\n\u001b[1;32m     17\u001b[0m                     \u001b[0mdo_return\u001b[0m \u001b[0;34m=\u001b[0m \u001b[0;32mFalse\u001b[0m\u001b[0;34m\u001b[0m\u001b[0;34m\u001b[0m\u001b[0m\n",
            "\u001b[0;31mValueError\u001b[0m: in user code:\n\n    File \"/usr/local/lib/python3.10/dist-packages/keras/engine/training.py\", line 1284, in train_function  *\n        return step_function(self, iterator)\n    File \"/usr/local/lib/python3.10/dist-packages/keras/engine/training.py\", line 1268, in step_function  **\n        outputs = model.distribute_strategy.run(run_step, args=(data,))\n    File \"/usr/local/lib/python3.10/dist-packages/keras/engine/training.py\", line 1249, in run_step  **\n        outputs = model.train_step(data)\n    File \"/usr/local/lib/python3.10/dist-packages/keras/engine/training.py\", line 1050, in train_step\n        y_pred = self(x, training=True)\n    File \"/usr/local/lib/python3.10/dist-packages/keras/utils/traceback_utils.py\", line 70, in error_handler\n        raise e.with_traceback(filtered_tb) from None\n    File \"/usr/local/lib/python3.10/dist-packages/keras/engine/input_spec.py\", line 219, in assert_input_compatibility\n        raise ValueError(\n\n    ValueError: Layer \"model_1\" expects 2 input(s), but it received 1 input tensors. Inputs received: [<tf.Tensor 'IteratorGetNext:0' shape=(None, 100) dtype=int32>]\n"
          ]
        }
      ]
    },
    {
      "cell_type": "code",
      "source": [
        "results = model.evaluate(test_data, test_labels)\n",
        "\n",
        "print(results)"
      ],
      "metadata": {
        "id": "n2vRfNPEhEZL"
      },
      "execution_count": null,
      "outputs": []
    },
    {
      "cell_type": "code",
      "source": [
        "history_dict = history.history\n",
        "history_dict.keys()"
      ],
      "metadata": {
        "id": "zF4xxekDhEgy"
      },
      "execution_count": null,
      "outputs": []
    },
    {
      "cell_type": "code",
      "source": [
        "acc = history_dict['accuracy']\n",
        "val_acc = history_dict['val_accuracy']\n",
        "loss = history_dict['loss']\n",
        "val_loss = history_dict['val_loss']\n",
        "\n",
        "epochs = range(1, len(acc) + 1)\n",
        "\n",
        "# \"bo\" is for \"blue dot\"\n",
        "plt.plot(epochs, loss, 'bo', label='Training loss')\n",
        "# b is for \"solid blue line\"\n",
        "plt.plot(epochs, val_loss, 'b', label='Validation loss')\n",
        "plt.title('Training and validation loss')\n",
        "plt.xlabel('Epochs')\n",
        "plt.ylabel('Loss')\n",
        "plt.legend()\n",
        "\n",
        "plt.show()"
      ],
      "metadata": {
        "id": "QQqD-AI4hLLX"
      },
      "execution_count": null,
      "outputs": []
    },
    {
      "cell_type": "code",
      "source": [
        "plt.clf()   # clear figure\n",
        "\n",
        "plt.plot(epochs, acc, 'bo', label='Training acc')\n",
        "plt.plot(epochs, val_acc, 'b', label='Validation acc')\n",
        "plt.title('Training and validation accuracy')\n",
        "plt.xlabel('Epochs')\n",
        "plt.ylabel('Accuracy')\n",
        "plt.legend()\n",
        "\n",
        "plt.show()"
      ],
      "metadata": {
        "id": "1CjQAyVYhLRB"
      },
      "execution_count": null,
      "outputs": []
    },
    {
      "cell_type": "code",
      "source": [
        "import numpy as np\n",
        "import matplotlib.pyplot as plt\n",
        "from sklearn.metrics import confusion_matrix\n",
        "import seaborn as sns\n",
        "from sklearn.metrics import confusion_matrix, accuracy_score, precision_score, recall_score, f1_score\n",
        "\n",
        "# Assuming your model has already been trained and evaluated as you mentioned\n",
        "\n",
        "# Make predictions on the test data\n",
        "predicted_labels = model.predict(test_data)\n",
        "\n",
        "# Convert the predicted probabilities to binary labels (0 or 1)\n",
        "predicted_labels_binary = np.argmax(predicted_labels, axis=1)\n",
        "\n",
        "# Calculate the confusion matrix\n",
        "confusion = confusion_matrix(test_labels, predicted_labels_binary)\n",
        "\n",
        "# Visualize the confusion matrix using seaborn\n",
        "plt.figure(figsize=(8, 6))\n",
        "sns.heatmap(confusion, annot=True, fmt='d', cmap='Blues', square=True, xticklabels=True, yticklabels=True)\n",
        "plt.xlabel('Predicted')\n",
        "plt.ylabel('True')\n",
        "plt.title('Confusion Matrix')\n",
        "plt.show()\n",
        "\n",
        "# Calculate additional evaluation metrics\n",
        "accuracy = accuracy_score(test_labels, predicted_labels_binary)\n",
        "precision = precision_score(test_labels, predicted_labels_binary)\n",
        "recall = recall_score(test_labels, predicted_labels_binary)\n",
        "f1 = f1_score(test_labels, predicted_labels_binary)\n",
        "\n",
        "# Print evaluation metrics\n",
        "print(f\"Accuracy: {accuracy:.2f}\")\n",
        "print(f\"Precision: {precision:.2f}\")\n",
        "print(f\"Recall: {recall:.2f}\")\n",
        "print(f\"F1 Score: {f1:.2f}\")"
      ],
      "metadata": {
        "id": "0_0NsVf-hNb7"
      },
      "execution_count": null,
      "outputs": []
    },
    {
      "cell_type": "code",
      "source": [
        "import pandas as pd\n",
        "\n",
        "# Assuming you have already made predictions on your test data as mentioned earlier\n",
        "\n",
        "# Create a DataFrame with the original text, true labels, and predicted labels\n",
        "results_df = pd.DataFrame({'doc_text_original': test_examples, 'label_code': test_labels, 'predicted_label': predicted_labels_binary})\n",
        "\n"
      ],
      "metadata": {
        "id": "ciBDSI-LhQvp"
      },
      "execution_count": null,
      "outputs": []
    },
    {
      "cell_type": "code",
      "source": [
        "# Display the DataFrame\n",
        "results_df"
      ],
      "metadata": {
        "id": "fN0wIyeShSZI"
      },
      "execution_count": null,
      "outputs": []
    },
    {
      "cell_type": "code",
      "source": [],
      "metadata": {
        "id": "aB722OUQnphv"
      },
      "execution_count": null,
      "outputs": []
    }
  ]
}