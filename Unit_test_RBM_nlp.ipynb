{
  "nbformat": 4,
  "nbformat_minor": 0,
  "metadata": {
    "colab": {
      "provenance": [],
      "authorship_tag": "ABX9TyOgRPipo8TDgMCTxX+QbTW1",
      "include_colab_link": true
    },
    "kernelspec": {
      "name": "python3",
      "display_name": "Python 3"
    },
    "language_info": {
      "name": "python"
    },
    "widgets": {
      "application/vnd.jupyter.widget-state+json": {
        "c6686ffa01e44bef8f7b26df40f94ef5": {
          "model_module": "@jupyter-widgets/controls",
          "model_name": "HBoxModel",
          "model_module_version": "1.5.0",
          "state": {
            "_dom_classes": [],
            "_model_module": "@jupyter-widgets/controls",
            "_model_module_version": "1.5.0",
            "_model_name": "HBoxModel",
            "_view_count": null,
            "_view_module": "@jupyter-widgets/controls",
            "_view_module_version": "1.5.0",
            "_view_name": "HBoxView",
            "box_style": "",
            "children": [
              "IPY_MODEL_30847b6bedd444f3815e1cde59bd68eb",
              "IPY_MODEL_71522cd322c14e56a51cb869e33e8d22",
              "IPY_MODEL_531ea4b13cb14914932b69b3eae6d629"
            ],
            "layout": "IPY_MODEL_03c93d6a5d484e76b59a3e8c32efa383"
          }
        },
        "30847b6bedd444f3815e1cde59bd68eb": {
          "model_module": "@jupyter-widgets/controls",
          "model_name": "HTMLModel",
          "model_module_version": "1.5.0",
          "state": {
            "_dom_classes": [],
            "_model_module": "@jupyter-widgets/controls",
            "_model_module_version": "1.5.0",
            "_model_name": "HTMLModel",
            "_view_count": null,
            "_view_module": "@jupyter-widgets/controls",
            "_view_module_version": "1.5.0",
            "_view_name": "HTMLView",
            "description": "",
            "description_tooltip": null,
            "layout": "IPY_MODEL_8198b8ef9e224f149a83bcfbd77dfb4b",
            "placeholder": "​",
            "style": "IPY_MODEL_cd4a5a20abe04a698534f4f9223be844",
            "value": "100%"
          }
        },
        "71522cd322c14e56a51cb869e33e8d22": {
          "model_module": "@jupyter-widgets/controls",
          "model_name": "FloatProgressModel",
          "model_module_version": "1.5.0",
          "state": {
            "_dom_classes": [],
            "_model_module": "@jupyter-widgets/controls",
            "_model_module_version": "1.5.0",
            "_model_name": "FloatProgressModel",
            "_view_count": null,
            "_view_module": "@jupyter-widgets/controls",
            "_view_module_version": "1.5.0",
            "_view_name": "ProgressView",
            "bar_style": "success",
            "description": "",
            "description_tooltip": null,
            "layout": "IPY_MODEL_625b07eceb39495fbcbf8fdd5d68befe",
            "max": 8,
            "min": 0,
            "orientation": "horizontal",
            "style": "IPY_MODEL_40f7946190c14a5eb38f866cb1eba056",
            "value": 8
          }
        },
        "531ea4b13cb14914932b69b3eae6d629": {
          "model_module": "@jupyter-widgets/controls",
          "model_name": "HTMLModel",
          "model_module_version": "1.5.0",
          "state": {
            "_dom_classes": [],
            "_model_module": "@jupyter-widgets/controls",
            "_model_module_version": "1.5.0",
            "_model_name": "HTMLModel",
            "_view_count": null,
            "_view_module": "@jupyter-widgets/controls",
            "_view_module_version": "1.5.0",
            "_view_name": "HTMLView",
            "description": "",
            "description_tooltip": null,
            "layout": "IPY_MODEL_797433164317461f88eb0bb428dbfc72",
            "placeholder": "​",
            "style": "IPY_MODEL_5d7fe6ec0357463eba179724dbfdad08",
            "value": " 8/8 [00:31&lt;00:00,  5.50s/it]"
          }
        },
        "03c93d6a5d484e76b59a3e8c32efa383": {
          "model_module": "@jupyter-widgets/base",
          "model_name": "LayoutModel",
          "model_module_version": "1.2.0",
          "state": {
            "_model_module": "@jupyter-widgets/base",
            "_model_module_version": "1.2.0",
            "_model_name": "LayoutModel",
            "_view_count": null,
            "_view_module": "@jupyter-widgets/base",
            "_view_module_version": "1.2.0",
            "_view_name": "LayoutView",
            "align_content": null,
            "align_items": null,
            "align_self": null,
            "border": null,
            "bottom": null,
            "display": null,
            "flex": null,
            "flex_flow": null,
            "grid_area": null,
            "grid_auto_columns": null,
            "grid_auto_flow": null,
            "grid_auto_rows": null,
            "grid_column": null,
            "grid_gap": null,
            "grid_row": null,
            "grid_template_areas": null,
            "grid_template_columns": null,
            "grid_template_rows": null,
            "height": null,
            "justify_content": null,
            "justify_items": null,
            "left": null,
            "margin": null,
            "max_height": null,
            "max_width": null,
            "min_height": null,
            "min_width": null,
            "object_fit": null,
            "object_position": null,
            "order": null,
            "overflow": null,
            "overflow_x": null,
            "overflow_y": null,
            "padding": null,
            "right": null,
            "top": null,
            "visibility": null,
            "width": null
          }
        },
        "8198b8ef9e224f149a83bcfbd77dfb4b": {
          "model_module": "@jupyter-widgets/base",
          "model_name": "LayoutModel",
          "model_module_version": "1.2.0",
          "state": {
            "_model_module": "@jupyter-widgets/base",
            "_model_module_version": "1.2.0",
            "_model_name": "LayoutModel",
            "_view_count": null,
            "_view_module": "@jupyter-widgets/base",
            "_view_module_version": "1.2.0",
            "_view_name": "LayoutView",
            "align_content": null,
            "align_items": null,
            "align_self": null,
            "border": null,
            "bottom": null,
            "display": null,
            "flex": null,
            "flex_flow": null,
            "grid_area": null,
            "grid_auto_columns": null,
            "grid_auto_flow": null,
            "grid_auto_rows": null,
            "grid_column": null,
            "grid_gap": null,
            "grid_row": null,
            "grid_template_areas": null,
            "grid_template_columns": null,
            "grid_template_rows": null,
            "height": null,
            "justify_content": null,
            "justify_items": null,
            "left": null,
            "margin": null,
            "max_height": null,
            "max_width": null,
            "min_height": null,
            "min_width": null,
            "object_fit": null,
            "object_position": null,
            "order": null,
            "overflow": null,
            "overflow_x": null,
            "overflow_y": null,
            "padding": null,
            "right": null,
            "top": null,
            "visibility": null,
            "width": null
          }
        },
        "cd4a5a20abe04a698534f4f9223be844": {
          "model_module": "@jupyter-widgets/controls",
          "model_name": "DescriptionStyleModel",
          "model_module_version": "1.5.0",
          "state": {
            "_model_module": "@jupyter-widgets/controls",
            "_model_module_version": "1.5.0",
            "_model_name": "DescriptionStyleModel",
            "_view_count": null,
            "_view_module": "@jupyter-widgets/base",
            "_view_module_version": "1.2.0",
            "_view_name": "StyleView",
            "description_width": ""
          }
        },
        "625b07eceb39495fbcbf8fdd5d68befe": {
          "model_module": "@jupyter-widgets/base",
          "model_name": "LayoutModel",
          "model_module_version": "1.2.0",
          "state": {
            "_model_module": "@jupyter-widgets/base",
            "_model_module_version": "1.2.0",
            "_model_name": "LayoutModel",
            "_view_count": null,
            "_view_module": "@jupyter-widgets/base",
            "_view_module_version": "1.2.0",
            "_view_name": "LayoutView",
            "align_content": null,
            "align_items": null,
            "align_self": null,
            "border": null,
            "bottom": null,
            "display": null,
            "flex": null,
            "flex_flow": null,
            "grid_area": null,
            "grid_auto_columns": null,
            "grid_auto_flow": null,
            "grid_auto_rows": null,
            "grid_column": null,
            "grid_gap": null,
            "grid_row": null,
            "grid_template_areas": null,
            "grid_template_columns": null,
            "grid_template_rows": null,
            "height": null,
            "justify_content": null,
            "justify_items": null,
            "left": null,
            "margin": null,
            "max_height": null,
            "max_width": null,
            "min_height": null,
            "min_width": null,
            "object_fit": null,
            "object_position": null,
            "order": null,
            "overflow": null,
            "overflow_x": null,
            "overflow_y": null,
            "padding": null,
            "right": null,
            "top": null,
            "visibility": null,
            "width": null
          }
        },
        "40f7946190c14a5eb38f866cb1eba056": {
          "model_module": "@jupyter-widgets/controls",
          "model_name": "ProgressStyleModel",
          "model_module_version": "1.5.0",
          "state": {
            "_model_module": "@jupyter-widgets/controls",
            "_model_module_version": "1.5.0",
            "_model_name": "ProgressStyleModel",
            "_view_count": null,
            "_view_module": "@jupyter-widgets/base",
            "_view_module_version": "1.2.0",
            "_view_name": "StyleView",
            "bar_color": null,
            "description_width": ""
          }
        },
        "797433164317461f88eb0bb428dbfc72": {
          "model_module": "@jupyter-widgets/base",
          "model_name": "LayoutModel",
          "model_module_version": "1.2.0",
          "state": {
            "_model_module": "@jupyter-widgets/base",
            "_model_module_version": "1.2.0",
            "_model_name": "LayoutModel",
            "_view_count": null,
            "_view_module": "@jupyter-widgets/base",
            "_view_module_version": "1.2.0",
            "_view_name": "LayoutView",
            "align_content": null,
            "align_items": null,
            "align_self": null,
            "border": null,
            "bottom": null,
            "display": null,
            "flex": null,
            "flex_flow": null,
            "grid_area": null,
            "grid_auto_columns": null,
            "grid_auto_flow": null,
            "grid_auto_rows": null,
            "grid_column": null,
            "grid_gap": null,
            "grid_row": null,
            "grid_template_areas": null,
            "grid_template_columns": null,
            "grid_template_rows": null,
            "height": null,
            "justify_content": null,
            "justify_items": null,
            "left": null,
            "margin": null,
            "max_height": null,
            "max_width": null,
            "min_height": null,
            "min_width": null,
            "object_fit": null,
            "object_position": null,
            "order": null,
            "overflow": null,
            "overflow_x": null,
            "overflow_y": null,
            "padding": null,
            "right": null,
            "top": null,
            "visibility": null,
            "width": null
          }
        },
        "5d7fe6ec0357463eba179724dbfdad08": {
          "model_module": "@jupyter-widgets/controls",
          "model_name": "DescriptionStyleModel",
          "model_module_version": "1.5.0",
          "state": {
            "_model_module": "@jupyter-widgets/controls",
            "_model_module_version": "1.5.0",
            "_model_name": "DescriptionStyleModel",
            "_view_count": null,
            "_view_module": "@jupyter-widgets/base",
            "_view_module_version": "1.2.0",
            "_view_name": "StyleView",
            "description_width": ""
          }
        }
      }
    }
  },
  "cells": [
    {
      "cell_type": "markdown",
      "metadata": {
        "id": "view-in-github",
        "colab_type": "text"
      },
      "source": [
        "<a href=\"https://colab.research.google.com/github/zahidhamidi/ML-Project/blob/main/Unit_test_RBM_nlp.ipynb\" target=\"_parent\"><img src=\"https://colab.research.google.com/assets/colab-badge.svg\" alt=\"Open In Colab\"/></a>"
      ]
    },
    {
      "cell_type": "code",
      "source": [
        "import re\n",
        "import pandas as pd\n",
        "pd.options.mode.chained_assignment = None  # Disable the warning\n",
        "\n",
        "from nltk.tokenize import sent_tokenize, word_tokenize\n",
        "import nltk\n",
        "from tqdm.auto import tqdm\n",
        "nltk.download('punkt')\n",
        "nltk.download('wordnet')\n",
        "\n",
        "\n",
        "import matplotlib.pyplot as plt\n",
        "import seaborn as sns\n",
        "from sklearn.metrics import confusion_matrix, accuracy_score, precision_score, recall_score, f1_score"
      ],
      "metadata": {
        "colab": {
          "base_uri": "https://localhost:8080/"
        },
        "id": "mTtKeUGkRzhI",
        "outputId": "631e4b95-8206-4806-ba05-04cb94e5c4de"
      },
      "execution_count": 22,
      "outputs": [
        {
          "output_type": "stream",
          "name": "stderr",
          "text": [
            "[nltk_data] Downloading package punkt to /root/nltk_data...\n",
            "[nltk_data]   Package punkt is already up-to-date!\n",
            "[nltk_data] Downloading package wordnet to /root/nltk_data...\n",
            "[nltk_data]   Package wordnet is already up-to-date!\n"
          ]
        }
      ]
    },
    {
      "cell_type": "code",
      "source": [
        "df = pd.read_excel(\"/content/sample_data/robust_test_dataset.xlsx\")"
      ],
      "metadata": {
        "id": "xqtq6m0dRx7P"
      },
      "execution_count": 2,
      "outputs": []
    },
    {
      "cell_type": "code",
      "execution_count": 3,
      "metadata": {
        "id": "02Rj1ntGRn96"
      },
      "outputs": [],
      "source": [
        "def text_extraction(text,topics):\n",
        "\n",
        "  # Define the topics as flexible terms (subwords or whole words)\n",
        "  # topics = [\"gas shows\" , \"oil show\", \"overpressure\", \"fluid communication\" , \"gas bearing\" , \"h2s\" , \"co2\" , \"stuck pipe\" , \"pressure build up\", \"sand production\"]\n",
        "\n",
        "  # Define the negation terms pattern with case-insensitivity\n",
        "  negation_terms = r'(?i)(?:(?<=\\s)|^)(no|non|unlikely|none|not|nor|without|lack|rather)(?=\\s|$|\\b)'\n",
        "\n",
        "\n",
        "  # Replace hyphens with blank spaces in all items in the topics list\n",
        "  topics = [topic.replace('-', ' ') for topic in topics]\n",
        "  text = [text.replace('-', ' ') for topic in topics]\n",
        "\n",
        "\n",
        "  # Initialize a list to store selected sentences\n",
        "  selected_sentences = []\n",
        "\n",
        "  # Initialize a flag to check for both topic terms and negation terms\n",
        "  both_detected = False\n",
        "\n",
        "  # Tokenize the text into sentences using NLTK's sent_tokenize\n",
        "  text = str(text)\n",
        "  sentences = sent_tokenize(text)\n",
        "\n",
        "  # Initialize flags to check for both topic terms and negation terms\n",
        "  topic_found = False\n",
        "  negation_detected = False\n",
        "\n",
        "  if len(sentences) == 1:\n",
        "    selected_sentences.append(text)\n",
        "    # print(0)\n",
        "\n",
        "  else:\n",
        "\n",
        "    for sentence in sentences:\n",
        "\n",
        "      # remove apostrophes from string\n",
        "      sentence = sentence.replace(\"'\", \"\")\n",
        "      sentence = sentence.replace(\",\", \"\")\n",
        "\n",
        "      # Tokenize the sentence into words\n",
        "      lemmatized_words = word_tokenize(sentence)\n",
        "\n",
        "      # Join the lemmatized words back into a sentence\n",
        "      lemmatized_sentence = ' '.join(lemmatized_words)\n",
        "\n",
        "      # Initialize an empty pattern string\n",
        "      pattern_string = r'(?i)(?:(?<=\\s)|^)'\n",
        "\n",
        "      for topic_pattern in topics:\n",
        "        words = topic_pattern.split()\n",
        "\n",
        "        if len(words) >= 2:\n",
        "\n",
        "          # Split the topic words by spaces and hyphens and create a pattern to match them\n",
        "          # topic_pattern = re.compile(r'(?i)\\b' + r'\\b|\\b'.join(re.escape(topic) for topic in topics) + r'\\b')\n",
        "\n",
        "          # Create a regex pattern to match the multi-word topic with any characters in between\n",
        "          pattern_string = r'(?i)\\b' + r'\\s*[,.\\s]*\\s*'.join(re.escape(word) for word in words) + r'\\b'\n",
        "\n",
        "          # Compile the regex pattern\n",
        "          topic_pattern = re.compile(pattern_string, re.IGNORECASE)\n",
        "\n",
        "\n",
        "          if re.search(topic_pattern, lemmatized_sentence.lower()):\n",
        "                topic_found = True\n",
        "                break\n",
        "\n",
        "        elif len(words) != 0:\n",
        "            single_pattern = rf'(?i)(?:(?<=\\s)|^)({re.escape(words[0])})(?=\\s|$)'\n",
        "            if re.search(single_pattern, lemmatized_sentence.lower()):\n",
        "                topic_found = True\n",
        "                break\n",
        "\n",
        "      # Check if the lemmatized sentence contains negation terms\n",
        "      if re.search(negation_terms, lemmatized_sentence.lower()):\n",
        "          negation_detected = True\n",
        "      else:\n",
        "          negation_detected = False\n",
        "\n",
        "      counter = 0\n",
        "      # If a topic term is found and either no negation terms are found or negation_detected is False, append the sentence\n",
        "      if (topic_found is True) and (negation_detected is True):\n",
        "          selected_sentences.append(lemmatized_sentence)\n",
        "          both_detected = True\n",
        "          # print(1)\n",
        "          break\n",
        "\n",
        "      elif (topic_found is True) and (negation_detected is False):\n",
        "          selected_sentences.append(lemmatized_sentence)\n",
        "          both_detected = False\n",
        "          counter = counter + 1\n",
        "          # print(2)\n",
        "\n",
        "          if counter >1:\n",
        "            break\n",
        "          break\n",
        "\n",
        "      # else:\n",
        "      #   selected_sentences.append(sentences)\n",
        "\n",
        "\n",
        "\n",
        "    # If no sentence with both topic and negation terms is found, append the first sentence without a negation term\n",
        "    if topic_found is False:\n",
        "        selected_sentences.append(text)\n",
        "\n",
        "  # print(\"Selected Sentence: \", selected_sentences)\n",
        "  # print(\"Topic word found: \",topic_found)\n",
        "  # print(\"Negation word found: \",negation_detected)\n",
        "\n",
        "  return selected_sentences\n",
        "\n",
        "\n",
        "\n",
        "\n",
        "\n",
        "\n"
      ]
    },
    {
      "cell_type": "code",
      "source": [
        "def cm_evaluation(y_true,y_pred):\n",
        "\n",
        "  # Calculate the confusion matrix\n",
        "  cm = confusion_matrix(y_true, y_pred)\n",
        "\n",
        "  # Calculate additional evaluation metrics\n",
        "  accuracy = accuracy_score(y_true, y_pred)\n",
        "  precision = precision_score(y_true, y_pred, average='macro')\n",
        "  recall = recall_score(y_true, y_pred, average='macro')\n",
        "  f1 = f1_score(y_true, y_pred, average='macro')\n",
        "\n",
        "  return accuracy,precision,recall,f1\n",
        "\n",
        "  # print(f\" Accuracy: {accuracy}\\n\",f\"Precision: {precision}\\n\", f\"Recall: {recall}\\n\",f\"F1-score : {f1}\")"
      ],
      "metadata": {
        "id": "LA_u6olIc9pv"
      },
      "execution_count": 14,
      "outputs": []
    },
    {
      "cell_type": "code",
      "source": [
        "def unit_test(text,topic):\n",
        "  selected = text_extraction(text,topic)\n",
        "  print(selected)"
      ],
      "metadata": {
        "id": "srtfvbAbR4V4"
      },
      "execution_count": 5,
      "outputs": []
    },
    {
      "cell_type": "markdown",
      "source": [
        "## **Single Topic Search - Search Module Case Scenario**"
      ],
      "metadata": {
        "id": "pvHV-9Xgt-tj"
      }
    },
    {
      "cell_type": "code",
      "source": [
        "def single_keyword_processing(topic, df):\n",
        "\n",
        "  # Search keyword in Search Module\n",
        "  # topic = \"gas shows\"\n",
        "\n",
        "  finalized_text = []\n",
        "\n",
        "  df = df[df[\"dataset\"] == topic]\n",
        "\n",
        "  for doc in df[\"doc_text_original\"]:\n",
        "\n",
        "    selected = text_extraction(doc,topic)\n",
        "\n",
        "    if len(selected) == 1:\n",
        "      finalized_text.append(selected[0])\n",
        "\n",
        "    else:\n",
        "      sentence = \".\".join(selected)\n",
        "      finalized_text.append(sentence)\n",
        "\n",
        "  # Add the selected_sentences as a new column named 'selected_sentence'\n",
        "  # df['selected_sentence'] = finalized_text\n",
        "  df.loc[:, 'selected_sentence'] = finalized_text\n",
        "\n",
        "\n",
        "  # Define the negation terms pattern with case-insensitivity\n",
        "  negation_terms = r'(?i)(?:(?<=\\s)|^)(no|non|unlikely|none|not|nor|without|lack|rather)(?=\\s|$|\\b)'\n",
        "\n",
        "\n",
        "  # Determine the prediction (0 or 1) based on the presence of negation terms in selected_sentence\n",
        "  for index, row in df.iterrows():\n",
        "      selected_sentence = row['selected_sentence']\n",
        "\n",
        "      if selected_sentence is not None:\n",
        "\n",
        "          # Check if the lemmatized sentence contains negation terms\n",
        "          if re.search(negation_terms, selected_sentence.lower()):\n",
        "              prediction = 0  # Negation terms found, set the prediction to 0\n",
        "\n",
        "          else:\n",
        "              prediction = 1  # No negation terms found, set the prediction to 1\n",
        "      else:\n",
        "          prediction = 0  # Handle the case where selected_sentence is None\n",
        "\n",
        "      df.at[index, 'predicted'] = prediction\n",
        "\n",
        "  # Print the DataFrame with the 'label' column\n",
        "  # df[['doc_text_original', 'selected_sentence', 'label_code', 'predicted']]\n",
        "\n",
        "  return df"
      ],
      "metadata": {
        "id": "LtbCxcMCav20"
      },
      "execution_count": 20,
      "outputs": []
    },
    {
      "cell_type": "code",
      "source": [
        "def eval_boxplot(acc, prec, rec, f1s):\n",
        "\n",
        "  # Create a box plot for the accumulated evaluation metrics\n",
        "  metric_names = [\"Accuracy\", \"Precision\", \"Recall\", \"F1 Score\"]\n",
        "  metric_values = [acc, prec, rec, f1s]\n",
        "\n",
        "  plt.figure(figsize=(12, 6))\n",
        "  sns.boxplot(data=metric_values, orient=\"v\", palette=\"Set3\")\n",
        "  sns.stripplot(data=metric_values, orient=\"v\", palette=\"Set1\", size=4, jitter=True)\n",
        "\n",
        "  # Add legends\n",
        "  legends = [plt.Line2D([0], [0], marker='o', color='w', markerfacecolor='b', markersize=5, label='Data Points')]\n",
        "  plt.legend(handles=legends, loc='upper right')\n",
        "  plt.ylim(0, 1)  # Set the y-axis range from 0 to 1\n",
        "\n",
        "  plt.xticks(range(4), metric_names)\n",
        "  plt.ylabel(\"Metric Value\")\n",
        "  plt.title(\"Box Plots for Accumulated Evaluation Metrics with Data Points\")\n",
        "  plt.tight_layout()\n",
        "  plt.show()"
      ],
      "metadata": {
        "id": "DcJSWIOm1XbX"
      },
      "execution_count": 26,
      "outputs": []
    },
    {
      "cell_type": "markdown",
      "source": [
        "## **Execution body**"
      ],
      "metadata": {
        "id": "pMxAqWaY14M6"
      }
    },
    {
      "cell_type": "code",
      "source": [
        "# Define the topics as flexible terms (subwords or whole words)\n",
        "topics = [\"gas shows\" , \"oil show\", \"overpressure\", \"fluid communication\" , \"gas bearing\", \"stuck pipe\" , \"pressure build-up\", \"sand_production\"]\n",
        "\n",
        "acc = []\n",
        "prec = []\n",
        "rec = []\n",
        "f1s = []\n",
        "\n",
        "print(\"Calculating prediction metrics...\")\n",
        "for topic in tqdm(topics):\n",
        "  df_predicted = single_keyword_processing(topic,df)\n",
        "\n",
        "  # print(f\"Keyword : {topic}\")\n",
        "  accuracy,precision,recall,f1 = cm_evaluation(y_true = df_predicted['label_code'],y_pred = df_predicted['predicted'])\n",
        "  acc.append(accuracy)\n",
        "  prec.append(precision)\n",
        "  rec.append(recall)\n",
        "  f1s.append(f1)\n",
        "\n",
        "print(\"Plotting results boxplot...\")\n",
        "eval_boxplot(acc, prec, rec, f1s)\n",
        "\n",
        "print(\"Experimentation completed!\")\n",
        "\n",
        "\n",
        "\n"
      ],
      "metadata": {
        "colab": {
          "base_uri": "https://localhost:8080/",
          "height": 691,
          "referenced_widgets": [
            "c6686ffa01e44bef8f7b26df40f94ef5",
            "30847b6bedd444f3815e1cde59bd68eb",
            "71522cd322c14e56a51cb869e33e8d22",
            "531ea4b13cb14914932b69b3eae6d629",
            "03c93d6a5d484e76b59a3e8c32efa383",
            "8198b8ef9e224f149a83bcfbd77dfb4b",
            "cd4a5a20abe04a698534f4f9223be844",
            "625b07eceb39495fbcbf8fdd5d68befe",
            "40f7946190c14a5eb38f866cb1eba056",
            "797433164317461f88eb0bb428dbfc72",
            "5d7fe6ec0357463eba179724dbfdad08"
          ]
        },
        "id": "Zp85rrt9jBwW",
        "outputId": "75d45d8c-1ae0-4492-826f-0416686e83e4"
      },
      "execution_count": 27,
      "outputs": [
        {
          "output_type": "stream",
          "name": "stdout",
          "text": [
            "Calculating prediction metrics...\n"
          ]
        },
        {
          "output_type": "display_data",
          "data": {
            "text/plain": [
              "  0%|          | 0/8 [00:00<?, ?it/s]"
            ],
            "application/vnd.jupyter.widget-view+json": {
              "version_major": 2,
              "version_minor": 0,
              "model_id": "c6686ffa01e44bef8f7b26df40f94ef5"
            }
          },
          "metadata": {}
        },
        {
          "output_type": "stream",
          "name": "stdout",
          "text": [
            "Plotting results boxplot...\n"
          ]
        },
        {
          "output_type": "display_data",
          "data": {
            "text/plain": [
              "<Figure size 1200x600 with 1 Axes>"
            ],
            "image/png": "[encoded data removed]"
          },
          "metadata": {}
        },
        {
          "output_type": "stream",
          "name": "stdout",
          "text": [
            "Experimentation completed!\n"
          ]
        }
      ]
    },
    {
      "cell_type": "code",
      "source": [],
      "metadata": {
        "id": "v8le6LEZzrB0"
      },
      "execution_count": 25,
      "outputs": []
    },
    {
      "cell_type": "code",
      "source": [
        "# Assuming 'df' is your DataFrame\n",
        "df_predicted.to_excel(\"dataset_predicted.xlsx\", index=False)"
      ],
      "metadata": {
        "id": "-ogHcxs6uJ84"
      },
      "execution_count": 8,
      "outputs": []
    },
    {
      "cell_type": "code",
      "source": [],
      "metadata": {
        "id": "CoaeQ19sduWt"
      },
      "execution_count": 8,
      "outputs": []
    }
  ]
}