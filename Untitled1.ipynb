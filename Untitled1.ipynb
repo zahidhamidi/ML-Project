{
  "nbformat": 4,
  "nbformat_minor": 0,
  "metadata": {
    "colab": {
      "name": "Untitled1.ipynb",
      "provenance": [],
      "collapsed_sections": [],
      "mount_file_id": "1D9y6M30CUq09ZODbmcavMUI52tCdMuSG",
      "authorship_tag": "ABX9TyOLjFvbRahu2Cfg+71pKsXl",
      "include_colab_link": true
    },
    "kernelspec": {
      "name": "python3",
      "display_name": "Python 3"
    },
    "language_info": {
      "name": "python"
    }
  },
  "cells": [
    {
      "cell_type": "markdown",
      "metadata": {
        "id": "view-in-github",
        "colab_type": "text"
      },
      "source": [
        "<a href=\"https://colab.research.google.com/github/zahidhamidi/ML-Project/blob/main/Untitled1.ipynb\" target=\"_parent\"><img src=\"https://colab.research.google.com/assets/colab-badge.svg\" alt=\"Open In Colab\"/></a>"
      ]
    },
    {
      "cell_type": "code",
      "source": [
        "pip install lasio"
      ],
      "metadata": {
        "colab": {
          "base_uri": "https://localhost:8080/"
        },
        "id": "kspFbXEzNMDe",
        "outputId": "03d7d34c-467d-4e30-9829-0207143c73a3"
      },
      "execution_count": 337,
      "outputs": [
        {
          "output_type": "stream",
          "name": "stdout",
          "text": [
            "Looking in indexes: https://pypi.org/simple, https://us-python.pkg.dev/colab-wheels/public/simple/\n",
            "Requirement already satisfied: lasio in /usr/local/lib/python3.7/dist-packages (0.30)\n",
            "Requirement already satisfied: numpy in /usr/local/lib/python3.7/dist-packages (from lasio) (1.21.6)\n"
          ]
        }
      ]
    },
    {
      "cell_type": "code",
      "execution_count": 338,
      "metadata": {
        "id": "G01ypqvyLQ9d"
      },
      "outputs": [],
      "source": [
        "import pandas as pd\n",
        "import matplotlib.pyplot as plt\n",
        "import lasio\n",
        "import numpy as np"
      ]
    },
    {
      "cell_type": "code",
      "source": [
        "las = lasio.read('/content/drive/MyDrive/Master Files/Msc Project/Dataset Well Logging/15-9-F-11B WLC_PETRO_COMPUTED_INPUT_1.LAS')\n",
        "df = las.df()\n",
        "df['DEPTH'] = df.index"
      ],
      "metadata": {
        "id": "EIaG66h8NSyy"
      },
      "execution_count": 339,
      "outputs": []
    },
    {
      "cell_type": "code",
      "source": [
        "df.info()"
      ],
      "metadata": {
        "id": "hjPMMK4QNhPz",
        "colab": {
          "base_uri": "https://localhost:8080/"
        },
        "outputId": "b3f07b7e-8ffe-4d98-9332-94b173796a79"
      },
      "execution_count": 340,
      "outputs": [
        {
          "output_type": "stream",
          "name": "stdout",
          "text": [
            "<class 'pandas.core.frame.DataFrame'>\n",
            "Float64Index: 45818 entries, 188.5 to 4770.2\n",
            "Data columns (total 20 columns):\n",
            " #   Column    Non-Null Count  Dtype  \n",
            "---  ------    --------------  -----  \n",
            " 0   ABDCQF01  15195 non-null  float64\n",
            " 1   ABDCQF02  15195 non-null  float64\n",
            " 2   ABDCQF03  15195 non-null  float64\n",
            " 3   ABDCQF04  15195 non-null  float64\n",
            " 4   BS        45818 non-null  float64\n",
            " 5   CALI      15543 non-null  float64\n",
            " 6   DRHO      15538 non-null  float64\n",
            " 7   GR        45671 non-null  float64\n",
            " 8   NPHI      15466 non-null  float64\n",
            " 9   PEF       15492 non-null  float64\n",
            " 10  RACEHM    21775 non-null  float64\n",
            " 11  RACELM    21775 non-null  float64\n",
            " 12  RD        44857 non-null  float64\n",
            " 13  RHOB      15492 non-null  float64\n",
            " 14  RM        45074 non-null  float64\n",
            " 15  ROP       45411 non-null  float64\n",
            " 16  RPCEHM    21775 non-null  float64\n",
            " 17  RPCELM    21558 non-null  float64\n",
            " 18  RT        45074 non-null  float64\n",
            " 19  DEPTH     45818 non-null  float64\n",
            "dtypes: float64(20)\n",
            "memory usage: 7.3 MB\n"
          ]
        }
      ]
    },
    {
      "cell_type": "code",
      "source": [
        "df.describe()"
      ],
      "metadata": {
        "colab": {
          "base_uri": "https://localhost:8080/",
          "height": 364
        },
        "id": "IGdpx1pm4wKX",
        "outputId": "793ad415-6558-48a9-ef9f-6f49bc3f1013"
      },
      "execution_count": 341,
      "outputs": [
        {
          "output_type": "execute_result",
          "data": {
            "text/plain": [
              "               ABDCQF01          ABDCQF02          ABDCQF03          ABDCQF04  \\\n",
              "count  15195.0000000000  15195.0000000000  15195.0000000000  15195.0000000000   \n",
              "mean       2.4052014478      2.3966458045      2.4013303718      2.3974621915   \n",
              "std        0.1992916197      0.1849050533      0.1995967297      0.1869998531   \n",
              "min        1.5130000000      1.5810000000      1.5390000000      1.5940000000   \n",
              "25%        2.2290000000      2.2270000000      2.2220000000      2.2240000000   \n",
              "50%        2.3650000000      2.3700000000      2.3670000000      2.3710000000   \n",
              "75%        2.5690000000      2.5570000000      2.5630000000      2.5610000000   \n",
              "max        3.3620000000      3.1800000000      3.4020000000      3.2520000000   \n",
              "\n",
              "                     BS              CALI              DRHO                GR  \\\n",
              "count  45818.0000000000  15543.0000000000  15538.0000000000  45671.0000000000   \n",
              "mean      15.9117961063      8.6558245512      0.0563918136     46.5753090364   \n",
              "std        6.9907720581      0.0871481109      0.0162213336     29.8675895309   \n",
              "min        8.5000000000      8.3180000000     -0.0400000000      0.5150000000   \n",
              "25%        8.5000000000      8.6250000000      0.0460000000     18.8970000000   \n",
              "50%       17.5000000000      8.6250000000      0.0540000000     43.2090000000   \n",
              "75%       26.0000000000      8.6720000000      0.0640000000     69.3685000000   \n",
              "max       36.0000000000     10.3870000000      0.2010000000    170.7570000000   \n",
              "\n",
              "                   NPHI               PEF            RACEHM            RACELM  \\\n",
              "count  15466.0000000000  15492.0000000000  21775.0000000000  21775.0000000000   \n",
              "mean       0.1833502522      5.5530794604    342.3857544432    122.5195240873   \n",
              "std        0.0590923281      1.3937728225   1346.4723012053    443.9613353179   \n",
              "min        0.0240000000      3.6470000000     -0.1650000000      0.0720000000   \n",
              "25%        0.1550000000      4.4240000000      1.9935000000      1.9750000000   \n",
              "50%        0.1760000000      5.1260000000      4.3790000000      4.1400000000   \n",
              "75%        0.2090000000      6.4112500000     16.5775000000      9.0035000000   \n",
              "max        0.5410000000     11.2290000000   7705.4060000000   2109.2850000000   \n",
              "\n",
              "                     RD              RHOB                RM               ROP  \\\n",
              "count  44857.0000000000  15492.0000000000  45074.0000000000  45411.0000000000   \n",
              "mean      12.7278063624      2.3973903305    785.6681974974     25.4517538262   \n",
              "std      100.4022770095      0.1812446187   6860.2036291303     12.8182017968   \n",
              "min        0.2360000000      1.6270000000      0.1400000000      0.0000000000   \n",
              "25%        0.8480000000      2.2300000000      0.9170000000     18.7585000000   \n",
              "50%        1.4080000000      2.3750000000      1.4920000000     25.1040000000   \n",
              "75%        4.1020000000      2.5610000000      4.7877500000     29.9840000000   \n",
              "max     5456.2990000000      3.0900000000  97543.4220000000    193.0830000000   \n",
              "\n",
              "                 RPCEHM            RPCELM                RT             DEPTH  \n",
              "count  21775.0000000000  21558.0000000000  45074.0000000000  45818.0000000000  \n",
              "mean    1686.7794147417     80.9726524260    785.6681974974   2479.3500000000  \n",
              "std     9959.2049033320   1767.9161958181   6860.2036291303   1322.6661653645  \n",
              "min        0.1390000000      0.2360000000      0.1400000000    188.5000000000  \n",
              "25%        2.2965000000      2.0190000000      0.9170000000   1333.9250000000  \n",
              "50%        5.1980000000      4.4540000000      1.4920000000   2479.3500000000  \n",
              "75%       27.6710000000     16.2760000000      4.7877500000   3624.7750000000  \n",
              "max    97543.4220000000  96973.3830000000  97543.4220000000   4770.2000000000  "
            ],
            "text/html": [
              "\n",
              "  <div id=\"df-25263763-8361-4000-8cb0-3e74bea294ce\">\n",
              "    <div class=\"colab-df-container\">\n",
              "      <div>\n",
              "<style scoped>\n",
              "    .dataframe tbody tr th:only-of-type {\n",
              "        vertical-align: middle;\n",
              "    }\n",
              "\n",
              "    .dataframe tbody tr th {\n",
              "        vertical-align: top;\n",
              "    }\n",
              "\n",
              "    .dataframe thead th {\n",
              "        text-align: right;\n",
              "    }\n",
              "</style>\n",
              "<table border=\"1\" class=\"dataframe\">\n",
              "  <thead>\n",
              "    <tr style=\"text-align: right;\">\n",
              "      <th></th>\n",
              "      <th>ABDCQF01</th>\n",
              "      <th>ABDCQF02</th>\n",
              "      <th>ABDCQF03</th>\n",
              "      <th>ABDCQF04</th>\n",
              "      <th>BS</th>\n",
              "      <th>CALI</th>\n",
              "      <th>DRHO</th>\n",
              "      <th>GR</th>\n",
              "      <th>NPHI</th>\n",
              "      <th>PEF</th>\n",
              "      <th>RACEHM</th>\n",
              "      <th>RACELM</th>\n",
              "      <th>RD</th>\n",
              "      <th>RHOB</th>\n",
              "      <th>RM</th>\n",
              "      <th>ROP</th>\n",
              "      <th>RPCEHM</th>\n",
              "      <th>RPCELM</th>\n",
              "      <th>RT</th>\n",
              "      <th>DEPTH</th>\n",
              "    </tr>\n",
              "  </thead>\n",
              "  <tbody>\n",
              "    <tr>\n",
              "      <th>count</th>\n",
              "      <td>15195.0000000000</td>\n",
              "      <td>15195.0000000000</td>\n",
              "      <td>15195.0000000000</td>\n",
              "      <td>15195.0000000000</td>\n",
              "      <td>45818.0000000000</td>\n",
              "      <td>15543.0000000000</td>\n",
              "      <td>15538.0000000000</td>\n",
              "      <td>45671.0000000000</td>\n",
              "      <td>15466.0000000000</td>\n",
              "      <td>15492.0000000000</td>\n",
              "      <td>21775.0000000000</td>\n",
              "      <td>21775.0000000000</td>\n",
              "      <td>44857.0000000000</td>\n",
              "      <td>15492.0000000000</td>\n",
              "      <td>45074.0000000000</td>\n",
              "      <td>45411.0000000000</td>\n",
              "      <td>21775.0000000000</td>\n",
              "      <td>21558.0000000000</td>\n",
              "      <td>45074.0000000000</td>\n",
              "      <td>45818.0000000000</td>\n",
              "    </tr>\n",
              "    <tr>\n",
              "      <th>mean</th>\n",
              "      <td>2.4052014478</td>\n",
              "      <td>2.3966458045</td>\n",
              "      <td>2.4013303718</td>\n",
              "      <td>2.3974621915</td>\n",
              "      <td>15.9117961063</td>\n",
              "      <td>8.6558245512</td>\n",
              "      <td>0.0563918136</td>\n",
              "      <td>46.5753090364</td>\n",
              "      <td>0.1833502522</td>\n",
              "      <td>5.5530794604</td>\n",
              "      <td>342.3857544432</td>\n",
              "      <td>122.5195240873</td>\n",
              "      <td>12.7278063624</td>\n",
              "      <td>2.3973903305</td>\n",
              "      <td>785.6681974974</td>\n",
              "      <td>25.4517538262</td>\n",
              "      <td>1686.7794147417</td>\n",
              "      <td>80.9726524260</td>\n",
              "      <td>785.6681974974</td>\n",
              "      <td>2479.3500000000</td>\n",
              "    </tr>\n",
              "    <tr>\n",
              "      <th>std</th>\n",
              "      <td>0.1992916197</td>\n",
              "      <td>0.1849050533</td>\n",
              "      <td>0.1995967297</td>\n",
              "      <td>0.1869998531</td>\n",
              "      <td>6.9907720581</td>\n",
              "      <td>0.0871481109</td>\n",
              "      <td>0.0162213336</td>\n",
              "      <td>29.8675895309</td>\n",
              "      <td>0.0590923281</td>\n",
              "      <td>1.3937728225</td>\n",
              "      <td>1346.4723012053</td>\n",
              "      <td>443.9613353179</td>\n",
              "      <td>100.4022770095</td>\n",
              "      <td>0.1812446187</td>\n",
              "      <td>6860.2036291303</td>\n",
              "      <td>12.8182017968</td>\n",
              "      <td>9959.2049033320</td>\n",
              "      <td>1767.9161958181</td>\n",
              "      <td>6860.2036291303</td>\n",
              "      <td>1322.6661653645</td>\n",
              "    </tr>\n",
              "    <tr>\n",
              "      <th>min</th>\n",
              "      <td>1.5130000000</td>\n",
              "      <td>1.5810000000</td>\n",
              "      <td>1.5390000000</td>\n",
              "      <td>1.5940000000</td>\n",
              "      <td>8.5000000000</td>\n",
              "      <td>8.3180000000</td>\n",
              "      <td>-0.0400000000</td>\n",
              "      <td>0.5150000000</td>\n",
              "      <td>0.0240000000</td>\n",
              "      <td>3.6470000000</td>\n",
              "      <td>-0.1650000000</td>\n",
              "      <td>0.0720000000</td>\n",
              "      <td>0.2360000000</td>\n",
              "      <td>1.6270000000</td>\n",
              "      <td>0.1400000000</td>\n",
              "      <td>0.0000000000</td>\n",
              "      <td>0.1390000000</td>\n",
              "      <td>0.2360000000</td>\n",
              "      <td>0.1400000000</td>\n",
              "      <td>188.5000000000</td>\n",
              "    </tr>\n",
              "    <tr>\n",
              "      <th>25%</th>\n",
              "      <td>2.2290000000</td>\n",
              "      <td>2.2270000000</td>\n",
              "      <td>2.2220000000</td>\n",
              "      <td>2.2240000000</td>\n",
              "      <td>8.5000000000</td>\n",
              "      <td>8.6250000000</td>\n",
              "      <td>0.0460000000</td>\n",
              "      <td>18.8970000000</td>\n",
              "      <td>0.1550000000</td>\n",
              "      <td>4.4240000000</td>\n",
              "      <td>1.9935000000</td>\n",
              "      <td>1.9750000000</td>\n",
              "      <td>0.8480000000</td>\n",
              "      <td>2.2300000000</td>\n",
              "      <td>0.9170000000</td>\n",
              "      <td>18.7585000000</td>\n",
              "      <td>2.2965000000</td>\n",
              "      <td>2.0190000000</td>\n",
              "      <td>0.9170000000</td>\n",
              "      <td>1333.9250000000</td>\n",
              "    </tr>\n",
              "    <tr>\n",
              "      <th>50%</th>\n",
              "      <td>2.3650000000</td>\n",
              "      <td>2.3700000000</td>\n",
              "      <td>2.3670000000</td>\n",
              "      <td>2.3710000000</td>\n",
              "      <td>17.5000000000</td>\n",
              "      <td>8.6250000000</td>\n",
              "      <td>0.0540000000</td>\n",
              "      <td>43.2090000000</td>\n",
              "      <td>0.1760000000</td>\n",
              "      <td>5.1260000000</td>\n",
              "      <td>4.3790000000</td>\n",
              "      <td>4.1400000000</td>\n",
              "      <td>1.4080000000</td>\n",
              "      <td>2.3750000000</td>\n",
              "      <td>1.4920000000</td>\n",
              "      <td>25.1040000000</td>\n",
              "      <td>5.1980000000</td>\n",
              "      <td>4.4540000000</td>\n",
              "      <td>1.4920000000</td>\n",
              "      <td>2479.3500000000</td>\n",
              "    </tr>\n",
              "    <tr>\n",
              "      <th>75%</th>\n",
              "      <td>2.5690000000</td>\n",
              "      <td>2.5570000000</td>\n",
              "      <td>2.5630000000</td>\n",
              "      <td>2.5610000000</td>\n",
              "      <td>26.0000000000</td>\n",
              "      <td>8.6720000000</td>\n",
              "      <td>0.0640000000</td>\n",
              "      <td>69.3685000000</td>\n",
              "      <td>0.2090000000</td>\n",
              "      <td>6.4112500000</td>\n",
              "      <td>16.5775000000</td>\n",
              "      <td>9.0035000000</td>\n",
              "      <td>4.1020000000</td>\n",
              "      <td>2.5610000000</td>\n",
              "      <td>4.7877500000</td>\n",
              "      <td>29.9840000000</td>\n",
              "      <td>27.6710000000</td>\n",
              "      <td>16.2760000000</td>\n",
              "      <td>4.7877500000</td>\n",
              "      <td>3624.7750000000</td>\n",
              "    </tr>\n",
              "    <tr>\n",
              "      <th>max</th>\n",
              "      <td>3.3620000000</td>\n",
              "      <td>3.1800000000</td>\n",
              "      <td>3.4020000000</td>\n",
              "      <td>3.2520000000</td>\n",
              "      <td>36.0000000000</td>\n",
              "      <td>10.3870000000</td>\n",
              "      <td>0.2010000000</td>\n",
              "      <td>170.7570000000</td>\n",
              "      <td>0.5410000000</td>\n",
              "      <td>11.2290000000</td>\n",
              "      <td>7705.4060000000</td>\n",
              "      <td>2109.2850000000</td>\n",
              "      <td>5456.2990000000</td>\n",
              "      <td>3.0900000000</td>\n",
              "      <td>97543.4220000000</td>\n",
              "      <td>193.0830000000</td>\n",
              "      <td>97543.4220000000</td>\n",
              "      <td>96973.3830000000</td>\n",
              "      <td>97543.4220000000</td>\n",
              "      <td>4770.2000000000</td>\n",
              "    </tr>\n",
              "  </tbody>\n",
              "</table>\n",
              "</div>\n",
              "      <button class=\"colab-df-convert\" onclick=\"convertToInteractive('df-25263763-8361-4000-8cb0-3e74bea294ce')\"\n",
              "              title=\"Convert this dataframe to an interactive table.\"\n",
              "              style=\"display:none;\">\n",
              "        \n",
              "  <svg xmlns=\"http://www.w3.org/2000/svg\" height=\"24px\"viewBox=\"0 0 24 24\"\n",
              "       width=\"24px\">\n",
              "    <path d=\"M0 0h24v24H0V0z\" fill=\"none\"/>\n",
              "    <path d=\"M18.56 5.44l.94 2.06.94-2.06 2.06-.94-2.06-.94-.94-2.06-.94 2.06-2.06.94zm-11 1L8.5 8.5l.94-2.06 2.06-.94-2.06-.94L8.5 2.5l-.94 2.06-2.06.94zm10 10l.94 2.06.94-2.06 2.06-.94-2.06-.94-.94-2.06-.94 2.06-2.06.94z\"/><path d=\"M17.41 7.96l-1.37-1.37c-.4-.4-.92-.59-1.43-.59-.52 0-1.04.2-1.43.59L10.3 9.45l-7.72 7.72c-.78.78-.78 2.05 0 2.83L4 21.41c.39.39.9.59 1.41.59.51 0 1.02-.2 1.41-.59l7.78-7.78 2.81-2.81c.8-.78.8-2.07 0-2.86zM5.41 20L4 18.59l7.72-7.72 1.47 1.35L5.41 20z\"/>\n",
              "  </svg>\n",
              "      </button>\n",
              "      \n",
              "  <style>\n",
              "    .colab-df-container {\n",
              "      display:flex;\n",
              "      flex-wrap:wrap;\n",
              "      gap: 12px;\n",
              "    }\n",
              "\n",
              "    .colab-df-convert {\n",
              "      background-color: #E8F0FE;\n",
              "      border: none;\n",
              "      border-radius: 50%;\n",
              "      cursor: pointer;\n",
              "      display: none;\n",
              "      fill: #1967D2;\n",
              "      height: 32px;\n",
              "      padding: 0 0 0 0;\n",
              "      width: 32px;\n",
              "    }\n",
              "\n",
              "    .colab-df-convert:hover {\n",
              "      background-color: #E2EBFA;\n",
              "      box-shadow: 0px 1px 2px rgba(60, 64, 67, 0.3), 0px 1px 3px 1px rgba(60, 64, 67, 0.15);\n",
              "      fill: #174EA6;\n",
              "    }\n",
              "\n",
              "    [theme=dark] .colab-df-convert {\n",
              "      background-color: #3B4455;\n",
              "      fill: #D2E3FC;\n",
              "    }\n",
              "\n",
              "    [theme=dark] .colab-df-convert:hover {\n",
              "      background-color: #434B5C;\n",
              "      box-shadow: 0px 1px 3px 1px rgba(0, 0, 0, 0.15);\n",
              "      filter: drop-shadow(0px 1px 2px rgba(0, 0, 0, 0.3));\n",
              "      fill: #FFFFFF;\n",
              "    }\n",
              "  </style>\n",
              "\n",
              "      <script>\n",
              "        const buttonEl =\n",
              "          document.querySelector('#df-25263763-8361-4000-8cb0-3e74bea294ce button.colab-df-convert');\n",
              "        buttonEl.style.display =\n",
              "          google.colab.kernel.accessAllowed ? 'block' : 'none';\n",
              "\n",
              "        async function convertToInteractive(key) {\n",
              "          const element = document.querySelector('#df-25263763-8361-4000-8cb0-3e74bea294ce');\n",
              "          const dataTable =\n",
              "            await google.colab.kernel.invokeFunction('convertToInteractive',\n",
              "                                                     [key], {});\n",
              "          if (!dataTable) return;\n",
              "\n",
              "          const docLinkHtml = 'Like what you see? Visit the ' +\n",
              "            '<a target=\"_blank\" href=https://colab.research.google.com/notebooks/data_table.ipynb>data table notebook</a>'\n",
              "            + ' to learn more about interactive tables.';\n",
              "          element.innerHTML = '';\n",
              "          dataTable['output_type'] = 'display_data';\n",
              "          await google.colab.output.renderOutput(dataTable, element);\n",
              "          const docLink = document.createElement('div');\n",
              "          docLink.innerHTML = docLinkHtml;\n",
              "          element.appendChild(docLink);\n",
              "        }\n",
              "      </script>\n",
              "    </div>\n",
              "  </div>\n",
              "  "
            ]
          },
          "metadata": {},
          "execution_count": 341
        }
      ]
    },
    {
      "cell_type": "code",
      "source": [
        "from google.colab import drive\n",
        "drive.mount('/content/drive')"
      ],
      "metadata": {
        "id": "pF3_38pPexjB",
        "colab": {
          "base_uri": "https://localhost:8080/"
        },
        "outputId": "1ce2f3c8-0db1-4e12-d1c5-048648d79db6"
      },
      "execution_count": 342,
      "outputs": [
        {
          "output_type": "stream",
          "name": "stdout",
          "text": [
            "Drive already mounted at /content/drive; to attempt to forcibly remount, call drive.mount(\"/content/drive\", force_remount=True).\n"
          ]
        }
      ]
    },
    {
      "cell_type": "markdown",
      "source": [
        "# Check missing data in each features"
      ],
      "metadata": {
        "id": "_FBXA3E-N46h"
      }
    },
    {
      "cell_type": "markdown",
      "source": [
        "Check missing data in each features"
      ],
      "metadata": {
        "id": "xjVIy3OnXrN5"
      }
    },
    {
      "cell_type": "code",
      "source": [
        "well_nan = df.notnull() * 1\n",
        "\n",
        "\n",
        "fig = plt.subplots(figsize=(7,10))\n",
        "\n",
        "#Set up the plot axes\n",
        "ax1 = plt.subplot2grid((1,21), (0,0), rowspan=1, colspan = 1) \n",
        "ax2 = plt.subplot2grid((1,21), (0,1), rowspan=1, colspan = 1)\n",
        "ax3 = plt.subplot2grid((1,21), (0,2), rowspan=1, colspan = 1)\n",
        "ax4 = plt.subplot2grid((1,21), (0,3), rowspan=1, colspan = 1)\n",
        "ax5 = plt.subplot2grid((1,21), (0,4), rowspan=1, colspan = 1)\n",
        "ax6 = plt.subplot2grid((1,21), (0,5), rowspan=1, colspan = 1)\n",
        "ax7 = plt.subplot2grid((1,21), (0,6), rowspan=1, colspan = 1)\n",
        "ax8 = plt.subplot2grid((1,21), (0,7), rowspan=1, colspan = 1)\n",
        "ax9 = plt.subplot2grid((1,21), (0,8), rowspan=1, colspan = 1)\n",
        "ax10 = plt.subplot2grid((1,21), (0,9), rowspan=1, colspan = 1)\n",
        "ax11 = plt.subplot2grid((1,21), (0,10), rowspan=1, colspan = 1)\n",
        "ax12 = plt.subplot2grid((1,21), (0,11), rowspan=1, colspan = 1)\n",
        "ax13 = plt.subplot2grid((1,21), (0,12), rowspan=1, colspan = 1)\n",
        "ax14 = plt.subplot2grid((1,21), (0,13), rowspan=1, colspan = 1)\n",
        "ax15 = plt.subplot2grid((1,21), (0,14), rowspan=1, colspan = 1)\n",
        "ax16 = plt.subplot2grid((1,21), (0,15), rowspan=1, colspan = 1)\n",
        "ax17 = plt.subplot2grid((1,21), (0,16), rowspan=1, colspan = 1)\n",
        "ax18 = plt.subplot2grid((1,21), (0,17), rowspan=1, colspan = 1)\n",
        "ax19 = plt.subplot2grid((1,21), (0,18), rowspan=1, colspan = 1)\n",
        "ax20 = plt.subplot2grid((1,21), (0,19), rowspan=1, colspan = 1)\n",
        "\n",
        "\n",
        "\n",
        "columns = well_nan.columns\n",
        "axes = [ax1, ax2, ax3, ax4, ax5, ax6, ax7, ax8, ax9, ax10, ax11, ax12, ax13, ax14, ax15, ax16, ax17, ax18, ax19, ax20]\n",
        "for i, ax in enumerate(axes):\n",
        "    ax.plot(well_nan.iloc[:,i], well_nan.index, lw=0)\n",
        "    ax.set_ylim(5000, 0)\n",
        "    ax.set_xlim(0, 1)\n",
        "    ax.set_title(columns[i], rotation='vertical')\n",
        "    ax.set_facecolor('whitesmoke')\n",
        "    ax.fill_betweenx(well_nan.index, 0, well_nan.iloc[:,i], facecolor='red')\n",
        "    \n",
        "    # Remove tick labels from each subplot\n",
        "    if i > 0:\n",
        "        plt.setp(ax.get_yticklabels(), visible = False)\n",
        "    plt.setp(ax.get_xticklabels(), visible = False)\n",
        "ax1.set_ylabel('Depth', fontsize=14)\n",
        "plt.subplots_adjust(wspace=0)\n",
        "plt.show()"
      ],
      "metadata": {
        "id": "eAn4exAle0yi",
        "colab": {
          "base_uri": "https://localhost:8080/",
          "height": 649
        },
        "outputId": "96bbe83c-970f-4747-b3b5-7876a571478d"
      },
      "execution_count": 343,
      "outputs": [
        {
          "output_type": "display_data",
          "data": {
            "text/plain": [
              "<Figure size 504x720 with 20 Axes>"
            ],
            "image/png": "[encoded data removed]"
          },
          "metadata": {
            "needs_background": "light"
          }
        }
      ]
    },
    {
      "cell_type": "code",
      "source": [
        "df.isnull().sum()"
      ],
      "metadata": {
        "colab": {
          "base_uri": "https://localhost:8080/"
        },
        "id": "-clZZoyUtsQQ",
        "outputId": "f3049911-f2e6-4258-a07f-44c924c970f1"
      },
      "execution_count": 344,
      "outputs": [
        {
          "output_type": "execute_result",
          "data": {
            "text/plain": [
              "ABDCQF01    30623\n",
              "ABDCQF02    30623\n",
              "ABDCQF03    30623\n",
              "ABDCQF04    30623\n",
              "BS              0\n",
              "CALI        30275\n",
              "DRHO        30280\n",
              "GR            147\n",
              "NPHI        30352\n",
              "PEF         30326\n",
              "RACEHM      24043\n",
              "RACELM      24043\n",
              "RD            961\n",
              "RHOB        30326\n",
              "RM            744\n",
              "ROP           407\n",
              "RPCEHM      24043\n",
              "RPCELM      24260\n",
              "RT            744\n",
              "DEPTH           0\n",
              "dtype: int64"
            ]
          },
          "metadata": {},
          "execution_count": 344
        }
      ]
    },
    {
      "cell_type": "code",
      "source": [
        "depthmin = []\n",
        "depthmax = []\n",
        "features = ['ABDCQF01','ABDCQF02','ABDCQF03','ABDCQF04','BS','CALI','DRHO','GR','NPHI','PEF','RACEHM','RACELM','RD','RHOB','RM','ROP','RPCEHM','RPCELM','RT','DEPTH']\n",
        "\n",
        "\"\"\"\n",
        "for x in features:\n",
        "  df = df[~df[x].isnull()]\n",
        "  print(df[x], df[x].max())\n",
        "\"\"\"\n",
        "\"\"\"\n",
        "for x in features:\n",
        "  df[x].notnull()\n",
        "  print(x,\"\\t\",df['DEPTH'].max() , df['DEPTH'].min())\n",
        "\"\"\"\n",
        "\n",
        "\n",
        "for x in features:\n",
        "  value_min = df[x].first_valid_index()\n",
        "  value_max = df[x].last_valid_index()\n",
        "  depthmin.append(value_min)\n",
        "  depthmax.append(value_max)\n",
        "\n",
        "minmaxvalues = pd.DataFrame(\n",
        "    {'features': features,\n",
        "     'min value': depthmin,\n",
        "     'max value': depthmax\n",
        "    })\n",
        "\n",
        "max= np.min(depthmax)\n",
        "max\n",
        "\n",
        "\n"
      ],
      "metadata": {
        "colab": {
          "base_uri": "https://localhost:8080/"
        },
        "id": "t_Yh1D84v8Er",
        "outputId": "f6998d8b-829d-4238-f087-d7e7e303a3c4"
      },
      "execution_count": 345,
      "outputs": [
        {
          "output_type": "execute_result",
          "data": {
            "text/plain": [
              "4744.7"
            ]
          },
          "metadata": {},
          "execution_count": 345
        }
      ]
    },
    {
      "cell_type": "code",
      "source": [
        "min= np.max(depthmin)\n",
        "min"
      ],
      "metadata": {
        "colab": {
          "base_uri": "https://localhost:8080/"
        },
        "id": "udBHmb9kfCwj",
        "outputId": "ac1a5ddf-7388-4b5d-98f8-7728f883f50b"
      },
      "execution_count": 346,
      "outputs": [
        {
          "output_type": "execute_result",
          "data": {
            "text/plain": [
              "3227.9"
            ]
          },
          "metadata": {},
          "execution_count": 346
        }
      ]
    },
    {
      "cell_type": "code",
      "source": [
        "# Extract dataset from depth 3227.9 – 4744.7 ft onwards\n",
        "\n",
        "df = df[(df['DEPTH'] >= min) & (df['DEPTH'] <= max)]\n",
        "df\n"
      ],
      "metadata": {
        "colab": {
          "base_uri": "https://localhost:8080/",
          "height": 455
        },
        "id": "4LNDpG613MaX",
        "outputId": "68eed981-b330-48f3-eba2-ad5011a3a168"
      },
      "execution_count": 347,
      "outputs": [
        {
          "output_type": "execute_result",
          "data": {
            "text/plain": [
              "        ABDCQF01  ABDCQF02  ABDCQF03  ABDCQF04   BS   CALI   DRHO      GR  \\\n",
              "DEPTH                                                                       \n",
              "3227.9     2.586     2.577     2.580     2.587  8.5  8.578  0.065  33.703   \n",
              "3228.0     2.590     2.565     2.583     2.579  8.5  8.578  0.065  36.314   \n",
              "3228.1     2.587     2.555     2.581     2.569  8.5  8.578  0.064  38.562   \n",
              "3228.2     2.582     2.549     2.576     2.561  8.5  8.597  0.061  38.466   \n",
              "3228.3     2.576     2.550     2.574     2.559  8.5  8.578  0.059  38.891   \n",
              "...          ...       ...       ...       ...  ...    ...    ...     ...   \n",
              "4744.3     2.461     2.458     2.440     2.439  8.5  8.641  0.081  16.249   \n",
              "4744.4     2.456     2.458     2.438     2.443  8.5  8.672  0.077  18.881   \n",
              "4744.5     2.449     2.451     2.431     2.443  8.5  8.672  0.070  20.047   \n",
              "4744.6     2.440     2.440     2.433     2.440  8.5  8.671  0.064  22.520   \n",
              "4744.7     2.427     2.431     2.450     2.442  8.5  8.568  0.059  25.265   \n",
              "\n",
              "         NPHI    PEF  RACEHM  RACELM     RD   RHOB     RM     ROP  RPCEHM  \\\n",
              "DEPTH                                                                       \n",
              "3227.9  0.136  7.173   3.450   3.165  3.464  2.579  3.918  12.214   3.918   \n",
              "3228.0  0.141  7.147   3.523   3.194  3.354  2.576  3.548  12.294   3.549   \n",
              "3228.1  0.146  7.115   3.671   3.259  3.147  2.572  3.044  12.480   3.044   \n",
              "3228.2  0.145  7.075   3.725   3.261  3.036  2.568  2.788  12.666   2.788   \n",
              "3228.3  0.150  7.038   3.694   3.296  2.903  2.565  2.795  12.853   2.795   \n",
              "...       ...    ...     ...     ...    ...    ...    ...     ...     ...   \n",
              "4744.3  0.115  4.329   1.384   1.693  1.550  2.447  1.809  17.408   1.809   \n",
              "4744.4  0.118  4.271   1.350   1.728  1.473  2.446  1.487  17.475   1.487   \n",
              "4744.5  0.121  4.162   1.507   1.782  1.366  2.441  1.208  17.546   1.208   \n",
              "4744.6  0.120  4.087   1.660   1.802  1.358  2.438  1.137  18.464   1.137   \n",
              "4744.7  0.125  4.136   1.765   1.817  1.417  2.440  1.093  19.383   1.093   \n",
              "\n",
              "        RPCELM     RT   DEPTH  \n",
              "DEPTH                          \n",
              "3227.9   3.464  3.918  3227.9  \n",
              "3228.0   3.354  3.548  3228.0  \n",
              "3228.1   3.147  3.044  3228.1  \n",
              "3228.2   3.036  2.788  3228.2  \n",
              "3228.3   2.903  2.795  3228.3  \n",
              "...        ...    ...     ...  \n",
              "4744.3   1.550  1.809  4744.3  \n",
              "4744.4   1.473  1.487  4744.4  \n",
              "4744.5   1.366  1.208  4744.5  \n",
              "4744.6   1.358  1.137  4744.6  \n",
              "4744.7   1.417  1.093  4744.7  \n",
              "\n",
              "[15169 rows x 20 columns]"
            ],
            "text/html": [
              "\n",
              "  <div id=\"df-2842246c-b48b-48b3-b599-c007ab75ec1f\">\n",
              "    <div class=\"colab-df-container\">\n",
              "      <div>\n",
              "<style scoped>\n",
              "    .dataframe tbody tr th:only-of-type {\n",
              "        vertical-align: middle;\n",
              "    }\n",
              "\n",
              "    .dataframe tbody tr th {\n",
              "        vertical-align: top;\n",
              "    }\n",
              "\n",
              "    .dataframe thead th {\n",
              "        text-align: right;\n",
              "    }\n",
              "</style>\n",
              "<table border=\"1\" class=\"dataframe\">\n",
              "  <thead>\n",
              "    <tr style=\"text-align: right;\">\n",
              "      <th></th>\n",
              "      <th>ABDCQF01</th>\n",
              "      <th>ABDCQF02</th>\n",
              "      <th>ABDCQF03</th>\n",
              "      <th>ABDCQF04</th>\n",
              "      <th>BS</th>\n",
              "      <th>CALI</th>\n",
              "      <th>DRHO</th>\n",
              "      <th>GR</th>\n",
              "      <th>NPHI</th>\n",
              "      <th>PEF</th>\n",
              "      <th>RACEHM</th>\n",
              "      <th>RACELM</th>\n",
              "      <th>RD</th>\n",
              "      <th>RHOB</th>\n",
              "      <th>RM</th>\n",
              "      <th>ROP</th>\n",
              "      <th>RPCEHM</th>\n",
              "      <th>RPCELM</th>\n",
              "      <th>RT</th>\n",
              "      <th>DEPTH</th>\n",
              "    </tr>\n",
              "    <tr>\n",
              "      <th>DEPTH</th>\n",
              "      <th></th>\n",
              "      <th></th>\n",
              "      <th></th>\n",
              "      <th></th>\n",
              "      <th></th>\n",
              "      <th></th>\n",
              "      <th></th>\n",
              "      <th></th>\n",
              "      <th></th>\n",
              "      <th></th>\n",
              "      <th></th>\n",
              "      <th></th>\n",
              "      <th></th>\n",
              "      <th></th>\n",
              "      <th></th>\n",
              "      <th></th>\n",
              "      <th></th>\n",
              "      <th></th>\n",
              "      <th></th>\n",
              "      <th></th>\n",
              "    </tr>\n",
              "  </thead>\n",
              "  <tbody>\n",
              "    <tr>\n",
              "      <th>3227.9</th>\n",
              "      <td>2.586</td>\n",
              "      <td>2.577</td>\n",
              "      <td>2.580</td>\n",
              "      <td>2.587</td>\n",
              "      <td>8.5</td>\n",
              "      <td>8.578</td>\n",
              "      <td>0.065</td>\n",
              "      <td>33.703</td>\n",
              "      <td>0.136</td>\n",
              "      <td>7.173</td>\n",
              "      <td>3.450</td>\n",
              "      <td>3.165</td>\n",
              "      <td>3.464</td>\n",
              "      <td>2.579</td>\n",
              "      <td>3.918</td>\n",
              "      <td>12.214</td>\n",
              "      <td>3.918</td>\n",
              "      <td>3.464</td>\n",
              "      <td>3.918</td>\n",
              "      <td>3227.9</td>\n",
              "    </tr>\n",
              "    <tr>\n",
              "      <th>3228.0</th>\n",
              "      <td>2.590</td>\n",
              "      <td>2.565</td>\n",
              "      <td>2.583</td>\n",
              "      <td>2.579</td>\n",
              "      <td>8.5</td>\n",
              "      <td>8.578</td>\n",
              "      <td>0.065</td>\n",
              "      <td>36.314</td>\n",
              "      <td>0.141</td>\n",
              "      <td>7.147</td>\n",
              "      <td>3.523</td>\n",
              "      <td>3.194</td>\n",
              "      <td>3.354</td>\n",
              "      <td>2.576</td>\n",
              "      <td>3.548</td>\n",
              "      <td>12.294</td>\n",
              "      <td>3.549</td>\n",
              "      <td>3.354</td>\n",
              "      <td>3.548</td>\n",
              "      <td>3228.0</td>\n",
              "    </tr>\n",
              "    <tr>\n",
              "      <th>3228.1</th>\n",
              "      <td>2.587</td>\n",
              "      <td>2.555</td>\n",
              "      <td>2.581</td>\n",
              "      <td>2.569</td>\n",
              "      <td>8.5</td>\n",
              "      <td>8.578</td>\n",
              "      <td>0.064</td>\n",
              "      <td>38.562</td>\n",
              "      <td>0.146</td>\n",
              "      <td>7.115</td>\n",
              "      <td>3.671</td>\n",
              "      <td>3.259</td>\n",
              "      <td>3.147</td>\n",
              "      <td>2.572</td>\n",
              "      <td>3.044</td>\n",
              "      <td>12.480</td>\n",
              "      <td>3.044</td>\n",
              "      <td>3.147</td>\n",
              "      <td>3.044</td>\n",
              "      <td>3228.1</td>\n",
              "    </tr>\n",
              "    <tr>\n",
              "      <th>3228.2</th>\n",
              "      <td>2.582</td>\n",
              "      <td>2.549</td>\n",
              "      <td>2.576</td>\n",
              "      <td>2.561</td>\n",
              "      <td>8.5</td>\n",
              "      <td>8.597</td>\n",
              "      <td>0.061</td>\n",
              "      <td>38.466</td>\n",
              "      <td>0.145</td>\n",
              "      <td>7.075</td>\n",
              "      <td>3.725</td>\n",
              "      <td>3.261</td>\n",
              "      <td>3.036</td>\n",
              "      <td>2.568</td>\n",
              "      <td>2.788</td>\n",
              "      <td>12.666</td>\n",
              "      <td>2.788</td>\n",
              "      <td>3.036</td>\n",
              "      <td>2.788</td>\n",
              "      <td>3228.2</td>\n",
              "    </tr>\n",
              "    <tr>\n",
              "      <th>3228.3</th>\n",
              "      <td>2.576</td>\n",
              "      <td>2.550</td>\n",
              "      <td>2.574</td>\n",
              "      <td>2.559</td>\n",
              "      <td>8.5</td>\n",
              "      <td>8.578</td>\n",
              "      <td>0.059</td>\n",
              "      <td>38.891</td>\n",
              "      <td>0.150</td>\n",
              "      <td>7.038</td>\n",
              "      <td>3.694</td>\n",
              "      <td>3.296</td>\n",
              "      <td>2.903</td>\n",
              "      <td>2.565</td>\n",
              "      <td>2.795</td>\n",
              "      <td>12.853</td>\n",
              "      <td>2.795</td>\n",
              "      <td>2.903</td>\n",
              "      <td>2.795</td>\n",
              "      <td>3228.3</td>\n",
              "    </tr>\n",
              "    <tr>\n",
              "      <th>...</th>\n",
              "      <td>...</td>\n",
              "      <td>...</td>\n",
              "      <td>...</td>\n",
              "      <td>...</td>\n",
              "      <td>...</td>\n",
              "      <td>...</td>\n",
              "      <td>...</td>\n",
              "      <td>...</td>\n",
              "      <td>...</td>\n",
              "      <td>...</td>\n",
              "      <td>...</td>\n",
              "      <td>...</td>\n",
              "      <td>...</td>\n",
              "      <td>...</td>\n",
              "      <td>...</td>\n",
              "      <td>...</td>\n",
              "      <td>...</td>\n",
              "      <td>...</td>\n",
              "      <td>...</td>\n",
              "      <td>...</td>\n",
              "    </tr>\n",
              "    <tr>\n",
              "      <th>4744.3</th>\n",
              "      <td>2.461</td>\n",
              "      <td>2.458</td>\n",
              "      <td>2.440</td>\n",
              "      <td>2.439</td>\n",
              "      <td>8.5</td>\n",
              "      <td>8.641</td>\n",
              "      <td>0.081</td>\n",
              "      <td>16.249</td>\n",
              "      <td>0.115</td>\n",
              "      <td>4.329</td>\n",
              "      <td>1.384</td>\n",
              "      <td>1.693</td>\n",
              "      <td>1.550</td>\n",
              "      <td>2.447</td>\n",
              "      <td>1.809</td>\n",
              "      <td>17.408</td>\n",
              "      <td>1.809</td>\n",
              "      <td>1.550</td>\n",
              "      <td>1.809</td>\n",
              "      <td>4744.3</td>\n",
              "    </tr>\n",
              "    <tr>\n",
              "      <th>4744.4</th>\n",
              "      <td>2.456</td>\n",
              "      <td>2.458</td>\n",
              "      <td>2.438</td>\n",
              "      <td>2.443</td>\n",
              "      <td>8.5</td>\n",
              "      <td>8.672</td>\n",
              "      <td>0.077</td>\n",
              "      <td>18.881</td>\n",
              "      <td>0.118</td>\n",
              "      <td>4.271</td>\n",
              "      <td>1.350</td>\n",
              "      <td>1.728</td>\n",
              "      <td>1.473</td>\n",
              "      <td>2.446</td>\n",
              "      <td>1.487</td>\n",
              "      <td>17.475</td>\n",
              "      <td>1.487</td>\n",
              "      <td>1.473</td>\n",
              "      <td>1.487</td>\n",
              "      <td>4744.4</td>\n",
              "    </tr>\n",
              "    <tr>\n",
              "      <th>4744.5</th>\n",
              "      <td>2.449</td>\n",
              "      <td>2.451</td>\n",
              "      <td>2.431</td>\n",
              "      <td>2.443</td>\n",
              "      <td>8.5</td>\n",
              "      <td>8.672</td>\n",
              "      <td>0.070</td>\n",
              "      <td>20.047</td>\n",
              "      <td>0.121</td>\n",
              "      <td>4.162</td>\n",
              "      <td>1.507</td>\n",
              "      <td>1.782</td>\n",
              "      <td>1.366</td>\n",
              "      <td>2.441</td>\n",
              "      <td>1.208</td>\n",
              "      <td>17.546</td>\n",
              "      <td>1.208</td>\n",
              "      <td>1.366</td>\n",
              "      <td>1.208</td>\n",
              "      <td>4744.5</td>\n",
              "    </tr>\n",
              "    <tr>\n",
              "      <th>4744.6</th>\n",
              "      <td>2.440</td>\n",
              "      <td>2.440</td>\n",
              "      <td>2.433</td>\n",
              "      <td>2.440</td>\n",
              "      <td>8.5</td>\n",
              "      <td>8.671</td>\n",
              "      <td>0.064</td>\n",
              "      <td>22.520</td>\n",
              "      <td>0.120</td>\n",
              "      <td>4.087</td>\n",
              "      <td>1.660</td>\n",
              "      <td>1.802</td>\n",
              "      <td>1.358</td>\n",
              "      <td>2.438</td>\n",
              "      <td>1.137</td>\n",
              "      <td>18.464</td>\n",
              "      <td>1.137</td>\n",
              "      <td>1.358</td>\n",
              "      <td>1.137</td>\n",
              "      <td>4744.6</td>\n",
              "    </tr>\n",
              "    <tr>\n",
              "      <th>4744.7</th>\n",
              "      <td>2.427</td>\n",
              "      <td>2.431</td>\n",
              "      <td>2.450</td>\n",
              "      <td>2.442</td>\n",
              "      <td>8.5</td>\n",
              "      <td>8.568</td>\n",
              "      <td>0.059</td>\n",
              "      <td>25.265</td>\n",
              "      <td>0.125</td>\n",
              "      <td>4.136</td>\n",
              "      <td>1.765</td>\n",
              "      <td>1.817</td>\n",
              "      <td>1.417</td>\n",
              "      <td>2.440</td>\n",
              "      <td>1.093</td>\n",
              "      <td>19.383</td>\n",
              "      <td>1.093</td>\n",
              "      <td>1.417</td>\n",
              "      <td>1.093</td>\n",
              "      <td>4744.7</td>\n",
              "    </tr>\n",
              "  </tbody>\n",
              "</table>\n",
              "<p>15169 rows × 20 columns</p>\n",
              "</div>\n",
              "      <button class=\"colab-df-convert\" onclick=\"convertToInteractive('df-2842246c-b48b-48b3-b599-c007ab75ec1f')\"\n",
              "              title=\"Convert this dataframe to an interactive table.\"\n",
              "              style=\"display:none;\">\n",
              "        \n",
              "  <svg xmlns=\"http://www.w3.org/2000/svg\" height=\"24px\"viewBox=\"0 0 24 24\"\n",
              "       width=\"24px\">\n",
              "    <path d=\"M0 0h24v24H0V0z\" fill=\"none\"/>\n",
              "    <path d=\"M18.56 5.44l.94 2.06.94-2.06 2.06-.94-2.06-.94-.94-2.06-.94 2.06-2.06.94zm-11 1L8.5 8.5l.94-2.06 2.06-.94-2.06-.94L8.5 2.5l-.94 2.06-2.06.94zm10 10l.94 2.06.94-2.06 2.06-.94-2.06-.94-.94-2.06-.94 2.06-2.06.94z\"/><path d=\"M17.41 7.96l-1.37-1.37c-.4-.4-.92-.59-1.43-.59-.52 0-1.04.2-1.43.59L10.3 9.45l-7.72 7.72c-.78.78-.78 2.05 0 2.83L4 21.41c.39.39.9.59 1.41.59.51 0 1.02-.2 1.41-.59l7.78-7.78 2.81-2.81c.8-.78.8-2.07 0-2.86zM5.41 20L4 18.59l7.72-7.72 1.47 1.35L5.41 20z\"/>\n",
              "  </svg>\n",
              "      </button>\n",
              "      \n",
              "  <style>\n",
              "    .colab-df-container {\n",
              "      display:flex;\n",
              "      flex-wrap:wrap;\n",
              "      gap: 12px;\n",
              "    }\n",
              "\n",
              "    .colab-df-convert {\n",
              "      background-color: #E8F0FE;\n",
              "      border: none;\n",
              "      border-radius: 50%;\n",
              "      cursor: pointer;\n",
              "      display: none;\n",
              "      fill: #1967D2;\n",
              "      height: 32px;\n",
              "      padding: 0 0 0 0;\n",
              "      width: 32px;\n",
              "    }\n",
              "\n",
              "    .colab-df-convert:hover {\n",
              "      background-color: #E2EBFA;\n",
              "      box-shadow: 0px 1px 2px rgba(60, 64, 67, 0.3), 0px 1px 3px 1px rgba(60, 64, 67, 0.15);\n",
              "      fill: #174EA6;\n",
              "    }\n",
              "\n",
              "    [theme=dark] .colab-df-convert {\n",
              "      background-color: #3B4455;\n",
              "      fill: #D2E3FC;\n",
              "    }\n",
              "\n",
              "    [theme=dark] .colab-df-convert:hover {\n",
              "      background-color: #434B5C;\n",
              "      box-shadow: 0px 1px 3px 1px rgba(0, 0, 0, 0.15);\n",
              "      filter: drop-shadow(0px 1px 2px rgba(0, 0, 0, 0.3));\n",
              "      fill: #FFFFFF;\n",
              "    }\n",
              "  </style>\n",
              "\n",
              "      <script>\n",
              "        const buttonEl =\n",
              "          document.querySelector('#df-2842246c-b48b-48b3-b599-c007ab75ec1f button.colab-df-convert');\n",
              "        buttonEl.style.display =\n",
              "          google.colab.kernel.accessAllowed ? 'block' : 'none';\n",
              "\n",
              "        async function convertToInteractive(key) {\n",
              "          const element = document.querySelector('#df-2842246c-b48b-48b3-b599-c007ab75ec1f');\n",
              "          const dataTable =\n",
              "            await google.colab.kernel.invokeFunction('convertToInteractive',\n",
              "                                                     [key], {});\n",
              "          if (!dataTable) return;\n",
              "\n",
              "          const docLinkHtml = 'Like what you see? Visit the ' +\n",
              "            '<a target=\"_blank\" href=https://colab.research.google.com/notebooks/data_table.ipynb>data table notebook</a>'\n",
              "            + ' to learn more about interactive tables.';\n",
              "          element.innerHTML = '';\n",
              "          dataTable['output_type'] = 'display_data';\n",
              "          await google.colab.output.renderOutput(dataTable, element);\n",
              "          const docLink = document.createElement('div');\n",
              "          docLink.innerHTML = docLinkHtml;\n",
              "          element.appendChild(docLink);\n",
              "        }\n",
              "      </script>\n",
              "    </div>\n",
              "  </div>\n",
              "  "
            ]
          },
          "metadata": {},
          "execution_count": 347
        }
      ]
    },
    {
      "cell_type": "code",
      "source": [
        "well_nan = df.notnull() * 1\n",
        "\n",
        "\n",
        "fig = plt.subplots(figsize=(7,10))\n",
        "\n",
        "#Set up the plot axes\n",
        "ax1 = plt.subplot2grid((1,21), (0,0), rowspan=1, colspan = 1) \n",
        "ax2 = plt.subplot2grid((1,21), (0,1), rowspan=1, colspan = 1)\n",
        "ax3 = plt.subplot2grid((1,21), (0,2), rowspan=1, colspan = 1)\n",
        "ax4 = plt.subplot2grid((1,21), (0,3), rowspan=1, colspan = 1)\n",
        "ax5 = plt.subplot2grid((1,21), (0,4), rowspan=1, colspan = 1)\n",
        "ax6 = plt.subplot2grid((1,21), (0,5), rowspan=1, colspan = 1)\n",
        "ax7 = plt.subplot2grid((1,21), (0,6), rowspan=1, colspan = 1)\n",
        "ax8 = plt.subplot2grid((1,21), (0,7), rowspan=1, colspan = 1)\n",
        "ax9 = plt.subplot2grid((1,21), (0,8), rowspan=1, colspan = 1)\n",
        "ax10 = plt.subplot2grid((1,21), (0,9), rowspan=1, colspan = 1)\n",
        "ax11 = plt.subplot2grid((1,21), (0,10), rowspan=1, colspan = 1)\n",
        "ax12 = plt.subplot2grid((1,21), (0,11), rowspan=1, colspan = 1)\n",
        "ax13 = plt.subplot2grid((1,21), (0,12), rowspan=1, colspan = 1)\n",
        "ax14 = plt.subplot2grid((1,21), (0,13), rowspan=1, colspan = 1)\n",
        "ax15 = plt.subplot2grid((1,21), (0,14), rowspan=1, colspan = 1)\n",
        "ax16 = plt.subplot2grid((1,21), (0,15), rowspan=1, colspan = 1)\n",
        "ax17 = plt.subplot2grid((1,21), (0,16), rowspan=1, colspan = 1)\n",
        "ax18 = plt.subplot2grid((1,21), (0,17), rowspan=1, colspan = 1)\n",
        "ax19 = plt.subplot2grid((1,21), (0,18), rowspan=1, colspan = 1)\n",
        "ax20 = plt.subplot2grid((1,21), (0,19), rowspan=1, colspan = 1)\n",
        "\n",
        "\n",
        "\n",
        "columns = well_nan.columns\n",
        "axes = [ax1, ax2, ax3, ax4, ax5, ax6, ax7, ax8, ax9, ax10, ax11, ax12, ax13, ax14, ax15, ax16, ax17, ax18, ax19, ax20]\n",
        "for i, ax in enumerate(axes):\n",
        "    ax.plot(well_nan.iloc[:,i], well_nan.index, lw=0)\n",
        "    ax.set_ylim(5000, 0)\n",
        "    ax.set_xlim(0, 1)\n",
        "    ax.set_title(columns[i], rotation='vertical')\n",
        "    ax.set_facecolor('whitesmoke')\n",
        "    ax.fill_betweenx(well_nan.index, 0, well_nan.iloc[:,i], facecolor='red')\n",
        "    # Remove tick labels from each subplot\n",
        "    if i > 0:\n",
        "        plt.setp(ax.get_yticklabels(), visible = False)\n",
        "    plt.setp(ax.get_xticklabels(), visible = False)\n",
        "ax1.set_ylabel('Depth', fontsize=14)\n",
        "plt.subplots_adjust(wspace=0)\n",
        "plt.show()"
      ],
      "metadata": {
        "colab": {
          "base_uri": "https://localhost:8080/",
          "height": 649
        },
        "id": "yJplWdor8V0y",
        "outputId": "f4ead7c2-66ee-43de-ae53-70714ba2df51"
      },
      "execution_count": 348,
      "outputs": [
        {
          "output_type": "display_data",
          "data": {
            "text/plain": [
              "<Figure size 504x720 with 20 Axes>"
            ],
            "image/png": "[encoded data removed]"
          },
          "metadata": {
            "needs_background": "light"
          }
        }
      ]
    },
    {
      "cell_type": "code",
      "source": [
        "df.isnull().sum()"
      ],
      "metadata": {
        "colab": {
          "base_uri": "https://localhost:8080/"
        },
        "id": "aWiNjIZVAKBT",
        "outputId": "8363efdd-39a3-4c98-a8fb-fd4535811248"
      },
      "execution_count": 349,
      "outputs": [
        {
          "output_type": "execute_result",
          "data": {
            "text/plain": [
              "ABDCQF01      0\n",
              "ABDCQF02      0\n",
              "ABDCQF03      0\n",
              "ABDCQF04      0\n",
              "BS            0\n",
              "CALI          0\n",
              "DRHO          0\n",
              "GR            0\n",
              "NPHI          0\n",
              "PEF           0\n",
              "RACEHM        0\n",
              "RACELM        0\n",
              "RD          217\n",
              "RHOB          0\n",
              "RM            0\n",
              "ROP          21\n",
              "RPCEHM        0\n",
              "RPCELM      217\n",
              "RT            0\n",
              "DEPTH         0\n",
              "dtype: int64"
            ]
          },
          "metadata": {},
          "execution_count": 349
        }
      ]
    },
    {
      "cell_type": "code",
      "source": [
        "df = df.dropna()"
      ],
      "metadata": {
        "id": "a3wnZx_UAZKC"
      },
      "execution_count": 350,
      "outputs": []
    },
    {
      "cell_type": "code",
      "source": [
        "df.isnull().sum()"
      ],
      "metadata": {
        "colab": {
          "base_uri": "https://localhost:8080/"
        },
        "id": "zRxb1bzrAcI5",
        "outputId": "98b1dffd-678b-43e1-8539-9c19e40bd59d"
      },
      "execution_count": 351,
      "outputs": [
        {
          "output_type": "execute_result",
          "data": {
            "text/plain": [
              "ABDCQF01    0\n",
              "ABDCQF02    0\n",
              "ABDCQF03    0\n",
              "ABDCQF04    0\n",
              "BS          0\n",
              "CALI        0\n",
              "DRHO        0\n",
              "GR          0\n",
              "NPHI        0\n",
              "PEF         0\n",
              "RACEHM      0\n",
              "RACELM      0\n",
              "RD          0\n",
              "RHOB        0\n",
              "RM          0\n",
              "ROP         0\n",
              "RPCEHM      0\n",
              "RPCELM      0\n",
              "RT          0\n",
              "DEPTH       0\n",
              "dtype: int64"
            ]
          },
          "metadata": {},
          "execution_count": 351
        }
      ]
    },
    {
      "cell_type": "code",
      "source": [
        "well_nan = df.notnull() * 1\n",
        "\n",
        "\n",
        "fig = plt.subplots(figsize=(7,10))\n",
        "\n",
        "#Set up the plot axes\n",
        "ax1 = plt.subplot2grid((1,21), (0,0), rowspan=1, colspan = 1) \n",
        "ax2 = plt.subplot2grid((1,21), (0,1), rowspan=1, colspan = 1)\n",
        "ax3 = plt.subplot2grid((1,21), (0,2), rowspan=1, colspan = 1)\n",
        "ax4 = plt.subplot2grid((1,21), (0,3), rowspan=1, colspan = 1)\n",
        "ax5 = plt.subplot2grid((1,21), (0,4), rowspan=1, colspan = 1)\n",
        "ax6 = plt.subplot2grid((1,21), (0,5), rowspan=1, colspan = 1)\n",
        "ax7 = plt.subplot2grid((1,21), (0,6), rowspan=1, colspan = 1)\n",
        "ax8 = plt.subplot2grid((1,21), (0,7), rowspan=1, colspan = 1)\n",
        "ax9 = plt.subplot2grid((1,21), (0,8), rowspan=1, colspan = 1)\n",
        "ax10 = plt.subplot2grid((1,21), (0,9), rowspan=1, colspan = 1)\n",
        "ax11 = plt.subplot2grid((1,21), (0,10), rowspan=1, colspan = 1)\n",
        "ax12 = plt.subplot2grid((1,21), (0,11), rowspan=1, colspan = 1)\n",
        "ax13 = plt.subplot2grid((1,21), (0,12), rowspan=1, colspan = 1)\n",
        "ax14 = plt.subplot2grid((1,21), (0,13), rowspan=1, colspan = 1)\n",
        "ax15 = plt.subplot2grid((1,21), (0,14), rowspan=1, colspan = 1)\n",
        "ax16 = plt.subplot2grid((1,21), (0,15), rowspan=1, colspan = 1)\n",
        "ax17 = plt.subplot2grid((1,21), (0,16), rowspan=1, colspan = 1)\n",
        "ax18 = plt.subplot2grid((1,21), (0,17), rowspan=1, colspan = 1)\n",
        "ax19 = plt.subplot2grid((1,21), (0,18), rowspan=1, colspan = 1)\n",
        "ax20 = plt.subplot2grid((1,21), (0,19), rowspan=1, colspan = 1)\n",
        "\n",
        "\n",
        "\n",
        "columns = well_nan.columns\n",
        "axes = [ax1, ax2, ax3, ax4, ax5, ax6, ax7, ax8, ax9, ax10, ax11, ax12, ax13, ax14, ax15, ax16, ax17, ax18, ax19, ax20]\n",
        "for i, ax in enumerate(axes):\n",
        "    ax.plot(well_nan.iloc[:,i], well_nan.index, lw=0)\n",
        "    ax.set_ylim(5000, 0)\n",
        "    ax.set_xlim(0, 1)\n",
        "    ax.set_title(columns[i], rotation='vertical')\n",
        "    ax.set_facecolor('whitesmoke')\n",
        "    ax.fill_betweenx(well_nan.index, 0, well_nan.iloc[:,i], facecolor='red')\n",
        "    # Remove tick labels from each subplot\n",
        "    if i > 0:\n",
        "        plt.setp(ax.get_yticklabels(), visible = False)\n",
        "    plt.setp(ax.get_xticklabels(), visible = False)\n",
        "ax1.set_ylabel('Depth', fontsize=14)\n",
        "plt.subplots_adjust(wspace=0)\n",
        "plt.show()"
      ],
      "metadata": {
        "colab": {
          "base_uri": "https://localhost:8080/",
          "height": 649
        },
        "id": "JnLopDr5Aiap",
        "outputId": "5123af36-1f40-400e-d44d-c85cada01c32"
      },
      "execution_count": 352,
      "outputs": [
        {
          "output_type": "display_data",
          "data": {
            "text/plain": [
              "<Figure size 504x720 with 20 Axes>"
            ],
            "image/png": "[encoded data removed]"
          },
          "metadata": {
            "needs_background": "light"
          }
        }
      ]
    },
    {
      "cell_type": "code",
      "source": [
        "df.info()"
      ],
      "metadata": {
        "colab": {
          "base_uri": "https://localhost:8080/"
        },
        "id": "kf7f4gnpocID",
        "outputId": "8eee5688-b0c2-4514-a771-e77c08cfbf3a"
      },
      "execution_count": 353,
      "outputs": [
        {
          "output_type": "stream",
          "name": "stdout",
          "text": [
            "<class 'pandas.core.frame.DataFrame'>\n",
            "Float64Index: 14931 entries, 3227.9 to 4744.7\n",
            "Data columns (total 20 columns):\n",
            " #   Column    Non-Null Count  Dtype  \n",
            "---  ------    --------------  -----  \n",
            " 0   ABDCQF01  14931 non-null  float64\n",
            " 1   ABDCQF02  14931 non-null  float64\n",
            " 2   ABDCQF03  14931 non-null  float64\n",
            " 3   ABDCQF04  14931 non-null  float64\n",
            " 4   BS        14931 non-null  float64\n",
            " 5   CALI      14931 non-null  float64\n",
            " 6   DRHO      14931 non-null  float64\n",
            " 7   GR        14931 non-null  float64\n",
            " 8   NPHI      14931 non-null  float64\n",
            " 9   PEF       14931 non-null  float64\n",
            " 10  RACEHM    14931 non-null  float64\n",
            " 11  RACELM    14931 non-null  float64\n",
            " 12  RD        14931 non-null  float64\n",
            " 13  RHOB      14931 non-null  float64\n",
            " 14  RM        14931 non-null  float64\n",
            " 15  ROP       14931 non-null  float64\n",
            " 16  RPCEHM    14931 non-null  float64\n",
            " 17  RPCELM    14931 non-null  float64\n",
            " 18  RT        14931 non-null  float64\n",
            " 19  DEPTH     14931 non-null  float64\n",
            "dtypes: float64(20)\n",
            "memory usage: 2.4 MB\n"
          ]
        }
      ]
    },
    {
      "cell_type": "markdown",
      "source": [
        "# Check zeros"
      ],
      "metadata": {
        "id": "nDIda3zUOFAb"
      }
    },
    {
      "cell_type": "code",
      "source": [
        "# Check zeros\n",
        "\n",
        "count = (df['DEPTH'] == 0).sum()\n",
        "count"
      ],
      "metadata": {
        "colab": {
          "base_uri": "https://localhost:8080/"
        },
        "id": "lqTMwbVCNnzo",
        "outputId": "655f49ff-e2b5-4d68-dfa0-9ecddc348774"
      },
      "execution_count": 354,
      "outputs": [
        {
          "output_type": "execute_result",
          "data": {
            "text/plain": [
              "0"
            ]
          },
          "metadata": {},
          "execution_count": 354
        }
      ]
    },
    {
      "cell_type": "markdown",
      "source": [
        "# Check other types of missing values"
      ],
      "metadata": {
        "id": "G2gqYZBQOJuI"
      }
    },
    {
      "cell_type": "code",
      "source": [
        "# Check other types of missing values\n",
        "\n",
        "# Making a list of missing value types\n",
        "# missing_values = [\"n/a\", \"na\", \"--\"]\n",
        "\n",
        "\n",
        "\n",
        "print('na' in df['DEPTH'].unique())"
      ],
      "metadata": {
        "colab": {
          "base_uri": "https://localhost:8080/"
        },
        "id": "ulN6YyCpRWuM",
        "outputId": "b3e6b048-15a6-4bfa-d8bc-99a4a09ae7c5"
      },
      "execution_count": 355,
      "outputs": [
        {
          "output_type": "stream",
          "name": "stdout",
          "text": [
            "False\n"
          ]
        },
        {
          "output_type": "stream",
          "name": "stderr",
          "text": [
            "/usr/local/lib/python3.7/dist-packages/ipykernel_launcher.py:8: FutureWarning: elementwise comparison failed; returning scalar instead, but in the future will perform elementwise comparison\n",
            "  \n"
          ]
        }
      ]
    },
    {
      "cell_type": "code",
      "source": [
        "df.describe()"
      ],
      "metadata": {
        "colab": {
          "base_uri": "https://localhost:8080/",
          "height": 364
        },
        "id": "eln0R3J1CgMr",
        "outputId": "f2aaed01-1e84-4eaf-a123-1f4448d87f61"
      },
      "execution_count": 356,
      "outputs": [
        {
          "output_type": "execute_result",
          "data": {
            "text/plain": [
              "               ABDCQF01          ABDCQF02          ABDCQF03          ABDCQF04  \\\n",
              "count  14931.0000000000  14931.0000000000  14931.0000000000  14931.0000000000   \n",
              "mean       2.4038300181      2.3966264148      2.4015516710      2.3961255777   \n",
              "std        0.1986268769      0.1855239271      0.2005574497      0.1869820049   \n",
              "min        1.5130000000      1.5810000000      1.5390000000      1.5940000000   \n",
              "25%        2.2290000000      2.2260000000      2.2210000000      2.2230000000   \n",
              "50%        2.3610000000      2.3690000000      2.3660000000      2.3680000000   \n",
              "75%        2.5680000000      2.5570000000      2.5650000000      2.5600000000   \n",
              "max        3.3620000000      3.1800000000      3.4020000000      3.2520000000   \n",
              "\n",
              "            BS              CALI              DRHO                GR  \\\n",
              "count  14931.0  14931.0000000000  14931.0000000000  14931.0000000000   \n",
              "mean       8.5      8.6554274998      0.0562717835     34.2819501038   \n",
              "std        0.0      0.0723792730      0.0156968329     19.8502484781   \n",
              "min        8.5      8.3180000000     -0.0400000000      8.1960000000   \n",
              "25%        8.5      8.6250000000      0.0460000000     18.0550000000   \n",
              "50%        8.5      8.6380000000      0.0540000000     29.0300000000   \n",
              "75%        8.5      8.6720000000      0.0650000000     44.0980000000   \n",
              "max        8.5      9.1750000000      0.2010000000    123.3620000000   \n",
              "\n",
              "                   NPHI               PEF            RACEHM            RACELM  \\\n",
              "count  14931.0000000000  14931.0000000000  14931.0000000000  14931.0000000000   \n",
              "mean       0.1854482620      5.5216804635    403.8421650928    176.0855158395   \n",
              "std        0.0581517075      1.3950163234   1432.0223647772    525.4411736141   \n",
              "min        0.0240000000      3.6470000000      0.3360000000      0.3500000000   \n",
              "25%        0.1565000000      4.4140000000      2.5260000000      2.5510000000   \n",
              "50%        0.1780000000      5.0850000000      6.3320000000      5.1300000000   \n",
              "75%        0.2100000000      6.3400000000     36.7445000000     12.9445000000   \n",
              "max        0.5410000000     11.2290000000   6381.0990000000   2046.7010000000   \n",
              "\n",
              "                     RD              RHOB                RM               ROP  \\\n",
              "count  14931.0000000000  14931.0000000000  14931.0000000000  14931.0000000000   \n",
              "mean      35.3770216328      2.3929459514   1611.5315631907     24.2337104682   \n",
              "std      171.7945417310      0.1814716231   9667.2217019763      7.1074126264   \n",
              "min        0.3200000000      1.6270000000      0.1400000000      2.8080000000   \n",
              "25%        2.4950000000      2.2260000000      3.1440000000     19.7215000000   \n",
              "50%        6.5110000000      2.3680000000      7.7040000000     27.4400000000   \n",
              "75%       31.4585000000      2.5540000000     50.7480000000     29.9580000000   \n",
              "max     5456.2990000000      3.0900000000  62290.7700000000     34.8640000000   \n",
              "\n",
              "                 RPCEHM            RPCELM                RT             DEPTH  \n",
              "count  14931.0000000000  14931.0000000000  14931.0000000000  14931.0000000000  \n",
              "mean    1611.5292420467     35.3741871944   1611.5315631907   3986.2277945215  \n",
              "std     9667.8762573695    171.7954584465   9667.2217019763    440.3501780201  \n",
              "min        0.1390000000      0.3200000000      0.1400000000   3227.9000000000  \n",
              "25%        3.1440000000      2.4950000000      3.1440000000   3603.4500000000  \n",
              "50%        7.7040000000      6.5110000000      7.7040000000   3984.1000000000  \n",
              "75%       50.7445000000     31.4585000000     50.7480000000   4371.4500000000  \n",
              "max    62290.7700000000   5456.6300000000  62290.7700000000   4744.7000000000  "
            ],
            "text/html": [
              "\n",
              "  <div id=\"df-e084f70d-446f-4f01-b016-4869602953c1\">\n",
              "    <div class=\"colab-df-container\">\n",
              "      <div>\n",
              "<style scoped>\n",
              "    .dataframe tbody tr th:only-of-type {\n",
              "        vertical-align: middle;\n",
              "    }\n",
              "\n",
              "    .dataframe tbody tr th {\n",
              "        vertical-align: top;\n",
              "    }\n",
              "\n",
              "    .dataframe thead th {\n",
              "        text-align: right;\n",
              "    }\n",
              "</style>\n",
              "<table border=\"1\" class=\"dataframe\">\n",
              "  <thead>\n",
              "    <tr style=\"text-align: right;\">\n",
              "      <th></th>\n",
              "      <th>ABDCQF01</th>\n",
              "      <th>ABDCQF02</th>\n",
              "      <th>ABDCQF03</th>\n",
              "      <th>ABDCQF04</th>\n",
              "      <th>BS</th>\n",
              "      <th>CALI</th>\n",
              "      <th>DRHO</th>\n",
              "      <th>GR</th>\n",
              "      <th>NPHI</th>\n",
              "      <th>PEF</th>\n",
              "      <th>RACEHM</th>\n",
              "      <th>RACELM</th>\n",
              "      <th>RD</th>\n",
              "      <th>RHOB</th>\n",
              "      <th>RM</th>\n",
              "      <th>ROP</th>\n",
              "      <th>RPCEHM</th>\n",
              "      <th>RPCELM</th>\n",
              "      <th>RT</th>\n",
              "      <th>DEPTH</th>\n",
              "    </tr>\n",
              "  </thead>\n",
              "  <tbody>\n",
              "    <tr>\n",
              "      <th>count</th>\n",
              "      <td>14931.0000000000</td>\n",
              "      <td>14931.0000000000</td>\n",
              "      <td>14931.0000000000</td>\n",
              "      <td>14931.0000000000</td>\n",
              "      <td>14931.0</td>\n",
              "      <td>14931.0000000000</td>\n",
              "      <td>14931.0000000000</td>\n",
              "      <td>14931.0000000000</td>\n",
              "      <td>14931.0000000000</td>\n",
              "      <td>14931.0000000000</td>\n",
              "      <td>14931.0000000000</td>\n",
              "      <td>14931.0000000000</td>\n",
              "      <td>14931.0000000000</td>\n",
              "      <td>14931.0000000000</td>\n",
              "      <td>14931.0000000000</td>\n",
              "      <td>14931.0000000000</td>\n",
              "      <td>14931.0000000000</td>\n",
              "      <td>14931.0000000000</td>\n",
              "      <td>14931.0000000000</td>\n",
              "      <td>14931.0000000000</td>\n",
              "    </tr>\n",
              "    <tr>\n",
              "      <th>mean</th>\n",
              "      <td>2.4038300181</td>\n",
              "      <td>2.3966264148</td>\n",
              "      <td>2.4015516710</td>\n",
              "      <td>2.3961255777</td>\n",
              "      <td>8.5</td>\n",
              "      <td>8.6554274998</td>\n",
              "      <td>0.0562717835</td>\n",
              "      <td>34.2819501038</td>\n",
              "      <td>0.1854482620</td>\n",
              "      <td>5.5216804635</td>\n",
              "      <td>403.8421650928</td>\n",
              "      <td>176.0855158395</td>\n",
              "      <td>35.3770216328</td>\n",
              "      <td>2.3929459514</td>\n",
              "      <td>1611.5315631907</td>\n",
              "      <td>24.2337104682</td>\n",
              "      <td>1611.5292420467</td>\n",
              "      <td>35.3741871944</td>\n",
              "      <td>1611.5315631907</td>\n",
              "      <td>3986.2277945215</td>\n",
              "    </tr>\n",
              "    <tr>\n",
              "      <th>std</th>\n",
              "      <td>0.1986268769</td>\n",
              "      <td>0.1855239271</td>\n",
              "      <td>0.2005574497</td>\n",
              "      <td>0.1869820049</td>\n",
              "      <td>0.0</td>\n",
              "      <td>0.0723792730</td>\n",
              "      <td>0.0156968329</td>\n",
              "      <td>19.8502484781</td>\n",
              "      <td>0.0581517075</td>\n",
              "      <td>1.3950163234</td>\n",
              "      <td>1432.0223647772</td>\n",
              "      <td>525.4411736141</td>\n",
              "      <td>171.7945417310</td>\n",
              "      <td>0.1814716231</td>\n",
              "      <td>9667.2217019763</td>\n",
              "      <td>7.1074126264</td>\n",
              "      <td>9667.8762573695</td>\n",
              "      <td>171.7954584465</td>\n",
              "      <td>9667.2217019763</td>\n",
              "      <td>440.3501780201</td>\n",
              "    </tr>\n",
              "    <tr>\n",
              "      <th>min</th>\n",
              "      <td>1.5130000000</td>\n",
              "      <td>1.5810000000</td>\n",
              "      <td>1.5390000000</td>\n",
              "      <td>1.5940000000</td>\n",
              "      <td>8.5</td>\n",
              "      <td>8.3180000000</td>\n",
              "      <td>-0.0400000000</td>\n",
              "      <td>8.1960000000</td>\n",
              "      <td>0.0240000000</td>\n",
              "      <td>3.6470000000</td>\n",
              "      <td>0.3360000000</td>\n",
              "      <td>0.3500000000</td>\n",
              "      <td>0.3200000000</td>\n",
              "      <td>1.6270000000</td>\n",
              "      <td>0.1400000000</td>\n",
              "      <td>2.8080000000</td>\n",
              "      <td>0.1390000000</td>\n",
              "      <td>0.3200000000</td>\n",
              "      <td>0.1400000000</td>\n",
              "      <td>3227.9000000000</td>\n",
              "    </tr>\n",
              "    <tr>\n",
              "      <th>25%</th>\n",
              "      <td>2.2290000000</td>\n",
              "      <td>2.2260000000</td>\n",
              "      <td>2.2210000000</td>\n",
              "      <td>2.2230000000</td>\n",
              "      <td>8.5</td>\n",
              "      <td>8.6250000000</td>\n",
              "      <td>0.0460000000</td>\n",
              "      <td>18.0550000000</td>\n",
              "      <td>0.1565000000</td>\n",
              "      <td>4.4140000000</td>\n",
              "      <td>2.5260000000</td>\n",
              "      <td>2.5510000000</td>\n",
              "      <td>2.4950000000</td>\n",
              "      <td>2.2260000000</td>\n",
              "      <td>3.1440000000</td>\n",
              "      <td>19.7215000000</td>\n",
              "      <td>3.1440000000</td>\n",
              "      <td>2.4950000000</td>\n",
              "      <td>3.1440000000</td>\n",
              "      <td>3603.4500000000</td>\n",
              "    </tr>\n",
              "    <tr>\n",
              "      <th>50%</th>\n",
              "      <td>2.3610000000</td>\n",
              "      <td>2.3690000000</td>\n",
              "      <td>2.3660000000</td>\n",
              "      <td>2.3680000000</td>\n",
              "      <td>8.5</td>\n",
              "      <td>8.6380000000</td>\n",
              "      <td>0.0540000000</td>\n",
              "      <td>29.0300000000</td>\n",
              "      <td>0.1780000000</td>\n",
              "      <td>5.0850000000</td>\n",
              "      <td>6.3320000000</td>\n",
              "      <td>5.1300000000</td>\n",
              "      <td>6.5110000000</td>\n",
              "      <td>2.3680000000</td>\n",
              "      <td>7.7040000000</td>\n",
              "      <td>27.4400000000</td>\n",
              "      <td>7.7040000000</td>\n",
              "      <td>6.5110000000</td>\n",
              "      <td>7.7040000000</td>\n",
              "      <td>3984.1000000000</td>\n",
              "    </tr>\n",
              "    <tr>\n",
              "      <th>75%</th>\n",
              "      <td>2.5680000000</td>\n",
              "      <td>2.5570000000</td>\n",
              "      <td>2.5650000000</td>\n",
              "      <td>2.5600000000</td>\n",
              "      <td>8.5</td>\n",
              "      <td>8.6720000000</td>\n",
              "      <td>0.0650000000</td>\n",
              "      <td>44.0980000000</td>\n",
              "      <td>0.2100000000</td>\n",
              "      <td>6.3400000000</td>\n",
              "      <td>36.7445000000</td>\n",
              "      <td>12.9445000000</td>\n",
              "      <td>31.4585000000</td>\n",
              "      <td>2.5540000000</td>\n",
              "      <td>50.7480000000</td>\n",
              "      <td>29.9580000000</td>\n",
              "      <td>50.7445000000</td>\n",
              "      <td>31.4585000000</td>\n",
              "      <td>50.7480000000</td>\n",
              "      <td>4371.4500000000</td>\n",
              "    </tr>\n",
              "    <tr>\n",
              "      <th>max</th>\n",
              "      <td>3.3620000000</td>\n",
              "      <td>3.1800000000</td>\n",
              "      <td>3.4020000000</td>\n",
              "      <td>3.2520000000</td>\n",
              "      <td>8.5</td>\n",
              "      <td>9.1750000000</td>\n",
              "      <td>0.2010000000</td>\n",
              "      <td>123.3620000000</td>\n",
              "      <td>0.5410000000</td>\n",
              "      <td>11.2290000000</td>\n",
              "      <td>6381.0990000000</td>\n",
              "      <td>2046.7010000000</td>\n",
              "      <td>5456.2990000000</td>\n",
              "      <td>3.0900000000</td>\n",
              "      <td>62290.7700000000</td>\n",
              "      <td>34.8640000000</td>\n",
              "      <td>62290.7700000000</td>\n",
              "      <td>5456.6300000000</td>\n",
              "      <td>62290.7700000000</td>\n",
              "      <td>4744.7000000000</td>\n",
              "    </tr>\n",
              "  </tbody>\n",
              "</table>\n",
              "</div>\n",
              "      <button class=\"colab-df-convert\" onclick=\"convertToInteractive('df-e084f70d-446f-4f01-b016-4869602953c1')\"\n",
              "              title=\"Convert this dataframe to an interactive table.\"\n",
              "              style=\"display:none;\">\n",
              "        \n",
              "  <svg xmlns=\"http://www.w3.org/2000/svg\" height=\"24px\"viewBox=\"0 0 24 24\"\n",
              "       width=\"24px\">\n",
              "    <path d=\"M0 0h24v24H0V0z\" fill=\"none\"/>\n",
              "    <path d=\"M18.56 5.44l.94 2.06.94-2.06 2.06-.94-2.06-.94-.94-2.06-.94 2.06-2.06.94zm-11 1L8.5 8.5l.94-2.06 2.06-.94-2.06-.94L8.5 2.5l-.94 2.06-2.06.94zm10 10l.94 2.06.94-2.06 2.06-.94-2.06-.94-.94-2.06-.94 2.06-2.06.94z\"/><path d=\"M17.41 7.96l-1.37-1.37c-.4-.4-.92-.59-1.43-.59-.52 0-1.04.2-1.43.59L10.3 9.45l-7.72 7.72c-.78.78-.78 2.05 0 2.83L4 21.41c.39.39.9.59 1.41.59.51 0 1.02-.2 1.41-.59l7.78-7.78 2.81-2.81c.8-.78.8-2.07 0-2.86zM5.41 20L4 18.59l7.72-7.72 1.47 1.35L5.41 20z\"/>\n",
              "  </svg>\n",
              "      </button>\n",
              "      \n",
              "  <style>\n",
              "    .colab-df-container {\n",
              "      display:flex;\n",
              "      flex-wrap:wrap;\n",
              "      gap: 12px;\n",
              "    }\n",
              "\n",
              "    .colab-df-convert {\n",
              "      background-color: #E8F0FE;\n",
              "      border: none;\n",
              "      border-radius: 50%;\n",
              "      cursor: pointer;\n",
              "      display: none;\n",
              "      fill: #1967D2;\n",
              "      height: 32px;\n",
              "      padding: 0 0 0 0;\n",
              "      width: 32px;\n",
              "    }\n",
              "\n",
              "    .colab-df-convert:hover {\n",
              "      background-color: #E2EBFA;\n",
              "      box-shadow: 0px 1px 2px rgba(60, 64, 67, 0.3), 0px 1px 3px 1px rgba(60, 64, 67, 0.15);\n",
              "      fill: #174EA6;\n",
              "    }\n",
              "\n",
              "    [theme=dark] .colab-df-convert {\n",
              "      background-color: #3B4455;\n",
              "      fill: #D2E3FC;\n",
              "    }\n",
              "\n",
              "    [theme=dark] .colab-df-convert:hover {\n",
              "      background-color: #434B5C;\n",
              "      box-shadow: 0px 1px 3px 1px rgba(0, 0, 0, 0.15);\n",
              "      filter: drop-shadow(0px 1px 2px rgba(0, 0, 0, 0.3));\n",
              "      fill: #FFFFFF;\n",
              "    }\n",
              "  </style>\n",
              "\n",
              "      <script>\n",
              "        const buttonEl =\n",
              "          document.querySelector('#df-e084f70d-446f-4f01-b016-4869602953c1 button.colab-df-convert');\n",
              "        buttonEl.style.display =\n",
              "          google.colab.kernel.accessAllowed ? 'block' : 'none';\n",
              "\n",
              "        async function convertToInteractive(key) {\n",
              "          const element = document.querySelector('#df-e084f70d-446f-4f01-b016-4869602953c1');\n",
              "          const dataTable =\n",
              "            await google.colab.kernel.invokeFunction('convertToInteractive',\n",
              "                                                     [key], {});\n",
              "          if (!dataTable) return;\n",
              "\n",
              "          const docLinkHtml = 'Like what you see? Visit the ' +\n",
              "            '<a target=\"_blank\" href=https://colab.research.google.com/notebooks/data_table.ipynb>data table notebook</a>'\n",
              "            + ' to learn more about interactive tables.';\n",
              "          element.innerHTML = '';\n",
              "          dataTable['output_type'] = 'display_data';\n",
              "          await google.colab.output.renderOutput(dataTable, element);\n",
              "          const docLink = document.createElement('div');\n",
              "          docLink.innerHTML = docLinkHtml;\n",
              "          element.appendChild(docLink);\n",
              "        }\n",
              "      </script>\n",
              "    </div>\n",
              "  </div>\n",
              "  "
            ]
          },
          "metadata": {},
          "execution_count": 356
        }
      ]
    },
    {
      "cell_type": "markdown",
      "source": [
        "# Data Cleaning with Welly Python Library"
      ],
      "metadata": {
        "id": "UvcEPvhHOPp4"
      }
    },
    {
      "cell_type": "markdown",
      "source": [
        "DATA CLEANING WITH WELLY PYTHON LIBRARY"
      ],
      "metadata": {
        "id": "xm5eNfzqtmaM"
      }
    },
    {
      "cell_type": "code",
      "source": [
        "pip install welly"
      ],
      "metadata": {
        "colab": {
          "base_uri": "https://localhost:8080/"
        },
        "id": "arCw4uMktl3R",
        "outputId": "6822de8c-5fb2-4f40-b9b0-5755942c7737"
      },
      "execution_count": 357,
      "outputs": [
        {
          "output_type": "stream",
          "name": "stdout",
          "text": [
            "Looking in indexes: https://pypi.org/simple, https://us-python.pkg.dev/colab-wheels/public/simple/\n",
            "Requirement already satisfied: welly in /usr/local/lib/python3.7/dist-packages (0.5.2)\n",
            "Requirement already satisfied: lasio in /usr/local/lib/python3.7/dist-packages (from welly) (0.30)\n",
            "Requirement already satisfied: numpy in /usr/local/lib/python3.7/dist-packages (from welly) (1.21.6)\n",
            "Requirement already satisfied: matplotlib in /usr/local/lib/python3.7/dist-packages (from welly) (3.2.2)\n",
            "Requirement already satisfied: striplog in /usr/local/lib/python3.7/dist-packages (from welly) (0.9.2)\n",
            "Requirement already satisfied: pandas in /usr/local/lib/python3.7/dist-packages (from welly) (1.3.5)\n",
            "Requirement already satisfied: tqdm in /usr/local/lib/python3.7/dist-packages (from welly) (4.64.0)\n",
            "Requirement already satisfied: requests in /usr/local/lib/python3.7/dist-packages (from welly) (2.23.0)\n",
            "Requirement already satisfied: scipy in /usr/local/lib/python3.7/dist-packages (from welly) (1.4.1)\n",
            "Requirement already satisfied: wellpathpy in /usr/local/lib/python3.7/dist-packages (from welly) (0.5.0)\n",
            "Requirement already satisfied: cycler>=0.10 in /usr/local/lib/python3.7/dist-packages (from matplotlib->welly) (0.11.0)\n",
            "Requirement already satisfied: kiwisolver>=1.0.1 in /usr/local/lib/python3.7/dist-packages (from matplotlib->welly) (1.4.2)\n",
            "Requirement already satisfied: pyparsing!=2.0.4,!=2.1.2,!=2.1.6,>=2.0.1 in /usr/local/lib/python3.7/dist-packages (from matplotlib->welly) (3.0.9)\n",
            "Requirement already satisfied: python-dateutil>=2.1 in /usr/local/lib/python3.7/dist-packages (from matplotlib->welly) (2.8.2)\n",
            "Requirement already satisfied: typing-extensions in /usr/local/lib/python3.7/dist-packages (from kiwisolver>=1.0.1->matplotlib->welly) (4.2.0)\n",
            "Requirement already satisfied: six>=1.5 in /usr/local/lib/python3.7/dist-packages (from python-dateutil>=2.1->matplotlib->welly) (1.15.0)\n",
            "Requirement already satisfied: pytz>=2017.3 in /usr/local/lib/python3.7/dist-packages (from pandas->welly) (2022.1)\n",
            "Requirement already satisfied: urllib3!=1.25.0,!=1.25.1,<1.26,>=1.21.1 in /usr/local/lib/python3.7/dist-packages (from requests->welly) (1.24.3)\n",
            "Requirement already satisfied: chardet<4,>=3.0.2 in /usr/local/lib/python3.7/dist-packages (from requests->welly) (3.0.4)\n",
            "Requirement already satisfied: idna<3,>=2.5 in /usr/local/lib/python3.7/dist-packages (from requests->welly) (2.10)\n",
            "Requirement already satisfied: certifi>=2017.4.17 in /usr/local/lib/python3.7/dist-packages (from requests->welly) (2022.5.18.1)\n"
          ]
        }
      ]
    },
    {
      "cell_type": "code",
      "source": [
        "from welly import Well\n",
        "from welly import Curve\n",
        "    \n",
        "import matplotlib.pyplot as plt"
      ],
      "metadata": {
        "id": "4fwByHHpt080"
      },
      "execution_count": 358,
      "outputs": []
    },
    {
      "cell_type": "code",
      "source": [
        "well = Well.from_las('/content/drive/MyDrive/Master Files/Msc Project/Dataset Well Logging/15-9-F-11B WLC_PETRO_COMPUTED_INPUT_1.LAS')"
      ],
      "metadata": {
        "id": "l3Y4bN7rt6Fn"
      },
      "execution_count": 359,
      "outputs": []
    },
    {
      "cell_type": "code",
      "source": [
        "    import welly.quality as wq"
      ],
      "metadata": {
        "id": "ffhlkhuWuJ-K"
      },
      "execution_count": 360,
      "outputs": []
    },
    {
      "cell_type": "code",
      "source": [
        "    tests = {'Each': [wq.no_flat,\n",
        "                     wq.no_gaps,\n",
        "                     wq.not_empty],\n",
        "            'GR': [\n",
        "                    wq.all_positive,\n",
        "                    wq.all_between(0, 250),\n",
        "                    wq.check_units(['API', 'GAPI']),\n",
        "            ],\n",
        "            'RHOB': [\n",
        "                    wq.all_positive,\n",
        "                    wq.all_between(1.5, 3),\n",
        "                    wq.check_units(['G/CC', 'g/cm3']),\n",
        "            ]}"
      ],
      "metadata": {
        "id": "wyT_OR-yuWUg"
      },
      "execution_count": 361,
      "outputs": []
    },
    {
      "cell_type": "code",
      "source": [
        "    from IPython.display import HTML\n",
        "    data_qc_table = well.qc_table_html(tests)\n",
        "    HTML(data_qc_table)"
      ],
      "metadata": {
        "colab": {
          "base_uri": "https://localhost:8080/",
          "height": 430
        },
        "id": "W2wDhZuHuX83",
        "outputId": "b38ec731-96c8-4785-829f-2263ee648b51"
      },
      "execution_count": 362,
      "outputs": [
        {
          "output_type": "execute_result",
          "data": {
            "text/plain": [
              "<IPython.core.display.HTML object>"
            ],
            "text/html": [
              "<table><tr><th>Curve</th><th>Passed</th><th>Score</th><th>all_positive</th><th>check_units</th><th>no_flat</th><th>all_between</th><th>not_empty</th><th>no_gaps</th></tr><tr><th>ABDCQF01</th><td>3 / 3</td><td>1.000</td><td style=\"background-color:#EEEEEE;\"></td><td style=\"background-color:#EEEEEE;\"></td><td style=\"background-color:#CCEECC;\">True</td><td style=\"background-color:#EEEEEE;\"></td><td style=\"background-color:#CCEECC;\">True</td><td style=\"background-color:#CCEECC;\">True</td></tr><tr><th>ABDCQF02</th><td>3 / 3</td><td>1.000</td><td style=\"background-color:#EEEEEE;\"></td><td style=\"background-color:#EEEEEE;\"></td><td style=\"background-color:#CCEECC;\">True</td><td style=\"background-color:#EEEEEE;\"></td><td style=\"background-color:#CCEECC;\">True</td><td style=\"background-color:#CCEECC;\">True</td></tr><tr><th>ABDCQF03</th><td>3 / 3</td><td>1.000</td><td style=\"background-color:#EEEEEE;\"></td><td style=\"background-color:#EEEEEE;\"></td><td style=\"background-color:#CCEECC;\">True</td><td style=\"background-color:#EEEEEE;\"></td><td style=\"background-color:#CCEECC;\">True</td><td style=\"background-color:#CCEECC;\">True</td></tr><tr><th>ABDCQF04</th><td>3 / 3</td><td>1.000</td><td style=\"background-color:#EEEEEE;\"></td><td style=\"background-color:#EEEEEE;\"></td><td style=\"background-color:#CCEECC;\">True</td><td style=\"background-color:#EEEEEE;\"></td><td style=\"background-color:#CCEECC;\">True</td><td style=\"background-color:#CCEECC;\">True</td></tr><tr><th>BS</th><td>2 / 3</td><td>0.667</td><td style=\"background-color:#EEEEEE;\"></td><td style=\"background-color:#EEEEEE;\"></td><td style=\"background-color:#FFCCCC;\">False</td><td style=\"background-color:#EEEEEE;\"></td><td style=\"background-color:#CCEECC;\">True</td><td style=\"background-color:#CCEECC;\">True</td></tr><tr><th>CALI</th><td>3 / 3</td><td>1.000</td><td style=\"background-color:#EEEEEE;\"></td><td style=\"background-color:#EEEEEE;\"></td><td style=\"background-color:#CCEECC;\">True</td><td style=\"background-color:#EEEEEE;\"></td><td style=\"background-color:#CCEECC;\">True</td><td style=\"background-color:#CCEECC;\">True</td></tr><tr><th>DRHO</th><td>3 / 3</td><td>1.000</td><td style=\"background-color:#EEEEEE;\"></td><td style=\"background-color:#EEEEEE;\"></td><td style=\"background-color:#CCEECC;\">True</td><td style=\"background-color:#EEEEEE;\"></td><td style=\"background-color:#CCEECC;\">True</td><td style=\"background-color:#CCEECC;\">True</td></tr><tr><th>GR</th><td>5 / 6</td><td>0.833</td><td style=\"background-color:#CCEECC;\">True</td><td style=\"background-color:#CCEECC;\">True</td><td style=\"background-color:#CCEECC;\">True</td><td style=\"background-color:#CCEECC;\">True</td><td style=\"background-color:#CCEECC;\">True</td><td style=\"background-color:#FFCCCC;\">False</td></tr><tr><th>NPHI</th><td>3 / 3</td><td>1.000</td><td style=\"background-color:#EEEEEE;\"></td><td style=\"background-color:#EEEEEE;\"></td><td style=\"background-color:#CCEECC;\">True</td><td style=\"background-color:#EEEEEE;\"></td><td style=\"background-color:#CCEECC;\">True</td><td style=\"background-color:#CCEECC;\">True</td></tr><tr><th>PEF</th><td>3 / 3</td><td>1.000</td><td style=\"background-color:#EEEEEE;\"></td><td style=\"background-color:#EEEEEE;\"></td><td style=\"background-color:#CCEECC;\">True</td><td style=\"background-color:#EEEEEE;\"></td><td style=\"background-color:#CCEECC;\">True</td><td style=\"background-color:#CCEECC;\">True</td></tr><tr><th>RACEHM</th><td>2 / 3</td><td>0.667</td><td style=\"background-color:#EEEEEE;\"></td><td style=\"background-color:#EEEEEE;\"></td><td style=\"background-color:#CCEECC;\">True</td><td style=\"background-color:#EEEEEE;\"></td><td style=\"background-color:#CCEECC;\">True</td><td style=\"background-color:#FFCCCC;\">False</td></tr><tr><th>RACELM</th><td>2 / 3</td><td>0.667</td><td style=\"background-color:#EEEEEE;\"></td><td style=\"background-color:#EEEEEE;\"></td><td style=\"background-color:#CCEECC;\">True</td><td style=\"background-color:#EEEEEE;\"></td><td style=\"background-color:#CCEECC;\">True</td><td style=\"background-color:#FFCCCC;\">False</td></tr><tr><th>RD</th><td>2 / 3</td><td>0.667</td><td style=\"background-color:#EEEEEE;\"></td><td style=\"background-color:#EEEEEE;\"></td><td style=\"background-color:#CCEECC;\">True</td><td style=\"background-color:#EEEEEE;\"></td><td style=\"background-color:#CCEECC;\">True</td><td style=\"background-color:#FFCCCC;\">False</td></tr><tr><th>RHOB</th><td>5 / 6</td><td>0.833</td><td style=\"background-color:#CCEECC;\">True</td><td style=\"background-color:#CCEECC;\">True</td><td style=\"background-color:#CCEECC;\">True</td><td style=\"background-color:#FFCCCC;\">False</td><td style=\"background-color:#CCEECC;\">True</td><td style=\"background-color:#CCEECC;\">True</td></tr><tr><th>RM</th><td>2 / 3</td><td>0.667</td><td style=\"background-color:#EEEEEE;\"></td><td style=\"background-color:#EEEEEE;\"></td><td style=\"background-color:#CCEECC;\">True</td><td style=\"background-color:#EEEEEE;\"></td><td style=\"background-color:#CCEECC;\">True</td><td style=\"background-color:#FFCCCC;\">False</td></tr><tr><th>ROP</th><td>2 / 3</td><td>0.667</td><td style=\"background-color:#EEEEEE;\"></td><td style=\"background-color:#EEEEEE;\"></td><td style=\"background-color:#CCEECC;\">True</td><td style=\"background-color:#EEEEEE;\"></td><td style=\"background-color:#CCEECC;\">True</td><td style=\"background-color:#FFCCCC;\">False</td></tr><tr><th>RPCEHM</th><td>2 / 3</td><td>0.667</td><td style=\"background-color:#EEEEEE;\"></td><td style=\"background-color:#EEEEEE;\"></td><td style=\"background-color:#CCEECC;\">True</td><td style=\"background-color:#EEEEEE;\"></td><td style=\"background-color:#CCEECC;\">True</td><td style=\"background-color:#FFCCCC;\">False</td></tr><tr><th>RPCELM</th><td>2 / 3</td><td>0.667</td><td style=\"background-color:#EEEEEE;\"></td><td style=\"background-color:#EEEEEE;\"></td><td style=\"background-color:#CCEECC;\">True</td><td style=\"background-color:#EEEEEE;\"></td><td style=\"background-color:#CCEECC;\">True</td><td style=\"background-color:#FFCCCC;\">False</td></tr><tr><th>RT</th><td>2 / 3</td><td>0.667</td><td style=\"background-color:#EEEEEE;\"></td><td style=\"background-color:#EEEEEE;\"></td><td style=\"background-color:#CCEECC;\">True</td><td style=\"background-color:#EEEEEE;\"></td><td style=\"background-color:#CCEECC;\">True</td><td style=\"background-color:#FFCCCC;\">False</td></tr></table>"
            ]
          },
          "metadata": {},
          "execution_count": 362
        }
      ]
    },
    {
      "cell_type": "code",
      "source": [
        "    tests_nans = {'Each': [wq.fraction_not_nans]}\n",
        "    \n",
        "    data_nans_qc_table = well.qc_table_html(tests_nans)\n",
        "    HTML(data_nans_qc_table)"
      ],
      "metadata": {
        "colab": {
          "base_uri": "https://localhost:8080/",
          "height": 430
        },
        "id": "a8efnmtyvCb7",
        "outputId": "dd1aabaa-7c77-4af2-f81c-1ae91f4e1ab9"
      },
      "execution_count": 363,
      "outputs": [
        {
          "output_type": "execute_result",
          "data": {
            "text/plain": [
              "<IPython.core.display.HTML object>"
            ],
            "text/html": [
              "<table><tr><th>Curve</th><th>Passed</th><th>Score</th><th>fraction_not_nans</th></tr><tr><th>ABDCQF01</th><td>0.33163822078659044 / 1</td><td>0.332</td><td style=\"background-color:#EEEEEE;\">0.33163822078659044</td></tr><tr><th>ABDCQF02</th><td>0.33163822078659044 / 1</td><td>0.332</td><td style=\"background-color:#EEEEEE;\">0.33163822078659044</td></tr><tr><th>ABDCQF03</th><td>0.33163822078659044 / 1</td><td>0.332</td><td style=\"background-color:#EEEEEE;\">0.33163822078659044</td></tr><tr><th>ABDCQF04</th><td>0.33163822078659044 / 1</td><td>0.332</td><td style=\"background-color:#EEEEEE;\">0.33163822078659044</td></tr><tr><th>BS</th><td>1.0 / 1</td><td>1.000</td><td style=\"background-color:#CCEECC;\">1.0</td></tr><tr><th>CALI</th><td>0.33923348902178185 / 1</td><td>0.339</td><td style=\"background-color:#EEEEEE;\">0.33923348902178185</td></tr><tr><th>DRHO</th><td>0.33912436160460957 / 1</td><td>0.339</td><td style=\"background-color:#EEEEEE;\">0.33912436160460957</td></tr><tr><th>GR</th><td>0.9967916539351347 / 1</td><td>0.997</td><td style=\"background-color:#EEEEEE;\">0.9967916539351347</td></tr><tr><th>NPHI</th><td>0.3375529267973285 / 1</td><td>0.338</td><td style=\"background-color:#EEEEEE;\">0.3375529267973285</td></tr><tr><th>PEF</th><td>0.3381203893666245 / 1</td><td>0.338</td><td style=\"background-color:#EEEEEE;\">0.3381203893666245</td></tr><tr><th>RACEHM</th><td>0.47524990178532456 / 1</td><td>0.475</td><td style=\"background-color:#EEEEEE;\">0.47524990178532456</td></tr><tr><th>RACELM</th><td>0.47524990178532456 / 1</td><td>0.475</td><td style=\"background-color:#EEEEEE;\">0.47524990178532456</td></tr><tr><th>RD</th><td>0.9790257104194858 / 1</td><td>0.979</td><td style=\"background-color:#EEEEEE;\">0.9790257104194858</td></tr><tr><th>RHOB</th><td>0.3381203893666245 / 1</td><td>0.338</td><td style=\"background-color:#EEEEEE;\">0.3381203893666245</td></tr><tr><th>RM</th><td>0.9837618403247632 / 1</td><td>0.984</td><td style=\"background-color:#EEEEEE;\">0.9837618403247632</td></tr><tr><th>ROP</th><td>0.9911170282421755 / 1</td><td>0.991</td><td style=\"background-color:#EEEEEE;\">0.9911170282421755</td></tr><tr><th>RPCEHM</th><td>0.47524990178532456 / 1</td><td>0.475</td><td style=\"background-color:#EEEEEE;\">0.47524990178532456</td></tr><tr><th>RPCELM</th><td>0.47051377188004717 / 1</td><td>0.471</td><td style=\"background-color:#EEEEEE;\">0.47051377188004717</td></tr><tr><th>RT</th><td>0.9837618403247632 / 1</td><td>0.984</td><td style=\"background-color:#EEEEEE;\">0.9837618403247632</td></tr></table>"
            ]
          },
          "metadata": {},
          "execution_count": 363
        }
      ]
    },
    {
      "cell_type": "code",
      "source": [
        "    print((f'Curve \\t % Complete').expandtabs(10))\n",
        "    print((f'----- \\t ----------').expandtabs(10))\n",
        "    \n",
        "    for k,v in well.qc_data(tests_nans).items():\n",
        "        \n",
        "        for i,j in v.items():\n",
        "            values = round(j*100, 2)\n",
        "        print((f'{k} \\t {values}%').expandtabs(10))"
      ],
      "metadata": {
        "colab": {
          "base_uri": "https://localhost:8080/"
        },
        "id": "6wjyQagFvQxj",
        "outputId": "341e97c6-53b1-4c57-c9d1-19e394a0520a"
      },
      "execution_count": 364,
      "outputs": [
        {
          "output_type": "stream",
          "name": "stdout",
          "text": [
            "Curve      % Complete\n",
            "-----      ----------\n",
            "ABDCQF01   33.16%\n",
            "ABDCQF02   33.16%\n",
            "ABDCQF03   33.16%\n",
            "ABDCQF04   33.16%\n",
            "BS         100.0%\n",
            "CALI       33.92%\n",
            "DRHO       33.91%\n",
            "GR         99.68%\n",
            "NPHI       33.76%\n",
            "PEF        33.81%\n",
            "RACEHM     47.52%\n",
            "RACELM     47.52%\n",
            "RD         97.9%\n",
            "RHOB       33.81%\n",
            "RM         98.38%\n",
            "ROP        99.11%\n",
            "RPCEHM     47.52%\n",
            "RPCELM     47.05%\n",
            "RT         98.38%\n"
          ]
        }
      ]
    },
    {
      "cell_type": "code",
      "source": [
        "\"\"\"\n",
        "# Create Pairplot\n",
        "\n",
        "# Seaborn visualization library\n",
        "import seaborn as sns\n",
        "\n",
        "# Create the default pairplot\n",
        "sns.pairplot(df)\n",
        "\"\"\""
      ],
      "metadata": {
        "colab": {
          "base_uri": "https://localhost:8080/",
          "height": 36
        },
        "id": "J6yb2netaTTG",
        "outputId": "234b205d-fdd2-4757-bda5-202a23201ccd"
      },
      "execution_count": 365,
      "outputs": [
        {
          "output_type": "execute_result",
          "data": {
            "text/plain": [
              "'\\n# Create Pairplot\\n\\n# Seaborn visualization library\\nimport seaborn as sns\\n\\n# Create the default pairplot\\nsns.pairplot(df)\\n'"
            ],
            "application/vnd.google.colaboratory.intrinsic+json": {
              "type": "string"
            }
          },
          "metadata": {},
          "execution_count": 365
        }
      ]
    },
    {
      "cell_type": "markdown",
      "source": [
        "# Removing Outliers"
      ],
      "metadata": {
        "id": "fLaG93gwOemp"
      }
    },
    {
      "cell_type": "markdown",
      "source": [
        "Removing Outliers"
      ],
      "metadata": {
        "id": "fZ8KG1o8Bbyt"
      }
    },
    {
      "cell_type": "code",
      "source": [
        "#REmove outliers with reference to caliper log 8.5\" \n",
        "\n",
        "df = df[(df['CALI'] >= 8.5) & (df['CALI'] <= 9)]\n",
        "df.info()"
      ],
      "metadata": {
        "colab": {
          "base_uri": "https://localhost:8080/"
        },
        "id": "SPy2XObGBr-q",
        "outputId": "a86f731a-1c37-46a7-ee3b-68b0fa8d8e1c"
      },
      "execution_count": 366,
      "outputs": [
        {
          "output_type": "stream",
          "name": "stdout",
          "text": [
            "<class 'pandas.core.frame.DataFrame'>\n",
            "Float64Index: 14774 entries, 3227.9 to 4744.7\n",
            "Data columns (total 20 columns):\n",
            " #   Column    Non-Null Count  Dtype  \n",
            "---  ------    --------------  -----  \n",
            " 0   ABDCQF01  14774 non-null  float64\n",
            " 1   ABDCQF02  14774 non-null  float64\n",
            " 2   ABDCQF03  14774 non-null  float64\n",
            " 3   ABDCQF04  14774 non-null  float64\n",
            " 4   BS        14774 non-null  float64\n",
            " 5   CALI      14774 non-null  float64\n",
            " 6   DRHO      14774 non-null  float64\n",
            " 7   GR        14774 non-null  float64\n",
            " 8   NPHI      14774 non-null  float64\n",
            " 9   PEF       14774 non-null  float64\n",
            " 10  RACEHM    14774 non-null  float64\n",
            " 11  RACELM    14774 non-null  float64\n",
            " 12  RD        14774 non-null  float64\n",
            " 13  RHOB      14774 non-null  float64\n",
            " 14  RM        14774 non-null  float64\n",
            " 15  ROP       14774 non-null  float64\n",
            " 16  RPCEHM    14774 non-null  float64\n",
            " 17  RPCELM    14774 non-null  float64\n",
            " 18  RT        14774 non-null  float64\n",
            " 19  DEPTH     14774 non-null  float64\n",
            "dtypes: float64(20)\n",
            "memory usage: 2.4 MB\n"
          ]
        }
      ]
    },
    {
      "cell_type": "code",
      "source": [
        "df.plot(kind='box')\n",
        "plt.xticks(rotation=270)\n",
        "plt.show()"
      ],
      "metadata": {
        "colab": {
          "base_uri": "https://localhost:8080/",
          "height": 310
        },
        "id": "tn6oN4MAYlZO",
        "outputId": "b320a94e-3762-44df-b9cd-0bc1a3678cc8"
      },
      "execution_count": 367,
      "outputs": [
        {
          "output_type": "display_data",
          "data": {
            "text/plain": [
              "<Figure size 432x288 with 1 Axes>"
            ],
            "image/png": "[encoded data removed]"
          },
          "metadata": {
            "needs_background": "light"
          }
        }
      ]
    },
    {
      "cell_type": "code",
      "source": [
        "#Remove outliers of RHOB track\n",
        "\n",
        "df = df[(df['RHOB'] >= 1.5) & (df['RHOB'] <= 3)]\n",
        "df.info()"
      ],
      "metadata": {
        "colab": {
          "base_uri": "https://localhost:8080/"
        },
        "id": "uRL56OaeDJRc",
        "outputId": "d83cbe58-4751-4161-d887-958f7ae6ebe4"
      },
      "execution_count": 368,
      "outputs": [
        {
          "output_type": "stream",
          "name": "stdout",
          "text": [
            "<class 'pandas.core.frame.DataFrame'>\n",
            "Float64Index: 14751 entries, 3227.9 to 4744.7\n",
            "Data columns (total 20 columns):\n",
            " #   Column    Non-Null Count  Dtype  \n",
            "---  ------    --------------  -----  \n",
            " 0   ABDCQF01  14751 non-null  float64\n",
            " 1   ABDCQF02  14751 non-null  float64\n",
            " 2   ABDCQF03  14751 non-null  float64\n",
            " 3   ABDCQF04  14751 non-null  float64\n",
            " 4   BS        14751 non-null  float64\n",
            " 5   CALI      14751 non-null  float64\n",
            " 6   DRHO      14751 non-null  float64\n",
            " 7   GR        14751 non-null  float64\n",
            " 8   NPHI      14751 non-null  float64\n",
            " 9   PEF       14751 non-null  float64\n",
            " 10  RACEHM    14751 non-null  float64\n",
            " 11  RACELM    14751 non-null  float64\n",
            " 12  RD        14751 non-null  float64\n",
            " 13  RHOB      14751 non-null  float64\n",
            " 14  RM        14751 non-null  float64\n",
            " 15  ROP       14751 non-null  float64\n",
            " 16  RPCEHM    14751 non-null  float64\n",
            " 17  RPCELM    14751 non-null  float64\n",
            " 18  RT        14751 non-null  float64\n",
            " 19  DEPTH     14751 non-null  float64\n",
            "dtypes: float64(20)\n",
            "memory usage: 2.4 MB\n"
          ]
        }
      ]
    },
    {
      "cell_type": "code",
      "source": [
        "df.plot(kind='box')\n",
        "plt.xticks(rotation=270)\n",
        "plt.show()"
      ],
      "metadata": {
        "colab": {
          "base_uri": "https://localhost:8080/",
          "height": 310
        },
        "id": "4OhcqhkqYEBA",
        "outputId": "2218f380-a26e-45a3-ea1c-aa10529dcc04"
      },
      "execution_count": 369,
      "outputs": [
        {
          "output_type": "display_data",
          "data": {
            "text/plain": [
              "<Figure size 432x288 with 1 Axes>"
            ],
            "image/png": "[encoded data removed]"
          },
          "metadata": {
            "needs_background": "light"
          }
        }
      ]
    },
    {
      "cell_type": "code",
      "source": [
        "#Remove outliers from resistivity curves\n",
        "\n",
        "df = df.loc[~((df.RACEHM > 60) | (df.RACELM > 100) | (df.RPCEHM > 100) | (df.RPCELM > 200)),:]\n",
        "df.info()"
      ],
      "metadata": {
        "colab": {
          "base_uri": "https://localhost:8080/"
        },
        "id": "dR1MIp0lUszN",
        "outputId": "3dd9bcb0-2651-4ff7-eede-1492deb639e1"
      },
      "execution_count": 370,
      "outputs": [
        {
          "output_type": "stream",
          "name": "stdout",
          "text": [
            "<class 'pandas.core.frame.DataFrame'>\n",
            "Float64Index: 11400 entries, 3227.9 to 4744.7\n",
            "Data columns (total 20 columns):\n",
            " #   Column    Non-Null Count  Dtype  \n",
            "---  ------    --------------  -----  \n",
            " 0   ABDCQF01  11400 non-null  float64\n",
            " 1   ABDCQF02  11400 non-null  float64\n",
            " 2   ABDCQF03  11400 non-null  float64\n",
            " 3   ABDCQF04  11400 non-null  float64\n",
            " 4   BS        11400 non-null  float64\n",
            " 5   CALI      11400 non-null  float64\n",
            " 6   DRHO      11400 non-null  float64\n",
            " 7   GR        11400 non-null  float64\n",
            " 8   NPHI      11400 non-null  float64\n",
            " 9   PEF       11400 non-null  float64\n",
            " 10  RACEHM    11400 non-null  float64\n",
            " 11  RACELM    11400 non-null  float64\n",
            " 12  RD        11400 non-null  float64\n",
            " 13  RHOB      11400 non-null  float64\n",
            " 14  RM        11400 non-null  float64\n",
            " 15  ROP       11400 non-null  float64\n",
            " 16  RPCEHM    11400 non-null  float64\n",
            " 17  RPCELM    11400 non-null  float64\n",
            " 18  RT        11400 non-null  float64\n",
            " 19  DEPTH     11400 non-null  float64\n",
            "dtypes: float64(20)\n",
            "memory usage: 1.8 MB\n"
          ]
        }
      ]
    },
    {
      "cell_type": "code",
      "source": [
        "# Select all resistivity curves\n",
        "res_curves = ['RACEHM', 'RACELM', 'RPCEHM','RPCELM','RT']\n",
        "\n",
        "# Loop through each curve and transform it\n",
        "for res in res_curves:    \n",
        "  df[f'{res}_l10'] = np.log10(df[res])        \n",
        "\n",
        "# Drop out the original columns    \n",
        "df.drop(columns=[res],inplace=True)    \n",
        "df.head()"
      ],
      "metadata": {
        "colab": {
          "base_uri": "https://localhost:8080/",
          "height": 458
        },
        "id": "WP8iI-DIsIgO",
        "outputId": "f242dfa2-fab4-4195-9f51-108f475a8eab"
      },
      "execution_count": 371,
      "outputs": [
        {
          "output_type": "stream",
          "name": "stderr",
          "text": [
            "/usr/local/lib/python3.7/dist-packages/ipykernel_launcher.py:6: SettingWithCopyWarning: \n",
            "A value is trying to be set on a copy of a slice from a DataFrame.\n",
            "Try using .loc[row_indexer,col_indexer] = value instead\n",
            "\n",
            "See the caveats in the documentation: https://pandas.pydata.org/pandas-docs/stable/user_guide/indexing.html#returning-a-view-versus-a-copy\n",
            "  \n",
            "/usr/local/lib/python3.7/dist-packages/pandas/core/frame.py:4913: SettingWithCopyWarning: \n",
            "A value is trying to be set on a copy of a slice from a DataFrame\n",
            "\n",
            "See the caveats in the documentation: https://pandas.pydata.org/pandas-docs/stable/user_guide/indexing.html#returning-a-view-versus-a-copy\n",
            "  errors=errors,\n"
          ]
        },
        {
          "output_type": "execute_result",
          "data": {
            "text/plain": [
              "        ABDCQF01  ABDCQF02  ABDCQF03  ABDCQF04   BS   CALI   DRHO      GR  \\\n",
              "DEPTH                                                                       \n",
              "3227.9     2.586     2.577     2.580     2.587  8.5  8.578  0.065  33.703   \n",
              "3228.0     2.590     2.565     2.583     2.579  8.5  8.578  0.065  36.314   \n",
              "3228.1     2.587     2.555     2.581     2.569  8.5  8.578  0.064  38.562   \n",
              "3228.2     2.582     2.549     2.576     2.561  8.5  8.597  0.061  38.466   \n",
              "3228.3     2.576     2.550     2.574     2.559  8.5  8.578  0.059  38.891   \n",
              "\n",
              "         NPHI    PEF  ...     RM     ROP  RPCEHM  RPCELM   DEPTH  \\\n",
              "DEPTH                 ...                                          \n",
              "3227.9  0.136  7.173  ...  3.918  12.214   3.918   3.464  3227.9   \n",
              "3228.0  0.141  7.147  ...  3.548  12.294   3.549   3.354  3228.0   \n",
              "3228.1  0.146  7.115  ...  3.044  12.480   3.044   3.147  3228.1   \n",
              "3228.2  0.145  7.075  ...  2.788  12.666   2.788   3.036  3228.2   \n",
              "3228.3  0.150  7.038  ...  2.795  12.853   2.795   2.903  3228.3   \n",
              "\n",
              "          RACEHM_l10    RACELM_l10    RPCEHM_l10    RPCELM_l10        RT_l10  \n",
              "DEPTH                                                                         \n",
              "3227.9  0.5378190951  0.5003737144  0.5930644317  0.5395778833  0.5930644317  \n",
              "3228.0  0.5469126432  0.5043349118  0.5501059993  0.5255630583  0.5499836112  \n",
              "3228.1  0.5647843845  0.5130843605  0.4834446481  0.4978967429  0.4834446481  \n",
              "3228.2  0.5711262771  0.5133507988  0.4452927694  0.4823017672  0.4452927694  \n",
              "3228.3  0.5674968911  0.5179872030  0.4463818122  0.4628470358  0.4463818122  \n",
              "\n",
              "[5 rows x 24 columns]"
            ],
            "text/html": [
              "\n",
              "  <div id=\"df-5442261c-5e72-4180-ba8e-3c5c3ddda7a5\">\n",
              "    <div class=\"colab-df-container\">\n",
              "      <div>\n",
              "<style scoped>\n",
              "    .dataframe tbody tr th:only-of-type {\n",
              "        vertical-align: middle;\n",
              "    }\n",
              "\n",
              "    .dataframe tbody tr th {\n",
              "        vertical-align: top;\n",
              "    }\n",
              "\n",
              "    .dataframe thead th {\n",
              "        text-align: right;\n",
              "    }\n",
              "</style>\n",
              "<table border=\"1\" class=\"dataframe\">\n",
              "  <thead>\n",
              "    <tr style=\"text-align: right;\">\n",
              "      <th></th>\n",
              "      <th>ABDCQF01</th>\n",
              "      <th>ABDCQF02</th>\n",
              "      <th>ABDCQF03</th>\n",
              "      <th>ABDCQF04</th>\n",
              "      <th>BS</th>\n",
              "      <th>CALI</th>\n",
              "      <th>DRHO</th>\n",
              "      <th>GR</th>\n",
              "      <th>NPHI</th>\n",
              "      <th>PEF</th>\n",
              "      <th>...</th>\n",
              "      <th>RM</th>\n",
              "      <th>ROP</th>\n",
              "      <th>RPCEHM</th>\n",
              "      <th>RPCELM</th>\n",
              "      <th>DEPTH</th>\n",
              "      <th>RACEHM_l10</th>\n",
              "      <th>RACELM_l10</th>\n",
              "      <th>RPCEHM_l10</th>\n",
              "      <th>RPCELM_l10</th>\n",
              "      <th>RT_l10</th>\n",
              "    </tr>\n",
              "    <tr>\n",
              "      <th>DEPTH</th>\n",
              "      <th></th>\n",
              "      <th></th>\n",
              "      <th></th>\n",
              "      <th></th>\n",
              "      <th></th>\n",
              "      <th></th>\n",
              "      <th></th>\n",
              "      <th></th>\n",
              "      <th></th>\n",
              "      <th></th>\n",
              "      <th></th>\n",
              "      <th></th>\n",
              "      <th></th>\n",
              "      <th></th>\n",
              "      <th></th>\n",
              "      <th></th>\n",
              "      <th></th>\n",
              "      <th></th>\n",
              "      <th></th>\n",
              "      <th></th>\n",
              "      <th></th>\n",
              "    </tr>\n",
              "  </thead>\n",
              "  <tbody>\n",
              "    <tr>\n",
              "      <th>3227.9</th>\n",
              "      <td>2.586</td>\n",
              "      <td>2.577</td>\n",
              "      <td>2.580</td>\n",
              "      <td>2.587</td>\n",
              "      <td>8.5</td>\n",
              "      <td>8.578</td>\n",
              "      <td>0.065</td>\n",
              "      <td>33.703</td>\n",
              "      <td>0.136</td>\n",
              "      <td>7.173</td>\n",
              "      <td>...</td>\n",
              "      <td>3.918</td>\n",
              "      <td>12.214</td>\n",
              "      <td>3.918</td>\n",
              "      <td>3.464</td>\n",
              "      <td>3227.9</td>\n",
              "      <td>0.5378190951</td>\n",
              "      <td>0.5003737144</td>\n",
              "      <td>0.5930644317</td>\n",
              "      <td>0.5395778833</td>\n",
              "      <td>0.5930644317</td>\n",
              "    </tr>\n",
              "    <tr>\n",
              "      <th>3228.0</th>\n",
              "      <td>2.590</td>\n",
              "      <td>2.565</td>\n",
              "      <td>2.583</td>\n",
              "      <td>2.579</td>\n",
              "      <td>8.5</td>\n",
              "      <td>8.578</td>\n",
              "      <td>0.065</td>\n",
              "      <td>36.314</td>\n",
              "      <td>0.141</td>\n",
              "      <td>7.147</td>\n",
              "      <td>...</td>\n",
              "      <td>3.548</td>\n",
              "      <td>12.294</td>\n",
              "      <td>3.549</td>\n",
              "      <td>3.354</td>\n",
              "      <td>3228.0</td>\n",
              "      <td>0.5469126432</td>\n",
              "      <td>0.5043349118</td>\n",
              "      <td>0.5501059993</td>\n",
              "      <td>0.5255630583</td>\n",
              "      <td>0.5499836112</td>\n",
              "    </tr>\n",
              "    <tr>\n",
              "      <th>3228.1</th>\n",
              "      <td>2.587</td>\n",
              "      <td>2.555</td>\n",
              "      <td>2.581</td>\n",
              "      <td>2.569</td>\n",
              "      <td>8.5</td>\n",
              "      <td>8.578</td>\n",
              "      <td>0.064</td>\n",
              "      <td>38.562</td>\n",
              "      <td>0.146</td>\n",
              "      <td>7.115</td>\n",
              "      <td>...</td>\n",
              "      <td>3.044</td>\n",
              "      <td>12.480</td>\n",
              "      <td>3.044</td>\n",
              "      <td>3.147</td>\n",
              "      <td>3228.1</td>\n",
              "      <td>0.5647843845</td>\n",
              "      <td>0.5130843605</td>\n",
              "      <td>0.4834446481</td>\n",
              "      <td>0.4978967429</td>\n",
              "      <td>0.4834446481</td>\n",
              "    </tr>\n",
              "    <tr>\n",
              "      <th>3228.2</th>\n",
              "      <td>2.582</td>\n",
              "      <td>2.549</td>\n",
              "      <td>2.576</td>\n",
              "      <td>2.561</td>\n",
              "      <td>8.5</td>\n",
              "      <td>8.597</td>\n",
              "      <td>0.061</td>\n",
              "      <td>38.466</td>\n",
              "      <td>0.145</td>\n",
              "      <td>7.075</td>\n",
              "      <td>...</td>\n",
              "      <td>2.788</td>\n",
              "      <td>12.666</td>\n",
              "      <td>2.788</td>\n",
              "      <td>3.036</td>\n",
              "      <td>3228.2</td>\n",
              "      <td>0.5711262771</td>\n",
              "      <td>0.5133507988</td>\n",
              "      <td>0.4452927694</td>\n",
              "      <td>0.4823017672</td>\n",
              "      <td>0.4452927694</td>\n",
              "    </tr>\n",
              "    <tr>\n",
              "      <th>3228.3</th>\n",
              "      <td>2.576</td>\n",
              "      <td>2.550</td>\n",
              "      <td>2.574</td>\n",
              "      <td>2.559</td>\n",
              "      <td>8.5</td>\n",
              "      <td>8.578</td>\n",
              "      <td>0.059</td>\n",
              "      <td>38.891</td>\n",
              "      <td>0.150</td>\n",
              "      <td>7.038</td>\n",
              "      <td>...</td>\n",
              "      <td>2.795</td>\n",
              "      <td>12.853</td>\n",
              "      <td>2.795</td>\n",
              "      <td>2.903</td>\n",
              "      <td>3228.3</td>\n",
              "      <td>0.5674968911</td>\n",
              "      <td>0.5179872030</td>\n",
              "      <td>0.4463818122</td>\n",
              "      <td>0.4628470358</td>\n",
              "      <td>0.4463818122</td>\n",
              "    </tr>\n",
              "  </tbody>\n",
              "</table>\n",
              "<p>5 rows × 24 columns</p>\n",
              "</div>\n",
              "      <button class=\"colab-df-convert\" onclick=\"convertToInteractive('df-5442261c-5e72-4180-ba8e-3c5c3ddda7a5')\"\n",
              "              title=\"Convert this dataframe to an interactive table.\"\n",
              "              style=\"display:none;\">\n",
              "        \n",
              "  <svg xmlns=\"http://www.w3.org/2000/svg\" height=\"24px\"viewBox=\"0 0 24 24\"\n",
              "       width=\"24px\">\n",
              "    <path d=\"M0 0h24v24H0V0z\" fill=\"none\"/>\n",
              "    <path d=\"M18.56 5.44l.94 2.06.94-2.06 2.06-.94-2.06-.94-.94-2.06-.94 2.06-2.06.94zm-11 1L8.5 8.5l.94-2.06 2.06-.94-2.06-.94L8.5 2.5l-.94 2.06-2.06.94zm10 10l.94 2.06.94-2.06 2.06-.94-2.06-.94-.94-2.06-.94 2.06-2.06.94z\"/><path d=\"M17.41 7.96l-1.37-1.37c-.4-.4-.92-.59-1.43-.59-.52 0-1.04.2-1.43.59L10.3 9.45l-7.72 7.72c-.78.78-.78 2.05 0 2.83L4 21.41c.39.39.9.59 1.41.59.51 0 1.02-.2 1.41-.59l7.78-7.78 2.81-2.81c.8-.78.8-2.07 0-2.86zM5.41 20L4 18.59l7.72-7.72 1.47 1.35L5.41 20z\"/>\n",
              "  </svg>\n",
              "      </button>\n",
              "      \n",
              "  <style>\n",
              "    .colab-df-container {\n",
              "      display:flex;\n",
              "      flex-wrap:wrap;\n",
              "      gap: 12px;\n",
              "    }\n",
              "\n",
              "    .colab-df-convert {\n",
              "      background-color: #E8F0FE;\n",
              "      border: none;\n",
              "      border-radius: 50%;\n",
              "      cursor: pointer;\n",
              "      display: none;\n",
              "      fill: #1967D2;\n",
              "      height: 32px;\n",
              "      padding: 0 0 0 0;\n",
              "      width: 32px;\n",
              "    }\n",
              "\n",
              "    .colab-df-convert:hover {\n",
              "      background-color: #E2EBFA;\n",
              "      box-shadow: 0px 1px 2px rgba(60, 64, 67, 0.3), 0px 1px 3px 1px rgba(60, 64, 67, 0.15);\n",
              "      fill: #174EA6;\n",
              "    }\n",
              "\n",
              "    [theme=dark] .colab-df-convert {\n",
              "      background-color: #3B4455;\n",
              "      fill: #D2E3FC;\n",
              "    }\n",
              "\n",
              "    [theme=dark] .colab-df-convert:hover {\n",
              "      background-color: #434B5C;\n",
              "      box-shadow: 0px 1px 3px 1px rgba(0, 0, 0, 0.15);\n",
              "      filter: drop-shadow(0px 1px 2px rgba(0, 0, 0, 0.3));\n",
              "      fill: #FFFFFF;\n",
              "    }\n",
              "  </style>\n",
              "\n",
              "      <script>\n",
              "        const buttonEl =\n",
              "          document.querySelector('#df-5442261c-5e72-4180-ba8e-3c5c3ddda7a5 button.colab-df-convert');\n",
              "        buttonEl.style.display =\n",
              "          google.colab.kernel.accessAllowed ? 'block' : 'none';\n",
              "\n",
              "        async function convertToInteractive(key) {\n",
              "          const element = document.querySelector('#df-5442261c-5e72-4180-ba8e-3c5c3ddda7a5');\n",
              "          const dataTable =\n",
              "            await google.colab.kernel.invokeFunction('convertToInteractive',\n",
              "                                                     [key], {});\n",
              "          if (!dataTable) return;\n",
              "\n",
              "          const docLinkHtml = 'Like what you see? Visit the ' +\n",
              "            '<a target=\"_blank\" href=https://colab.research.google.com/notebooks/data_table.ipynb>data table notebook</a>'\n",
              "            + ' to learn more about interactive tables.';\n",
              "          element.innerHTML = '';\n",
              "          dataTable['output_type'] = 'display_data';\n",
              "          await google.colab.output.renderOutput(dataTable, element);\n",
              "          const docLink = document.createElement('div');\n",
              "          docLink.innerHTML = docLinkHtml;\n",
              "          element.appendChild(docLink);\n",
              "        }\n",
              "      </script>\n",
              "    </div>\n",
              "  </div>\n",
              "  "
            ]
          },
          "metadata": {},
          "execution_count": 371
        }
      ]
    },
    {
      "cell_type": "code",
      "source": [
        "df.drop(['RACEHM', 'RACELM', 'RPCEHM','RPCELM'], axis = 1, inplace=True)\n"
      ],
      "metadata": {
        "colab": {
          "base_uri": "https://localhost:8080/"
        },
        "id": "0bL-KWEYcZRp",
        "outputId": "ae9052e8-6f49-4f17-897e-0b464f957ad0"
      },
      "execution_count": 372,
      "outputs": [
        {
          "output_type": "stream",
          "name": "stderr",
          "text": [
            "/usr/local/lib/python3.7/dist-packages/pandas/core/frame.py:4913: SettingWithCopyWarning: \n",
            "A value is trying to be set on a copy of a slice from a DataFrame\n",
            "\n",
            "See the caveats in the documentation: https://pandas.pydata.org/pandas-docs/stable/user_guide/indexing.html#returning-a-view-versus-a-copy\n",
            "  errors=errors,\n"
          ]
        }
      ]
    },
    {
      "cell_type": "code",
      "source": [
        "df.info()"
      ],
      "metadata": {
        "colab": {
          "base_uri": "https://localhost:8080/"
        },
        "id": "1U_uttUydyzZ",
        "outputId": "de8d437b-c700-4714-8761-36a29646239b"
      },
      "execution_count": 373,
      "outputs": [
        {
          "output_type": "stream",
          "name": "stdout",
          "text": [
            "<class 'pandas.core.frame.DataFrame'>\n",
            "Float64Index: 11400 entries, 3227.9 to 4744.7\n",
            "Data columns (total 20 columns):\n",
            " #   Column      Non-Null Count  Dtype  \n",
            "---  ------      --------------  -----  \n",
            " 0   ABDCQF01    11400 non-null  float64\n",
            " 1   ABDCQF02    11400 non-null  float64\n",
            " 2   ABDCQF03    11400 non-null  float64\n",
            " 3   ABDCQF04    11400 non-null  float64\n",
            " 4   BS          11400 non-null  float64\n",
            " 5   CALI        11400 non-null  float64\n",
            " 6   DRHO        11400 non-null  float64\n",
            " 7   GR          11400 non-null  float64\n",
            " 8   NPHI        11400 non-null  float64\n",
            " 9   PEF         11400 non-null  float64\n",
            " 10  RD          11400 non-null  float64\n",
            " 11  RHOB        11400 non-null  float64\n",
            " 12  RM          11400 non-null  float64\n",
            " 13  ROP         11400 non-null  float64\n",
            " 14  DEPTH       11400 non-null  float64\n",
            " 15  RACEHM_l10  11400 non-null  float64\n",
            " 16  RACELM_l10  11400 non-null  float64\n",
            " 17  RPCEHM_l10  11400 non-null  float64\n",
            " 18  RPCELM_l10  11400 non-null  float64\n",
            " 19  RT_l10      11400 non-null  float64\n",
            "dtypes: float64(20)\n",
            "memory usage: 1.8 MB\n"
          ]
        }
      ]
    },
    {
      "cell_type": "code",
      "source": [
        "df.plot(kind='box')\n",
        "plt.xticks(rotation=270)\n",
        "plt.show()"
      ],
      "metadata": {
        "colab": {
          "base_uri": "https://localhost:8080/",
          "height": 318
        },
        "id": "RFWKvylEUwwz",
        "outputId": "309e4d1f-9e8e-4aba-cf1e-b1e767fa9a29"
      },
      "execution_count": 374,
      "outputs": [
        {
          "output_type": "display_data",
          "data": {
            "text/plain": [
              "<Figure size 432x288 with 1 Axes>"
            ],
            "image/png": "[encoded data removed]"
          },
          "metadata": {
            "needs_background": "light"
          }
        }
      ]
    },
    {
      "cell_type": "code",
      "source": [
        "\"\"\"# Create Pairplot\n",
        "\n",
        "# Seaborn visualization library\n",
        "import seaborn as sns\n",
        "\n",
        "# Create the default pairplot\n",
        "sns.pairplot(df)\n",
        "\n",
        "\"\"\""
      ],
      "metadata": {
        "colab": {
          "base_uri": "https://localhost:8080/",
          "height": 36
        },
        "id": "eH8BA-afdFYM",
        "outputId": "c8c82f50-9c68-4647-b524-d54c7e438439"
      },
      "execution_count": 375,
      "outputs": [
        {
          "output_type": "execute_result",
          "data": {
            "text/plain": [
              "'# Create Pairplot\\n\\n# Seaborn visualization library\\nimport seaborn as sns\\n\\n# Create the default pairplot\\nsns.pairplot(df)\\n\\n'"
            ],
            "application/vnd.google.colaboratory.intrinsic+json": {
              "type": "string"
            }
          },
          "metadata": {},
          "execution_count": 375
        }
      ]
    },
    {
      "cell_type": "markdown",
      "source": [
        "# Insert Dataset Labelling"
      ],
      "metadata": {
        "id": "BYrAL8B-OpZU"
      }
    },
    {
      "cell_type": "markdown",
      "source": [
        "INSERT DATASET LABEL"
      ],
      "metadata": {
        "id": "Yd_BKUPOJT04"
      }
    },
    {
      "cell_type": "code",
      "source": [
        "\"\"\"\n",
        "x1=df['RHOB']\n",
        "x2=df['NPHI']\n",
        "\n",
        "x = np.array(ax1.get_xlim())\n",
        "z = np.array(ax2.get_xlim())\n",
        "\n",
        "nz=((x2-np.max(z))/(np.min(z)-np.max(z)))*(np.max(x)-np.min(x))+np.min(x)\n",
        "\"\"\""
      ],
      "metadata": {
        "id": "BkQVFq3X6iDR",
        "colab": {
          "base_uri": "https://localhost:8080/",
          "height": 36
        },
        "outputId": "4e14fd56-2906-4e93-c048-c5c950c1eb41"
      },
      "execution_count": 376,
      "outputs": [
        {
          "output_type": "execute_result",
          "data": {
            "text/plain": [
              "\"\\nx1=df['RHOB']\\nx2=df['NPHI']\\n\\nx = np.array(ax1.get_xlim())\\nz = np.array(ax2.get_xlim())\\n\\nnz=((x2-np.max(z))/(np.min(z)-np.max(z)))*(np.max(x)-np.min(x))+np.min(x)\\n\""
            ],
            "application/vnd.google.colaboratory.intrinsic+json": {
              "type": "string"
            }
          },
          "metadata": {},
          "execution_count": 376
        }
      ]
    },
    {
      "cell_type": "code",
      "source": [
        "# create a list of our conditions\n",
        "conditions = []\n",
        "\n",
        "conditions = [\n",
        "    (df['GR'] > 84),\n",
        "    (df['GR'] <= 84) & (df['RT_l10'] > 1),\n",
        "    (df['GR'] <= 84) & (df['RT_l10'] <= 1)\n",
        "    ]\n",
        "\n",
        "\n",
        "# create a list of the values we want to assign for each condition\n",
        "values = ['0', '1','2']\n",
        "\n",
        "# create a new column and use np.select to assign values to it using our lists as arguments\n",
        "df['LABEL'] = np.select(conditions, values)\n",
        "\n",
        "\n",
        "df['LABEL'].value_counts()\n",
        "\n",
        "\n",
        "# 0: SHALE\n",
        "# 1: HYDROCARBON\n",
        "# 2: WATER-BEARING"
      ],
      "metadata": {
        "id": "etr-pUImJWNp",
        "colab": {
          "base_uri": "https://localhost:8080/"
        },
        "outputId": "784d5f7f-af79-4f78-afe3-d77a25eb755e"
      },
      "execution_count": 377,
      "outputs": [
        {
          "output_type": "stream",
          "name": "stderr",
          "text": [
            "/usr/local/lib/python3.7/dist-packages/ipykernel_launcher.py:15: SettingWithCopyWarning: \n",
            "A value is trying to be set on a copy of a slice from a DataFrame.\n",
            "Try using .loc[row_indexer,col_indexer] = value instead\n",
            "\n",
            "See the caveats in the documentation: https://pandas.pydata.org/pandas-docs/stable/user_guide/indexing.html#returning-a-view-versus-a-copy\n",
            "  from ipykernel import kernelapp as app\n"
          ]
        },
        {
          "output_type": "execute_result",
          "data": {
            "text/plain": [
              "2    7208\n",
              "1    3658\n",
              "0     534\n",
              "Name: LABEL, dtype: int64"
            ]
          },
          "metadata": {},
          "execution_count": 377
        }
      ]
    },
    {
      "cell_type": "markdown",
      "source": [
        "# Dataset Partitioning"
      ],
      "metadata": {
        "id": "bbhmnRmXOurj"
      }
    },
    {
      "cell_type": "markdown",
      "source": [
        "DATA PARTITIONING"
      ],
      "metadata": {
        "id": "z-gJQNP6VUCz"
      }
    },
    {
      "cell_type": "code",
      "source": [
        "# Data Partitioning Phase - Split 70:30 ration training testing set\n",
        "\n",
        "# Separate features and labels\n",
        "features = ['ABDCQF01','ABDCQF02','ABDCQF03','ABDCQF04','BS','CALI','DRHO','GR','NPHI','PEF','RACEHM_l10','RACELM_l10','RD','RHOB','RM','ROP','RPCEHM_l10','RPCELM_l10','RT_l10','DEPTH']\n",
        "label = 'LABEL'\n",
        "\n",
        "X, y = df[features].values, df[label].values\n",
        "\n",
        "for n in range(0,4):\n",
        "    print(\"Log data:\", str(n+1), \"\\n  Features:\",list(X[n]), \"\\n  Label:\", y[n])\n",
        "\n",
        "from sklearn.model_selection import train_test_split\n",
        "\n",
        "# Split data 70%-30% into training set and test set\n",
        "X_train, X_test, y_train, y_test = train_test_split(X, y, test_size=0.30, random_state=0, stratify=y)\n",
        "\n",
        "print ('Training cases: %d\\nTest cases: %d' % (X_train.shape[0], X_test.shape[0]))"
      ],
      "metadata": {
        "id": "Qxnmgdd7VTe9",
        "colab": {
          "base_uri": "https://localhost:8080/"
        },
        "outputId": "288b4c4b-b3ba-48eb-eb5b-7820e8b4c2cb"
      },
      "execution_count": 378,
      "outputs": [
        {
          "output_type": "stream",
          "name": "stdout",
          "text": [
            "Log data: 1 \n",
            "  Features: [2.586, 2.577, 2.58, 2.587, 8.5, 8.578, 0.065, 33.703, 0.136, 7.173, 0.5378190950732742, 0.500373714353374, 3.464, 2.579, 3.918, 12.214, 0.5930644316587176, 0.5395778833453091, 0.5930644316587176, 3227.9] \n",
            "  Label: 2\n",
            "Log data: 2 \n",
            "  Features: [2.59, 2.565, 2.583, 2.579, 8.5, 8.578, 0.065, 36.314, 0.141, 7.147, 0.5469126431812426, 0.5043349118024641, 3.354, 2.576, 3.548, 12.294, 0.5501059993475927, 0.525563058270067, 0.5499836111596887, 3228.0] \n",
            "  Label: 2\n",
            "Log data: 3 \n",
            "  Features: [2.587, 2.555, 2.581, 2.569, 8.5, 8.578, 0.064, 38.562, 0.146, 7.115, 0.5647843845039868, 0.5130843604651442, 3.147, 2.572, 3.044, 12.48, 0.4834446480985352, 0.4978967429132203, 0.4834446480985352, 3228.1] \n",
            "  Label: 2\n",
            "Log data: 4 \n",
            "  Features: [2.582, 2.549, 2.576, 2.561, 8.5, 8.597, 0.061, 38.466, 0.145, 7.075, 0.5711262770843116, 0.513350798805957, 3.036, 2.568, 2.788, 12.666, 0.4452927694259718, 0.48230176722344276, 0.4452927694259718, 3228.2] \n",
            "  Label: 2\n",
            "Training cases: 7980\n",
            "Test cases: 3420\n"
          ]
        }
      ]
    },
    {
      "cell_type": "code",
      "source": [
        "# Training set\n",
        "\n",
        "df = pd.DataFrame(X_train, columns = ['ABDCQF01','ABDCQF02','ABDCQF03','ABDCQF04','BS','CALI','DRHO','GR','NPHI','PEF','RACEHM_l10','RACELM_l10','RD','RHOB','RM','ROP','RPCEHM_l10','RPCELM_l10','RT_l10','DEPTH'])\n",
        "df[['ABDCQF01','ABDCQF02','ABDCQF03','ABDCQF04','BS','CALI','DRHO','GR','NPHI','PEF','RACEHM_l10','RACELM_l10','RD','RHOB','RM','ROP','RPCEHM_l10','RPCELM_l10','RT_l10','DEPTH']] = df[['ABDCQF01','ABDCQF02','ABDCQF03','ABDCQF04','BS','CALI','DRHO','GR','NPHI','PEF','RACEHM_l10','RACELM_l10','RD','RHOB','RM','ROP','RPCEHM_l10','RPCELM_l10','RT_l10','DEPTH']].apply(pd.to_numeric, axis = 1)\n",
        "df.info()\n",
        "xtrain = df\n",
        "\n",
        "# Testing set\n",
        "\n",
        "df_test = pd.DataFrame(X_test, columns = ['ABDCQF01','ABDCQF02','ABDCQF03','ABDCQF04','BS','CALI','DRHO','GR','NPHI','PEF','RACEHM_l10','RACELM_l10','RD','RHOB','RM','ROP','RPCEHM_l10','RPCELM_l10','RT_l10','DEPTH'])\n",
        "df_test[['ABDCQF01','ABDCQF02','ABDCQF03','ABDCQF04','BS','CALI','DRHO','GR','NPHI','PEF','RACEHM_l10','RACELM_l10','RD','RHOB','RM','ROP','RPCEHM_l10','RPCELM_l10','RT_l10','DEPTH']] = df_test[['ABDCQF01','ABDCQF02','ABDCQF03','ABDCQF04','BS','CALI','DRHO','GR','NPHI','PEF','RACEHM_l10','RACELM_l10','RD','RHOB','RM','ROP','RPCEHM_l10','RPCELM_l10','RT_l10','DEPTH']].apply(pd.to_numeric, axis = 1)\n",
        "df_test.info()\n",
        "xtest = df_test"
      ],
      "metadata": {
        "id": "scDlwIebw4UA",
        "colab": {
          "base_uri": "https://localhost:8080/"
        },
        "outputId": "2738023a-eedf-4fba-dd88-246b45459e9c"
      },
      "execution_count": 379,
      "outputs": [
        {
          "output_type": "stream",
          "name": "stdout",
          "text": [
            "<class 'pandas.core.frame.DataFrame'>\n",
            "RangeIndex: 7980 entries, 0 to 7979\n",
            "Data columns (total 20 columns):\n",
            " #   Column      Non-Null Count  Dtype  \n",
            "---  ------      --------------  -----  \n",
            " 0   ABDCQF01    7980 non-null   float64\n",
            " 1   ABDCQF02    7980 non-null   float64\n",
            " 2   ABDCQF03    7980 non-null   float64\n",
            " 3   ABDCQF04    7980 non-null   float64\n",
            " 4   BS          7980 non-null   float64\n",
            " 5   CALI        7980 non-null   float64\n",
            " 6   DRHO        7980 non-null   float64\n",
            " 7   GR          7980 non-null   float64\n",
            " 8   NPHI        7980 non-null   float64\n",
            " 9   PEF         7980 non-null   float64\n",
            " 10  RACEHM_l10  7980 non-null   float64\n",
            " 11  RACELM_l10  7980 non-null   float64\n",
            " 12  RD          7980 non-null   float64\n",
            " 13  RHOB        7980 non-null   float64\n",
            " 14  RM          7980 non-null   float64\n",
            " 15  ROP         7980 non-null   float64\n",
            " 16  RPCEHM_l10  7980 non-null   float64\n",
            " 17  RPCELM_l10  7980 non-null   float64\n",
            " 18  RT_l10      7980 non-null   float64\n",
            " 19  DEPTH       7980 non-null   float64\n",
            "dtypes: float64(20)\n",
            "memory usage: 1.2 MB\n",
            "<class 'pandas.core.frame.DataFrame'>\n",
            "RangeIndex: 3420 entries, 0 to 3419\n",
            "Data columns (total 20 columns):\n",
            " #   Column      Non-Null Count  Dtype  \n",
            "---  ------      --------------  -----  \n",
            " 0   ABDCQF01    3420 non-null   float64\n",
            " 1   ABDCQF02    3420 non-null   float64\n",
            " 2   ABDCQF03    3420 non-null   float64\n",
            " 3   ABDCQF04    3420 non-null   float64\n",
            " 4   BS          3420 non-null   float64\n",
            " 5   CALI        3420 non-null   float64\n",
            " 6   DRHO        3420 non-null   float64\n",
            " 7   GR          3420 non-null   float64\n",
            " 8   NPHI        3420 non-null   float64\n",
            " 9   PEF         3420 non-null   float64\n",
            " 10  RACEHM_l10  3420 non-null   float64\n",
            " 11  RACELM_l10  3420 non-null   float64\n",
            " 12  RD          3420 non-null   float64\n",
            " 13  RHOB        3420 non-null   float64\n",
            " 14  RM          3420 non-null   float64\n",
            " 15  ROP         3420 non-null   float64\n",
            " 16  RPCEHM_l10  3420 non-null   float64\n",
            " 17  RPCELM_l10  3420 non-null   float64\n",
            " 18  RT_l10      3420 non-null   float64\n",
            " 19  DEPTH       3420 non-null   float64\n",
            "dtypes: float64(20)\n",
            "memory usage: 534.5 KB\n"
          ]
        }
      ]
    },
    {
      "cell_type": "code",
      "source": [
        "xtrain.info()"
      ],
      "metadata": {
        "id": "g5WJReX38-Lh",
        "colab": {
          "base_uri": "https://localhost:8080/"
        },
        "outputId": "3ca3bd10-2487-4f72-ddbd-84bcb05fcd92"
      },
      "execution_count": 380,
      "outputs": [
        {
          "output_type": "stream",
          "name": "stdout",
          "text": [
            "<class 'pandas.core.frame.DataFrame'>\n",
            "RangeIndex: 7980 entries, 0 to 7979\n",
            "Data columns (total 20 columns):\n",
            " #   Column      Non-Null Count  Dtype  \n",
            "---  ------      --------------  -----  \n",
            " 0   ABDCQF01    7980 non-null   float64\n",
            " 1   ABDCQF02    7980 non-null   float64\n",
            " 2   ABDCQF03    7980 non-null   float64\n",
            " 3   ABDCQF04    7980 non-null   float64\n",
            " 4   BS          7980 non-null   float64\n",
            " 5   CALI        7980 non-null   float64\n",
            " 6   DRHO        7980 non-null   float64\n",
            " 7   GR          7980 non-null   float64\n",
            " 8   NPHI        7980 non-null   float64\n",
            " 9   PEF         7980 non-null   float64\n",
            " 10  RACEHM_l10  7980 non-null   float64\n",
            " 11  RACELM_l10  7980 non-null   float64\n",
            " 12  RD          7980 non-null   float64\n",
            " 13  RHOB        7980 non-null   float64\n",
            " 14  RM          7980 non-null   float64\n",
            " 15  ROP         7980 non-null   float64\n",
            " 16  RPCEHM_l10  7980 non-null   float64\n",
            " 17  RPCELM_l10  7980 non-null   float64\n",
            " 18  RT_l10      7980 non-null   float64\n",
            " 19  DEPTH       7980 non-null   float64\n",
            "dtypes: float64(20)\n",
            "memory usage: 1.2 MB\n"
          ]
        }
      ]
    },
    {
      "cell_type": "code",
      "source": [
        "# Training set\n",
        "\n",
        "df2 = pd.DataFrame(y_train, columns = ['LABEL'])\n",
        "df2 = df2.astype('int64')\n",
        "df2.info()    \n",
        "ytrain = df2          \n",
        "\n",
        "# Testing set\n",
        "\n",
        "df_test2 = pd.DataFrame(y_test, columns = ['LABEL'])\n",
        "df_test2 = df_test2.astype('int64')\n",
        "df_test2.info() \n",
        "ytest = df_test2"
      ],
      "metadata": {
        "id": "lpH9cd1I8CUk",
        "colab": {
          "base_uri": "https://localhost:8080/"
        },
        "outputId": "e4cfa018-171a-411c-a68c-96c64a4d370e"
      },
      "execution_count": 381,
      "outputs": [
        {
          "output_type": "stream",
          "name": "stdout",
          "text": [
            "<class 'pandas.core.frame.DataFrame'>\n",
            "RangeIndex: 7980 entries, 0 to 7979\n",
            "Data columns (total 1 columns):\n",
            " #   Column  Non-Null Count  Dtype\n",
            "---  ------  --------------  -----\n",
            " 0   LABEL   7980 non-null   int64\n",
            "dtypes: int64(1)\n",
            "memory usage: 62.5 KB\n",
            "<class 'pandas.core.frame.DataFrame'>\n",
            "RangeIndex: 3420 entries, 0 to 3419\n",
            "Data columns (total 1 columns):\n",
            " #   Column  Non-Null Count  Dtype\n",
            "---  ------  --------------  -----\n",
            " 0   LABEL   3420 non-null   int64\n",
            "dtypes: int64(1)\n",
            "memory usage: 26.8 KB\n"
          ]
        }
      ]
    },
    {
      "cell_type": "code",
      "source": [
        "# Training set\n",
        "\n",
        "df['LABEL'] = df2\n",
        "df.info()\n",
        "\n",
        "# Testing set\n",
        "\n",
        "df_test['LABEL'] = df_test2\n",
        "df_test1 = df_test"
      ],
      "metadata": {
        "id": "lcoXXtVeA85g",
        "colab": {
          "base_uri": "https://localhost:8080/"
        },
        "outputId": "9a0e9833-8a16-42b8-c586-87bf4f728879"
      },
      "execution_count": 382,
      "outputs": [
        {
          "output_type": "stream",
          "name": "stdout",
          "text": [
            "<class 'pandas.core.frame.DataFrame'>\n",
            "RangeIndex: 7980 entries, 0 to 7979\n",
            "Data columns (total 21 columns):\n",
            " #   Column      Non-Null Count  Dtype  \n",
            "---  ------      --------------  -----  \n",
            " 0   ABDCQF01    7980 non-null   float64\n",
            " 1   ABDCQF02    7980 non-null   float64\n",
            " 2   ABDCQF03    7980 non-null   float64\n",
            " 3   ABDCQF04    7980 non-null   float64\n",
            " 4   BS          7980 non-null   float64\n",
            " 5   CALI        7980 non-null   float64\n",
            " 6   DRHO        7980 non-null   float64\n",
            " 7   GR          7980 non-null   float64\n",
            " 8   NPHI        7980 non-null   float64\n",
            " 9   PEF         7980 non-null   float64\n",
            " 10  RACEHM_l10  7980 non-null   float64\n",
            " 11  RACELM_l10  7980 non-null   float64\n",
            " 12  RD          7980 non-null   float64\n",
            " 13  RHOB        7980 non-null   float64\n",
            " 14  RM          7980 non-null   float64\n",
            " 15  ROP         7980 non-null   float64\n",
            " 16  RPCEHM_l10  7980 non-null   float64\n",
            " 17  RPCELM_l10  7980 non-null   float64\n",
            " 18  RT_l10      7980 non-null   float64\n",
            " 19  DEPTH       7980 non-null   float64\n",
            " 20  LABEL       7980 non-null   int64  \n",
            "dtypes: float64(20), int64(1)\n",
            "memory usage: 1.3 MB\n"
          ]
        }
      ]
    },
    {
      "cell_type": "markdown",
      "source": [
        "# Feature Scaling "
      ],
      "metadata": {
        "id": "fvUnX-UsO1Z7"
      }
    },
    {
      "cell_type": "markdown",
      "source": [
        "FEATURE SCALING"
      ],
      "metadata": {
        "id": "Vk23g5LBWA2z"
      }
    },
    {
      "cell_type": "code",
      "source": [
        "from sklearn.preprocessing import StandardScaler\n",
        "scaler = StandardScaler()\n",
        "\n",
        "scaler.fit(df)\n",
        "scaler.fit(df_test)\n"
      ],
      "metadata": {
        "id": "Q0qbyHDQaCe0",
        "colab": {
          "base_uri": "https://localhost:8080/"
        },
        "outputId": "3440d60a-c169-4d21-e9d4-a28b35a09532"
      },
      "execution_count": 383,
      "outputs": [
        {
          "output_type": "execute_result",
          "data": {
            "text/plain": [
              "StandardScaler()"
            ]
          },
          "metadata": {},
          "execution_count": 383
        }
      ]
    },
    {
      "cell_type": "markdown",
      "source": [
        "FEATURE SELECTION"
      ],
      "metadata": {
        "id": "t2EhnJRCIKVv"
      }
    },
    {
      "cell_type": "markdown",
      "source": [
        "Mutual selection"
      ],
      "metadata": {
        "id": "HW_INnLDkwUi"
      }
    },
    {
      "cell_type": "code",
      "source": [
        "import pandas as pd\n",
        "from sklearn.feature_selection import SelectKBest, SelectPercentile, mutual_info_classif\n"
      ],
      "metadata": {
        "id": "WIiCGk9FIH1z"
      },
      "execution_count": 384,
      "outputs": []
    },
    {
      "cell_type": "code",
      "source": [
        "selector = SelectKBest(mutual_info_classif, k=10)\n",
        "X_reduced = selector.fit_transform(X, y)\n",
        "X_reduced.shape\n"
      ],
      "metadata": {
        "id": "mNoofB79gd-B",
        "colab": {
          "base_uri": "https://localhost:8080/"
        },
        "outputId": "7674061c-8e32-4698-cdaf-7c812f97421a"
      },
      "execution_count": 385,
      "outputs": [
        {
          "output_type": "execute_result",
          "data": {
            "text/plain": [
              "(11400, 10)"
            ]
          },
          "metadata": {},
          "execution_count": 385
        }
      ]
    },
    {
      "cell_type": "code",
      "source": [
        "\"\"\"\n",
        "cols = selector.get_support(indices=True)\n",
        "selected_columns = X.iloc[:,cols].columns.tolist()\n",
        "selected_columns\n",
        "\"\"\""
      ],
      "metadata": {
        "id": "k1SmwwBEg2ro",
        "colab": {
          "base_uri": "https://localhost:8080/",
          "height": 36
        },
        "outputId": "a479beb8-34c7-4ccd-9271-db745545180c"
      },
      "execution_count": 386,
      "outputs": [
        {
          "output_type": "execute_result",
          "data": {
            "text/plain": [
              "'\\ncols = selector.get_support(indices=True)\\nselected_columns = X.iloc[:,cols].columns.tolist()\\nselected_columns\\n'"
            ],
            "application/vnd.google.colaboratory.intrinsic+json": {
              "type": "string"
            }
          },
          "metadata": {},
          "execution_count": 386
        }
      ]
    },
    {
      "cell_type": "markdown",
      "source": [
        "F-test"
      ],
      "metadata": {
        "id": "hO4b3JYMkzcW"
      }
    },
    {
      "cell_type": "code",
      "source": [
        "from sklearn.feature_selection import SelectKBest\n",
        "from sklearn.feature_selection import f_classif\n",
        "from matplotlib import pyplot\n",
        "\n",
        "\n",
        "# configure to select all features\n",
        "fs = SelectKBest(score_func=f_classif, k='all')\n",
        "# learn relationship from training data\n",
        "fs.fit(X_train, y_train)\n",
        "# transform train input data\n",
        "X_train_fs = fs.transform(X_train)\n",
        "# transform test input data\n",
        "X_test_fs = fs.transform(X_test)\n"
      ],
      "metadata": {
        "id": "q0ACVQS8k1bH",
        "colab": {
          "base_uri": "https://localhost:8080/"
        },
        "outputId": "c868d20d-59be-4aa1-b3f9-acec8c8662f9"
      },
      "execution_count": 387,
      "outputs": [
        {
          "output_type": "stream",
          "name": "stderr",
          "text": [
            "/usr/local/lib/python3.7/dist-packages/sklearn/feature_selection/_univariate_selection.py:112: UserWarning: Features [4] are constant.\n",
            "  warnings.warn(\"Features %s are constant.\" % constant_features_idx, UserWarning)\n",
            "/usr/local/lib/python3.7/dist-packages/sklearn/feature_selection/_univariate_selection.py:113: RuntimeWarning: invalid value encountered in true_divide\n",
            "  f = msb / msw\n"
          ]
        }
      ]
    },
    {
      "cell_type": "code",
      "source": [
        "\n",
        "# what are scores for the features\n",
        "for i in range(len(fs.scores_)):\n",
        "\tprint('Feature %d: %f' % (i, fs.scores_[i]))\n",
        " \n",
        "# plot the scores\n",
        "pyplot.bar([i for i in range(len(fs.scores_))], fs.scores_)\n",
        "pyplot.show()"
      ],
      "metadata": {
        "id": "-sAXdfKPllc7",
        "colab": {
          "base_uri": "https://localhost:8080/",
          "height": 612
        },
        "outputId": "698c2c90-e17f-470e-aa90-392e6cb7da1d"
      },
      "execution_count": 388,
      "outputs": [
        {
          "output_type": "stream",
          "name": "stdout",
          "text": [
            "Feature 0: 986.920464\n",
            "Feature 1: 1049.335728\n",
            "Feature 2: 961.869156\n",
            "Feature 3: 1137.808037\n",
            "Feature 4: nan\n",
            "Feature 5: 243.125941\n",
            "Feature 6: 277.423493\n",
            "Feature 7: 2606.379850\n",
            "Feature 8: 425.542191\n",
            "Feature 9: 787.381957\n",
            "Feature 10: 6362.944979\n",
            "Feature 11: 3171.473730\n",
            "Feature 12: 5040.524395\n",
            "Feature 13: 1181.950997\n",
            "Feature 14: 6728.490004\n",
            "Feature 15: 117.063087\n",
            "Feature 16: 11747.395101\n",
            "Feature 17: 8226.932089\n",
            "Feature 18: 11746.401377\n",
            "Feature 19: 429.992472\n"
          ]
        },
        {
          "output_type": "display_data",
          "data": {
            "text/plain": [
              "<Figure size 432x288 with 1 Axes>"
            ],
            "image/png": "[encoded data removed]"
          },
          "metadata": {
            "needs_background": "light"
          }
        }
      ]
    },
    {
      "cell_type": "code",
      "source": [
        "fs.scores_.sort()\n",
        "fs.scores_\n",
        "\n"
      ],
      "metadata": {
        "id": "SGFb_OetNYWZ",
        "colab": {
          "base_uri": "https://localhost:8080/"
        },
        "outputId": "dae6440e-0cf1-41ef-8218-58fabd760509"
      },
      "execution_count": 389,
      "outputs": [
        {
          "output_type": "execute_result",
          "data": {
            "text/plain": [
              "array([  117.06308692,   243.12594089,   277.4234926 ,   425.54219086,\n",
              "         429.99247151,   787.38195702,   961.86915576,   986.92046414,\n",
              "        1049.33572815,  1137.80803657,  1181.9509967 ,  2606.37985032,\n",
              "        3171.47372952,  5040.52439538,  6362.94497944,  6728.49000374,\n",
              "        8226.93208871, 11746.4013766 , 11747.39510075,            nan])"
            ]
          },
          "metadata": {},
          "execution_count": 389
        }
      ]
    },
    {
      "cell_type": "markdown",
      "source": [
        "Visualizing Feature Selection - Heat Map"
      ],
      "metadata": {
        "id": "E4th8MJLMjHh"
      }
    },
    {
      "cell_type": "code",
      "source": [
        "import pandas as pd\n",
        "import numpy as np\n",
        "import seaborn as sns\n",
        "\n",
        "X = df.iloc[:,0:20]  #independent columns\n",
        "y = df.iloc[:,-1]    #target column i.e price range\n",
        "#get correlations of each features in dataset\n",
        "corrmat = df.corr()\n",
        "top_corr_features = corrmat.index\n",
        "plt.figure(figsize=(21,21))\n",
        "#plot heat map\n",
        "g=sns.heatmap(df[top_corr_features].corr(),annot=True,cmap=\"RdYlGn\")"
      ],
      "metadata": {
        "id": "DIs3h2wFMnaJ",
        "colab": {
          "base_uri": "https://localhost:8080/",
          "height": 1000
        },
        "outputId": "536d50ed-50f8-4f5f-b820-1c550521133d"
      },
      "execution_count": 390,
      "outputs": [
        {
          "output_type": "display_data",
          "data": {
            "text/plain": [
              "<Figure size 1512x1512 with 2 Axes>"
            ],
            "image/png": "[encoded data removed]"
          },
          "metadata": {
            "needs_background": "light"
          }
        }
      ]
    },
    {
      "cell_type": "markdown",
      "source": [
        "Feature Selection - Extra Tree Classifier"
      ],
      "metadata": {
        "id": "41RFop89N9IV"
      }
    },
    {
      "cell_type": "code",
      "source": [
        "import pandas as pd\n",
        "import numpy as np\n",
        "\n",
        "X = df.iloc[:,0:20]  #independent columns\n",
        "y = df.iloc[:,-1]    #target column i.e price range\n",
        "from sklearn.ensemble import ExtraTreesClassifier\n",
        "import matplotlib.pyplot as plt\n",
        "model = ExtraTreesClassifier()\n",
        "model.fit(X,y)\n",
        "print(model.feature_importances_) #use inbuilt class feature_importances of tree based classifiers\n",
        "#plot graph of feature importances for better visualization\n",
        "feat_importances = pd.Series(model.feature_importances_, index=X.columns)\n",
        "feat_importances.nlargest(20).plot(kind='barh')\n",
        "plt.show()"
      ],
      "metadata": {
        "id": "AHxPOyEzOJha",
        "colab": {
          "base_uri": "https://localhost:8080/",
          "height": 334
        },
        "outputId": "5dc6e40e-9f23-4d20-8904-b5f920200a95"
      },
      "execution_count": 391,
      "outputs": [
        {
          "output_type": "stream",
          "name": "stdout",
          "text": [
            "[0.01525803 0.01343155 0.01137373 0.01067079 0.         0.01149446\n",
            " 0.00443318 0.0723725  0.01216487 0.01455655 0.08703198 0.02429516\n",
            " 0.07707068 0.01351172 0.15870107 0.01090801 0.17404022 0.10863893\n",
            " 0.15059501 0.02945157]\n"
          ]
        },
        {
          "output_type": "display_data",
          "data": {
            "text/plain": [
              "<Figure size 432x288 with 1 Axes>"
            ],
            "image/png": "[encoded data removed]"
          },
          "metadata": {
            "needs_background": "light"
          }
        }
      ]
    },
    {
      "cell_type": "markdown",
      "source": [
        "# Plotting Well Logging Graph"
      ],
      "metadata": {
        "id": "jiuGtzhjO-Qc"
      }
    },
    {
      "cell_type": "markdown",
      "source": [
        "Plot Well Logging **Graph**"
      ],
      "metadata": {
        "id": "P6mgeFP-XT2O"
      }
    },
    {
      "cell_type": "code",
      "source": [
        "\"\"\"fig, ax = plt.subplots(nrows=1,ncols=3, figsize=(10,15), sharey=True)\n",
        "fig.suptitle(\"Well Log\", fontsize=30)\n",
        "fig.subplots_adjust(top=0.9,wspace=0.1)\n",
        "\n",
        "#track 1\n",
        "\n",
        "ax01 = ax[0].twiny()\n",
        "ax01.invert_yaxis()\n",
        "ax01.plot(df.GR,df.DEPTH, color='black',linestyle='-')\n",
        "ax01.set_xlim(0,200)\n",
        "ax01.set_xlabel('GR (GAPI)',color='black')\n",
        "ax01.set_ylabel(\"Depth (m)\")\n",
        "ax01.set_ylim(4750,3200)\n",
        "ax01.tick_params(axis='x',colors='black')\n",
        "ax01.spines['top'].set_position(('outward',1))\n",
        "ax01.grid()\n",
        "\n",
        "\n",
        "\n",
        "#ax01.fill_betweenx(well_nan.index,84, df[\"GR\"], facecolor='yellow')\n",
        "\n",
        "#ax01.fill_betweenx(df['DEPTH'], df['GR'], 0, facecolor='green')\n",
        "#ax01.fill_betweenx(df['DEPTH'], 200,df['GR'], facecolor='yellow')\n",
        "\n",
        "\n",
        "ax11=ax[0].twiny()\n",
        "ax11.invert_yaxis()\n",
        "ax11.plot(df.CALI, df.DEPTH, color='red',linestyle='-')\n",
        "ax11.set_xlim(6,16)\n",
        "ax11.set_xlabel('CALIPER',color='red')\n",
        "ax11.set_ylim(4750,3200)\n",
        "ax11.spines['top'].set_position(('outward',55))\n",
        "\n",
        "\n",
        "\n",
        "#track 2\n",
        "\n",
        "ax02 = ax[1].twiny()\n",
        "ax02.invert_yaxis()\n",
        "ax02.plot(df.RT_l10,df.DEPTH, color='blue',linestyle='-')\n",
        "ax02.set_xlim(0.1, 100)\n",
        "ax02.set_ylim(4750,3200)\n",
        "ax02.set_xlabel('RESISTIVITY',color='blue')\n",
        "ax02.tick_params(axis='x',colors='blue')\n",
        "ax02.spines['top'].set_position(('outward',0))\n",
        "ax02.semilogx()\n",
        "ax02.grid()\n",
        "\n",
        "\n",
        "#ax02.fill_betweenx(well_nan.index,10, df[\"RT\"], facecolor='blue')\n",
        "\n",
        "#track 3\n",
        "\n",
        "ax03 = ax[2].twiny()\n",
        "ax03.invert_yaxis()\n",
        "ax03.plot(df[\"NPHI\"]*100,df.DEPTH, color='orange',linestyle='-')\n",
        "ax03.set_xlim(45,-15)\n",
        "ax03.set_ylim(4750,3200)\n",
        "ax03.set_xlabel('NPHI',color='orange')\n",
        "ax03.tick_params(axis='x',colors='orange')\n",
        "ax03.spines['top'].set_position(('outward',0))\n",
        "ax03.grid()\n",
        "\n",
        "##fill color\n",
        "\n",
        "\n",
        "\n",
        "\n",
        "\n",
        "ax13=ax[2].twiny()\n",
        "ax13.invert_yaxis()\n",
        "ax13.plot(df.RHOB, df.DEPTH, color='black',linestyle='-')\n",
        "ax13.set_xlim(1.95,2.95)\n",
        "ax13.set_ylim(4750,3200)\n",
        "ax13.set_xlabel('DENSITY',color='black')\n",
        "ax13.spines['top'].set_position(('outward',55))\n",
        "\n",
        "\n",
        "x1=df[\"RHOB\"]\n",
        "x2=df[\"NPHI\"]\n",
        "\n",
        "x = np.array(ax13.get_xlim())\n",
        "z = np.array(ax03.get_xlim())\n",
        "\n",
        "nz=((x2-np.max(z))/(np.min(z)-np.max(z)))*(np.max(x)-np.min(x))+np.min(x)\n",
        "\n",
        "#ax13.fill_betweenx(df[\"DEPTH\"], x1, nz, where=x1>=nz, interpolate=True, color='green')\n",
        "#ax13.fill_betweenx(df[\"DEPTH\"], x1, nz, where=x1<=nz, interpolate=True, color='yellow')\n",
        "\"\"\"\n",
        "\"\"\"\n",
        "# Create output labels\n",
        "\n",
        "fig, ax = plt.subplots(figsize=(15,10))\n",
        "\n",
        "#Set up the plot axes\n",
        "ax1 = plt.subplot2grid((1,10), (0,0), rowspan=1, colspan = 3)\n",
        "ax2 = plt.subplot2grid((1,10), (0,3), rowspan=1, colspan = 3, sharey = ax1)\n",
        "ax3 = plt.subplot2grid((1,10), (0,6), rowspan=1, colspan = 3, sharey = ax1)\n",
        "ax4 = ax3.twiny() \n",
        "ax5 = plt.subplot2grid((1,10), (0,9), rowspan=1, colspan = 1, sharey = ax1)\n",
        "\"\"\"\n"
      ],
      "metadata": {
        "id": "aznLh3sZvB_x",
        "colab": {
          "base_uri": "https://localhost:8080/",
          "height": 53
        },
        "outputId": "72bf0581-3573-48a7-f206-4e0f29726cb9"
      },
      "execution_count": 392,
      "outputs": [
        {
          "output_type": "execute_result",
          "data": {
            "text/plain": [
              "'\\n# Create output labels\\n\\nfig, ax = plt.subplots(figsize=(15,10))\\n\\n#Set up the plot axes\\nax1 = plt.subplot2grid((1,10), (0,0), rowspan=1, colspan = 3)\\nax2 = plt.subplot2grid((1,10), (0,3), rowspan=1, colspan = 3, sharey = ax1)\\nax3 = plt.subplot2grid((1,10), (0,6), rowspan=1, colspan = 3, sharey = ax1)\\nax4 = ax3.twiny() \\nax5 = plt.subplot2grid((1,10), (0,9), rowspan=1, colspan = 1, sharey = ax1)\\n'"
            ],
            "application/vnd.google.colaboratory.intrinsic+json": {
              "type": "string"
            }
          },
          "metadata": {},
          "execution_count": 392
        }
      ]
    },
    {
      "cell_type": "markdown",
      "source": [
        "# XGBoost Classifier Algorithm"
      ],
      "metadata": {
        "id": "1wKW_vYePDMo"
      }
    },
    {
      "cell_type": "markdown",
      "source": [
        "XGBoost Classifier Algorithm"
      ],
      "metadata": {
        "id": "HWh-BLzGF60z"
      }
    },
    {
      "cell_type": "code",
      "source": [
        "\n",
        "xtrain= df.iloc[:,0:20]  #independent columns\n",
        "#ytrain = df.iloc[:,-1]    #target column i.e price range\n",
        "\n",
        "xtest= df_test.iloc[:,0:20]  #independent columns\n",
        "#ytest = df_test.iloc[:,-1]    #target column i.e price range\n",
        "\n"
      ],
      "metadata": {
        "id": "Xmj5VM-YKrYD"
      },
      "execution_count": 393,
      "outputs": []
    },
    {
      "cell_type": "code",
      "source": [
        "\"\"\"\n",
        "from xgboost import XGBClassifier\n",
        "from sklearn.metrics import accuracy_score\n",
        "\n",
        "\n",
        "model = XGBClassifier(use_label_encoder=False, eval_metric='mlogloss')\n",
        "model.fit(xtrain, ytrain)\n",
        "\n",
        "XGBClassifier(base_score=0.5, booster='gbtree', colsample_bylevel=1,\n",
        "              colsample_bynode=1, colsample_bytree=1, eval_metric='mlogloss',\n",
        "              gamma=0, gpu_id=-1, importance_type='gain',\n",
        "              interaction_constraints='', learning_rate=0.300000012,\n",
        "              max_delta_step=0, max_depth=6, min_child_weight=1,\n",
        "              monotone_constraints='()', n_estimators=100, n_jobs=16,\n",
        "              num_parallel_tree=1, objective='multi:softprob', random_state=0,\n",
        "              reg_alpha=0, reg_lambda=1, scale_pos_weight=None, subsample=1,\n",
        "              tree_method='exact', use_label_encoder=False,\n",
        "              validate_parameters=1, verbosity=None)\n",
        "\n",
        "y_pred = model.predict(xtest)\n",
        "\"\"\""
      ],
      "metadata": {
        "id": "WUUsyEMHGNtl",
        "colab": {
          "base_uri": "https://localhost:8080/",
          "height": 88
        },
        "outputId": "77c08685-2526-46d0-d818-225f07415459"
      },
      "execution_count": 394,
      "outputs": [
        {
          "output_type": "execute_result",
          "data": {
            "text/plain": [
              "\"\\nfrom xgboost import XGBClassifier\\nfrom sklearn.metrics import accuracy_score\\n\\n\\nmodel = XGBClassifier(use_label_encoder=False, eval_metric='mlogloss')\\nmodel.fit(xtrain, ytrain)\\n\\nXGBClassifier(base_score=0.5, booster='gbtree', colsample_bylevel=1,\\n              colsample_bynode=1, colsample_bytree=1, eval_metric='mlogloss',\\n              gamma=0, gpu_id=-1, importance_type='gain',\\n              interaction_constraints='', learning_rate=0.300000012,\\n              max_delta_step=0, max_depth=6, min_child_weight=1,\\n              monotone_constraints='()', n_estimators=100, n_jobs=16,\\n              num_parallel_tree=1, objective='multi:softprob', random_state=0,\\n              reg_alpha=0, reg_lambda=1, scale_pos_weight=None, subsample=1,\\n              tree_method='exact', use_label_encoder=False,\\n              validate_parameters=1, verbosity=None)\\n\\ny_pred = model.predict(xtest)\\n\""
            ],
            "application/vnd.google.colaboratory.intrinsic+json": {
              "type": "string"
            }
          },
          "metadata": {},
          "execution_count": 394
        }
      ]
    },
    {
      "cell_type": "code",
      "source": [
        "\"\"\"\n",
        "from xgboost import XGBClassifier\n",
        "from sklearn.metrics import accuracy_score\n",
        "\n",
        "\n",
        "model = XGBClassifier(use_label_encoder=False, eval_metric='mlogloss')\n",
        "model.fit(xtrain, ytrain)\n",
        "\n",
        "XGBClassifier(colsample_bytree = 0.3, learning_rate = 0.1,\n",
        "              max_depth = 5,alpha = 10,n_estimators = 10)\n",
        "\n",
        "y_pred = model.predict(xtest)\n",
        "\"\"\""
      ],
      "metadata": {
        "colab": {
          "base_uri": "https://localhost:8080/",
          "height": 53
        },
        "id": "-bu0FNLVt1sZ",
        "outputId": "13ad0c23-e444-49f5-94c6-f94e34ac6f3c"
      },
      "execution_count": 395,
      "outputs": [
        {
          "output_type": "execute_result",
          "data": {
            "text/plain": [
              "\"\\nfrom xgboost import XGBClassifier\\nfrom sklearn.metrics import accuracy_score\\n\\n\\nmodel = XGBClassifier(use_label_encoder=False, eval_metric='mlogloss')\\nmodel.fit(xtrain, ytrain)\\n\\nXGBClassifier(colsample_bytree = 0.3, learning_rate = 0.1,\\n              max_depth = 5,alpha = 10,n_estimators = 10)\\n\\ny_pred = model.predict(xtest)\\n\""
            ],
            "application/vnd.google.colaboratory.intrinsic+json": {
              "type": "string"
            }
          },
          "metadata": {},
          "execution_count": 395
        }
      ]
    },
    {
      "cell_type": "code",
      "source": [
        "\"\"\"\n",
        "# Evaluation Metric (RMSE)\n",
        "\n",
        "from sklearn.metrics import mean_squared_error\n",
        "rmse = np.sqrt(mean_squared_error(ytest,y_pred))\n",
        "print(\"RMSE: %f\" % (rmse))\n",
        "\n",
        "# Evaluation Metric (Accuracy)\n",
        "accuracy = accuracy_score(ytest, y_pred)\n",
        "accuracy\n",
        "\"\"\""
      ],
      "metadata": {
        "id": "o6FsJAmE8xJd",
        "colab": {
          "base_uri": "https://localhost:8080/",
          "height": 36
        },
        "outputId": "62dd68db-c5ea-4df4-fb9c-2610fc94e32b"
      },
      "execution_count": 396,
      "outputs": [
        {
          "output_type": "execute_result",
          "data": {
            "text/plain": [
              "'\\n# Evaluation Metric (RMSE)\\n\\nfrom sklearn.metrics import mean_squared_error\\nrmse = np.sqrt(mean_squared_error(ytest,y_pred))\\nprint(\"RMSE: %f\" % (rmse))\\n\\n# Evaluation Metric (Accuracy)\\naccuracy = accuracy_score(ytest, y_pred)\\naccuracy\\n'"
            ],
            "application/vnd.google.colaboratory.intrinsic+json": {
              "type": "string"
            }
          },
          "metadata": {},
          "execution_count": 396
        }
      ]
    },
    {
      "cell_type": "markdown",
      "source": [
        "# XGBoost Algorithm - Hypewrparameter Tuning"
      ],
      "metadata": {
        "id": "VKgSsDUMPJOP"
      }
    },
    {
      "cell_type": "markdown",
      "source": [
        "XGBoost Algorithm - Hyperparameter Tuning"
      ],
      "metadata": {
        "id": "ft2ulvNrLLMq"
      }
    },
    {
      "cell_type": "code",
      "source": [
        "\"\"\"\n",
        "from sklearn.model_selection import GridSearchCV, RandomizedSearchCV\n",
        "from sklearn.ensemble import RandomForestRegressor\n",
        "\n",
        "#Grid search\n",
        "\n",
        "random_search = RandomizedSearchCV(RandomForestRegressor(random_state=0),\n",
        "                            {\n",
        "                              'n_estimators':np.arange(5,100,5),\n",
        "                              'max_depth':np.arange(2,4,1)\n",
        "                              \n",
        "                            },cv=5, scoring=\"r2\",verbose=1,n_jobs=-1, \n",
        "                             n_iter=50, random_state = 0\n",
        "                           )\n",
        "random_search.fit(xtrain,ytrain)\n",
        "\n",
        "random_search.best_params_\n",
        "\"\"\""
      ],
      "metadata": {
        "id": "oLghL2fkLGrC",
        "colab": {
          "base_uri": "https://localhost:8080/",
          "height": 71
        },
        "outputId": "4f88f4d8-25bb-4f53-e13a-e16be9b7f5f4"
      },
      "execution_count": 397,
      "outputs": [
        {
          "output_type": "execute_result",
          "data": {
            "text/plain": [
              "'\\nfrom sklearn.model_selection import GridSearchCV, RandomizedSearchCV\\nfrom sklearn.ensemble import RandomForestRegressor\\n\\n#Grid search\\n\\nrandom_search = RandomizedSearchCV(RandomForestRegressor(random_state=0),\\n                            {\\n                              \\'n_estimators\\':np.arange(5,100,5),\\n                              \\'max_depth\\':np.arange(2,4,1)\\n                              \\n                            },cv=5, scoring=\"r2\",verbose=1,n_jobs=-1, \\n                             n_iter=50, random_state = 0\\n                           )\\nrandom_search.fit(xtrain,ytrain)\\n\\nrandom_search.best_params_\\n'"
            ],
            "application/vnd.google.colaboratory.intrinsic+json": {
              "type": "string"
            }
          },
          "metadata": {},
          "execution_count": 397
        }
      ]
    },
    {
      "cell_type": "code",
      "source": [
        "\"\"\"\n",
        "# Insert new tuned hyperparameter vlaues\n",
        "\n",
        "from xgboost import XGBClassifier\n",
        "from sklearn.metrics import accuracy_score\n",
        "\n",
        "model = XGBClassifier(use_label_encoder=False, eval_metric='mlogloss')\n",
        "model.fit(xtrain, ytrain)\n",
        "\n",
        "XGBClassifier(colsample_bytree = 0.3, learning_rate = 0.1,\n",
        "              max_depth = 2,alpha = 10,n_estimators = 5)\n",
        "\n",
        "y_pred = model.predict(xtest)\n",
        "\n",
        "# Evaluation Metric (RMSE)\n",
        "\n",
        "from sklearn.metrics import mean_squared_error\n",
        "rmse = np.sqrt(mean_squared_error(ytest,y_pred))\n",
        "print(\"RMSE: %f\" % (rmse))\n",
        "\n",
        "# Evaluation Metric (Accuracy)\n",
        "accuracy = accuracy_score(ytest, y_pred)\n",
        "accuracy\n",
        "\"\"\""
      ],
      "metadata": {
        "id": "6K-I314R2uME",
        "colab": {
          "base_uri": "https://localhost:8080/",
          "height": 71
        },
        "outputId": "365ea747-1f2d-445b-ad59-3b3395693cd9"
      },
      "execution_count": 398,
      "outputs": [
        {
          "output_type": "execute_result",
          "data": {
            "text/plain": [
              "'\\n# Insert new tuned hyperparameter vlaues\\n\\nfrom xgboost import XGBClassifier\\nfrom sklearn.metrics import accuracy_score\\n\\nmodel = XGBClassifier(use_label_encoder=False, eval_metric=\\'mlogloss\\')\\nmodel.fit(xtrain, ytrain)\\n\\nXGBClassifier(colsample_bytree = 0.3, learning_rate = 0.1,\\n              max_depth = 2,alpha = 10,n_estimators = 5)\\n\\ny_pred = model.predict(xtest)\\n\\n# Evaluation Metric (RMSE)\\n\\nfrom sklearn.metrics import mean_squared_error\\nrmse = np.sqrt(mean_squared_error(ytest,y_pred))\\nprint(\"RMSE: %f\" % (rmse))\\n\\n# Evaluation Metric (Accuracy)\\naccuracy = accuracy_score(ytest, y_pred)\\naccuracy\\n'"
            ],
            "application/vnd.google.colaboratory.intrinsic+json": {
              "type": "string"
            }
          },
          "metadata": {},
          "execution_count": 398
        }
      ]
    },
    {
      "cell_type": "markdown",
      "source": [
        "# Decision Tree Algorithm"
      ],
      "metadata": {
        "id": "0v1TZlLmPPpr"
      }
    },
    {
      "cell_type": "markdown",
      "source": [
        "Decision Tree Algorithm"
      ],
      "metadata": {
        "id": "Cx1eVyAfIs8h"
      }
    },
    {
      "cell_type": "code",
      "source": [
        "\n",
        "\n",
        "from sklearn.metrics import confusion_matrix\n",
        "from sklearn.model_selection import train_test_split\n",
        "from sklearn.tree import DecisionTreeClassifier\n",
        "from sklearn.metrics import accuracy_score\n",
        "from sklearn.metrics import classification_report\n",
        "from sklearn.metrics import mean_squared_error\n",
        "\n",
        "# Function to perform training with giniIndex.\n",
        "def train_using_gini(xtrain, xtest, ytrain):\n",
        "  \n",
        "    # Creating the classifier object\n",
        "    clf_gini = DecisionTreeClassifier(criterion = \"gini\",\n",
        "            random_state = 100,max_depth=3, min_samples_leaf=5)\n",
        "  \n",
        "    # Performing training\n",
        "    clf_gini.fit(xtrain, ytrain)\n",
        "    return clf_gini\n",
        "\n",
        "\n",
        "# Function to perform training with entropy.\n",
        "def tarin_using_entropy(xtrain, xtest, ytrain):\n",
        "  \n",
        "    # Decision tree with entropy\n",
        "    clf_entropy = DecisionTreeClassifier(\n",
        "            criterion = \"entropy\", random_state = 100,\n",
        "            max_depth = 3, min_samples_leaf = 5)\n",
        "  \n",
        "    # Performing training\n",
        "    clf_entropy.fit(xtrain, ytrain)\n",
        "    return clf_entropy\n",
        "\n",
        "\n",
        "# Function to make predictions\n",
        "def prediction(xtest, clf_object):\n",
        "  \n",
        "    # Predicton on test with giniIndex\n",
        "    y_pred = clf_object.predict(X_test)\n",
        "    print(\"Predicted values:\")\n",
        "    print(y_pred)\n",
        "    return y_pred\n",
        "\n",
        "\n",
        "# Function to calculate accuracy\n",
        "def cal_accuracy(ytest, y_pred):\n",
        "      \n",
        "    print(\"Confusion Matrix: \",\n",
        "        confusion_matrix(ytest, y_pred))\n",
        "      \n",
        "    print (\"Accuracy : \",\n",
        "    accuracy_score(ytest,y_pred)*100)\n",
        "      \n",
        "    print(\"Report : \",\n",
        "    classification_report(ytest, y_pred))\n",
        "\n",
        "\n",
        "# Driver code\n",
        "def main():\n",
        "      \n",
        "    # Building Phase\n",
        "\n",
        "\n",
        "    clf_gini = train_using_gini(xtrain, X_test, ytrain)\n",
        "    clf_entropy = tarin_using_entropy(xtrain, xtest, ytrain)\n",
        "      \n",
        "    # Operational Phase\n",
        "    print(\"Results Using Gini Index:\")\n",
        "      \n",
        "    # Prediction using gini\n",
        "    y_pred_gini = prediction(xtest, clf_gini)\n",
        "    cal_accuracy(ytest, y_pred_gini)\n",
        "    rmse = np.sqrt(mean_squared_error(ytest,y_pred_gini))\n",
        "    print(\" Gini RMSE: %f\" % (rmse))\n",
        "      \n",
        "    print(\"Results Using Entropy:\")\n",
        "    # Prediction using entropy\n",
        "    y_pred_entropy = prediction(xtest, clf_entropy)\n",
        "    cal_accuracy(ytest, y_pred_entropy)\n",
        "    rmse = np.sqrt(mean_squared_error(ytest,y_pred_entropy))\n",
        "    print(\" Entropy RMSE: %f\" % (rmse))\n",
        "\n",
        "\n",
        "# Calling main function\n",
        "if __name__==\"__main__\":\n",
        "    main()\n",
        "\n",
        "\n",
        "\n",
        "import numpy as np\n",
        "import matplotlib.pyplot as plt\n",
        "%matplotlib inline\n",
        "\n",
        "mcm = confusion_matrix(ytest, y_pred)\n",
        "\n",
        "plt.imshow(mcm, interpolation=\"nearest\", cmap=plt.cm.Blues)\n",
        "plt.colorbar()\n",
        "tick_marks = np.arange(len(ytest))\n",
        "plt.xticks(tick_marks, y_pred, rotation=45)\n",
        "plt.yticks(tick_marks, ytest)\n",
        "plt.xlabel(\"Predicted Species\")\n",
        "plt.ylabel(\"Actual Species\")\n",
        "plt.show()\n"
      ],
      "metadata": {
        "id": "LBRh8jpAIz9G",
        "colab": {
          "base_uri": "https://localhost:8080/",
          "height": 1000
        },
        "outputId": "d48b84d8-d285-420c-c5d7-39298170db99"
      },
      "execution_count": 400,
      "outputs": [
        {
          "output_type": "stream",
          "name": "stdout",
          "text": [
            "Results Using Gini Index:\n",
            "Predicted values:\n",
            "[2 2 1 ... 1 2 2]\n",
            "Confusion Matrix:  [[ 160    0    0]\n",
            " [   0 1093    5]\n",
            " [   0    0 2162]]\n",
            "Accuracy :  99.85380116959064\n",
            "Report :                precision    recall  f1-score   support\n",
            "\n",
            "           0       1.00      1.00      1.00       160\n",
            "           1       1.00      1.00      1.00      1098\n",
            "           2       1.00      1.00      1.00      2162\n",
            "\n",
            "    accuracy                           1.00      3420\n",
            "   macro avg       1.00      1.00      1.00      3420\n",
            "weighted avg       1.00      1.00      1.00      3420\n",
            "\n",
            " Gini RMSE: 0.038236\n",
            "Results Using Entropy:\n",
            "Predicted values:\n",
            "[2 2 1 ... 1 2 2]\n",
            "Confusion Matrix:  [[ 160    0    0]\n",
            " [   0 1093    5]\n",
            " [   0    0 2162]]\n",
            "Accuracy :  99.85380116959064\n",
            "Report :                precision    recall  f1-score   support\n",
            "\n",
            "           0       1.00      1.00      1.00       160\n",
            "           1       1.00      1.00      1.00      1098\n",
            "           2       1.00      1.00      1.00      2162\n",
            "\n",
            "    accuracy                           1.00      3420\n",
            "   macro avg       1.00      1.00      1.00      3420\n",
            "weighted avg       1.00      1.00      1.00      3420\n",
            "\n",
            " Entropy RMSE: 0.038236\n"
          ]
        },
        {
          "output_type": "stream",
          "name": "stderr",
          "text": [
            "/usr/local/lib/python3.7/dist-packages/sklearn/base.py:451: UserWarning: X does not have valid feature names, but DecisionTreeClassifier was fitted with feature names\n",
            "  \"X does not have valid feature names, but\"\n",
            "/usr/local/lib/python3.7/dist-packages/sklearn/base.py:451: UserWarning: X does not have valid feature names, but DecisionTreeClassifier was fitted with feature names\n",
            "  \"X does not have valid feature names, but\"\n"
          ]
        },
        {
          "output_type": "error",
          "ename": "KeyboardInterrupt",
          "evalue": "ignored",
          "traceback": [
            "\u001b[0;31m---------------------------------------------------------------------------\u001b[0m",
            "\u001b[0;31mKeyboardInterrupt\u001b[0m                         Traceback (most recent call last)",
            "\u001b[0;32m<ipython-input-400-b54a2ead7c84>\u001b[0m in \u001b[0;36m<module>\u001b[0;34m()\u001b[0m\n\u001b[1;32m    101\u001b[0m \u001b[0mplt\u001b[0m\u001b[0;34m.\u001b[0m\u001b[0mxlabel\u001b[0m\u001b[0;34m(\u001b[0m\u001b[0;34m\"Predicted Species\"\u001b[0m\u001b[0;34m)\u001b[0m\u001b[0;34m\u001b[0m\u001b[0;34m\u001b[0m\u001b[0m\n\u001b[1;32m    102\u001b[0m \u001b[0mplt\u001b[0m\u001b[0;34m.\u001b[0m\u001b[0mylabel\u001b[0m\u001b[0;34m(\u001b[0m\u001b[0;34m\"Actual Species\"\u001b[0m\u001b[0;34m)\u001b[0m\u001b[0;34m\u001b[0m\u001b[0;34m\u001b[0m\u001b[0m\n\u001b[0;32m--> 103\u001b[0;31m \u001b[0mplt\u001b[0m\u001b[0;34m.\u001b[0m\u001b[0mshow\u001b[0m\u001b[0;34m(\u001b[0m\u001b[0;34m)\u001b[0m\u001b[0;34m\u001b[0m\u001b[0;34m\u001b[0m\u001b[0m\n\u001b[0m",
            "\u001b[0;32m/usr/local/lib/python3.7/dist-packages/matplotlib/pyplot.py\u001b[0m in \u001b[0;36mshow\u001b[0;34m(*args, **kw)\u001b[0m\n\u001b[1;32m    270\u001b[0m     \"\"\"\n\u001b[1;32m    271\u001b[0m     \u001b[0;32mglobal\u001b[0m \u001b[0m_show\u001b[0m\u001b[0;34m\u001b[0m\u001b[0;34m\u001b[0m\u001b[0m\n\u001b[0;32m--> 272\u001b[0;31m     \u001b[0;32mreturn\u001b[0m \u001b[0m_show\u001b[0m\u001b[0;34m(\u001b[0m\u001b[0;34m*\u001b[0m\u001b[0margs\u001b[0m\u001b[0;34m,\u001b[0m \u001b[0;34m**\u001b[0m\u001b[0mkw\u001b[0m\u001b[0;34m)\u001b[0m\u001b[0;34m\u001b[0m\u001b[0;34m\u001b[0m\u001b[0m\n\u001b[0m\u001b[1;32m    273\u001b[0m \u001b[0;34m\u001b[0m\u001b[0m\n\u001b[1;32m    274\u001b[0m \u001b[0;34m\u001b[0m\u001b[0m\n",
            "\u001b[0;32m/usr/local/lib/python3.7/dist-packages/ipykernel/pylab/backend_inline.py\u001b[0m in \u001b[0;36mshow\u001b[0;34m(close, block)\u001b[0m\n\u001b[1;32m     37\u001b[0m             display(\n\u001b[1;32m     38\u001b[0m                 \u001b[0mfigure_manager\u001b[0m\u001b[0;34m.\u001b[0m\u001b[0mcanvas\u001b[0m\u001b[0;34m.\u001b[0m\u001b[0mfigure\u001b[0m\u001b[0;34m,\u001b[0m\u001b[0;34m\u001b[0m\u001b[0;34m\u001b[0m\u001b[0m\n\u001b[0;32m---> 39\u001b[0;31m                 \u001b[0mmetadata\u001b[0m\u001b[0;34m=\u001b[0m\u001b[0m_fetch_figure_metadata\u001b[0m\u001b[0;34m(\u001b[0m\u001b[0mfigure_manager\u001b[0m\u001b[0;34m.\u001b[0m\u001b[0mcanvas\u001b[0m\u001b[0;34m.\u001b[0m\u001b[0mfigure\u001b[0m\u001b[0;34m)\u001b[0m\u001b[0;34m\u001b[0m\u001b[0;34m\u001b[0m\u001b[0m\n\u001b[0m\u001b[1;32m     40\u001b[0m             )\n\u001b[1;32m     41\u001b[0m     \u001b[0;32mfinally\u001b[0m\u001b[0;34m:\u001b[0m\u001b[0;34m\u001b[0m\u001b[0;34m\u001b[0m\u001b[0m\n",
            "\u001b[0;32m/usr/local/lib/python3.7/dist-packages/IPython/core/display.py\u001b[0m in \u001b[0;36mdisplay\u001b[0;34m(*objs, **kwargs)\u001b[0m\n\u001b[1;32m    304\u001b[0m             \u001b[0mpublish_display_data\u001b[0m\u001b[0;34m(\u001b[0m\u001b[0mdata\u001b[0m\u001b[0;34m=\u001b[0m\u001b[0mobj\u001b[0m\u001b[0;34m,\u001b[0m \u001b[0mmetadata\u001b[0m\u001b[0;34m=\u001b[0m\u001b[0mmetadata\u001b[0m\u001b[0;34m,\u001b[0m \u001b[0;34m**\u001b[0m\u001b[0mkwargs\u001b[0m\u001b[0;34m)\u001b[0m\u001b[0;34m\u001b[0m\u001b[0;34m\u001b[0m\u001b[0m\n\u001b[1;32m    305\u001b[0m         \u001b[0;32melse\u001b[0m\u001b[0;34m:\u001b[0m\u001b[0;34m\u001b[0m\u001b[0;34m\u001b[0m\u001b[0m\n\u001b[0;32m--> 306\u001b[0;31m             \u001b[0mformat_dict\u001b[0m\u001b[0;34m,\u001b[0m \u001b[0mmd_dict\u001b[0m \u001b[0;34m=\u001b[0m \u001b[0mformat\u001b[0m\u001b[0;34m(\u001b[0m\u001b[0mobj\u001b[0m\u001b[0;34m,\u001b[0m \u001b[0minclude\u001b[0m\u001b[0;34m=\u001b[0m\u001b[0minclude\u001b[0m\u001b[0;34m,\u001b[0m \u001b[0mexclude\u001b[0m\u001b[0;34m=\u001b[0m\u001b[0mexclude\u001b[0m\u001b[0;34m)\u001b[0m\u001b[0;34m\u001b[0m\u001b[0;34m\u001b[0m\u001b[0m\n\u001b[0m\u001b[1;32m    307\u001b[0m             \u001b[0;32mif\u001b[0m \u001b[0;32mnot\u001b[0m \u001b[0mformat_dict\u001b[0m\u001b[0;34m:\u001b[0m\u001b[0;34m\u001b[0m\u001b[0;34m\u001b[0m\u001b[0m\n\u001b[1;32m    308\u001b[0m                 \u001b[0;31m# nothing to display (e.g. _ipython_display_ took over)\u001b[0m\u001b[0;34m\u001b[0m\u001b[0;34m\u001b[0m\u001b[0;34m\u001b[0m\u001b[0m\n",
            "\u001b[0;32m/usr/local/lib/python3.7/dist-packages/IPython/core/formatters.py\u001b[0m in \u001b[0;36mformat\u001b[0;34m(self, obj, include, exclude)\u001b[0m\n\u001b[1;32m    171\u001b[0m             \u001b[0mmd\u001b[0m \u001b[0;34m=\u001b[0m \u001b[0;32mNone\u001b[0m\u001b[0;34m\u001b[0m\u001b[0;34m\u001b[0m\u001b[0m\n\u001b[1;32m    172\u001b[0m             \u001b[0;32mtry\u001b[0m\u001b[0;34m:\u001b[0m\u001b[0;34m\u001b[0m\u001b[0;34m\u001b[0m\u001b[0m\n\u001b[0;32m--> 173\u001b[0;31m                 \u001b[0mdata\u001b[0m \u001b[0;34m=\u001b[0m \u001b[0mformatter\u001b[0m\u001b[0;34m(\u001b[0m\u001b[0mobj\u001b[0m\u001b[0;34m)\u001b[0m\u001b[0;34m\u001b[0m\u001b[0;34m\u001b[0m\u001b[0m\n\u001b[0m\u001b[1;32m    174\u001b[0m             \u001b[0;32mexcept\u001b[0m\u001b[0;34m:\u001b[0m\u001b[0;34m\u001b[0m\u001b[0;34m\u001b[0m\u001b[0m\n\u001b[1;32m    175\u001b[0m                 \u001b[0;31m# FIXME: log the exception\u001b[0m\u001b[0;34m\u001b[0m\u001b[0;34m\u001b[0m\u001b[0;34m\u001b[0m\u001b[0m\n",
            "\u001b[0;32m<decorator-gen-2>\u001b[0m in \u001b[0;36m__call__\u001b[0;34m(self, obj)\u001b[0m\n",
            "\u001b[0;32m/usr/local/lib/python3.7/dist-packages/IPython/core/formatters.py\u001b[0m in \u001b[0;36mcatch_format_error\u001b[0;34m(method, self, *args, **kwargs)\u001b[0m\n\u001b[1;32m    215\u001b[0m     \u001b[0;34m\"\"\"show traceback on failed format call\"\"\"\u001b[0m\u001b[0;34m\u001b[0m\u001b[0;34m\u001b[0m\u001b[0m\n\u001b[1;32m    216\u001b[0m     \u001b[0;32mtry\u001b[0m\u001b[0;34m:\u001b[0m\u001b[0;34m\u001b[0m\u001b[0;34m\u001b[0m\u001b[0m\n\u001b[0;32m--> 217\u001b[0;31m         \u001b[0mr\u001b[0m \u001b[0;34m=\u001b[0m \u001b[0mmethod\u001b[0m\u001b[0;34m(\u001b[0m\u001b[0mself\u001b[0m\u001b[0;34m,\u001b[0m \u001b[0;34m*\u001b[0m\u001b[0margs\u001b[0m\u001b[0;34m,\u001b[0m \u001b[0;34m**\u001b[0m\u001b[0mkwargs\u001b[0m\u001b[0;34m)\u001b[0m\u001b[0;34m\u001b[0m\u001b[0;34m\u001b[0m\u001b[0m\n\u001b[0m\u001b[1;32m    218\u001b[0m     \u001b[0;32mexcept\u001b[0m \u001b[0mNotImplementedError\u001b[0m\u001b[0;34m:\u001b[0m\u001b[0;34m\u001b[0m\u001b[0;34m\u001b[0m\u001b[0m\n\u001b[1;32m    219\u001b[0m         \u001b[0;31m# don't warn on NotImplementedErrors\u001b[0m\u001b[0;34m\u001b[0m\u001b[0;34m\u001b[0m\u001b[0;34m\u001b[0m\u001b[0m\n",
            "\u001b[0;32m/usr/local/lib/python3.7/dist-packages/IPython/core/formatters.py\u001b[0m in \u001b[0;36m__call__\u001b[0;34m(self, obj)\u001b[0m\n\u001b[1;32m    332\u001b[0m                 \u001b[0;32mpass\u001b[0m\u001b[0;34m\u001b[0m\u001b[0;34m\u001b[0m\u001b[0m\n\u001b[1;32m    333\u001b[0m             \u001b[0;32melse\u001b[0m\u001b[0;34m:\u001b[0m\u001b[0;34m\u001b[0m\u001b[0;34m\u001b[0m\u001b[0m\n\u001b[0;32m--> 334\u001b[0;31m                 \u001b[0;32mreturn\u001b[0m \u001b[0mprinter\u001b[0m\u001b[0;34m(\u001b[0m\u001b[0mobj\u001b[0m\u001b[0;34m)\u001b[0m\u001b[0;34m\u001b[0m\u001b[0;34m\u001b[0m\u001b[0m\n\u001b[0m\u001b[1;32m    335\u001b[0m             \u001b[0;31m# Finally look for special method names\u001b[0m\u001b[0;34m\u001b[0m\u001b[0;34m\u001b[0m\u001b[0;34m\u001b[0m\u001b[0m\n\u001b[1;32m    336\u001b[0m             \u001b[0mmethod\u001b[0m \u001b[0;34m=\u001b[0m \u001b[0mget_real_method\u001b[0m\u001b[0;34m(\u001b[0m\u001b[0mobj\u001b[0m\u001b[0;34m,\u001b[0m \u001b[0mself\u001b[0m\u001b[0;34m.\u001b[0m\u001b[0mprint_method\u001b[0m\u001b[0;34m)\u001b[0m\u001b[0;34m\u001b[0m\u001b[0;34m\u001b[0m\u001b[0m\n",
            "\u001b[0;32m/usr/local/lib/python3.7/dist-packages/IPython/core/pylabtools.py\u001b[0m in \u001b[0;36m<lambda>\u001b[0;34m(fig)\u001b[0m\n\u001b[1;32m    239\u001b[0m \u001b[0;34m\u001b[0m\u001b[0m\n\u001b[1;32m    240\u001b[0m     \u001b[0;32mif\u001b[0m \u001b[0;34m'png'\u001b[0m \u001b[0;32min\u001b[0m \u001b[0mformats\u001b[0m\u001b[0;34m:\u001b[0m\u001b[0;34m\u001b[0m\u001b[0;34m\u001b[0m\u001b[0m\n\u001b[0;32m--> 241\u001b[0;31m         \u001b[0mpng_formatter\u001b[0m\u001b[0;34m.\u001b[0m\u001b[0mfor_type\u001b[0m\u001b[0;34m(\u001b[0m\u001b[0mFigure\u001b[0m\u001b[0;34m,\u001b[0m \u001b[0;32mlambda\u001b[0m \u001b[0mfig\u001b[0m\u001b[0;34m:\u001b[0m \u001b[0mprint_figure\u001b[0m\u001b[0;34m(\u001b[0m\u001b[0mfig\u001b[0m\u001b[0;34m,\u001b[0m \u001b[0;34m'png'\u001b[0m\u001b[0;34m,\u001b[0m \u001b[0;34m**\u001b[0m\u001b[0mkwargs\u001b[0m\u001b[0;34m)\u001b[0m\u001b[0;34m)\u001b[0m\u001b[0;34m\u001b[0m\u001b[0;34m\u001b[0m\u001b[0m\n\u001b[0m\u001b[1;32m    242\u001b[0m     \u001b[0;32mif\u001b[0m \u001b[0;34m'retina'\u001b[0m \u001b[0;32min\u001b[0m \u001b[0mformats\u001b[0m \u001b[0;32mor\u001b[0m \u001b[0;34m'png2x'\u001b[0m \u001b[0;32min\u001b[0m \u001b[0mformats\u001b[0m\u001b[0;34m:\u001b[0m\u001b[0;34m\u001b[0m\u001b[0;34m\u001b[0m\u001b[0m\n\u001b[1;32m    243\u001b[0m         \u001b[0mpng_formatter\u001b[0m\u001b[0;34m.\u001b[0m\u001b[0mfor_type\u001b[0m\u001b[0;34m(\u001b[0m\u001b[0mFigure\u001b[0m\u001b[0;34m,\u001b[0m \u001b[0;32mlambda\u001b[0m \u001b[0mfig\u001b[0m\u001b[0;34m:\u001b[0m \u001b[0mretina_figure\u001b[0m\u001b[0;34m(\u001b[0m\u001b[0mfig\u001b[0m\u001b[0;34m,\u001b[0m \u001b[0;34m**\u001b[0m\u001b[0mkwargs\u001b[0m\u001b[0;34m)\u001b[0m\u001b[0;34m)\u001b[0m\u001b[0;34m\u001b[0m\u001b[0;34m\u001b[0m\u001b[0m\n",
            "\u001b[0;32m/usr/local/lib/python3.7/dist-packages/IPython/core/pylabtools.py\u001b[0m in \u001b[0;36mprint_figure\u001b[0;34m(fig, fmt, bbox_inches, **kwargs)\u001b[0m\n\u001b[1;32m    123\u001b[0m \u001b[0;34m\u001b[0m\u001b[0m\n\u001b[1;32m    124\u001b[0m     \u001b[0mbytes_io\u001b[0m \u001b[0;34m=\u001b[0m \u001b[0mBytesIO\u001b[0m\u001b[0;34m(\u001b[0m\u001b[0;34m)\u001b[0m\u001b[0;34m\u001b[0m\u001b[0;34m\u001b[0m\u001b[0m\n\u001b[0;32m--> 125\u001b[0;31m     \u001b[0mfig\u001b[0m\u001b[0;34m.\u001b[0m\u001b[0mcanvas\u001b[0m\u001b[0;34m.\u001b[0m\u001b[0mprint_figure\u001b[0m\u001b[0;34m(\u001b[0m\u001b[0mbytes_io\u001b[0m\u001b[0;34m,\u001b[0m \u001b[0;34m**\u001b[0m\u001b[0mkw\u001b[0m\u001b[0;34m)\u001b[0m\u001b[0;34m\u001b[0m\u001b[0;34m\u001b[0m\u001b[0m\n\u001b[0m\u001b[1;32m    126\u001b[0m     \u001b[0mdata\u001b[0m \u001b[0;34m=\u001b[0m \u001b[0mbytes_io\u001b[0m\u001b[0;34m.\u001b[0m\u001b[0mgetvalue\u001b[0m\u001b[0;34m(\u001b[0m\u001b[0;34m)\u001b[0m\u001b[0;34m\u001b[0m\u001b[0;34m\u001b[0m\u001b[0m\n\u001b[1;32m    127\u001b[0m     \u001b[0;32mif\u001b[0m \u001b[0mfmt\u001b[0m \u001b[0;34m==\u001b[0m \u001b[0;34m'svg'\u001b[0m\u001b[0;34m:\u001b[0m\u001b[0;34m\u001b[0m\u001b[0;34m\u001b[0m\u001b[0m\n",
            "\u001b[0;32m/usr/local/lib/python3.7/dist-packages/matplotlib/backend_bases.py\u001b[0m in \u001b[0;36mprint_figure\u001b[0;34m(self, filename, dpi, facecolor, edgecolor, orientation, format, bbox_inches, **kwargs)\u001b[0m\n\u001b[1;32m   2124\u001b[0m                     \u001b[0morientation\u001b[0m\u001b[0;34m=\u001b[0m\u001b[0morientation\u001b[0m\u001b[0;34m,\u001b[0m\u001b[0;34m\u001b[0m\u001b[0;34m\u001b[0m\u001b[0m\n\u001b[1;32m   2125\u001b[0m                     \u001b[0mbbox_inches_restore\u001b[0m\u001b[0;34m=\u001b[0m\u001b[0m_bbox_inches_restore\u001b[0m\u001b[0;34m,\u001b[0m\u001b[0;34m\u001b[0m\u001b[0;34m\u001b[0m\u001b[0m\n\u001b[0;32m-> 2126\u001b[0;31m                     **kwargs)\n\u001b[0m\u001b[1;32m   2127\u001b[0m             \u001b[0;32mfinally\u001b[0m\u001b[0;34m:\u001b[0m\u001b[0;34m\u001b[0m\u001b[0;34m\u001b[0m\u001b[0m\n\u001b[1;32m   2128\u001b[0m                 \u001b[0;32mif\u001b[0m \u001b[0mbbox_inches\u001b[0m \u001b[0;32mand\u001b[0m \u001b[0mrestore_bbox\u001b[0m\u001b[0;34m:\u001b[0m\u001b[0;34m\u001b[0m\u001b[0;34m\u001b[0m\u001b[0m\n",
            "\u001b[0;32m/usr/local/lib/python3.7/dist-packages/matplotlib/backends/backend_agg.py\u001b[0m in \u001b[0;36mprint_png\u001b[0;34m(self, filename_or_obj, metadata, pil_kwargs, *args, **kwargs)\u001b[0m\n\u001b[1;32m    512\u001b[0m         }\n\u001b[1;32m    513\u001b[0m \u001b[0;34m\u001b[0m\u001b[0m\n\u001b[0;32m--> 514\u001b[0;31m         \u001b[0mFigureCanvasAgg\u001b[0m\u001b[0;34m.\u001b[0m\u001b[0mdraw\u001b[0m\u001b[0;34m(\u001b[0m\u001b[0mself\u001b[0m\u001b[0;34m)\u001b[0m\u001b[0;34m\u001b[0m\u001b[0;34m\u001b[0m\u001b[0m\n\u001b[0m\u001b[1;32m    515\u001b[0m         \u001b[0;32mif\u001b[0m \u001b[0mpil_kwargs\u001b[0m \u001b[0;32mis\u001b[0m \u001b[0;32mnot\u001b[0m \u001b[0;32mNone\u001b[0m\u001b[0;34m:\u001b[0m\u001b[0;34m\u001b[0m\u001b[0;34m\u001b[0m\u001b[0m\n\u001b[1;32m    516\u001b[0m             \u001b[0;32mfrom\u001b[0m \u001b[0mPIL\u001b[0m \u001b[0;32mimport\u001b[0m \u001b[0mImage\u001b[0m\u001b[0;34m\u001b[0m\u001b[0;34m\u001b[0m\u001b[0m\n",
            "\u001b[0;32m/usr/local/lib/python3.7/dist-packages/matplotlib/backends/backend_agg.py\u001b[0m in \u001b[0;36mdraw\u001b[0;34m(self)\u001b[0m\n\u001b[1;32m    391\u001b[0m              (self.toolbar._wait_cursor_for_draw_cm() if self.toolbar\n\u001b[1;32m    392\u001b[0m               else nullcontext()):\n\u001b[0;32m--> 393\u001b[0;31m             \u001b[0mself\u001b[0m\u001b[0;34m.\u001b[0m\u001b[0mfigure\u001b[0m\u001b[0;34m.\u001b[0m\u001b[0mdraw\u001b[0m\u001b[0;34m(\u001b[0m\u001b[0mself\u001b[0m\u001b[0;34m.\u001b[0m\u001b[0mrenderer\u001b[0m\u001b[0;34m)\u001b[0m\u001b[0;34m\u001b[0m\u001b[0;34m\u001b[0m\u001b[0m\n\u001b[0m\u001b[1;32m    394\u001b[0m             \u001b[0;31m# A GUI class may be need to update a window using this draw, so\u001b[0m\u001b[0;34m\u001b[0m\u001b[0;34m\u001b[0m\u001b[0;34m\u001b[0m\u001b[0m\n\u001b[1;32m    395\u001b[0m             \u001b[0;31m# don't forget to call the superclass.\u001b[0m\u001b[0;34m\u001b[0m\u001b[0;34m\u001b[0m\u001b[0;34m\u001b[0m\u001b[0m\n",
            "\u001b[0;32m/usr/local/lib/python3.7/dist-packages/matplotlib/artist.py\u001b[0m in \u001b[0;36mdraw_wrapper\u001b[0;34m(artist, renderer, *args, **kwargs)\u001b[0m\n\u001b[1;32m     36\u001b[0m                 \u001b[0mrenderer\u001b[0m\u001b[0;34m.\u001b[0m\u001b[0mstart_filter\u001b[0m\u001b[0;34m(\u001b[0m\u001b[0;34m)\u001b[0m\u001b[0;34m\u001b[0m\u001b[0;34m\u001b[0m\u001b[0m\n\u001b[1;32m     37\u001b[0m \u001b[0;34m\u001b[0m\u001b[0m\n\u001b[0;32m---> 38\u001b[0;31m             \u001b[0;32mreturn\u001b[0m \u001b[0mdraw\u001b[0m\u001b[0;34m(\u001b[0m\u001b[0martist\u001b[0m\u001b[0;34m,\u001b[0m \u001b[0mrenderer\u001b[0m\u001b[0;34m,\u001b[0m \u001b[0;34m*\u001b[0m\u001b[0margs\u001b[0m\u001b[0;34m,\u001b[0m \u001b[0;34m**\u001b[0m\u001b[0mkwargs\u001b[0m\u001b[0;34m)\u001b[0m\u001b[0;34m\u001b[0m\u001b[0;34m\u001b[0m\u001b[0m\n\u001b[0m\u001b[1;32m     39\u001b[0m         \u001b[0;32mfinally\u001b[0m\u001b[0;34m:\u001b[0m\u001b[0;34m\u001b[0m\u001b[0;34m\u001b[0m\u001b[0m\n\u001b[1;32m     40\u001b[0m             \u001b[0;32mif\u001b[0m \u001b[0martist\u001b[0m\u001b[0;34m.\u001b[0m\u001b[0mget_agg_filter\u001b[0m\u001b[0;34m(\u001b[0m\u001b[0;34m)\u001b[0m \u001b[0;32mis\u001b[0m \u001b[0;32mnot\u001b[0m \u001b[0;32mNone\u001b[0m\u001b[0;34m:\u001b[0m\u001b[0;34m\u001b[0m\u001b[0;34m\u001b[0m\u001b[0m\n",
            "\u001b[0;32m/usr/local/lib/python3.7/dist-packages/matplotlib/figure.py\u001b[0m in \u001b[0;36mdraw\u001b[0;34m(self, renderer)\u001b[0m\n\u001b[1;32m   1734\u001b[0m             \u001b[0mself\u001b[0m\u001b[0;34m.\u001b[0m\u001b[0mpatch\u001b[0m\u001b[0;34m.\u001b[0m\u001b[0mdraw\u001b[0m\u001b[0;34m(\u001b[0m\u001b[0mrenderer\u001b[0m\u001b[0;34m)\u001b[0m\u001b[0;34m\u001b[0m\u001b[0;34m\u001b[0m\u001b[0m\n\u001b[1;32m   1735\u001b[0m             mimage._draw_list_compositing_images(\n\u001b[0;32m-> 1736\u001b[0;31m                 renderer, self, artists, self.suppressComposite)\n\u001b[0m\u001b[1;32m   1737\u001b[0m \u001b[0;34m\u001b[0m\u001b[0m\n\u001b[1;32m   1738\u001b[0m             \u001b[0mrenderer\u001b[0m\u001b[0;34m.\u001b[0m\u001b[0mclose_group\u001b[0m\u001b[0;34m(\u001b[0m\u001b[0;34m'figure'\u001b[0m\u001b[0;34m)\u001b[0m\u001b[0;34m\u001b[0m\u001b[0;34m\u001b[0m\u001b[0m\n",
            "\u001b[0;32m/usr/local/lib/python3.7/dist-packages/matplotlib/image.py\u001b[0m in \u001b[0;36m_draw_list_compositing_images\u001b[0;34m(renderer, parent, artists, suppress_composite)\u001b[0m\n\u001b[1;32m    135\u001b[0m     \u001b[0;32mif\u001b[0m \u001b[0mnot_composite\u001b[0m \u001b[0;32mor\u001b[0m \u001b[0;32mnot\u001b[0m \u001b[0mhas_images\u001b[0m\u001b[0;34m:\u001b[0m\u001b[0;34m\u001b[0m\u001b[0;34m\u001b[0m\u001b[0m\n\u001b[1;32m    136\u001b[0m         \u001b[0;32mfor\u001b[0m \u001b[0ma\u001b[0m \u001b[0;32min\u001b[0m \u001b[0martists\u001b[0m\u001b[0;34m:\u001b[0m\u001b[0;34m\u001b[0m\u001b[0;34m\u001b[0m\u001b[0m\n\u001b[0;32m--> 137\u001b[0;31m             \u001b[0ma\u001b[0m\u001b[0;34m.\u001b[0m\u001b[0mdraw\u001b[0m\u001b[0;34m(\u001b[0m\u001b[0mrenderer\u001b[0m\u001b[0;34m)\u001b[0m\u001b[0;34m\u001b[0m\u001b[0;34m\u001b[0m\u001b[0m\n\u001b[0m\u001b[1;32m    138\u001b[0m     \u001b[0;32melse\u001b[0m\u001b[0;34m:\u001b[0m\u001b[0;34m\u001b[0m\u001b[0;34m\u001b[0m\u001b[0m\n\u001b[1;32m    139\u001b[0m         \u001b[0;31m# Composite any adjacent images together\u001b[0m\u001b[0;34m\u001b[0m\u001b[0;34m\u001b[0m\u001b[0;34m\u001b[0m\u001b[0m\n",
            "\u001b[0;32m/usr/local/lib/python3.7/dist-packages/matplotlib/artist.py\u001b[0m in \u001b[0;36mdraw_wrapper\u001b[0;34m(artist, renderer, *args, **kwargs)\u001b[0m\n\u001b[1;32m     36\u001b[0m                 \u001b[0mrenderer\u001b[0m\u001b[0;34m.\u001b[0m\u001b[0mstart_filter\u001b[0m\u001b[0;34m(\u001b[0m\u001b[0;34m)\u001b[0m\u001b[0;34m\u001b[0m\u001b[0;34m\u001b[0m\u001b[0m\n\u001b[1;32m     37\u001b[0m \u001b[0;34m\u001b[0m\u001b[0m\n\u001b[0;32m---> 38\u001b[0;31m             \u001b[0;32mreturn\u001b[0m \u001b[0mdraw\u001b[0m\u001b[0;34m(\u001b[0m\u001b[0martist\u001b[0m\u001b[0;34m,\u001b[0m \u001b[0mrenderer\u001b[0m\u001b[0;34m,\u001b[0m \u001b[0;34m*\u001b[0m\u001b[0margs\u001b[0m\u001b[0;34m,\u001b[0m \u001b[0;34m**\u001b[0m\u001b[0mkwargs\u001b[0m\u001b[0;34m)\u001b[0m\u001b[0;34m\u001b[0m\u001b[0;34m\u001b[0m\u001b[0m\n\u001b[0m\u001b[1;32m     39\u001b[0m         \u001b[0;32mfinally\u001b[0m\u001b[0;34m:\u001b[0m\u001b[0;34m\u001b[0m\u001b[0;34m\u001b[0m\u001b[0m\n\u001b[1;32m     40\u001b[0m             \u001b[0;32mif\u001b[0m \u001b[0martist\u001b[0m\u001b[0;34m.\u001b[0m\u001b[0mget_agg_filter\u001b[0m\u001b[0;34m(\u001b[0m\u001b[0;34m)\u001b[0m \u001b[0;32mis\u001b[0m \u001b[0;32mnot\u001b[0m \u001b[0;32mNone\u001b[0m\u001b[0;34m:\u001b[0m\u001b[0;34m\u001b[0m\u001b[0;34m\u001b[0m\u001b[0m\n",
            "\u001b[0;32m/usr/local/lib/python3.7/dist-packages/matplotlib/axes/_base.py\u001b[0m in \u001b[0;36mdraw\u001b[0;34m(self, renderer, inframe)\u001b[0m\n\u001b[1;32m   2628\u001b[0m             \u001b[0mrenderer\u001b[0m\u001b[0;34m.\u001b[0m\u001b[0mstop_rasterizing\u001b[0m\u001b[0;34m(\u001b[0m\u001b[0;34m)\u001b[0m\u001b[0;34m\u001b[0m\u001b[0;34m\u001b[0m\u001b[0m\n\u001b[1;32m   2629\u001b[0m \u001b[0;34m\u001b[0m\u001b[0m\n\u001b[0;32m-> 2630\u001b[0;31m         \u001b[0mmimage\u001b[0m\u001b[0;34m.\u001b[0m\u001b[0m_draw_list_compositing_images\u001b[0m\u001b[0;34m(\u001b[0m\u001b[0mrenderer\u001b[0m\u001b[0;34m,\u001b[0m \u001b[0mself\u001b[0m\u001b[0;34m,\u001b[0m \u001b[0martists\u001b[0m\u001b[0;34m)\u001b[0m\u001b[0;34m\u001b[0m\u001b[0;34m\u001b[0m\u001b[0m\n\u001b[0m\u001b[1;32m   2631\u001b[0m \u001b[0;34m\u001b[0m\u001b[0m\n\u001b[1;32m   2632\u001b[0m         \u001b[0mrenderer\u001b[0m\u001b[0;34m.\u001b[0m\u001b[0mclose_group\u001b[0m\u001b[0;34m(\u001b[0m\u001b[0;34m'axes'\u001b[0m\u001b[0;34m)\u001b[0m\u001b[0;34m\u001b[0m\u001b[0;34m\u001b[0m\u001b[0m\n",
            "\u001b[0;32m/usr/local/lib/python3.7/dist-packages/matplotlib/image.py\u001b[0m in \u001b[0;36m_draw_list_compositing_images\u001b[0;34m(renderer, parent, artists, suppress_composite)\u001b[0m\n\u001b[1;32m    135\u001b[0m     \u001b[0;32mif\u001b[0m \u001b[0mnot_composite\u001b[0m \u001b[0;32mor\u001b[0m \u001b[0;32mnot\u001b[0m \u001b[0mhas_images\u001b[0m\u001b[0;34m:\u001b[0m\u001b[0;34m\u001b[0m\u001b[0;34m\u001b[0m\u001b[0m\n\u001b[1;32m    136\u001b[0m         \u001b[0;32mfor\u001b[0m \u001b[0ma\u001b[0m \u001b[0;32min\u001b[0m \u001b[0martists\u001b[0m\u001b[0;34m:\u001b[0m\u001b[0;34m\u001b[0m\u001b[0;34m\u001b[0m\u001b[0m\n\u001b[0;32m--> 137\u001b[0;31m             \u001b[0ma\u001b[0m\u001b[0;34m.\u001b[0m\u001b[0mdraw\u001b[0m\u001b[0;34m(\u001b[0m\u001b[0mrenderer\u001b[0m\u001b[0;34m)\u001b[0m\u001b[0;34m\u001b[0m\u001b[0;34m\u001b[0m\u001b[0m\n\u001b[0m\u001b[1;32m    138\u001b[0m     \u001b[0;32melse\u001b[0m\u001b[0;34m:\u001b[0m\u001b[0;34m\u001b[0m\u001b[0;34m\u001b[0m\u001b[0m\n\u001b[1;32m    139\u001b[0m         \u001b[0;31m# Composite any adjacent images together\u001b[0m\u001b[0;34m\u001b[0m\u001b[0;34m\u001b[0m\u001b[0;34m\u001b[0m\u001b[0m\n",
            "\u001b[0;32m/usr/local/lib/python3.7/dist-packages/matplotlib/artist.py\u001b[0m in \u001b[0;36mdraw_wrapper\u001b[0;34m(artist, renderer, *args, **kwargs)\u001b[0m\n\u001b[1;32m     36\u001b[0m                 \u001b[0mrenderer\u001b[0m\u001b[0;34m.\u001b[0m\u001b[0mstart_filter\u001b[0m\u001b[0;34m(\u001b[0m\u001b[0;34m)\u001b[0m\u001b[0;34m\u001b[0m\u001b[0;34m\u001b[0m\u001b[0m\n\u001b[1;32m     37\u001b[0m \u001b[0;34m\u001b[0m\u001b[0m\n\u001b[0;32m---> 38\u001b[0;31m             \u001b[0;32mreturn\u001b[0m \u001b[0mdraw\u001b[0m\u001b[0;34m(\u001b[0m\u001b[0martist\u001b[0m\u001b[0;34m,\u001b[0m \u001b[0mrenderer\u001b[0m\u001b[0;34m,\u001b[0m \u001b[0;34m*\u001b[0m\u001b[0margs\u001b[0m\u001b[0;34m,\u001b[0m \u001b[0;34m**\u001b[0m\u001b[0mkwargs\u001b[0m\u001b[0;34m)\u001b[0m\u001b[0;34m\u001b[0m\u001b[0;34m\u001b[0m\u001b[0m\n\u001b[0m\u001b[1;32m     39\u001b[0m         \u001b[0;32mfinally\u001b[0m\u001b[0;34m:\u001b[0m\u001b[0;34m\u001b[0m\u001b[0;34m\u001b[0m\u001b[0m\n\u001b[1;32m     40\u001b[0m             \u001b[0;32mif\u001b[0m \u001b[0martist\u001b[0m\u001b[0;34m.\u001b[0m\u001b[0mget_agg_filter\u001b[0m\u001b[0;34m(\u001b[0m\u001b[0;34m)\u001b[0m \u001b[0;32mis\u001b[0m \u001b[0;32mnot\u001b[0m \u001b[0;32mNone\u001b[0m\u001b[0;34m:\u001b[0m\u001b[0;34m\u001b[0m\u001b[0;34m\u001b[0m\u001b[0m\n",
            "\u001b[0;32m/usr/local/lib/python3.7/dist-packages/matplotlib/axis.py\u001b[0m in \u001b[0;36mdraw\u001b[0;34m(self, renderer, *args, **kwargs)\u001b[0m\n\u001b[1;32m   1237\u001b[0m         \u001b[0;31m# the actual bbox\u001b[0m\u001b[0;34m\u001b[0m\u001b[0;34m\u001b[0m\u001b[0;34m\u001b[0m\u001b[0m\n\u001b[1;32m   1238\u001b[0m \u001b[0;34m\u001b[0m\u001b[0m\n\u001b[0;32m-> 1239\u001b[0;31m         \u001b[0mself\u001b[0m\u001b[0;34m.\u001b[0m\u001b[0m_update_label_position\u001b[0m\u001b[0;34m(\u001b[0m\u001b[0mrenderer\u001b[0m\u001b[0;34m)\u001b[0m\u001b[0;34m\u001b[0m\u001b[0;34m\u001b[0m\u001b[0m\n\u001b[0m\u001b[1;32m   1240\u001b[0m \u001b[0;34m\u001b[0m\u001b[0m\n\u001b[1;32m   1241\u001b[0m         \u001b[0mself\u001b[0m\u001b[0;34m.\u001b[0m\u001b[0mlabel\u001b[0m\u001b[0;34m.\u001b[0m\u001b[0mdraw\u001b[0m\u001b[0;34m(\u001b[0m\u001b[0mrenderer\u001b[0m\u001b[0;34m)\u001b[0m\u001b[0;34m\u001b[0m\u001b[0;34m\u001b[0m\u001b[0m\n",
            "\u001b[0;32m/usr/local/lib/python3.7/dist-packages/matplotlib/axis.py\u001b[0m in \u001b[0;36m_update_label_position\u001b[0;34m(self, renderer)\u001b[0m\n\u001b[1;32m   2019\u001b[0m         \u001b[0;31m# get bounding boxes for this axis and any siblings\u001b[0m\u001b[0;34m\u001b[0m\u001b[0;34m\u001b[0m\u001b[0;34m\u001b[0m\u001b[0m\n\u001b[1;32m   2020\u001b[0m         \u001b[0;31m# that have been set by `fig.align_xlabels()`\u001b[0m\u001b[0;34m\u001b[0m\u001b[0;34m\u001b[0m\u001b[0;34m\u001b[0m\u001b[0m\n\u001b[0;32m-> 2021\u001b[0;31m         \u001b[0mbboxes\u001b[0m\u001b[0;34m,\u001b[0m \u001b[0mbboxes2\u001b[0m \u001b[0;34m=\u001b[0m \u001b[0mself\u001b[0m\u001b[0;34m.\u001b[0m\u001b[0m_get_tick_boxes_siblings\u001b[0m\u001b[0;34m(\u001b[0m\u001b[0mrenderer\u001b[0m\u001b[0;34m=\u001b[0m\u001b[0mrenderer\u001b[0m\u001b[0;34m)\u001b[0m\u001b[0;34m\u001b[0m\u001b[0;34m\u001b[0m\u001b[0m\n\u001b[0m\u001b[1;32m   2022\u001b[0m \u001b[0;34m\u001b[0m\u001b[0m\n\u001b[1;32m   2023\u001b[0m         \u001b[0mx\u001b[0m\u001b[0;34m,\u001b[0m \u001b[0my\u001b[0m \u001b[0;34m=\u001b[0m \u001b[0mself\u001b[0m\u001b[0;34m.\u001b[0m\u001b[0mlabel\u001b[0m\u001b[0;34m.\u001b[0m\u001b[0mget_position\u001b[0m\u001b[0;34m(\u001b[0m\u001b[0;34m)\u001b[0m\u001b[0;34m\u001b[0m\u001b[0;34m\u001b[0m\u001b[0m\n",
            "\u001b[0;32m/usr/local/lib/python3.7/dist-packages/matplotlib/axis.py\u001b[0m in \u001b[0;36m_get_tick_boxes_siblings\u001b[0;34m(self, renderer)\u001b[0m\n\u001b[1;32m   2004\u001b[0m         \u001b[0;32mfor\u001b[0m \u001b[0mnn\u001b[0m\u001b[0;34m,\u001b[0m \u001b[0maxx\u001b[0m \u001b[0;32min\u001b[0m \u001b[0menumerate\u001b[0m\u001b[0;34m(\u001b[0m\u001b[0mgrp\u001b[0m\u001b[0;34m.\u001b[0m\u001b[0mget_siblings\u001b[0m\u001b[0;34m(\u001b[0m\u001b[0mself\u001b[0m\u001b[0;34m.\u001b[0m\u001b[0maxes\u001b[0m\u001b[0;34m)\u001b[0m\u001b[0;34m)\u001b[0m\u001b[0;34m:\u001b[0m\u001b[0;34m\u001b[0m\u001b[0;34m\u001b[0m\u001b[0m\n\u001b[1;32m   2005\u001b[0m             \u001b[0mticks_to_draw\u001b[0m \u001b[0;34m=\u001b[0m \u001b[0maxx\u001b[0m\u001b[0;34m.\u001b[0m\u001b[0mxaxis\u001b[0m\u001b[0;34m.\u001b[0m\u001b[0m_update_ticks\u001b[0m\u001b[0;34m(\u001b[0m\u001b[0;34m)\u001b[0m\u001b[0;34m\u001b[0m\u001b[0;34m\u001b[0m\u001b[0m\n\u001b[0;32m-> 2006\u001b[0;31m             \u001b[0mtlb\u001b[0m\u001b[0;34m,\u001b[0m \u001b[0mtlb2\u001b[0m \u001b[0;34m=\u001b[0m \u001b[0maxx\u001b[0m\u001b[0;34m.\u001b[0m\u001b[0mxaxis\u001b[0m\u001b[0;34m.\u001b[0m\u001b[0m_get_tick_bboxes\u001b[0m\u001b[0;34m(\u001b[0m\u001b[0mticks_to_draw\u001b[0m\u001b[0;34m,\u001b[0m \u001b[0mrenderer\u001b[0m\u001b[0;34m)\u001b[0m\u001b[0;34m\u001b[0m\u001b[0;34m\u001b[0m\u001b[0m\n\u001b[0m\u001b[1;32m   2007\u001b[0m             \u001b[0mbboxes\u001b[0m\u001b[0;34m.\u001b[0m\u001b[0mextend\u001b[0m\u001b[0;34m(\u001b[0m\u001b[0mtlb\u001b[0m\u001b[0;34m)\u001b[0m\u001b[0;34m\u001b[0m\u001b[0;34m\u001b[0m\u001b[0m\n\u001b[1;32m   2008\u001b[0m             \u001b[0mbboxes2\u001b[0m\u001b[0;34m.\u001b[0m\u001b[0mextend\u001b[0m\u001b[0;34m(\u001b[0m\u001b[0mtlb2\u001b[0m\u001b[0;34m)\u001b[0m\u001b[0;34m\u001b[0m\u001b[0;34m\u001b[0m\u001b[0m\n",
            "\u001b[0;32m/usr/local/lib/python3.7/dist-packages/matplotlib/axis.py\u001b[0m in \u001b[0;36m_get_tick_bboxes\u001b[0;34m(self, ticks, renderer)\u001b[0m\n\u001b[1;32m   1172\u001b[0m         \u001b[0;34m\"\"\"Return lists of bboxes for ticks' label1's and label2's.\"\"\"\u001b[0m\u001b[0;34m\u001b[0m\u001b[0;34m\u001b[0m\u001b[0m\n\u001b[1;32m   1173\u001b[0m         return ([tick.label1.get_window_extent(renderer)\n\u001b[0;32m-> 1174\u001b[0;31m                  for tick in ticks if tick.label1.get_visible()],\n\u001b[0m\u001b[1;32m   1175\u001b[0m                 [tick.label2.get_window_extent(renderer)\n\u001b[1;32m   1176\u001b[0m                  for tick in ticks if tick.label2.get_visible()])\n",
            "\u001b[0;32m/usr/local/lib/python3.7/dist-packages/matplotlib/axis.py\u001b[0m in \u001b[0;36m<listcomp>\u001b[0;34m(.0)\u001b[0m\n\u001b[1;32m   1172\u001b[0m         \u001b[0;34m\"\"\"Return lists of bboxes for ticks' label1's and label2's.\"\"\"\u001b[0m\u001b[0;34m\u001b[0m\u001b[0;34m\u001b[0m\u001b[0m\n\u001b[1;32m   1173\u001b[0m         return ([tick.label1.get_window_extent(renderer)\n\u001b[0;32m-> 1174\u001b[0;31m                  for tick in ticks if tick.label1.get_visible()],\n\u001b[0m\u001b[1;32m   1175\u001b[0m                 [tick.label2.get_window_extent(renderer)\n\u001b[1;32m   1176\u001b[0m                  for tick in ticks if tick.label2.get_visible()])\n",
            "\u001b[0;32m/usr/local/lib/python3.7/dist-packages/matplotlib/text.py\u001b[0m in \u001b[0;36mget_window_extent\u001b[0;34m(self, renderer, dpi)\u001b[0m\n\u001b[1;32m    903\u001b[0m             \u001b[0;32mraise\u001b[0m \u001b[0mRuntimeError\u001b[0m\u001b[0;34m(\u001b[0m\u001b[0;34m'Cannot get window extent w/o renderer'\u001b[0m\u001b[0;34m)\u001b[0m\u001b[0;34m\u001b[0m\u001b[0;34m\u001b[0m\u001b[0m\n\u001b[1;32m    904\u001b[0m \u001b[0;34m\u001b[0m\u001b[0m\n\u001b[0;32m--> 905\u001b[0;31m         \u001b[0mbbox\u001b[0m\u001b[0;34m,\u001b[0m \u001b[0minfo\u001b[0m\u001b[0;34m,\u001b[0m \u001b[0mdescent\u001b[0m \u001b[0;34m=\u001b[0m \u001b[0mself\u001b[0m\u001b[0;34m.\u001b[0m\u001b[0m_get_layout\u001b[0m\u001b[0;34m(\u001b[0m\u001b[0mself\u001b[0m\u001b[0;34m.\u001b[0m\u001b[0m_renderer\u001b[0m\u001b[0;34m)\u001b[0m\u001b[0;34m\u001b[0m\u001b[0;34m\u001b[0m\u001b[0m\n\u001b[0m\u001b[1;32m    906\u001b[0m         \u001b[0mx\u001b[0m\u001b[0;34m,\u001b[0m \u001b[0my\u001b[0m \u001b[0;34m=\u001b[0m \u001b[0mself\u001b[0m\u001b[0;34m.\u001b[0m\u001b[0mget_unitless_position\u001b[0m\u001b[0;34m(\u001b[0m\u001b[0;34m)\u001b[0m\u001b[0;34m\u001b[0m\u001b[0;34m\u001b[0m\u001b[0m\n\u001b[1;32m    907\u001b[0m         \u001b[0mx\u001b[0m\u001b[0;34m,\u001b[0m \u001b[0my\u001b[0m \u001b[0;34m=\u001b[0m \u001b[0mself\u001b[0m\u001b[0;34m.\u001b[0m\u001b[0mget_transform\u001b[0m\u001b[0;34m(\u001b[0m\u001b[0;34m)\u001b[0m\u001b[0;34m.\u001b[0m\u001b[0mtransform\u001b[0m\u001b[0;34m(\u001b[0m\u001b[0;34m(\u001b[0m\u001b[0mx\u001b[0m\u001b[0;34m,\u001b[0m \u001b[0my\u001b[0m\u001b[0;34m)\u001b[0m\u001b[0;34m)\u001b[0m\u001b[0;34m\u001b[0m\u001b[0;34m\u001b[0m\u001b[0m\n",
            "\u001b[0;32m/usr/local/lib/python3.7/dist-packages/matplotlib/text.py\u001b[0m in \u001b[0;36m_get_layout\u001b[0;34m(self, renderer)\u001b[0m\n\u001b[1;32m    291\u001b[0m         _, lp_h, lp_d = renderer.get_text_width_height_descent(\n\u001b[1;32m    292\u001b[0m             \u001b[0;34m\"lp\"\u001b[0m\u001b[0;34m,\u001b[0m \u001b[0mself\u001b[0m\u001b[0;34m.\u001b[0m\u001b[0m_fontproperties\u001b[0m\u001b[0;34m,\u001b[0m\u001b[0;34m\u001b[0m\u001b[0;34m\u001b[0m\u001b[0m\n\u001b[0;32m--> 293\u001b[0;31m             ismath=\"TeX\" if self.get_usetex() else False)\n\u001b[0m\u001b[1;32m    294\u001b[0m         \u001b[0mmin_dy\u001b[0m \u001b[0;34m=\u001b[0m \u001b[0;34m(\u001b[0m\u001b[0mlp_h\u001b[0m \u001b[0;34m-\u001b[0m \u001b[0mlp_d\u001b[0m\u001b[0;34m)\u001b[0m \u001b[0;34m*\u001b[0m \u001b[0mself\u001b[0m\u001b[0;34m.\u001b[0m\u001b[0m_linespacing\u001b[0m\u001b[0;34m\u001b[0m\u001b[0;34m\u001b[0m\u001b[0m\n\u001b[1;32m    295\u001b[0m \u001b[0;34m\u001b[0m\u001b[0m\n",
            "\u001b[0;32m/usr/local/lib/python3.7/dist-packages/matplotlib/backends/backend_agg.py\u001b[0m in \u001b[0;36mget_text_width_height_descent\u001b[0;34m(self, s, prop, ismath)\u001b[0m\n\u001b[1;32m    210\u001b[0m             \u001b[0;32mreturn\u001b[0m \u001b[0mwidth\u001b[0m\u001b[0;34m,\u001b[0m \u001b[0mheight\u001b[0m\u001b[0;34m,\u001b[0m \u001b[0mdescent\u001b[0m\u001b[0;34m\u001b[0m\u001b[0;34m\u001b[0m\u001b[0m\n\u001b[1;32m    211\u001b[0m \u001b[0;34m\u001b[0m\u001b[0m\n\u001b[0;32m--> 212\u001b[0;31m         \u001b[0mflags\u001b[0m \u001b[0;34m=\u001b[0m \u001b[0mget_hinting_flag\u001b[0m\u001b[0;34m(\u001b[0m\u001b[0;34m)\u001b[0m\u001b[0;34m\u001b[0m\u001b[0;34m\u001b[0m\u001b[0m\n\u001b[0m\u001b[1;32m    213\u001b[0m         \u001b[0mfont\u001b[0m \u001b[0;34m=\u001b[0m \u001b[0mself\u001b[0m\u001b[0;34m.\u001b[0m\u001b[0m_get_agg_font\u001b[0m\u001b[0;34m(\u001b[0m\u001b[0mprop\u001b[0m\u001b[0;34m)\u001b[0m\u001b[0;34m\u001b[0m\u001b[0;34m\u001b[0m\u001b[0m\n\u001b[1;32m    214\u001b[0m         \u001b[0mfont\u001b[0m\u001b[0;34m.\u001b[0m\u001b[0mset_text\u001b[0m\u001b[0;34m(\u001b[0m\u001b[0ms\u001b[0m\u001b[0;34m,\u001b[0m \u001b[0;36m0.0\u001b[0m\u001b[0;34m,\u001b[0m \u001b[0mflags\u001b[0m\u001b[0;34m=\u001b[0m\u001b[0mflags\u001b[0m\u001b[0;34m)\u001b[0m\u001b[0;34m\u001b[0m\u001b[0;34m\u001b[0m\u001b[0m\n",
            "\u001b[0;32m/usr/local/lib/python3.7/dist-packages/matplotlib/backends/backend_agg.py\u001b[0m in \u001b[0;36mget_hinting_flag\u001b[0;34m()\u001b[0m\n\u001b[1;32m     62\u001b[0m         \u001b[0;34m'none'\u001b[0m\u001b[0;34m:\u001b[0m \u001b[0mLOAD_NO_HINTING\u001b[0m\u001b[0;34m\u001b[0m\u001b[0;34m\u001b[0m\u001b[0m\n\u001b[1;32m     63\u001b[0m         }\n\u001b[0;32m---> 64\u001b[0;31m     \u001b[0;32mreturn\u001b[0m \u001b[0mmapping\u001b[0m\u001b[0;34m[\u001b[0m\u001b[0mrcParams\u001b[0m\u001b[0;34m[\u001b[0m\u001b[0;34m'text.hinting'\u001b[0m\u001b[0;34m]\u001b[0m\u001b[0;34m]\u001b[0m\u001b[0;34m\u001b[0m\u001b[0;34m\u001b[0m\u001b[0m\n\u001b[0m\u001b[1;32m     65\u001b[0m \u001b[0;34m\u001b[0m\u001b[0m\n\u001b[1;32m     66\u001b[0m \u001b[0;34m\u001b[0m\u001b[0m\n",
            "\u001b[0;32m/usr/local/lib/python3.7/dist-packages/matplotlib/__init__.py\u001b[0m in \u001b[0;36m__getitem__\u001b[0;34m(self, key)\u001b[0m\n\u001b[1;32m    832\u001b[0m                 \u001b[0mplt\u001b[0m\u001b[0;34m.\u001b[0m\u001b[0mswitch_backend\u001b[0m\u001b[0;34m(\u001b[0m\u001b[0mrcsetup\u001b[0m\u001b[0;34m.\u001b[0m\u001b[0m_auto_backend_sentinel\u001b[0m\u001b[0;34m)\u001b[0m\u001b[0;34m\u001b[0m\u001b[0;34m\u001b[0m\u001b[0m\n\u001b[1;32m    833\u001b[0m \u001b[0;34m\u001b[0m\u001b[0m\n\u001b[0;32m--> 834\u001b[0;31m         \u001b[0;32mreturn\u001b[0m \u001b[0mdict\u001b[0m\u001b[0;34m.\u001b[0m\u001b[0m__getitem__\u001b[0m\u001b[0;34m(\u001b[0m\u001b[0mself\u001b[0m\u001b[0;34m,\u001b[0m \u001b[0mkey\u001b[0m\u001b[0;34m)\u001b[0m\u001b[0;34m\u001b[0m\u001b[0;34m\u001b[0m\u001b[0m\n\u001b[0m\u001b[1;32m    835\u001b[0m \u001b[0;34m\u001b[0m\u001b[0m\n\u001b[1;32m    836\u001b[0m     \u001b[0;32mdef\u001b[0m \u001b[0m__repr__\u001b[0m\u001b[0;34m(\u001b[0m\u001b[0mself\u001b[0m\u001b[0;34m)\u001b[0m\u001b[0;34m:\u001b[0m\u001b[0;34m\u001b[0m\u001b[0;34m\u001b[0m\u001b[0m\n",
            "\u001b[0;31mKeyboardInterrupt\u001b[0m: "
          ]
        }
      ]
    },
    {
      "cell_type": "code",
      "source": [
        "\"\"\"\n",
        "# Evaluation Metric (RMSE)\n",
        "\n",
        "from sklearn.metrics import mean_squared_error\n",
        "from sklearn.metrics import accuracy_score\n",
        "\n",
        "rmse = np.sqrt(mean_squared_error(ytest,y_pred))\n",
        "print(\"RMSE: %f\" % (rmse))\n",
        "\n",
        "# Evaluation Metric (Accuracy)\n",
        "accuracy = accuracy_score(ytest, y_pred)\n",
        "accuracy\n",
        "\"\"\""
      ],
      "metadata": {
        "colab": {
          "base_uri": "https://localhost:8080/",
          "height": 36
        },
        "id": "dKWS-3Kuww2j",
        "outputId": "19324e14-7843-435e-a52f-affd124a9bde"
      },
      "execution_count": 331,
      "outputs": [
        {
          "output_type": "execute_result",
          "data": {
            "text/plain": [
              "'\\n# Evaluation Metric (RMSE)\\n\\nfrom sklearn.metrics import mean_squared_error\\nfrom sklearn.metrics import accuracy_score\\n\\nrmse = np.sqrt(mean_squared_error(ytest,y_pred))\\nprint(\"RMSE: %f\" % (rmse))\\n\\n# Evaluation Metric (Accuracy)\\naccuracy = accuracy_score(ytest, y_pred)\\naccuracy\\n'"
            ],
            "application/vnd.google.colaboratory.intrinsic+json": {
              "type": "string"
            }
          },
          "metadata": {},
          "execution_count": 331
        }
      ]
    },
    {
      "cell_type": "markdown",
      "source": [
        "# Support Vector Machine (SVM) Algorithm"
      ],
      "metadata": {
        "id": "BtntwJ2_PVoL"
      }
    },
    {
      "cell_type": "markdown",
      "source": [
        "Support Vector Machine (SVM) Algorithm"
      ],
      "metadata": {
        "id": "FTuIqnl1RvDl"
      }
    },
    {
      "cell_type": "code",
      "source": [
        "\"\"\"\n",
        "\n",
        "# To calculate the accuracy score of the model\n",
        "from sklearn.metrics import accuracy_score, confusion_matrix\n",
        "from sklearn.svm import SVC\n",
        "  \n",
        "# Building a Support Vector Machine on train data\n",
        "svc_model = SVC(C= .1, kernel='linear', gamma= 1)\n",
        "svc_model.fit(xtrain, ytrain)\n",
        "  \n",
        "prediction = svc_model .predict(xtest)\n",
        "# check the accuracy on the training set\n",
        "print(svc_model.score(xtrain, ytrain))\n",
        "print(svc_model.score(xtest, ytest))\n",
        "\n",
        "\n",
        "y_pred = model.predict(xtest)\n",
        "\n",
        "# Evaluation Metric (RMSE)\n",
        "\n",
        "from sklearn.metrics import mean_squared_error\n",
        "rmse = np.sqrt(mean_squared_error(ytest,y_pred))\n",
        "print(\"RMSE: %f\" % (rmse))\n",
        "\n",
        "print(\"Confusion Matrix:\\n\",confusion_matrix(prediction,ytest))\n",
        "\n",
        "# Evaluation Metric (Accuracy)\n",
        "accuracy = accuracy_score(ytest, y_pred)\n",
        "accuracy\n",
        "\"\"\""
      ],
      "metadata": {
        "id": "yI8YSl1-R15i",
        "colab": {
          "base_uri": "https://localhost:8080/",
          "height": 71
        },
        "outputId": "2302c098-63f1-4518-e611-6fc3ba2207c5"
      },
      "execution_count": 332,
      "outputs": [
        {
          "output_type": "execute_result",
          "data": {
            "text/plain": [
              "'\\n\\n# To calculate the accuracy score of the model\\nfrom sklearn.metrics import accuracy_score, confusion_matrix\\nfrom sklearn.svm import SVC\\n  \\n# Building a Support Vector Machine on train data\\nsvc_model = SVC(C= .1, kernel=\\'linear\\', gamma= 1)\\nsvc_model.fit(xtrain, ytrain)\\n  \\nprediction = svc_model .predict(xtest)\\n# check the accuracy on the training set\\nprint(svc_model.score(xtrain, ytrain))\\nprint(svc_model.score(xtest, ytest))\\n\\n\\ny_pred = model.predict(xtest)\\n\\n# Evaluation Metric (RMSE)\\n\\nfrom sklearn.metrics import mean_squared_error\\nrmse = np.sqrt(mean_squared_error(ytest,y_pred))\\nprint(\"RMSE: %f\" % (rmse))\\n\\nprint(\"Confusion Matrix:\\n\",confusion_matrix(prediction,ytest))\\n\\n# Evaluation Metric (Accuracy)\\naccuracy = accuracy_score(ytest, y_pred)\\naccuracy\\n'"
            ],
            "application/vnd.google.colaboratory.intrinsic+json": {
              "type": "string"
            }
          },
          "metadata": {},
          "execution_count": 332
        }
      ]
    },
    {
      "cell_type": "markdown",
      "source": [
        "# K-Nearest Neighbour (KNN) Algorithm"
      ],
      "metadata": {
        "id": "pnQuKo4uSY1H"
      }
    },
    {
      "cell_type": "code",
      "source": [
        "\"\"\"\n",
        "from sklearn.neighbors import KNeighborsClassifier\n",
        "knn = KNeighborsClassifier(n_neighbors=3)\n",
        "\n",
        "knn.fit(xtrain, ytrain)\n",
        " \n",
        "# Predict on dataset which model has not seen before\n",
        "print(knn.predict(xtest))\n",
        "\n",
        "# Calculate the accuracy of the model\n",
        "print(knn.score(xtest, ytest))\n",
        "\n",
        "\n",
        "neighbors = np.arange(1, 9)\n",
        "train_accuracy = np.empty(len(neighbors))\n",
        "test_accuracy = np.empty(len(neighbors))\n",
        " \n",
        "# Loop over K values\n",
        "for i, k in enumerate(neighbors):\n",
        "    knn = KNeighborsClassifier(n_neighbors=k)\n",
        "    knn.fit(xtrain, ytrain)\n",
        "     \n",
        "    # Compute training and test data accuracy\n",
        "    train_accuracy[i] = knn.score(xtrain, ytrain)\n",
        "    test_accuracy[i] = knn.score(xtest, ytest)\n",
        " \n",
        "# Generate plot\n",
        "plt.plot(neighbors, test_accuracy, label = 'Testing dataset Accuracy')\n",
        "plt.plot(neighbors, train_accuracy, label = 'Training dataset Accuracy')\n",
        " \n",
        "plt.legend()\n",
        "plt.xlabel('n_neighbors')\n",
        "plt.ylabel('Accuracy')\n",
        "plt.show()\n",
        "\"\"\""
      ],
      "metadata": {
        "id": "dmMLI0usSf_C",
        "colab": {
          "base_uri": "https://localhost:8080/",
          "height": 88
        },
        "outputId": "8141ea8e-fe11-45a5-bbed-af802edbb3f0"
      },
      "execution_count": 333,
      "outputs": [
        {
          "output_type": "execute_result",
          "data": {
            "text/plain": [
              "\"\\nfrom sklearn.neighbors import KNeighborsClassifier\\nknn = KNeighborsClassifier(n_neighbors=3)\\n\\nknn.fit(xtrain, ytrain)\\n \\n# Predict on dataset which model has not seen before\\nprint(knn.predict(xtest))\\n\\n# Calculate the accuracy of the model\\nprint(knn.score(xtest, ytest))\\n\\n\\nneighbors = np.arange(1, 9)\\ntrain_accuracy = np.empty(len(neighbors))\\ntest_accuracy = np.empty(len(neighbors))\\n \\n# Loop over K values\\nfor i, k in enumerate(neighbors):\\n    knn = KNeighborsClassifier(n_neighbors=k)\\n    knn.fit(xtrain, ytrain)\\n     \\n    # Compute training and test data accuracy\\n    train_accuracy[i] = knn.score(xtrain, ytrain)\\n    test_accuracy[i] = knn.score(xtest, ytest)\\n \\n# Generate plot\\nplt.plot(neighbors, test_accuracy, label = 'Testing dataset Accuracy')\\nplt.plot(neighbors, train_accuracy, label = 'Training dataset Accuracy')\\n \\nplt.legend()\\nplt.xlabel('n_neighbors')\\nplt.ylabel('Accuracy')\\nplt.show()\\n\""
            ],
            "application/vnd.google.colaboratory.intrinsic+json": {
              "type": "string"
            }
          },
          "metadata": {},
          "execution_count": 333
        }
      ]
    },
    {
      "cell_type": "code",
      "source": [
        "\"\"\"\n",
        "# Evaluation Metric (RMSE)\n",
        "\n",
        "from sklearn.metrics import mean_squared_error\n",
        "from sklearn.metrics import accuracy_score\n",
        "\n",
        "rmse = np.sqrt(mean_squared_error(ytest,y_pred))\n",
        "print(\"RMSE: %f\" % (rmse))\n",
        "\"\"\"\n"
      ],
      "metadata": {
        "colab": {
          "base_uri": "https://localhost:8080/",
          "height": 36
        },
        "id": "symi0El81N-4",
        "outputId": "dc56390d-27a4-46a1-d642-9d2c4d040e61"
      },
      "execution_count": 334,
      "outputs": [
        {
          "output_type": "execute_result",
          "data": {
            "text/plain": [
              "'\\n# Evaluation Metric (RMSE)\\n\\nfrom sklearn.metrics import mean_squared_error\\nfrom sklearn.metrics import accuracy_score\\n\\nrmse = np.sqrt(mean_squared_error(ytest,y_pred))\\nprint(\"RMSE: %f\" % (rmse))\\n'"
            ],
            "application/vnd.google.colaboratory.intrinsic+json": {
              "type": "string"
            }
          },
          "metadata": {},
          "execution_count": 334
        }
      ]
    },
    {
      "cell_type": "markdown",
      "source": [
        "# Naive Bayes Classification Algorithm"
      ],
      "metadata": {
        "id": "MhRNt3mUe_o4"
      }
    },
    {
      "cell_type": "code",
      "source": [
        "\"\"\"\n",
        "# training the model on training set\n",
        "from sklearn.naive_bayes import GaussianNB\n",
        "gnb = GaussianNB()\n",
        "gnb.fit(xtrain, ytrain)\n",
        " \n",
        "# making predictions on the testing set\n",
        "y_pred = gnb.predict(xtest)\n",
        " \n",
        "# comparing actual response values (y_test) with predicted response values (y_pred)\n",
        "from sklearn import metrics\n",
        "print(\"Gaussian Naive Bayes model accuracy(in %):\", metrics.accuracy_score(ytest, y_pred)*100)\n",
        "\"\"\""
      ],
      "metadata": {
        "id": "0M4YGbkafFJo",
        "colab": {
          "base_uri": "https://localhost:8080/"
        },
        "outputId": "befc1836-0ac9-4122-fbeb-4a0d8c16de01"
      },
      "execution_count": 335,
      "outputs": [
        {
          "output_type": "stream",
          "name": "stdout",
          "text": [
            "Gaussian Naive Bayes model accuracy(in %): 96.11111111111111\n"
          ]
        },
        {
          "output_type": "stream",
          "name": "stderr",
          "text": [
            "/usr/local/lib/python3.7/dist-packages/sklearn/utils/validation.py:993: DataConversionWarning: A column-vector y was passed when a 1d array was expected. Please change the shape of y to (n_samples, ), for example using ravel().\n",
            "  y = column_or_1d(y, warn=True)\n"
          ]
        }
      ]
    },
    {
      "cell_type": "code",
      "source": [
        "\"\"\"\"\n",
        "# Evaluation Metric (RMSE)\n",
        "\n",
        "from sklearn.metrics import mean_squared_error\n",
        "from sklearn.metrics import accuracy_score\n",
        "\n",
        "rmse = np.sqrt(mean_squared_error(ytest,y_pred))\n",
        "print(\"RMSE: %f\" % (rmse))\n",
        "\n",
        "\"\"\""
      ],
      "metadata": {
        "colab": {
          "base_uri": "https://localhost:8080/"
        },
        "id": "cRb2aKPm3C5h",
        "outputId": "918ef576-8124-434b-9f6f-2d9e9d500025"
      },
      "execution_count": 336,
      "outputs": [
        {
          "output_type": "stream",
          "name": "stdout",
          "text": [
            "RMSE: 0.281496\n"
          ]
        }
      ]
    }
  ]
}