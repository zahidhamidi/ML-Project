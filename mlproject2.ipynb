{
  "nbformat": 4,
  "nbformat_minor": 0,
  "metadata": {
    "colab": {
      "name": "Untitled1.ipynb",
      "provenance": [],
      "collapsed_sections": [],
      "toc_visible": true,
      "mount_file_id": "1D9y6M30CUq09ZODbmcavMUI52tCdMuSG",
      "authorship_tag": "ABX9TyOc36K8hI8JWgc9Ed2u2YVq",
      "include_colab_link": true
    },
    "kernelspec": {
      "name": "python3",
      "display_name": "Python 3"
    },
    "language_info": {
      "name": "python"
    }
  },
  "cells": [
    {
      "cell_type": "markdown",
      "metadata": {
        "id": "view-in-github",
        "colab_type": "text"
      },
      "source": [
        "<a href=\"https://colab.research.google.com/github/zahidhamidi/ML-Project/blob/main/mlproject2.ipynb\" target=\"_parent\"><img src=\"https://colab.research.google.com/assets/colab-badge.svg\" alt=\"Open In Colab\"/></a>"
      ]
    },
    {
      "cell_type": "code",
      "source": [
        "pip install lasio"
      ],
      "metadata": {
        "colab": {
          "base_uri": "https://localhost:8080/"
        },
        "id": "kspFbXEzNMDe",
        "outputId": "2b6cffd8-7d84-4446-8d06-9b1f80914baf"
      },
      "execution_count": 1,
      "outputs": [
        {
          "output_type": "stream",
          "name": "stdout",
          "text": [
            "Looking in indexes: https://pypi.org/simple, https://us-python.pkg.dev/colab-wheels/public/simple/\n",
            "Collecting lasio\n",
            "  Downloading lasio-0.30-py2.py3-none-any.whl (43 kB)\n",
            "\u001b[K     |████████████████████████████████| 43 kB 2.1 MB/s \n",
            "\u001b[?25hRequirement already satisfied: numpy in /usr/local/lib/python3.7/dist-packages (from lasio) (1.21.6)\n",
            "Installing collected packages: lasio\n",
            "Successfully installed lasio-0.30\n"
          ]
        }
      ]
    },
    {
      "cell_type": "code",
      "execution_count": 2,
      "metadata": {
        "id": "G01ypqvyLQ9d"
      },
      "outputs": [],
      "source": [
        "import pandas as pd\n",
        "import matplotlib.pyplot as plt\n",
        "import lasio\n",
        "import numpy as np"
      ]
    },
    {
      "cell_type": "code",
      "source": [
        "las = lasio.read('/content/drive/MyDrive/Master Files/Msc Project/Dataset Well Logging/15-9-F-11B WLC_PETRO_COMPUTED_INPUT_1.LAS')\n",
        "df = las.df()\n",
        "df['DEPTH'] = df.index"
      ],
      "metadata": {
        "id": "EIaG66h8NSyy"
      },
      "execution_count": 3,
      "outputs": []
    },
    {
      "cell_type": "code",
      "source": [
        "df.info()"
      ],
      "metadata": {
        "id": "hjPMMK4QNhPz",
        "colab": {
          "base_uri": "https://localhost:8080/"
        },
        "outputId": "cf6d0270-e420-4e8a-a1fd-83ff1c9aa285"
      },
      "execution_count": 4,
      "outputs": [
        {
          "output_type": "stream",
          "name": "stdout",
          "text": [
            "<class 'pandas.core.frame.DataFrame'>\n",
            "Float64Index: 45818 entries, 188.5 to 4770.2\n",
            "Data columns (total 20 columns):\n",
            " #   Column    Non-Null Count  Dtype  \n",
            "---  ------    --------------  -----  \n",
            " 0   ABDCQF01  15195 non-null  float64\n",
            " 1   ABDCQF02  15195 non-null  float64\n",
            " 2   ABDCQF03  15195 non-null  float64\n",
            " 3   ABDCQF04  15195 non-null  float64\n",
            " 4   BS        45818 non-null  float64\n",
            " 5   CALI      15543 non-null  float64\n",
            " 6   DRHO      15538 non-null  float64\n",
            " 7   GR        45671 non-null  float64\n",
            " 8   NPHI      15466 non-null  float64\n",
            " 9   PEF       15492 non-null  float64\n",
            " 10  RACEHM    21775 non-null  float64\n",
            " 11  RACELM    21775 non-null  float64\n",
            " 12  RD        44857 non-null  float64\n",
            " 13  RHOB      15492 non-null  float64\n",
            " 14  RM        45074 non-null  float64\n",
            " 15  ROP       45411 non-null  float64\n",
            " 16  RPCEHM    21775 non-null  float64\n",
            " 17  RPCELM    21558 non-null  float64\n",
            " 18  RT        45074 non-null  float64\n",
            " 19  DEPTH     45818 non-null  float64\n",
            "dtypes: float64(20)\n",
            "memory usage: 7.3 MB\n"
          ]
        }
      ]
    },
    {
      "cell_type": "code",
      "source": [
        "df.describe()"
      ],
      "metadata": {
        "colab": {
          "base_uri": "https://localhost:8080/",
          "height": 364
        },
        "id": "IGdpx1pm4wKX",
        "outputId": "419118d6-c2e0-44c4-b908-f7b9d6d0e1e2"
      },
      "execution_count": 5,
      "outputs": [
        {
          "output_type": "execute_result",
          "data": {
            "text/plain": [
              "           ABDCQF01      ABDCQF02      ABDCQF03      ABDCQF04            BS  \\\n",
              "count  15195.000000  15195.000000  15195.000000  15195.000000  45818.000000   \n",
              "mean       2.405201      2.396646      2.401330      2.397462     15.911796   \n",
              "std        0.199292      0.184905      0.199597      0.187000      6.990772   \n",
              "min        1.513000      1.581000      1.539000      1.594000      8.500000   \n",
              "25%        2.229000      2.227000      2.222000      2.224000      8.500000   \n",
              "50%        2.365000      2.370000      2.367000      2.371000     17.500000   \n",
              "75%        2.569000      2.557000      2.563000      2.561000     26.000000   \n",
              "max        3.362000      3.180000      3.402000      3.252000     36.000000   \n",
              "\n",
              "               CALI          DRHO            GR          NPHI           PEF  \\\n",
              "count  15543.000000  15538.000000  45671.000000  15466.000000  15492.000000   \n",
              "mean       8.655825      0.056392     46.575309      0.183350      5.553079   \n",
              "std        0.087148      0.016221     29.867590      0.059092      1.393773   \n",
              "min        8.318000     -0.040000      0.515000      0.024000      3.647000   \n",
              "25%        8.625000      0.046000     18.897000      0.155000      4.424000   \n",
              "50%        8.625000      0.054000     43.209000      0.176000      5.126000   \n",
              "75%        8.672000      0.064000     69.368500      0.209000      6.411250   \n",
              "max       10.387000      0.201000    170.757000      0.541000     11.229000   \n",
              "\n",
              "             RACEHM        RACELM            RD          RHOB            RM  \\\n",
              "count  21775.000000  21775.000000  44857.000000  15492.000000  45074.000000   \n",
              "mean     342.385754    122.519524     12.727806      2.397390    785.668197   \n",
              "std     1346.472301    443.961335    100.402277      0.181245   6860.203629   \n",
              "min       -0.165000      0.072000      0.236000      1.627000      0.140000   \n",
              "25%        1.993500      1.975000      0.848000      2.230000      0.917000   \n",
              "50%        4.379000      4.140000      1.408000      2.375000      1.492000   \n",
              "75%       16.577500      9.003500      4.102000      2.561000      4.787750   \n",
              "max     7705.406000   2109.285000   5456.299000      3.090000  97543.422000   \n",
              "\n",
              "                ROP        RPCEHM        RPCELM            RT         DEPTH  \n",
              "count  45411.000000  21775.000000  21558.000000  45074.000000  45818.000000  \n",
              "mean      25.451754   1686.779415     80.972652    785.668197   2479.350000  \n",
              "std       12.818202   9959.204903   1767.916196   6860.203629   1322.666165  \n",
              "min        0.000000      0.139000      0.236000      0.140000    188.500000  \n",
              "25%       18.758500      2.296500      2.019000      0.917000   1333.925000  \n",
              "50%       25.104000      5.198000      4.454000      1.492000   2479.350000  \n",
              "75%       29.984000     27.671000     16.276000      4.787750   3624.775000  \n",
              "max      193.083000  97543.422000  96973.383000  97543.422000   4770.200000  "
            ],
            "text/html": [
              "\n",
              "  <div id=\"df-009b83f5-5302-4545-ada3-490987b9ab2d\">\n",
              "    <div class=\"colab-df-container\">\n",
              "      <div>\n",
              "<style scoped>\n",
              "    .dataframe tbody tr th:only-of-type {\n",
              "        vertical-align: middle;\n",
              "    }\n",
              "\n",
              "    .dataframe tbody tr th {\n",
              "        vertical-align: top;\n",
              "    }\n",
              "\n",
              "    .dataframe thead th {\n",
              "        text-align: right;\n",
              "    }\n",
              "</style>\n",
              "<table border=\"1\" class=\"dataframe\">\n",
              "  <thead>\n",
              "    <tr style=\"text-align: right;\">\n",
              "      <th></th>\n",
              "      <th>ABDCQF01</th>\n",
              "      <th>ABDCQF02</th>\n",
              "      <th>ABDCQF03</th>\n",
              "      <th>ABDCQF04</th>\n",
              "      <th>BS</th>\n",
              "      <th>CALI</th>\n",
              "      <th>DRHO</th>\n",
              "      <th>GR</th>\n",
              "      <th>NPHI</th>\n",
              "      <th>PEF</th>\n",
              "      <th>RACEHM</th>\n",
              "      <th>RACELM</th>\n",
              "      <th>RD</th>\n",
              "      <th>RHOB</th>\n",
              "      <th>RM</th>\n",
              "      <th>ROP</th>\n",
              "      <th>RPCEHM</th>\n",
              "      <th>RPCELM</th>\n",
              "      <th>RT</th>\n",
              "      <th>DEPTH</th>\n",
              "    </tr>\n",
              "  </thead>\n",
              "  <tbody>\n",
              "    <tr>\n",
              "      <th>count</th>\n",
              "      <td>15195.000000</td>\n",
              "      <td>15195.000000</td>\n",
              "      <td>15195.000000</td>\n",
              "      <td>15195.000000</td>\n",
              "      <td>45818.000000</td>\n",
              "      <td>15543.000000</td>\n",
              "      <td>15538.000000</td>\n",
              "      <td>45671.000000</td>\n",
              "      <td>15466.000000</td>\n",
              "      <td>15492.000000</td>\n",
              "      <td>21775.000000</td>\n",
              "      <td>21775.000000</td>\n",
              "      <td>44857.000000</td>\n",
              "      <td>15492.000000</td>\n",
              "      <td>45074.000000</td>\n",
              "      <td>45411.000000</td>\n",
              "      <td>21775.000000</td>\n",
              "      <td>21558.000000</td>\n",
              "      <td>45074.000000</td>\n",
              "      <td>45818.000000</td>\n",
              "    </tr>\n",
              "    <tr>\n",
              "      <th>mean</th>\n",
              "      <td>2.405201</td>\n",
              "      <td>2.396646</td>\n",
              "      <td>2.401330</td>\n",
              "      <td>2.397462</td>\n",
              "      <td>15.911796</td>\n",
              "      <td>8.655825</td>\n",
              "      <td>0.056392</td>\n",
              "      <td>46.575309</td>\n",
              "      <td>0.183350</td>\n",
              "      <td>5.553079</td>\n",
              "      <td>342.385754</td>\n",
              "      <td>122.519524</td>\n",
              "      <td>12.727806</td>\n",
              "      <td>2.397390</td>\n",
              "      <td>785.668197</td>\n",
              "      <td>25.451754</td>\n",
              "      <td>1686.779415</td>\n",
              "      <td>80.972652</td>\n",
              "      <td>785.668197</td>\n",
              "      <td>2479.350000</td>\n",
              "    </tr>\n",
              "    <tr>\n",
              "      <th>std</th>\n",
              "      <td>0.199292</td>\n",
              "      <td>0.184905</td>\n",
              "      <td>0.199597</td>\n",
              "      <td>0.187000</td>\n",
              "      <td>6.990772</td>\n",
              "      <td>0.087148</td>\n",
              "      <td>0.016221</td>\n",
              "      <td>29.867590</td>\n",
              "      <td>0.059092</td>\n",
              "      <td>1.393773</td>\n",
              "      <td>1346.472301</td>\n",
              "      <td>443.961335</td>\n",
              "      <td>100.402277</td>\n",
              "      <td>0.181245</td>\n",
              "      <td>6860.203629</td>\n",
              "      <td>12.818202</td>\n",
              "      <td>9959.204903</td>\n",
              "      <td>1767.916196</td>\n",
              "      <td>6860.203629</td>\n",
              "      <td>1322.666165</td>\n",
              "    </tr>\n",
              "    <tr>\n",
              "      <th>min</th>\n",
              "      <td>1.513000</td>\n",
              "      <td>1.581000</td>\n",
              "      <td>1.539000</td>\n",
              "      <td>1.594000</td>\n",
              "      <td>8.500000</td>\n",
              "      <td>8.318000</td>\n",
              "      <td>-0.040000</td>\n",
              "      <td>0.515000</td>\n",
              "      <td>0.024000</td>\n",
              "      <td>3.647000</td>\n",
              "      <td>-0.165000</td>\n",
              "      <td>0.072000</td>\n",
              "      <td>0.236000</td>\n",
              "      <td>1.627000</td>\n",
              "      <td>0.140000</td>\n",
              "      <td>0.000000</td>\n",
              "      <td>0.139000</td>\n",
              "      <td>0.236000</td>\n",
              "      <td>0.140000</td>\n",
              "      <td>188.500000</td>\n",
              "    </tr>\n",
              "    <tr>\n",
              "      <th>25%</th>\n",
              "      <td>2.229000</td>\n",
              "      <td>2.227000</td>\n",
              "      <td>2.222000</td>\n",
              "      <td>2.224000</td>\n",
              "      <td>8.500000</td>\n",
              "      <td>8.625000</td>\n",
              "      <td>0.046000</td>\n",
              "      <td>18.897000</td>\n",
              "      <td>0.155000</td>\n",
              "      <td>4.424000</td>\n",
              "      <td>1.993500</td>\n",
              "      <td>1.975000</td>\n",
              "      <td>0.848000</td>\n",
              "      <td>2.230000</td>\n",
              "      <td>0.917000</td>\n",
              "      <td>18.758500</td>\n",
              "      <td>2.296500</td>\n",
              "      <td>2.019000</td>\n",
              "      <td>0.917000</td>\n",
              "      <td>1333.925000</td>\n",
              "    </tr>\n",
              "    <tr>\n",
              "      <th>50%</th>\n",
              "      <td>2.365000</td>\n",
              "      <td>2.370000</td>\n",
              "      <td>2.367000</td>\n",
              "      <td>2.371000</td>\n",
              "      <td>17.500000</td>\n",
              "      <td>8.625000</td>\n",
              "      <td>0.054000</td>\n",
              "      <td>43.209000</td>\n",
              "      <td>0.176000</td>\n",
              "      <td>5.126000</td>\n",
              "      <td>4.379000</td>\n",
              "      <td>4.140000</td>\n",
              "      <td>1.408000</td>\n",
              "      <td>2.375000</td>\n",
              "      <td>1.492000</td>\n",
              "      <td>25.104000</td>\n",
              "      <td>5.198000</td>\n",
              "      <td>4.454000</td>\n",
              "      <td>1.492000</td>\n",
              "      <td>2479.350000</td>\n",
              "    </tr>\n",
              "    <tr>\n",
              "      <th>75%</th>\n",
              "      <td>2.569000</td>\n",
              "      <td>2.557000</td>\n",
              "      <td>2.563000</td>\n",
              "      <td>2.561000</td>\n",
              "      <td>26.000000</td>\n",
              "      <td>8.672000</td>\n",
              "      <td>0.064000</td>\n",
              "      <td>69.368500</td>\n",
              "      <td>0.209000</td>\n",
              "      <td>6.411250</td>\n",
              "      <td>16.577500</td>\n",
              "      <td>9.003500</td>\n",
              "      <td>4.102000</td>\n",
              "      <td>2.561000</td>\n",
              "      <td>4.787750</td>\n",
              "      <td>29.984000</td>\n",
              "      <td>27.671000</td>\n",
              "      <td>16.276000</td>\n",
              "      <td>4.787750</td>\n",
              "      <td>3624.775000</td>\n",
              "    </tr>\n",
              "    <tr>\n",
              "      <th>max</th>\n",
              "      <td>3.362000</td>\n",
              "      <td>3.180000</td>\n",
              "      <td>3.402000</td>\n",
              "      <td>3.252000</td>\n",
              "      <td>36.000000</td>\n",
              "      <td>10.387000</td>\n",
              "      <td>0.201000</td>\n",
              "      <td>170.757000</td>\n",
              "      <td>0.541000</td>\n",
              "      <td>11.229000</td>\n",
              "      <td>7705.406000</td>\n",
              "      <td>2109.285000</td>\n",
              "      <td>5456.299000</td>\n",
              "      <td>3.090000</td>\n",
              "      <td>97543.422000</td>\n",
              "      <td>193.083000</td>\n",
              "      <td>97543.422000</td>\n",
              "      <td>96973.383000</td>\n",
              "      <td>97543.422000</td>\n",
              "      <td>4770.200000</td>\n",
              "    </tr>\n",
              "  </tbody>\n",
              "</table>\n",
              "</div>\n",
              "      <button class=\"colab-df-convert\" onclick=\"convertToInteractive('df-009b83f5-5302-4545-ada3-490987b9ab2d')\"\n",
              "              title=\"Convert this dataframe to an interactive table.\"\n",
              "              style=\"display:none;\">\n",
              "        \n",
              "  <svg xmlns=\"http://www.w3.org/2000/svg\" height=\"24px\"viewBox=\"0 0 24 24\"\n",
              "       width=\"24px\">\n",
              "    <path d=\"M0 0h24v24H0V0z\" fill=\"none\"/>\n",
              "    <path d=\"M18.56 5.44l.94 2.06.94-2.06 2.06-.94-2.06-.94-.94-2.06-.94 2.06-2.06.94zm-11 1L8.5 8.5l.94-2.06 2.06-.94-2.06-.94L8.5 2.5l-.94 2.06-2.06.94zm10 10l.94 2.06.94-2.06 2.06-.94-2.06-.94-.94-2.06-.94 2.06-2.06.94z\"/><path d=\"M17.41 7.96l-1.37-1.37c-.4-.4-.92-.59-1.43-.59-.52 0-1.04.2-1.43.59L10.3 9.45l-7.72 7.72c-.78.78-.78 2.05 0 2.83L4 21.41c.39.39.9.59 1.41.59.51 0 1.02-.2 1.41-.59l7.78-7.78 2.81-2.81c.8-.78.8-2.07 0-2.86zM5.41 20L4 18.59l7.72-7.72 1.47 1.35L5.41 20z\"/>\n",
              "  </svg>\n",
              "      </button>\n",
              "      \n",
              "  <style>\n",
              "    .colab-df-container {\n",
              "      display:flex;\n",
              "      flex-wrap:wrap;\n",
              "      gap: 12px;\n",
              "    }\n",
              "\n",
              "    .colab-df-convert {\n",
              "      background-color: #E8F0FE;\n",
              "      border: none;\n",
              "      border-radius: 50%;\n",
              "      cursor: pointer;\n",
              "      display: none;\n",
              "      fill: #1967D2;\n",
              "      height: 32px;\n",
              "      padding: 0 0 0 0;\n",
              "      width: 32px;\n",
              "    }\n",
              "\n",
              "    .colab-df-convert:hover {\n",
              "      background-color: #E2EBFA;\n",
              "      box-shadow: 0px 1px 2px rgba(60, 64, 67, 0.3), 0px 1px 3px 1px rgba(60, 64, 67, 0.15);\n",
              "      fill: #174EA6;\n",
              "    }\n",
              "\n",
              "    [theme=dark] .colab-df-convert {\n",
              "      background-color: #3B4455;\n",
              "      fill: #D2E3FC;\n",
              "    }\n",
              "\n",
              "    [theme=dark] .colab-df-convert:hover {\n",
              "      background-color: #434B5C;\n",
              "      box-shadow: 0px 1px 3px 1px rgba(0, 0, 0, 0.15);\n",
              "      filter: drop-shadow(0px 1px 2px rgba(0, 0, 0, 0.3));\n",
              "      fill: #FFFFFF;\n",
              "    }\n",
              "  </style>\n",
              "\n",
              "      <script>\n",
              "        const buttonEl =\n",
              "          document.querySelector('#df-009b83f5-5302-4545-ada3-490987b9ab2d button.colab-df-convert');\n",
              "        buttonEl.style.display =\n",
              "          google.colab.kernel.accessAllowed ? 'block' : 'none';\n",
              "\n",
              "        async function convertToInteractive(key) {\n",
              "          const element = document.querySelector('#df-009b83f5-5302-4545-ada3-490987b9ab2d');\n",
              "          const dataTable =\n",
              "            await google.colab.kernel.invokeFunction('convertToInteractive',\n",
              "                                                     [key], {});\n",
              "          if (!dataTable) return;\n",
              "\n",
              "          const docLinkHtml = 'Like what you see? Visit the ' +\n",
              "            '<a target=\"_blank\" href=https://colab.research.google.com/notebooks/data_table.ipynb>data table notebook</a>'\n",
              "            + ' to learn more about interactive tables.';\n",
              "          element.innerHTML = '';\n",
              "          dataTable['output_type'] = 'display_data';\n",
              "          await google.colab.output.renderOutput(dataTable, element);\n",
              "          const docLink = document.createElement('div');\n",
              "          docLink.innerHTML = docLinkHtml;\n",
              "          element.appendChild(docLink);\n",
              "        }\n",
              "      </script>\n",
              "    </div>\n",
              "  </div>\n",
              "  "
            ]
          },
          "metadata": {},
          "execution_count": 5
        }
      ]
    },
    {
      "cell_type": "code",
      "source": [
        "from google.colab import drive\n",
        "drive.mount('/content/drive')"
      ],
      "metadata": {
        "id": "pF3_38pPexjB"
      },
      "execution_count": null,
      "outputs": []
    },
    {
      "cell_type": "markdown",
      "source": [
        "# Check missing data in each features"
      ],
      "metadata": {
        "id": "_FBXA3E-N46h"
      }
    },
    {
      "cell_type": "markdown",
      "source": [
        "Check missing data in each features"
      ],
      "metadata": {
        "id": "xjVIy3OnXrN5"
      }
    },
    {
      "cell_type": "code",
      "source": [
        "well_nan = df.notnull() * 1\n",
        "\n",
        "\n",
        "fig = plt.subplots(figsize=(7,10))\n",
        "\n",
        "#Set up the plot axes\n",
        "ax1 = plt.subplot2grid((1,21), (0,0), rowspan=1, colspan = 1) \n",
        "ax2 = plt.subplot2grid((1,21), (0,1), rowspan=1, colspan = 1)\n",
        "ax3 = plt.subplot2grid((1,21), (0,2), rowspan=1, colspan = 1)\n",
        "ax4 = plt.subplot2grid((1,21), (0,3), rowspan=1, colspan = 1)\n",
        "ax5 = plt.subplot2grid((1,21), (0,4), rowspan=1, colspan = 1)\n",
        "ax6 = plt.subplot2grid((1,21), (0,5), rowspan=1, colspan = 1)\n",
        "ax7 = plt.subplot2grid((1,21), (0,6), rowspan=1, colspan = 1)\n",
        "ax8 = plt.subplot2grid((1,21), (0,7), rowspan=1, colspan = 1)\n",
        "ax9 = plt.subplot2grid((1,21), (0,8), rowspan=1, colspan = 1)\n",
        "ax10 = plt.subplot2grid((1,21), (0,9), rowspan=1, colspan = 1)\n",
        "ax11 = plt.subplot2grid((1,21), (0,10), rowspan=1, colspan = 1)\n",
        "ax12 = plt.subplot2grid((1,21), (0,11), rowspan=1, colspan = 1)\n",
        "ax13 = plt.subplot2grid((1,21), (0,12), rowspan=1, colspan = 1)\n",
        "ax14 = plt.subplot2grid((1,21), (0,13), rowspan=1, colspan = 1)\n",
        "ax15 = plt.subplot2grid((1,21), (0,14), rowspan=1, colspan = 1)\n",
        "ax16 = plt.subplot2grid((1,21), (0,15), rowspan=1, colspan = 1)\n",
        "ax17 = plt.subplot2grid((1,21), (0,16), rowspan=1, colspan = 1)\n",
        "ax18 = plt.subplot2grid((1,21), (0,17), rowspan=1, colspan = 1)\n",
        "ax19 = plt.subplot2grid((1,21), (0,18), rowspan=1, colspan = 1)\n",
        "ax20 = plt.subplot2grid((1,21), (0,19), rowspan=1, colspan = 1)\n",
        "\n",
        "\n",
        "\n",
        "columns = well_nan.columns\n",
        "axes = [ax1, ax2, ax3, ax4, ax5, ax6, ax7, ax8, ax9, ax10, ax11, ax12, ax13, ax14, ax15, ax16, ax17, ax18, ax19, ax20]\n",
        "for i, ax in enumerate(axes):\n",
        "    ax.plot(well_nan.iloc[:,i], well_nan.index, lw=0)\n",
        "    ax.set_ylim(5000, 0)\n",
        "    ax.set_xlim(0, 1)\n",
        "    ax.set_title(columns[i], rotation='vertical')\n",
        "    ax.set_facecolor('whitesmoke')\n",
        "    ax.fill_betweenx(well_nan.index, 0, well_nan.iloc[:,i], facecolor='red')\n",
        "    \n",
        "    # Remove tick labels from each subplot\n",
        "    if i > 0:\n",
        "        plt.setp(ax.get_yticklabels(), visible = False)\n",
        "    plt.setp(ax.get_xticklabels(), visible = False)\n",
        "ax1.set_ylabel('Depth', fontsize=14)\n",
        "plt.subplots_adjust(wspace=0)\n",
        "plt.show()"
      ],
      "metadata": {
        "id": "eAn4exAle0yi"
      },
      "execution_count": null,
      "outputs": []
    },
    {
      "cell_type": "code",
      "source": [
        "df.isnull().sum()"
      ],
      "metadata": {
        "id": "-clZZoyUtsQQ"
      },
      "execution_count": null,
      "outputs": []
    },
    {
      "cell_type": "code",
      "source": [
        "depthmin = []\n",
        "depthmax = []\n",
        "features = ['ABDCQF01','ABDCQF02','ABDCQF03','ABDCQF04','BS','CALI','DRHO','GR','NPHI','PEF','RACEHM','RACELM','RD','RHOB','RM','ROP','RPCEHM','RPCELM','RT','DEPTH']\n",
        "\n",
        "\"\"\"\n",
        "for x in features:\n",
        "  df = df[~df[x].isnull()]\n",
        "  print(df[x], df[x].max())\n",
        "\"\"\"\n",
        "\"\"\"\n",
        "for x in features:\n",
        "  df[x].notnull()\n",
        "  print(x,\"\\t\",df['DEPTH'].max() , df['DEPTH'].min())\n",
        "\"\"\"\n",
        "\n",
        "\n",
        "for x in features:\n",
        "  value_min = df[x].first_valid_index()\n",
        "  value_max = df[x].last_valid_index()\n",
        "  depthmin.append(value_min)\n",
        "  depthmax.append(value_max)\n",
        "\n",
        "minmaxvalues = pd.DataFrame(\n",
        "    {'features': features,\n",
        "     'min value': depthmin,\n",
        "     'max value': depthmax\n",
        "    })\n",
        "\n",
        "max= np.min(depthmax)\n",
        "max\n",
        "\n",
        "\n"
      ],
      "metadata": {
        "id": "t_Yh1D84v8Er"
      },
      "execution_count": null,
      "outputs": []
    },
    {
      "cell_type": "code",
      "source": [
        "min= np.max(depthmin)\n",
        "min"
      ],
      "metadata": {
        "id": "udBHmb9kfCwj"
      },
      "execution_count": null,
      "outputs": []
    },
    {
      "cell_type": "code",
      "source": [
        "# Extract dataset from depth 3227.9 – 4744.7 ft onwards\n",
        "\n",
        "df = df[(df['DEPTH'] >= min) & (df['DEPTH'] <= max)]\n",
        "df\n"
      ],
      "metadata": {
        "id": "4LNDpG613MaX"
      },
      "execution_count": null,
      "outputs": []
    },
    {
      "cell_type": "code",
      "source": [
        "well_nan = df.notnull() * 1\n",
        "\n",
        "\n",
        "fig = plt.subplots(figsize=(7,10))\n",
        "\n",
        "#Set up the plot axes\n",
        "ax1 = plt.subplot2grid((1,21), (0,0), rowspan=1, colspan = 1) \n",
        "ax2 = plt.subplot2grid((1,21), (0,1), rowspan=1, colspan = 1)\n",
        "ax3 = plt.subplot2grid((1,21), (0,2), rowspan=1, colspan = 1)\n",
        "ax4 = plt.subplot2grid((1,21), (0,3), rowspan=1, colspan = 1)\n",
        "ax5 = plt.subplot2grid((1,21), (0,4), rowspan=1, colspan = 1)\n",
        "ax6 = plt.subplot2grid((1,21), (0,5), rowspan=1, colspan = 1)\n",
        "ax7 = plt.subplot2grid((1,21), (0,6), rowspan=1, colspan = 1)\n",
        "ax8 = plt.subplot2grid((1,21), (0,7), rowspan=1, colspan = 1)\n",
        "ax9 = plt.subplot2grid((1,21), (0,8), rowspan=1, colspan = 1)\n",
        "ax10 = plt.subplot2grid((1,21), (0,9), rowspan=1, colspan = 1)\n",
        "ax11 = plt.subplot2grid((1,21), (0,10), rowspan=1, colspan = 1)\n",
        "ax12 = plt.subplot2grid((1,21), (0,11), rowspan=1, colspan = 1)\n",
        "ax13 = plt.subplot2grid((1,21), (0,12), rowspan=1, colspan = 1)\n",
        "ax14 = plt.subplot2grid((1,21), (0,13), rowspan=1, colspan = 1)\n",
        "ax15 = plt.subplot2grid((1,21), (0,14), rowspan=1, colspan = 1)\n",
        "ax16 = plt.subplot2grid((1,21), (0,15), rowspan=1, colspan = 1)\n",
        "ax17 = plt.subplot2grid((1,21), (0,16), rowspan=1, colspan = 1)\n",
        "ax18 = plt.subplot2grid((1,21), (0,17), rowspan=1, colspan = 1)\n",
        "ax19 = plt.subplot2grid((1,21), (0,18), rowspan=1, colspan = 1)\n",
        "ax20 = plt.subplot2grid((1,21), (0,19), rowspan=1, colspan = 1)\n",
        "\n",
        "\n",
        "\n",
        "columns = well_nan.columns\n",
        "axes = [ax1, ax2, ax3, ax4, ax5, ax6, ax7, ax8, ax9, ax10, ax11, ax12, ax13, ax14, ax15, ax16, ax17, ax18, ax19, ax20]\n",
        "for i, ax in enumerate(axes):\n",
        "    ax.plot(well_nan.iloc[:,i], well_nan.index, lw=0)\n",
        "    ax.set_ylim(5000, 0)\n",
        "    ax.set_xlim(0, 1)\n",
        "    ax.set_title(columns[i], rotation='vertical')\n",
        "    ax.set_facecolor('whitesmoke')\n",
        "    ax.fill_betweenx(well_nan.index, 0, well_nan.iloc[:,i], facecolor='red')\n",
        "    # Remove tick labels from each subplot\n",
        "    if i > 0:\n",
        "        plt.setp(ax.get_yticklabels(), visible = False)\n",
        "    plt.setp(ax.get_xticklabels(), visible = False)\n",
        "ax1.set_ylabel('Depth', fontsize=14)\n",
        "plt.subplots_adjust(wspace=0)\n",
        "plt.show()"
      ],
      "metadata": {
        "id": "yJplWdor8V0y"
      },
      "execution_count": null,
      "outputs": []
    },
    {
      "cell_type": "code",
      "source": [
        "df.isnull().sum()"
      ],
      "metadata": {
        "id": "aWiNjIZVAKBT"
      },
      "execution_count": null,
      "outputs": []
    },
    {
      "cell_type": "code",
      "source": [
        "df = df.dropna()"
      ],
      "metadata": {
        "id": "a3wnZx_UAZKC"
      },
      "execution_count": null,
      "outputs": []
    },
    {
      "cell_type": "code",
      "source": [
        "df.isnull().sum()"
      ],
      "metadata": {
        "id": "zRxb1bzrAcI5"
      },
      "execution_count": null,
      "outputs": []
    },
    {
      "cell_type": "code",
      "source": [
        "well_nan = df.notnull() * 1\n",
        "\n",
        "\n",
        "fig = plt.subplots(figsize=(7,10))\n",
        "\n",
        "#Set up the plot axes\n",
        "ax1 = plt.subplot2grid((1,21), (0,0), rowspan=1, colspan = 1) \n",
        "ax2 = plt.subplot2grid((1,21), (0,1), rowspan=1, colspan = 1)\n",
        "ax3 = plt.subplot2grid((1,21), (0,2), rowspan=1, colspan = 1)\n",
        "ax4 = plt.subplot2grid((1,21), (0,3), rowspan=1, colspan = 1)\n",
        "ax5 = plt.subplot2grid((1,21), (0,4), rowspan=1, colspan = 1)\n",
        "ax6 = plt.subplot2grid((1,21), (0,5), rowspan=1, colspan = 1)\n",
        "ax7 = plt.subplot2grid((1,21), (0,6), rowspan=1, colspan = 1)\n",
        "ax8 = plt.subplot2grid((1,21), (0,7), rowspan=1, colspan = 1)\n",
        "ax9 = plt.subplot2grid((1,21), (0,8), rowspan=1, colspan = 1)\n",
        "ax10 = plt.subplot2grid((1,21), (0,9), rowspan=1, colspan = 1)\n",
        "ax11 = plt.subplot2grid((1,21), (0,10), rowspan=1, colspan = 1)\n",
        "ax12 = plt.subplot2grid((1,21), (0,11), rowspan=1, colspan = 1)\n",
        "ax13 = plt.subplot2grid((1,21), (0,12), rowspan=1, colspan = 1)\n",
        "ax14 = plt.subplot2grid((1,21), (0,13), rowspan=1, colspan = 1)\n",
        "ax15 = plt.subplot2grid((1,21), (0,14), rowspan=1, colspan = 1)\n",
        "ax16 = plt.subplot2grid((1,21), (0,15), rowspan=1, colspan = 1)\n",
        "ax17 = plt.subplot2grid((1,21), (0,16), rowspan=1, colspan = 1)\n",
        "ax18 = plt.subplot2grid((1,21), (0,17), rowspan=1, colspan = 1)\n",
        "ax19 = plt.subplot2grid((1,21), (0,18), rowspan=1, colspan = 1)\n",
        "ax20 = plt.subplot2grid((1,21), (0,19), rowspan=1, colspan = 1)\n",
        "\n",
        "\n",
        "\n",
        "columns = well_nan.columns\n",
        "axes = [ax1, ax2, ax3, ax4, ax5, ax6, ax7, ax8, ax9, ax10, ax11, ax12, ax13, ax14, ax15, ax16, ax17, ax18, ax19, ax20]\n",
        "for i, ax in enumerate(axes):\n",
        "    ax.plot(well_nan.iloc[:,i], well_nan.index, lw=0)\n",
        "    ax.set_ylim(5000, 0)\n",
        "    ax.set_xlim(0, 1)\n",
        "    ax.set_title(columns[i], rotation='vertical')\n",
        "    ax.set_facecolor('whitesmoke')\n",
        "    ax.fill_betweenx(well_nan.index, 0, well_nan.iloc[:,i], facecolor='red')\n",
        "    # Remove tick labels from each subplot\n",
        "    if i > 0:\n",
        "        plt.setp(ax.get_yticklabels(), visible = False)\n",
        "    plt.setp(ax.get_xticklabels(), visible = False)\n",
        "ax1.set_ylabel('Depth', fontsize=14)\n",
        "plt.subplots_adjust(wspace=0)\n",
        "plt.show()"
      ],
      "metadata": {
        "id": "JnLopDr5Aiap"
      },
      "execution_count": null,
      "outputs": []
    },
    {
      "cell_type": "code",
      "source": [
        "df.info()"
      ],
      "metadata": {
        "id": "kf7f4gnpocID"
      },
      "execution_count": null,
      "outputs": []
    },
    {
      "cell_type": "markdown",
      "source": [
        "# Check zeros"
      ],
      "metadata": {
        "id": "nDIda3zUOFAb"
      }
    },
    {
      "cell_type": "code",
      "source": [
        "# Check zeros\n",
        "\n",
        "count = (df['DEPTH'] == 0).sum()\n",
        "count"
      ],
      "metadata": {
        "id": "lqTMwbVCNnzo"
      },
      "execution_count": null,
      "outputs": []
    },
    {
      "cell_type": "markdown",
      "source": [
        "# Check other types of missing values"
      ],
      "metadata": {
        "id": "G2gqYZBQOJuI"
      }
    },
    {
      "cell_type": "code",
      "source": [
        "# Check other types of missing values\n",
        "\n",
        "# Making a list of missing value types\n",
        "# missing_values = [\"n/a\", \"na\", \"--\"]\n",
        "\n",
        "\n",
        "\n",
        "print('na' in df['DEPTH'].unique())"
      ],
      "metadata": {
        "id": "ulN6YyCpRWuM"
      },
      "execution_count": null,
      "outputs": []
    },
    {
      "cell_type": "code",
      "source": [
        "df.describe()"
      ],
      "metadata": {
        "id": "eln0R3J1CgMr"
      },
      "execution_count": null,
      "outputs": []
    },
    {
      "cell_type": "markdown",
      "source": [
        "# Data Cleaning with Welly Python Library"
      ],
      "metadata": {
        "id": "UvcEPvhHOPp4"
      }
    },
    {
      "cell_type": "markdown",
      "source": [
        "DATA CLEANING WITH WELLY PYTHON LIBRARY"
      ],
      "metadata": {
        "id": "xm5eNfzqtmaM"
      }
    },
    {
      "cell_type": "code",
      "source": [
        "pip install welly"
      ],
      "metadata": {
        "id": "arCw4uMktl3R"
      },
      "execution_count": null,
      "outputs": []
    },
    {
      "cell_type": "code",
      "source": [
        "from welly import Well\n",
        "from welly import Curve\n",
        "    \n",
        "import matplotlib.pyplot as plt"
      ],
      "metadata": {
        "id": "4fwByHHpt080"
      },
      "execution_count": null,
      "outputs": []
    },
    {
      "cell_type": "code",
      "source": [
        "well = Well.from_las('/content/drive/MyDrive/Master Files/Msc Project/Dataset Well Logging/15-9-F-11B WLC_PETRO_COMPUTED_INPUT_1.LAS')"
      ],
      "metadata": {
        "id": "l3Y4bN7rt6Fn"
      },
      "execution_count": null,
      "outputs": []
    },
    {
      "cell_type": "code",
      "source": [
        "    import welly.quality as wq"
      ],
      "metadata": {
        "id": "ffhlkhuWuJ-K"
      },
      "execution_count": null,
      "outputs": []
    },
    {
      "cell_type": "code",
      "source": [
        "    tests = {'Each': [wq.no_flat,\n",
        "                     wq.no_gaps,\n",
        "                     wq.not_empty],\n",
        "            'GR': [\n",
        "                    wq.all_positive,\n",
        "                    wq.all_between(0, 250),\n",
        "                    wq.check_units(['API', 'GAPI']),\n",
        "            ],\n",
        "            'RHOB': [\n",
        "                    wq.all_positive,\n",
        "                    wq.all_between(1.5, 3),\n",
        "                    wq.check_units(['G/CC', 'g/cm3']),\n",
        "            ]}"
      ],
      "metadata": {
        "id": "wyT_OR-yuWUg"
      },
      "execution_count": null,
      "outputs": []
    },
    {
      "cell_type": "code",
      "source": [
        "    from IPython.display import HTML\n",
        "    data_qc_table = well.qc_table_html(tests)\n",
        "    HTML(data_qc_table)"
      ],
      "metadata": {
        "id": "W2wDhZuHuX83"
      },
      "execution_count": null,
      "outputs": []
    },
    {
      "cell_type": "code",
      "source": [
        "    tests_nans = {'Each': [wq.fraction_not_nans]}\n",
        "    \n",
        "    data_nans_qc_table = well.qc_table_html(tests_nans)\n",
        "    HTML(data_nans_qc_table)"
      ],
      "metadata": {
        "id": "a8efnmtyvCb7"
      },
      "execution_count": null,
      "outputs": []
    },
    {
      "cell_type": "code",
      "source": [
        "    print((f'Curve \\t % Complete').expandtabs(10))\n",
        "    print((f'----- \\t ----------').expandtabs(10))\n",
        "    \n",
        "    for k,v in well.qc_data(tests_nans).items():\n",
        "        \n",
        "        for i,j in v.items():\n",
        "            values = round(j*100, 2)\n",
        "        print((f'{k} \\t {values}%').expandtabs(10))"
      ],
      "metadata": {
        "id": "6wjyQagFvQxj"
      },
      "execution_count": null,
      "outputs": []
    },
    {
      "cell_type": "markdown",
      "source": [
        "# Removing Outliers"
      ],
      "metadata": {
        "id": "fLaG93gwOemp"
      }
    },
    {
      "cell_type": "markdown",
      "source": [
        "Removing Outliers"
      ],
      "metadata": {
        "id": "fZ8KG1o8Bbyt"
      }
    },
    {
      "cell_type": "code",
      "source": [
        "#REmove outliers with reference to caliper log 8.5\" \n",
        "\n",
        "df = df[(df['CALI'] >= 8.5) & (df['CALI'] <= 9)]\n",
        "df.info()"
      ],
      "metadata": {
        "id": "SPy2XObGBr-q"
      },
      "execution_count": null,
      "outputs": []
    },
    {
      "cell_type": "code",
      "source": [
        "df.plot(kind='box')\n",
        "plt.xticks(rotation=270)\n",
        "plt.show()"
      ],
      "metadata": {
        "id": "tn6oN4MAYlZO"
      },
      "execution_count": null,
      "outputs": []
    },
    {
      "cell_type": "code",
      "source": [
        "#Remove outliers of RHOB track\n",
        "\n",
        "df = df[(df['RHOB'] >= 1.5) & (df['RHOB'] <= 3)]\n",
        "df.info()"
      ],
      "metadata": {
        "id": "uRL56OaeDJRc"
      },
      "execution_count": null,
      "outputs": []
    },
    {
      "cell_type": "code",
      "source": [
        "df.plot(kind='box')\n",
        "plt.xticks(rotation=270)\n",
        "plt.show()"
      ],
      "metadata": {
        "id": "4OhcqhkqYEBA"
      },
      "execution_count": null,
      "outputs": []
    },
    {
      "cell_type": "code",
      "source": [
        "#Remove outliers from resistivity curves\n",
        "\n",
        "df = df.loc[~((df.RACEHM > 60) | (df.RACELM > 100) | (df.RPCEHM > 100) | (df.RPCELM > 200)),:]\n",
        "df.info()"
      ],
      "metadata": {
        "id": "dR1MIp0lUszN"
      },
      "execution_count": null,
      "outputs": []
    },
    {
      "cell_type": "code",
      "source": [
        "# Select all resistivity curves\n",
        "res_curves = ['RACEHM', 'RACELM', 'RPCEHM','RPCELM','RT']\n",
        "\n",
        "# Loop through each curve and transform it\n",
        "for res in res_curves:    \n",
        "  df[f'{res}_l10'] = np.log10(df[res])        \n",
        "\n",
        "# Drop out the original columns    \n",
        "df.drop(columns=[res],inplace=True)    \n",
        "df.head()"
      ],
      "metadata": {
        "id": "WP8iI-DIsIgO"
      },
      "execution_count": null,
      "outputs": []
    },
    {
      "cell_type": "code",
      "source": [
        "df.drop(['RACEHM', 'RACELM', 'RPCEHM','RPCELM'], axis = 1, inplace=True)\n"
      ],
      "metadata": {
        "id": "0bL-KWEYcZRp"
      },
      "execution_count": null,
      "outputs": []
    },
    {
      "cell_type": "code",
      "source": [
        "df.info()"
      ],
      "metadata": {
        "id": "1U_uttUydyzZ"
      },
      "execution_count": null,
      "outputs": []
    },
    {
      "cell_type": "code",
      "source": [
        "df.plot(kind='box')\n",
        "plt.xticks(rotation=270)\n",
        "plt.show()"
      ],
      "metadata": {
        "id": "RFWKvylEUwwz"
      },
      "execution_count": null,
      "outputs": []
    },
    {
      "cell_type": "markdown",
      "source": [
        "# Insert Dataset Labelling"
      ],
      "metadata": {
        "id": "BYrAL8B-OpZU"
      }
    },
    {
      "cell_type": "markdown",
      "source": [
        "INSERT DATASET LABEL"
      ],
      "metadata": {
        "id": "Yd_BKUPOJT04"
      }
    },
    {
      "cell_type": "code",
      "source": [
        "\"\"\"\n",
        "x1=df['RHOB']\n",
        "x2=df['NPHI']\n",
        "\n",
        "x = np.array(ax1.get_xlim())\n",
        "z = np.array(ax2.get_xlim())\n",
        "\n",
        "nz=((x2-np.max(z))/(np.min(z)-np.max(z)))*(np.max(x)-np.min(x))+np.min(x)\n",
        "\"\"\""
      ],
      "metadata": {
        "id": "BkQVFq3X6iDR"
      },
      "execution_count": null,
      "outputs": []
    },
    {
      "cell_type": "code",
      "source": [
        "# create a list of our conditions\n",
        "conditions = []\n",
        "\n",
        "conditions = [\n",
        "    (df['GR'] > 84),\n",
        "    (df['GR'] <= 84) & (df['RT_l10'] > 1),\n",
        "    (df['GR'] <= 84) & (df['RT_l10'] <= 1)\n",
        "    ]\n",
        "\n",
        "\n",
        "# create a list of the values we want to assign for each condition\n",
        "values = ['0', '1','2']\n",
        "\n",
        "# create a new column and use np.select to assign values to it using our lists as arguments\n",
        "df['LABEL'] = np.select(conditions, values)\n",
        "\n",
        "\n",
        "df['LABEL'].value_counts()\n",
        "\n",
        "\n",
        "# 0: SHALE\n",
        "# 1: HYDROCARBON\n",
        "# 2: WATER-BEARING"
      ],
      "metadata": {
        "id": "etr-pUImJWNp"
      },
      "execution_count": null,
      "outputs": []
    },
    {
      "cell_type": "markdown",
      "source": [
        "# Dataset Partitioning"
      ],
      "metadata": {
        "id": "bbhmnRmXOurj"
      }
    },
    {
      "cell_type": "markdown",
      "source": [
        "DATA PARTITIONING"
      ],
      "metadata": {
        "id": "z-gJQNP6VUCz"
      }
    },
    {
      "cell_type": "code",
      "source": [
        "# Data Partitioning Phase - Split 70:30 ration training testing set\n",
        "\n",
        "# Separate features and labels\n",
        "features = ['ABDCQF01','ABDCQF02','ABDCQF03','ABDCQF04','BS','CALI','DRHO','GR','NPHI','PEF','RACEHM_l10','RACELM_l10','RD','RHOB','RM','ROP','RPCEHM_l10','RPCELM_l10','RT_l10','DEPTH']\n",
        "label = 'LABEL'\n",
        "\n",
        "X, y = df[features].values, df[label].values\n",
        "\n",
        "for n in range(0,4):\n",
        "    print(\"Log data:\", str(n+1), \"\\n  Features:\",list(X[n]), \"\\n  Label:\", y[n])\n",
        "\n",
        "from sklearn.model_selection import train_test_split\n",
        "\n",
        "# Split data 70%-30% into training set and test set\n",
        "X_train, X_test, y_train, y_test = train_test_split(X, y, test_size=0.30, random_state=0, stratify=y)\n",
        "\n",
        "print ('Training cases: %d\\nTest cases: %d' % (X_train.shape[0], X_test.shape[0]))"
      ],
      "metadata": {
        "id": "Qxnmgdd7VTe9"
      },
      "execution_count": null,
      "outputs": []
    },
    {
      "cell_type": "code",
      "source": [
        "# Training set\n",
        "\n",
        "df = pd.DataFrame(X_train, columns = ['ABDCQF01','ABDCQF02','ABDCQF03','ABDCQF04','BS','CALI','DRHO','GR','NPHI','PEF','RACEHM_l10','RACELM_l10','RD','RHOB','RM','ROP','RPCEHM_l10','RPCELM_l10','RT_l10','DEPTH'])\n",
        "df[['ABDCQF01','ABDCQF02','ABDCQF03','ABDCQF04','BS','CALI','DRHO','GR','NPHI','PEF','RACEHM_l10','RACELM_l10','RD','RHOB','RM','ROP','RPCEHM_l10','RPCELM_l10','RT_l10','DEPTH']] = df[['ABDCQF01','ABDCQF02','ABDCQF03','ABDCQF04','BS','CALI','DRHO','GR','NPHI','PEF','RACEHM_l10','RACELM_l10','RD','RHOB','RM','ROP','RPCEHM_l10','RPCELM_l10','RT_l10','DEPTH']].apply(pd.to_numeric, axis = 1)\n",
        "df.info()\n",
        "xtrain = df\n",
        "\n",
        "# Testing set\n",
        "\n",
        "df_test = pd.DataFrame(X_test, columns = ['ABDCQF01','ABDCQF02','ABDCQF03','ABDCQF04','BS','CALI','DRHO','GR','NPHI','PEF','RACEHM_l10','RACELM_l10','RD','RHOB','RM','ROP','RPCEHM_l10','RPCELM_l10','RT_l10','DEPTH'])\n",
        "df_test[['ABDCQF01','ABDCQF02','ABDCQF03','ABDCQF04','BS','CALI','DRHO','GR','NPHI','PEF','RACEHM_l10','RACELM_l10','RD','RHOB','RM','ROP','RPCEHM_l10','RPCELM_l10','RT_l10','DEPTH']] = df_test[['ABDCQF01','ABDCQF02','ABDCQF03','ABDCQF04','BS','CALI','DRHO','GR','NPHI','PEF','RACEHM_l10','RACELM_l10','RD','RHOB','RM','ROP','RPCEHM_l10','RPCELM_l10','RT_l10','DEPTH']].apply(pd.to_numeric, axis = 1)\n",
        "df_test.info()\n",
        "xtest = df_test"
      ],
      "metadata": {
        "id": "scDlwIebw4UA"
      },
      "execution_count": null,
      "outputs": []
    },
    {
      "cell_type": "code",
      "source": [
        "xtrain.info()"
      ],
      "metadata": {
        "id": "g5WJReX38-Lh"
      },
      "execution_count": null,
      "outputs": []
    },
    {
      "cell_type": "code",
      "source": [
        "# Training set\n",
        "\n",
        "df2 = pd.DataFrame(y_train, columns = ['LABEL'])\n",
        "df2 = df2.astype('int64')\n",
        "df2.info()    \n",
        "ytrain = df2          \n",
        "\n",
        "# Testing set\n",
        "\n",
        "df_test2 = pd.DataFrame(y_test, columns = ['LABEL'])\n",
        "df_test2 = df_test2.astype('int64')\n",
        "df_test2.info() \n",
        "ytest = df_test2"
      ],
      "metadata": {
        "id": "lpH9cd1I8CUk"
      },
      "execution_count": null,
      "outputs": []
    },
    {
      "cell_type": "code",
      "source": [
        "# Training set\n",
        "\n",
        "df['LABEL'] = df2\n",
        "df.info()\n",
        "\n",
        "# Testing set\n",
        "\n",
        "df_test['LABEL'] = df_test2\n",
        "df_test1 = df_test"
      ],
      "metadata": {
        "id": "lcoXXtVeA85g"
      },
      "execution_count": null,
      "outputs": []
    },
    {
      "cell_type": "markdown",
      "source": [
        "# Feature Scaling "
      ],
      "metadata": {
        "id": "fvUnX-UsO1Z7"
      }
    },
    {
      "cell_type": "markdown",
      "source": [
        "FEATURE SCALING"
      ],
      "metadata": {
        "id": "Vk23g5LBWA2z"
      }
    },
    {
      "cell_type": "code",
      "source": [
        "from sklearn.preprocessing import StandardScaler\n",
        "scaler = StandardScaler()\n",
        "\n",
        "scaler.fit(df)\n",
        "scaler.fit(df_test)\n"
      ],
      "metadata": {
        "id": "Q0qbyHDQaCe0"
      },
      "execution_count": null,
      "outputs": []
    },
    {
      "cell_type": "markdown",
      "source": [
        "FEATURE SELECTION"
      ],
      "metadata": {
        "id": "t2EhnJRCIKVv"
      }
    },
    {
      "cell_type": "markdown",
      "source": [
        "Mutual selection"
      ],
      "metadata": {
        "id": "HW_INnLDkwUi"
      }
    },
    {
      "cell_type": "code",
      "source": [
        "import pandas as pd\n",
        "from sklearn.feature_selection import SelectKBest, SelectPercentile, mutual_info_classif\n"
      ],
      "metadata": {
        "id": "WIiCGk9FIH1z"
      },
      "execution_count": null,
      "outputs": []
    },
    {
      "cell_type": "code",
      "source": [
        "selector = SelectKBest(mutual_info_classif, k=10)\n",
        "X_reduced = selector.fit_transform(X, y)\n",
        "X_reduced.shape\n"
      ],
      "metadata": {
        "id": "mNoofB79gd-B"
      },
      "execution_count": null,
      "outputs": []
    },
    {
      "cell_type": "code",
      "source": [
        "\"\"\"\n",
        "cols = selector.get_support(indices=True)\n",
        "selected_columns = X.iloc[:,cols].columns.tolist()\n",
        "selected_columns\n",
        "\"\"\""
      ],
      "metadata": {
        "id": "k1SmwwBEg2ro"
      },
      "execution_count": null,
      "outputs": []
    },
    {
      "cell_type": "markdown",
      "source": [
        "F-test"
      ],
      "metadata": {
        "id": "hO4b3JYMkzcW"
      }
    },
    {
      "cell_type": "code",
      "source": [
        "from sklearn.feature_selection import SelectKBest\n",
        "from sklearn.feature_selection import f_classif\n",
        "from matplotlib import pyplot\n",
        "\n",
        "\n",
        "# configure to select all features\n",
        "fs = SelectKBest(score_func=f_classif, k='all')\n",
        "# learn relationship from training data\n",
        "fs.fit(X_train, y_train)\n",
        "# transform train input data\n",
        "X_train_fs = fs.transform(X_train)\n",
        "# transform test input data\n",
        "X_test_fs = fs.transform(X_test)\n"
      ],
      "metadata": {
        "id": "q0ACVQS8k1bH"
      },
      "execution_count": null,
      "outputs": []
    },
    {
      "cell_type": "code",
      "source": [
        "\n",
        "# what are scores for the features\n",
        "for i in range(len(fs.scores_)):\n",
        "\tprint('Feature %d: %f' % (i, fs.scores_[i]))\n",
        " \n",
        "# plot the scores\n",
        "pyplot.bar([i for i in range(len(fs.scores_))], fs.scores_)\n",
        "pyplot.show()"
      ],
      "metadata": {
        "id": "-sAXdfKPllc7"
      },
      "execution_count": null,
      "outputs": []
    },
    {
      "cell_type": "code",
      "source": [
        "fs.scores_.sort()\n",
        "fs.scores_\n",
        "\n"
      ],
      "metadata": {
        "id": "SGFb_OetNYWZ"
      },
      "execution_count": null,
      "outputs": []
    },
    {
      "cell_type": "markdown",
      "source": [
        "Visualizing Feature Selection - Heat Map"
      ],
      "metadata": {
        "id": "E4th8MJLMjHh"
      }
    },
    {
      "cell_type": "code",
      "source": [
        "import pandas as pd\n",
        "import numpy as np\n",
        "import seaborn as sns\n",
        "\n",
        "X = df.iloc[:,0:20]  #independent columns\n",
        "y = df.iloc[:,-1]    #target column i.e price range\n",
        "#get correlations of each features in dataset\n",
        "corrmat = df.corr()\n",
        "top_corr_features = corrmat.index\n",
        "plt.figure(figsize=(21,21))\n",
        "#plot heat map\n",
        "g=sns.heatmap(df[top_corr_features].corr(),annot=True,cmap=\"RdYlGn\")"
      ],
      "metadata": {
        "id": "DIs3h2wFMnaJ"
      },
      "execution_count": null,
      "outputs": []
    },
    {
      "cell_type": "markdown",
      "source": [
        "Feature Selection - Extra Tree Classifier"
      ],
      "metadata": {
        "id": "41RFop89N9IV"
      }
    },
    {
      "cell_type": "code",
      "source": [
        "import pandas as pd\n",
        "import numpy as np\n",
        "\n",
        "X = df.iloc[:,0:20]  #independent columns\n",
        "y = df.iloc[:,-1]    #target column i.e price range\n",
        "from sklearn.ensemble import ExtraTreesClassifier\n",
        "import matplotlib.pyplot as plt\n",
        "model = ExtraTreesClassifier()\n",
        "model.fit(X,y)\n",
        "print(model.feature_importances_) #use inbuilt class feature_importances of tree based classifiers\n",
        "#plot graph of feature importances for better visualization\n",
        "feat_importances = pd.Series(model.feature_importances_, index=X.columns)\n",
        "feat_importances.nlargest(20).plot(kind='barh')\n",
        "plt.show()"
      ],
      "metadata": {
        "id": "AHxPOyEzOJha"
      },
      "execution_count": null,
      "outputs": []
    },
    {
      "cell_type": "markdown",
      "source": [
        "# Plotting Well Logging Graph"
      ],
      "metadata": {
        "id": "jiuGtzhjO-Qc"
      }
    },
    {
      "cell_type": "markdown",
      "source": [
        "Plot Well Logging **Graph**"
      ],
      "metadata": {
        "id": "P6mgeFP-XT2O"
      }
    },
    {
      "cell_type": "code",
      "source": [
        "\"\"\"fig, ax = plt.subplots(nrows=1,ncols=3, figsize=(10,15), sharey=True)\n",
        "fig.suptitle(\"Well Log\", fontsize=30)\n",
        "fig.subplots_adjust(top=0.9,wspace=0.1)\n",
        "\n",
        "#track 1\n",
        "\n",
        "ax01 = ax[0].twiny()\n",
        "ax01.invert_yaxis()\n",
        "ax01.plot(df.GR,df.DEPTH, color='black',linestyle='-')\n",
        "ax01.set_xlim(0,200)\n",
        "ax01.set_xlabel('GR (GAPI)',color='black')\n",
        "ax01.set_ylabel(\"Depth (m)\")\n",
        "ax01.set_ylim(4750,3200)\n",
        "ax01.tick_params(axis='x',colors='black')\n",
        "ax01.spines['top'].set_position(('outward',1))\n",
        "ax01.grid()\n",
        "\n",
        "\n",
        "\n",
        "#ax01.fill_betweenx(well_nan.index,84, df[\"GR\"], facecolor='yellow')\n",
        "\n",
        "#ax01.fill_betweenx(df['DEPTH'], df['GR'], 0, facecolor='green')\n",
        "#ax01.fill_betweenx(df['DEPTH'], 200,df['GR'], facecolor='yellow')\n",
        "\n",
        "\n",
        "ax11=ax[0].twiny()\n",
        "ax11.invert_yaxis()\n",
        "ax11.plot(df.CALI, df.DEPTH, color='red',linestyle='-')\n",
        "ax11.set_xlim(6,16)\n",
        "ax11.set_xlabel('CALIPER',color='red')\n",
        "ax11.set_ylim(4750,3200)\n",
        "ax11.spines['top'].set_position(('outward',55))\n",
        "\n",
        "\n",
        "\n",
        "#track 2\n",
        "\n",
        "ax02 = ax[1].twiny()\n",
        "ax02.invert_yaxis()\n",
        "ax02.plot(df.RT_l10,df.DEPTH, color='blue',linestyle='-')\n",
        "ax02.set_xlim(0.1, 100)\n",
        "ax02.set_ylim(4750,3200)\n",
        "ax02.set_xlabel('RESISTIVITY',color='blue')\n",
        "ax02.tick_params(axis='x',colors='blue')\n",
        "ax02.spines['top'].set_position(('outward',0))\n",
        "ax02.semilogx()\n",
        "ax02.grid()\n",
        "\n",
        "\n",
        "#ax02.fill_betweenx(well_nan.index,10, df[\"RT\"], facecolor='blue')\n",
        "\n",
        "#track 3\n",
        "\n",
        "ax03 = ax[2].twiny()\n",
        "ax03.invert_yaxis()\n",
        "ax03.plot(df[\"NPHI\"]*100,df.DEPTH, color='orange',linestyle='-')\n",
        "ax03.set_xlim(45,-15)\n",
        "ax03.set_ylim(4750,3200)\n",
        "ax03.set_xlabel('NPHI',color='orange')\n",
        "ax03.tick_params(axis='x',colors='orange')\n",
        "ax03.spines['top'].set_position(('outward',0))\n",
        "ax03.grid()\n",
        "\n",
        "##fill color\n",
        "\n",
        "\n",
        "\n",
        "\n",
        "\n",
        "ax13=ax[2].twiny()\n",
        "ax13.invert_yaxis()\n",
        "ax13.plot(df.RHOB, df.DEPTH, color='black',linestyle='-')\n",
        "ax13.set_xlim(1.95,2.95)\n",
        "ax13.set_ylim(4750,3200)\n",
        "ax13.set_xlabel('DENSITY',color='black')\n",
        "ax13.spines['top'].set_position(('outward',55))\n",
        "\n",
        "\n",
        "x1=df[\"RHOB\"]\n",
        "x2=df[\"NPHI\"]\n",
        "\n",
        "x = np.array(ax13.get_xlim())\n",
        "z = np.array(ax03.get_xlim())\n",
        "\n",
        "nz=((x2-np.max(z))/(np.min(z)-np.max(z)))*(np.max(x)-np.min(x))+np.min(x)\n",
        "\n",
        "#ax13.fill_betweenx(df[\"DEPTH\"], x1, nz, where=x1>=nz, interpolate=True, color='green')\n",
        "#ax13.fill_betweenx(df[\"DEPTH\"], x1, nz, where=x1<=nz, interpolate=True, color='yellow')\n",
        "\"\"\"\n",
        "\"\"\"\n",
        "# Create output labels\n",
        "\n",
        "fig, ax = plt.subplots(figsize=(15,10))\n",
        "\n",
        "#Set up the plot axes\n",
        "ax1 = plt.subplot2grid((1,10), (0,0), rowspan=1, colspan = 3)\n",
        "ax2 = plt.subplot2grid((1,10), (0,3), rowspan=1, colspan = 3, sharey = ax1)\n",
        "ax3 = plt.subplot2grid((1,10), (0,6), rowspan=1, colspan = 3, sharey = ax1)\n",
        "ax4 = ax3.twiny() \n",
        "ax5 = plt.subplot2grid((1,10), (0,9), rowspan=1, colspan = 1, sharey = ax1)\n",
        "\"\"\"\n"
      ],
      "metadata": {
        "id": "aznLh3sZvB_x"
      },
      "execution_count": null,
      "outputs": []
    },
    {
      "cell_type": "markdown",
      "source": [
        "# XGBoost Classifier Algorithm"
      ],
      "metadata": {
        "id": "1wKW_vYePDMo"
      }
    },
    {
      "cell_type": "markdown",
      "source": [
        "XGBoost Classifier Algorithm"
      ],
      "metadata": {
        "id": "HWh-BLzGF60z"
      }
    },
    {
      "cell_type": "code",
      "source": [
        "xtrain= df.iloc[:,0:20]  #independent columns\n",
        "ytrain = df.iloc[:,-1]    #target column i.e price range\n",
        "\n",
        "xtest= df_test.iloc[:,0:20]  #independent columns\n",
        "ytest = df_test.iloc[:,-1]    #target column i.e price range\n"
      ],
      "metadata": {
        "id": "Xmj5VM-YKrYD"
      },
      "execution_count": null,
      "outputs": []
    },
    {
      "cell_type": "code",
      "source": [
        "\"\"\"\n",
        "from xgboost import XGBClassifier\n",
        "from sklearn.metrics import accuracy_score\n",
        "\n",
        "\n",
        "model = XGBClassifier(use_label_encoder=False, eval_metric='mlogloss')\n",
        "model.fit(xtrain, ytrain)\n",
        "\n",
        "XGBClassifier(base_score=0.5, booster='gbtree', colsample_bylevel=1,\n",
        "              colsample_bynode=1, colsample_bytree=1, eval_metric='mlogloss',\n",
        "              gamma=0, gpu_id=-1, importance_type='gain',\n",
        "              interaction_constraints='', learning_rate=0.300000012,\n",
        "              max_delta_step=0, max_depth=6, min_child_weight=1,\n",
        "              monotone_constraints='()', n_estimators=100, n_jobs=16,\n",
        "              num_parallel_tree=1, objective='multi:softprob', random_state=0,\n",
        "              reg_alpha=0, reg_lambda=1, scale_pos_weight=None, subsample=1,\n",
        "              tree_method='exact', use_label_encoder=False,\n",
        "              validate_parameters=1, verbosity=None)\n",
        "\n",
        "y_pred = model.predict(xtest)\n",
        "\"\"\""
      ],
      "metadata": {
        "id": "WUUsyEMHGNtl"
      },
      "execution_count": null,
      "outputs": []
    },
    {
      "cell_type": "code",
      "source": [
        "\"\"\"\n",
        "# Evaluation Metric (RMSE)\n",
        "\n",
        "from sklearn.metrics import mean_squared_error\n",
        "rmse = np.sqrt(mean_squared_error(ytest,y_pred))\n",
        "print(\"RMSE: %f\" % (rmse))\n",
        "\n",
        "# Evaluation Metric (Accuracy)\n",
        "accuracy = accuracy_score(ytest, y_pred)\n",
        "accuracy\n",
        "\"\"\""
      ],
      "metadata": {
        "id": "o6FsJAmE8xJd"
      },
      "execution_count": null,
      "outputs": []
    },
    {
      "cell_type": "markdown",
      "source": [
        "# XGBoost Algorithm - Hypewrparameter Tuning"
      ],
      "metadata": {
        "id": "VKgSsDUMPJOP"
      }
    },
    {
      "cell_type": "markdown",
      "source": [
        "XGBoost Algorithm - Hyperparameter Tuning"
      ],
      "metadata": {
        "id": "ft2ulvNrLLMq"
      }
    },
    {
      "cell_type": "code",
      "source": [
        "\"\"\"\n",
        "from sklearn.model_selection import GridSearchCV, RandomizedSearchCV\n",
        "from sklearn.ensemble import RandomForestRegressor\n",
        "\n",
        "#Grid search\n",
        "\n",
        "random_search = RandomizedSearchCV(RandomForestRegressor(random_state=0),\n",
        "                            {\n",
        "                              'n_estimators':np.arange(5,100,5),\n",
        "                              'max_depth':np.arange(2,4,1)\n",
        "                              \n",
        "                            },cv=5, scoring=\"r2\",verbose=1,n_jobs=-1, \n",
        "                             n_iter=50, random_state = 0\n",
        "                           )\n",
        "random_search.fit(xtrain,ytrain)\n",
        "\n",
        "random_search.best_params_\n",
        "\"\"\""
      ],
      "metadata": {
        "id": "oLghL2fkLGrC"
      },
      "execution_count": null,
      "outputs": []
    },
    {
      "cell_type": "code",
      "source": [
        "\"\"\"\n",
        "# Insert new tuned hyperparameter vlaues\n",
        "\n",
        "from xgboost import XGBClassifier\n",
        "from sklearn.metrics import accuracy_score\n",
        "\n",
        "model = XGBClassifier(use_label_encoder=False, eval_metric='mlogloss')\n",
        "model.fit(xtrain, ytrain)\n",
        "\n",
        "XGBClassifier(base_score=0.5, booster='gbtree', colsample_bylevel=1,\n",
        "              colsample_bynode=1, colsample_bytree=1, eval_metric='mlogloss',\n",
        "              gamma=0, gpu_id=-1, importance_type='gain',\n",
        "              interaction_constraints='', learning_rate=0.300000012,\n",
        "              max_delta_step=0, max_depth=2, min_child_weight=1,\n",
        "              monotone_constraints='()', n_estimators=5, n_jobs=16,\n",
        "              num_parallel_tree=1, objective='multi:softprob', random_state=0,\n",
        "              reg_alpha=0, reg_lambda=1, scale_pos_weight=None, subsample=1,\n",
        "              tree_method='exact', use_label_encoder=False,\n",
        "              validate_parameters=1, verbosity=None)\n",
        "\n",
        "y_pred = model.predict(xtest)\n",
        "\n",
        "# Evaluation Metric (RMSE)\n",
        "\n",
        "from sklearn.metrics import mean_squared_error\n",
        "rmse = np.sqrt(mean_squared_error(ytest,y_pred))\n",
        "print(\"RMSE: %f\" % (rmse))\n",
        "\n",
        "# Evaluation Metric (Accuracy)\n",
        "accuracy = accuracy_score(ytest, y_pred)\n",
        "accuracy\n",
        "\"\"\""
      ],
      "metadata": {
        "id": "6K-I314R2uME"
      },
      "execution_count": null,
      "outputs": []
    },
    {
      "cell_type": "markdown",
      "source": [
        "# Decision Tree Algorithm"
      ],
      "metadata": {
        "id": "0v1TZlLmPPpr"
      }
    },
    {
      "cell_type": "markdown",
      "source": [
        "Decision Tree Algorithm"
      ],
      "metadata": {
        "id": "Cx1eVyAfIs8h"
      }
    },
    {
      "cell_type": "code",
      "source": [
        "\"\"\"\n",
        "\n",
        "from sklearn.metrics import confusion_matrix\n",
        "from sklearn.model_selection import train_test_split\n",
        "from sklearn.tree import DecisionTreeClassifier\n",
        "from sklearn.metrics import accuracy_score\n",
        "from sklearn.metrics import classification_report\n",
        "\n",
        "# Function to perform training with giniIndex.\n",
        "def train_using_gini(xtrain, xtest, ytrain):\n",
        "  \n",
        "    # Creating the classifier object\n",
        "    clf_gini = DecisionTreeClassifier(criterion = \"gini\",\n",
        "            random_state = 100,max_depth=3, min_samples_leaf=5)\n",
        "  \n",
        "    # Performing training\n",
        "    clf_gini.fit(xtrain, ytrain)\n",
        "    return clf_gini\n",
        "\n",
        "\n",
        "# Function to perform training with entropy.\n",
        "def tarin_using_entropy(xtrain, xtest, ytrain):\n",
        "  \n",
        "    # Decision tree with entropy\n",
        "    clf_entropy = DecisionTreeClassifier(\n",
        "            criterion = \"entropy\", random_state = 100,\n",
        "            max_depth = 3, min_samples_leaf = 5)\n",
        "  \n",
        "    # Performing training\n",
        "    clf_entropy.fit(xtrain, ytrain)\n",
        "    return clf_entropy\n",
        "\n",
        "\n",
        "# Function to make predictions\n",
        "def prediction(xtest, clf_object):\n",
        "  \n",
        "    # Predicton on test with giniIndex\n",
        "    y_pred = clf_object.predict(X_test)\n",
        "    print(\"Predicted values:\")\n",
        "    print(y_pred)\n",
        "    return y_pred\n",
        "\n",
        "\n",
        "# Function to calculate accuracy\n",
        "def cal_accuracy(ytest, y_pred):\n",
        "      \n",
        "    print(\"Confusion Matrix: \",\n",
        "        confusion_matrix(ytest, y_pred))\n",
        "      \n",
        "    print (\"Accuracy : \",\n",
        "    accuracy_score(ytest,y_pred)*100)\n",
        "      \n",
        "    print(\"Report : \",\n",
        "    classification_report(ytest, y_pred))\n",
        "\n",
        "\n",
        "# Driver code\n",
        "def main():\n",
        "      \n",
        "    # Building Phase\n",
        "\n",
        "\n",
        "    clf_gini = train_using_gini(xtrain, X_test, ytrain)\n",
        "    clf_entropy = tarin_using_entropy(xtrain, xtest, ytrain)\n",
        "      \n",
        "    # Operational Phase\n",
        "    print(\"Results Using Gini Index:\")\n",
        "      \n",
        "    # Prediction using gini\n",
        "    y_pred_gini = prediction(xtest, clf_gini)\n",
        "    cal_accuracy(ytest, y_pred_gini)\n",
        "      \n",
        "    print(\"Results Using Entropy:\")\n",
        "    # Prediction using entropy\n",
        "    y_pred_entropy = prediction(xtest, clf_entropy)\n",
        "    cal_accuracy(ytest, y_pred_entropy)\n",
        "\n",
        "\n",
        "# Calling main function\n",
        "if __name__==\"__main__\":\n",
        "    main()\n",
        "\n",
        "\n",
        "y_pred = model.predict(xtest)\n",
        "\n",
        "# Evaluation Metric (RMSE)\n",
        "\n",
        "from sklearn.metrics import mean_squared_error\n",
        "rmse = np.sqrt(mean_squared_error(ytest,y_pred))\n",
        "print(\"RMSE: %f\" % (rmse))\n",
        "\n",
        "\n",
        "\n",
        "\n",
        "import numpy as np\n",
        "import matplotlib.pyplot as plt\n",
        "%matplotlib inline\n",
        "\n",
        "mcm = confusion_matrix(ytest, y_pred)\n",
        "\n",
        "plt.imshow(mcm, interpolation=\"nearest\", cmap=plt.cm.Blues)\n",
        "plt.colorbar()\n",
        "tick_marks = np.arange(len(ytest))\n",
        "plt.xticks(tick_marks, ytest, rotation=45)\n",
        "plt.yticks(tick_marks, ytest)\n",
        "plt.xlabel(\"Predicted Species\")\n",
        "plt.ylabel(\"Actual Species\")\n",
        "plt.show()\n",
        "\"\"\""
      ],
      "metadata": {
        "id": "LBRh8jpAIz9G"
      },
      "execution_count": null,
      "outputs": []
    },
    {
      "cell_type": "markdown",
      "source": [
        "# Support Vector Machine (SVM) Algorithm"
      ],
      "metadata": {
        "id": "BtntwJ2_PVoL"
      }
    },
    {
      "cell_type": "markdown",
      "source": [
        "Support Vector Machine (SVM) Algorithm"
      ],
      "metadata": {
        "id": "FTuIqnl1RvDl"
      }
    },
    {
      "cell_type": "code",
      "source": [
        "\"\"\"\n",
        "\n",
        "# To calculate the accuracy score of the model\n",
        "from sklearn.metrics import accuracy_score, confusion_matrix\n",
        "from sklearn.svm import SVC\n",
        "  \n",
        "# Building a Support Vector Machine on train data\n",
        "svc_model = SVC(C= .1, kernel='linear', gamma= 1)\n",
        "svc_model.fit(xtrain, ytrain)\n",
        "  \n",
        "prediction = svc_model .predict(xtest)\n",
        "# check the accuracy on the training set\n",
        "print(svc_model.score(xtrain, ytrain))\n",
        "print(svc_model.score(xtest, ytest))\n",
        "\n",
        "\n",
        "y_pred = model.predict(xtest)\n",
        "\n",
        "# Evaluation Metric (RMSE)\n",
        "\n",
        "from sklearn.metrics import mean_squared_error\n",
        "rmse = np.sqrt(mean_squared_error(ytest,y_pred))\n",
        "print(\"RMSE: %f\" % (rmse))\n",
        "\n",
        "print(\"Confusion Matrix:\\n\",confusion_matrix(prediction,ytest))\n",
        "\n",
        "\"\"\""
      ],
      "metadata": {
        "id": "yI8YSl1-R15i"
      },
      "execution_count": null,
      "outputs": []
    },
    {
      "cell_type": "markdown",
      "source": [
        "# K-Nearest Neighbour (KNN) Algorithm"
      ],
      "metadata": {
        "id": "pnQuKo4uSY1H"
      }
    },
    {
      "cell_type": "code",
      "source": [
        "from sklearn.neighbors import KNeighborsClassifier\n",
        "knn = KNeighborsClassifier(n_neighbors=3)\n",
        "\n",
        "knn.fit(xtrain, ytrain)\n",
        " \n",
        "# Predict on dataset which model has not seen before\n",
        "print(knn.predict(xtest))\n",
        "\n",
        "# Calculate the accuracy of the model\n",
        "print(knn.score(xtest, ytest))\n",
        "\n",
        "\n",
        "neighbors = np.arange(1, 9)\n",
        "train_accuracy = np.empty(len(neighbors))\n",
        "test_accuracy = np.empty(len(neighbors))\n",
        " \n",
        "# Loop over K values\n",
        "for i, k in enumerate(neighbors):\n",
        "    knn = KNeighborsClassifier(n_neighbors=k)\n",
        "    knn.fit(xtrain, ytrain)\n",
        "     \n",
        "    # Compute training and test data accuracy\n",
        "    train_accuracy[i] = knn.score(xtrain, ytrain)\n",
        "    test_accuracy[i] = knn.score(xtest, ytest)\n",
        " \n",
        "# Generate plot\n",
        "plt.plot(neighbors, test_accuracy, label = 'Testing dataset Accuracy')\n",
        "plt.plot(neighbors, train_accuracy, label = 'Training dataset Accuracy')\n",
        " \n",
        "plt.legend()\n",
        "plt.xlabel('n_neighbors')\n",
        "plt.ylabel('Accuracy')\n",
        "plt.show()"
      ],
      "metadata": {
        "id": "dmMLI0usSf_C"
      },
      "execution_count": null,
      "outputs": []
    },
    {
      "cell_type": "markdown",
      "source": [
        "# Naive Bayes Classification Algorithm"
      ],
      "metadata": {
        "id": "MhRNt3mUe_o4"
      }
    },
    {
      "cell_type": "code",
      "source": [
        "\"\"\"\n",
        "# training the model on training set\n",
        "from sklearn.naive_bayes import GaussianNB\n",
        "gnb = GaussianNB()\n",
        "gnb.fit(xtrain, ytrain)\n",
        " \n",
        "# making predictions on the testing set\n",
        "y_pred = gnb.predict(xtest)\n",
        " \n",
        "# comparing actual response values (y_test) with predicted response values (y_pred)\n",
        "from sklearn import metrics\n",
        "print(\"Gaussian Naive Bayes model accuracy(in %):\", metrics.accuracy_score(ytest, y_pred)*100)\n",
        "\"\"\""
      ],
      "metadata": {
        "id": "0M4YGbkafFJo"
      },
      "execution_count": null,
      "outputs": []
    }
  ]
}